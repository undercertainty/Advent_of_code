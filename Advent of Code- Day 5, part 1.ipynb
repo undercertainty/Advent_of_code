{
 "cells": [
  {
   "cell_type": "markdown",
   "metadata": {},
   "source": [
    "OK, this shouldn't be too hard either, but the encodings might be a bit fiddly. There seems to be an md5 library in hashlib"
   ]
  },
  {
   "cell_type": "code",
   "execution_count": 1,
   "metadata": {
    "collapsed": true
   },
   "outputs": [],
   "source": [
    "import hashlib"
   ]
  },
  {
   "cell_type": "markdown",
   "metadata": {},
   "source": [
    " To solve this task, need to start at 0 then increase until the hex encoding starts with '00000'"
   ]
  },
  {
   "cell_type": "code",
   "execution_count": 2,
   "metadata": {
    "collapsed": true
   },
   "outputs": [],
   "source": [
    "myCode_str='abbhdwsy'"
   ]
  },
  {
   "cell_type": "code",
   "execution_count": 3,
   "metadata": {
    "collapsed": false
   },
   "outputs": [
    {
     "name": "stdout",
     "output_type": "stream",
     "text": [
      "['8']\n",
      "['8', '0']\n",
      "['8', '0', '1']\n",
      "['8', '0', '1', 'b']\n",
      "['8', '0', '1', 'b', '5']\n",
      "['8', '0', '1', 'b', '5', '6']\n",
      "['8', '0', '1', 'b', '5', '6', 'a']\n",
      "['8', '0', '1', 'b', '5', '6', 'a', '7']\n"
     ]
    },
    {
     "data": {
      "text/plain": [
       "'801b56a7'"
      ]
     },
     "execution_count": 3,
     "metadata": {},
     "output_type": "execute_result"
    }
   ],
   "source": [
    "# cs is the list of characters found so far in the code\n",
    "\n",
    "cs=[]\n",
    "i=0\n",
    "\n",
    "while len(cs)<8:\n",
    "    h=hashlib.md5()\n",
    "    u=myCode_str+str(i)\n",
    "    h.update(u.encode())\n",
    "    hx=h.hexdigest()         # hx is the hex form of the hash\n",
    "    \n",
    "    if hx[:5]=='00000':\n",
    "        cs.append(hx[5])\n",
    "        print(cs)\n",
    "\n",
    "    i+=1\n",
    "\n",
    "''.join(cs)    \n"
   ]
  },
  {
   "cell_type": "code",
   "execution_count": null,
   "metadata": {
    "collapsed": true
   },
   "outputs": [],
   "source": []
  }
 ],
 "metadata": {
  "anaconda-cloud": {},
  "kernelspec": {
   "display_name": "Python [conda root]",
   "language": "python",
   "name": "conda-root-py"
  },
  "language_info": {
   "codemirror_mode": {
    "name": "ipython",
    "version": 3
   },
   "file_extension": ".py",
   "mimetype": "text/x-python",
   "name": "python",
   "nbconvert_exporter": "python",
   "pygments_lexer": "ipython3",
   "version": "3.5.2"
  }
 },
 "nbformat": 4,
 "nbformat_minor": 1
}
