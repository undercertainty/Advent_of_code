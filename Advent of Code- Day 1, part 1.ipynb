{
 "cells": [
  {
   "cell_type": "markdown",
   "metadata": {},
   "source": [
    "OK, this should be a fairly straightforward challenge to begin with. We can represent the current state with a dictionary with three parameters:\n",
    "\n",
    "* <code>facing</code> $\\in \\{$ <code>N</code>, <code>S</code>, <code>E</code>, <code>W</code> $\\}$\n",
    "* <code>x</code> $\\in Z$\n",
    "* <code>y</code> $\\in Z$\n"
   ]
  },
  {
   "cell_type": "markdown",
   "metadata": {},
   "source": [
    "We will also need two functions, each of which takes a value and a state, and returns an updated state:\n",
    "\n",
    "* <code>turn</code>\n",
    "* <code>move</code>"
   ]
  },
  {
   "cell_type": "code",
   "execution_count": 48,
   "metadata": {
    "collapsed": true
   },
   "outputs": [],
   "source": [
    "def turn(direction, stateIn):\n",
    "    \"\"\"\n",
    "    Should have a docstring here...\n",
    "    \"\"\"\n",
    "    stateOut=stateIn.copy()\n",
    "    if direction=='L':\n",
    "        if stateOut['facing']=='N':\n",
    "            stateOut.update({'facing':'W'})\n",
    "        elif stateOut['facing']=='W':\n",
    "            stateOut.update({'facing':'S'})\n",
    "        elif stateOut['facing']=='S':\n",
    "            stateOut.update({'facing':'E'})\n",
    "        elif stateOut['facing']=='E':\n",
    "            stateOut.update({'facing':'N'})\n",
    "        else:\n",
    "            raise ValueError(\"facing should be one of 'N', 'S', 'E', 'W'\")\n",
    "    elif direction=='R':\n",
    "        if stateOut['facing']=='N':\n",
    "            stateOut.update({'facing':'E'})\n",
    "        elif stateOut['facing']=='E':\n",
    "            stateOut.update({'facing':'S'})\n",
    "        elif stateOut['facing']=='S':\n",
    "            stateOut.update({'facing':'W'})\n",
    "        elif stateOut['facing']=='W':\n",
    "            stateOut.update({'facing':'N'})\n",
    "        else:\n",
    "            raise ValueError(\"facing should be one of 'N', 'S', 'E', 'W'\")\n",
    "    else:\n",
    "        raise ValueError(\"direction should be 'L' or 'R'\")\n",
    "    return stateOut\n",
    "            \n",
    "            \n",
    "            "
   ]
  },
  {
   "cell_type": "code",
   "execution_count": 49,
   "metadata": {
    "collapsed": true
   },
   "outputs": [],
   "source": [
    "def move(distance, stateIn):\n",
    "    \"\"\"\n",
    "    And here...\n",
    "    \"\"\"\n",
    "    stateOut=stateIn.copy()\n",
    "    if stateOut['facing']=='N':\n",
    "        stateOut.update({'y':stateIn['y']+distance})\n",
    "    elif stateOut['facing']=='S':\n",
    "        stateOut.update({'y':stateIn['y']-distance})\n",
    "    elif stateOut['facing']=='E':\n",
    "        stateOut.update({'x':stateIn['x']+distance})\n",
    "    elif stateOut['facing']=='W':\n",
    "        stateOut.update({'x':stateIn['x']-distance})\n",
    "    else:\n",
    "        raise ValueError(\"Invalid state: facing should be one of 'N', 'S', 'E', 'W'\")\n",
    "\n",
    "    return stateOut"
   ]
  },
  {
   "cell_type": "markdown",
   "metadata": {},
   "source": [
    "Next, we need to be able to apply a list of commands to the state. I'd like to use reduce in the functools library, but I'm short of time, so I'll use a for loop."
   ]
  },
  {
   "cell_type": "markdown",
   "metadata": {},
   "source": [
    "Start with a simple example from the problem spec (<code>R5, L5, R5, R3</code>):"
   ]
  },
  {
   "cell_type": "code",
   "execution_count": 50,
   "metadata": {
    "collapsed": true
   },
   "outputs": [],
   "source": [
    "inputString='R5, L5, R5, R3'"
   ]
  },
  {
   "cell_type": "markdown",
   "metadata": {},
   "source": [
    "I'll use the <code>findall</code> function in <code>re</code> to parse the input sequence:"
   ]
  },
  {
   "cell_type": "code",
   "execution_count": 51,
   "metadata": {
    "collapsed": true
   },
   "outputs": [],
   "source": [
    "import re"
   ]
  },
  {
   "cell_type": "code",
   "execution_count": 52,
   "metadata": {
    "collapsed": false
   },
   "outputs": [
    {
     "data": {
      "text/plain": [
       "[('R', '5'), ('L', '5'), ('R', '5'), ('R', '3')]"
      ]
     },
     "execution_count": 52,
     "metadata": {},
     "output_type": "execute_result"
    }
   ],
   "source": [
    "re.findall('(L|R)(\\d+)', inputString)"
   ]
  },
  {
   "cell_type": "code",
   "execution_count": 53,
   "metadata": {
    "collapsed": false
   },
   "outputs": [
    {
     "data": {
      "text/plain": [
       "{'facing': 'S', 'x': 10, 'y': 2}"
      ]
     },
     "execution_count": 53,
     "metadata": {},
     "output_type": "execute_result"
    }
   ],
   "source": [
    "state={'facing':'N', 'x':0, 'y':0}\n",
    "\n",
    "for (direction, distance) in re.findall('(L|R)(\\d+)', inputString):\n",
    "    state=turn(direction, state)\n",
    "    state=move(int(distance), state)\n",
    "    \n",
    "state"
   ]
  },
  {
   "cell_type": "markdown",
   "metadata": {},
   "source": [
    "Finally, need to calculate the total number of blocks away, by simply adding the x and y coords:"
   ]
  },
  {
   "cell_type": "code",
   "execution_count": 54,
   "metadata": {
    "collapsed": false
   },
   "outputs": [
    {
     "data": {
      "text/plain": [
       "12"
      ]
     },
     "execution_count": 54,
     "metadata": {},
     "output_type": "execute_result"
    }
   ],
   "source": [
    "state['x']+state['y']"
   ]
  },
  {
   "cell_type": "markdown",
   "metadata": {},
   "source": [
    "Good. Now do the same thing with the input from the site:"
   ]
  },
  {
   "cell_type": "code",
   "execution_count": 55,
   "metadata": {
    "collapsed": true
   },
   "outputs": [],
   "source": [
    "inputString='R1, L3, R5, R5, R5, L4, R5, R1, R2, L1, L1, R5, R1, L3, L5, L2, R4, L1, R4, R5, L3, R5, L1, R3, L5, R1, L2, R1, L5, L1, R1, R4, R1, L1, L3, R3, R5, L3, R4, L4, R5, L5, L1, L2, R4, R3, R3, L185, R3, R4, L5, L4, R48, R1, R2, L1, R1, L4, L4, R77, R5, L2, R192, R2, R5, L4, L5, L3, R2, L4, R1, L5, R5, R4, R1, R2, L3, R4, R4, L2, L4, L3, R5, R4, L2, L1, L3, R1, R5, R5, R2, L5, L2, L3, L4, R2, R1, L4, L1, R1, R5, R3, R3, R4, L1, L4, R1, L2, R3, L3, L2, L1, L2, L2, L1, L2, R3, R1, L4, R1, L1, L4, R1, L2, L5, R3, L5, L2, L2, L3, R1, L4, R1, R1, R2, L1, L4, L4, R2, R2, R2, R2, R5, R1, L1, L4, L5, R2, R4, L3, L5, R2, R3, L4, L1, R2, R3, R5, L2, L3, R3, R1, R3'"
   ]
  },
  {
   "cell_type": "code",
   "execution_count": 56,
   "metadata": {
    "collapsed": false
   },
   "outputs": [
    {
     "data": {
      "text/plain": [
       "-4"
      ]
     },
     "execution_count": 56,
     "metadata": {},
     "output_type": "execute_result"
    }
   ],
   "source": [
    "state={'facing':'N', 'x':0, 'y':0}\n",
    "\n",
    "for (direction, distance) in re.findall('(L|R)(\\d+)', inputString):\n",
    "    state=turn(direction, state)\n",
    "    state=move(int(distance), state)\n",
    "    \n",
    "state['x']+state['y']"
   ]
  },
  {
   "cell_type": "markdown",
   "metadata": {},
   "source": [
    "Aha! A cunning trick. Actually, we need to take the absolute values:"
   ]
  },
  {
   "cell_type": "code",
   "execution_count": 57,
   "metadata": {
    "collapsed": false
   },
   "outputs": [
    {
     "data": {
      "text/plain": [
       "298"
      ]
     },
     "execution_count": 57,
     "metadata": {},
     "output_type": "execute_result"
    }
   ],
   "source": [
    "state={'facing':'N', 'x':0, 'y':0}\n",
    "\n",
    "for (direction, distance) in re.findall('(L|R)(\\d+)', inputString):\n",
    "    state=turn(direction, state)\n",
    "    state=move(int(distance), state)\n",
    "    \n",
    "abs(state['x'])+abs(state['y'])"
   ]
  }
 ],
 "metadata": {
  "kernelspec": {
   "display_name": "Python [conda root]",
   "language": "python",
   "name": "conda-root-py"
  },
  "language_info": {
   "codemirror_mode": {
    "name": "ipython",
    "version": 3
   },
   "file_extension": ".py",
   "mimetype": "text/x-python",
   "name": "python",
   "nbconvert_exporter": "python",
   "pygments_lexer": "ipython3",
   "version": "3.5.2"
  }
 },
 "nbformat": 4,
 "nbformat_minor": 1
}
