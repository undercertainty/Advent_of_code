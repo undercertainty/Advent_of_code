{
 "cells": [
  {
   "cell_type": "code",
   "execution_count": 30,
   "metadata": {
    "collapsed": true
   },
   "outputs": [],
   "source": [
    "# We'll need re later\n",
    "\n",
    "import re"
   ]
  },
  {
   "cell_type": "markdown",
   "metadata": {},
   "source": [
    "We can still represent the current state with a dictionary with three parameters, but we'll also need a list of visited locations which we can represent as <code>(x, y)</code> pairs.\n",
    "\n",
    "* <code>facing</code> $\\in \\{$ <code>N</code>, <code>S</code>, <code>E</code>, <code>W</code> $\\}$\n",
    "* <code>x</code> $\\in Z$\n",
    "* <code>y</code> $\\in Z$\n"
   ]
  },
  {
   "cell_type": "markdown",
   "metadata": {},
   "source": [
    "We will also need two functions, each of which takes a value and a state, and returns an updated state:\n",
    "\n",
    "* <code>turn</code>\n",
    "* <code>move</code>"
   ]
  },
  {
   "cell_type": "markdown",
   "metadata": {},
   "source": [
    "<code>turn</code> is the same as before:"
   ]
  },
  {
   "cell_type": "code",
   "execution_count": 31,
   "metadata": {
    "collapsed": true
   },
   "outputs": [],
   "source": [
    "def turn(direction, stateIn):\n",
    "    \"\"\"\n",
    "    Should have a docstring here...\n",
    "    \"\"\"\n",
    "    stateOut=stateIn.copy()\n",
    "    if direction=='L':\n",
    "        if stateOut['facing']=='N':\n",
    "            stateOut.update({'facing':'W'})\n",
    "        elif stateOut['facing']=='W':\n",
    "            stateOut.update({'facing':'S'})\n",
    "        elif stateOut['facing']=='S':\n",
    "            stateOut.update({'facing':'E'})\n",
    "        elif stateOut['facing']=='E':\n",
    "            stateOut.update({'facing':'N'})\n",
    "        else:\n",
    "            raise ValueError(\"facing should be one of 'N', 'S', 'E', 'W'\")\n",
    "    elif direction=='R':\n",
    "        if stateOut['facing']=='N':\n",
    "            stateOut.update({'facing':'E'})\n",
    "        elif stateOut['facing']=='E':\n",
    "            stateOut.update({'facing':'S'})\n",
    "        elif stateOut['facing']=='S':\n",
    "            stateOut.update({'facing':'W'})\n",
    "        elif stateOut['facing']=='W':\n",
    "            stateOut.update({'facing':'N'})\n",
    "        else:\n",
    "            raise ValueError(\"facing should be one of 'N', 'S', 'E', 'W'\")\n",
    "    else:\n",
    "        raise ValueError(\"direction should be 'L' or 'R'\")\n",
    "    return stateOut\n",
    "            \n",
    "            \n",
    "            "
   ]
  },
  {
   "cell_type": "markdown",
   "metadata": {},
   "source": [
    "but for <code>move</code>, we'll just go one step at a time, and put the multiple steps into the parsing step below."
   ]
  },
  {
   "cell_type": "code",
   "execution_count": 32,
   "metadata": {
    "collapsed": true
   },
   "outputs": [],
   "source": [
    "def move(stateIn):\n",
    "    \"\"\"\n",
    "    And here...\n",
    "    \"\"\"\n",
    "    stateOut=stateIn.copy()\n",
    "    if stateOut['facing']=='N':\n",
    "        stateOut.update({'y':stateIn['y']+1})\n",
    "    elif stateOut['facing']=='S':\n",
    "        stateOut.update({'y':stateIn['y']-1})\n",
    "    elif stateOut['facing']=='E':\n",
    "        stateOut.update({'x':stateIn['x']+1})\n",
    "    elif stateOut['facing']=='W':\n",
    "        stateOut.update({'x':stateIn['x']-1})\n",
    "    else:\n",
    "        raise ValueError(\"Invalid state: facing should be one of 'N', 'S', 'E', 'W'\")\n",
    "\n",
    "    return stateOut"
   ]
  },
  {
   "cell_type": "markdown",
   "metadata": {},
   "source": [
    "Now, rather than go through all the steps, we can use a <code>while</code> loop to stop once we hit the same point again."
   ]
  },
  {
   "cell_type": "markdown",
   "metadata": {},
   "source": [
    "Start with a simple example from the problem spec (<code>R8, R4, R4, R8</code>):"
   ]
  },
  {
   "cell_type": "code",
   "execution_count": 33,
   "metadata": {
    "collapsed": true
   },
   "outputs": [],
   "source": [
    "inputString='R8, R4, R4, R8'"
   ]
  },
  {
   "cell_type": "markdown",
   "metadata": {},
   "source": [
    "I'll use the <code>findall</code> function in <code>re</code> to parse the input sequence. This time, want each state to be either a turn or a direction:"
   ]
  },
  {
   "cell_type": "code",
   "execution_count": 34,
   "metadata": {
    "collapsed": false
   },
   "outputs": [
    {
     "data": {
      "text/plain": [
       "['R', '8', 'R', '4', 'R', '4', 'R', '8']"
      ]
     },
     "execution_count": 34,
     "metadata": {},
     "output_type": "execute_result"
    }
   ],
   "source": [
    "re.findall('L|R|\\d+', inputString)"
   ]
  },
  {
   "cell_type": "code",
   "execution_count": 35,
   "metadata": {
    "collapsed": false
   },
   "outputs": [
    {
     "data": {
      "text/plain": [
       "{'facing': 'N', 'x': 4, 'y': 0}"
      ]
     },
     "execution_count": 35,
     "metadata": {},
     "output_type": "execute_result"
    }
   ],
   "source": [
    "state_dict={'facing':'N', 'x':0, 'y':0}\n",
    "visited_set=set()\n",
    "\n",
    "parsedInput_ls=re.findall('L|R|\\d+', inputString)\n",
    "\n",
    "move_i=0 # How many steps left to move\n",
    "\n",
    "while (state_dict['x'], state_dict['y']) not in visited_set:\n",
    "\n",
    "    if move_i==0:   # If finished moving, get the next instruction\n",
    "        \n",
    "        nextMove_str=parsedInput_ls.pop(0)\n",
    "        if nextMove_str=='L':\n",
    "            state_dict=turn('L', state_dict)\n",
    "        elif nextMove_str=='R':\n",
    "            state_dict=turn('R', state_dict)\n",
    "        else:\n",
    "            move_i=int(nextMove_str)   # Will raise an error if not an int\n",
    "            \n",
    "    else:\n",
    "        visited_set.add((state_dict['x'], state_dict['y']))\n",
    "        state_dict=move(state_dict)\n",
    "        move_i -= 1\n",
    "\n",
    "state_dict"
   ]
  },
  {
   "cell_type": "code",
   "execution_count": 36,
   "metadata": {
    "collapsed": false
   },
   "outputs": [
    {
     "data": {
      "text/plain": [
       "{(0, 0),\n",
       " (1, 0),\n",
       " (2, 0),\n",
       " (3, 0),\n",
       " (4, -4),\n",
       " (4, -3),\n",
       " (4, -2),\n",
       " (4, -1),\n",
       " (4, 0),\n",
       " (5, -4),\n",
       " (5, 0),\n",
       " (6, -4),\n",
       " (6, 0),\n",
       " (7, -4),\n",
       " (7, 0),\n",
       " (8, -4),\n",
       " (8, -3),\n",
       " (8, -2),\n",
       " (8, -1),\n",
       " (8, 0)}"
      ]
     },
     "execution_count": 36,
     "metadata": {},
     "output_type": "execute_result"
    }
   ],
   "source": [
    "visited_set"
   ]
  },
  {
   "cell_type": "markdown",
   "metadata": {},
   "source": [
    "Finally, need to calculate the total number of blocks away, by adding the absolute values of the x and y coords:"
   ]
  },
  {
   "cell_type": "code",
   "execution_count": 37,
   "metadata": {
    "collapsed": false
   },
   "outputs": [
    {
     "data": {
      "text/plain": [
       "4"
      ]
     },
     "execution_count": 37,
     "metadata": {},
     "output_type": "execute_result"
    }
   ],
   "source": [
    "abs(state_dict['x'])+abs(state_dict['y'])"
   ]
  },
  {
   "cell_type": "markdown",
   "metadata": {},
   "source": [
    "Good. Now do the same thing with the input from the site:"
   ]
  },
  {
   "cell_type": "code",
   "execution_count": 38,
   "metadata": {
    "collapsed": true
   },
   "outputs": [],
   "source": [
    "inputString='R1, L3, R5, R5, R5, L4, R5, R1, R2, L1, L1, R5, R1, L3, L5, L2, R4, L1, R4, R5, L3, R5, L1, R3, L5, R1, L2, R1, L5, L1, R1, R4, R1, L1, L3, R3, R5, L3, R4, L4, R5, L5, L1, L2, R4, R3, R3, L185, R3, R4, L5, L4, R48, R1, R2, L1, R1, L4, L4, R77, R5, L2, R192, R2, R5, L4, L5, L3, R2, L4, R1, L5, R5, R4, R1, R2, L3, R4, R4, L2, L4, L3, R5, R4, L2, L1, L3, R1, R5, R5, R2, L5, L2, L3, L4, R2, R1, L4, L1, R1, R5, R3, R3, R4, L1, L4, R1, L2, R3, L3, L2, L1, L2, L2, L1, L2, R3, R1, L4, R1, L1, L4, R1, L2, L5, R3, L5, L2, L2, L3, R1, L4, R1, R1, R2, L1, L4, L4, R2, R2, R2, R2, R5, R1, L1, L4, L5, R2, R4, L3, L5, R2, R3, L4, L1, R2, R3, R5, L2, L3, R3, R1, R3'"
   ]
  },
  {
   "cell_type": "code",
   "execution_count": 39,
   "metadata": {
    "collapsed": false
   },
   "outputs": [
    {
     "data": {
      "text/plain": [
       "158"
      ]
     },
     "execution_count": 39,
     "metadata": {},
     "output_type": "execute_result"
    }
   ],
   "source": [
    "state_dict={'facing':'N', 'x':0, 'y':0}\n",
    "visited_set=set()\n",
    "\n",
    "parsedInput_ls=re.findall('L|R|\\d+', inputString)\n",
    "\n",
    "move_i=0 # How many steps left to move\n",
    "\n",
    "while (state_dict['x'], state_dict['y']) not in visited_set:\n",
    "\n",
    "    if move_i==0:   # If finished moving, get the next instruction\n",
    "        \n",
    "        nextMove_str=parsedInput_ls.pop(0) # Raises an error if out of instructions\n",
    "        if nextMove_str=='L':\n",
    "            state_dict=turn('L', state_dict)\n",
    "        elif nextMove_str=='R':\n",
    "            state_dict=turn('R', state_dict)\n",
    "        else:\n",
    "            move_i=int(nextMove_str)   # Will raise an error if not an int\n",
    "            \n",
    "    else:\n",
    "        visited_set.add((state_dict['x'], state_dict['y']))\n",
    "        state_dict=move(state_dict)\n",
    "        move_i -= 1\n",
    "\n",
    "abs(state_dict['x'])+abs(state_dict['y'])"
   ]
  }
 ],
 "metadata": {
  "kernelspec": {
   "display_name": "Python [conda root]",
   "language": "python",
   "name": "conda-root-py"
  },
  "language_info": {
   "codemirror_mode": {
    "name": "ipython",
    "version": 3
   },
   "file_extension": ".py",
   "mimetype": "text/x-python",
   "name": "python",
   "nbconvert_exporter": "python",
   "pygments_lexer": "ipython3",
   "version": "3.5.2"
  }
 },
 "nbformat": 4,
 "nbformat_minor": 1
}
