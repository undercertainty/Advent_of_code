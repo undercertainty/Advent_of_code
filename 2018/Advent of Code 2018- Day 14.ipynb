{
 "cells": [
  {
   "cell_type": "markdown",
   "metadata": {},
   "source": [
    "Merry Christmas everyone! \n",
    "\n",
    "[Advent of Code day 14](http://adventofcode.com/2018/day/14)"
   ]
  },
  {
   "cell_type": "markdown",
   "metadata": {},
   "source": [
    "## Part 1"
   ]
  },
  {
   "cell_type": "markdown",
   "metadata": {},
   "source": [
    "Christ, this is a bit cryptic."
   ]
  },
  {
   "cell_type": "markdown",
   "metadata": {},
   "source": [
    "OK, so we've got two elves, and a list of numbers. "
   ]
  },
  {
   "cell_type": "code",
   "execution_count": 1,
   "metadata": {
    "collapsed": true
   },
   "outputs": [],
   "source": [
    "import pyrsistent as pyr"
   ]
  },
  {
   "cell_type": "code",
   "execution_count": 2,
   "metadata": {},
   "outputs": [],
   "source": [
    "recipes_pv=pyr.pvector([3, 7])\n",
    "\n",
    "# Let current_x be the index in the recipe list of the current recipe of x\n",
    "current_1=0\n",
    "current_2=1\n"
   ]
  },
  {
   "cell_type": "code",
   "execution_count": 3,
   "metadata": {},
   "outputs": [
    {
     "data": {
      "text/plain": [
       "pvector([1, 0])"
      ]
     },
     "execution_count": 3,
     "metadata": {},
     "output_type": "execute_result"
    }
   ],
   "source": [
    "def new_recipes(n1, n2):\n",
    "    return pyr.pvector([int(c) for c in str(n1+n2)])\n",
    "\n",
    "new_recipes(3, 7)"
   ]
  },
  {
   "cell_type": "code",
   "execution_count": 4,
   "metadata": {},
   "outputs": [
    {
     "data": {
      "text/plain": [
       "pvector([3, 7, 1, 0])"
      ]
     },
     "execution_count": 4,
     "metadata": {},
     "output_type": "execute_result"
    }
   ],
   "source": [
    "recipes_pv.extend(new_recipes(recipes_pv[current_1], recipes_pv[current_2]))"
   ]
  },
  {
   "cell_type": "code",
   "execution_count": 5,
   "metadata": {
    "collapsed": true
   },
   "outputs": [],
   "source": [
    "def step(triple_in):\n",
    "    (r_pv, c1, c2)=triple_in\n",
    "    out_pv=r_pv.extend(new_recipes(r_pv[c1], r_pv[c2]))\n",
    "    return (out_pv, (c1+out_pv[c1]+1)%len(out_pv), (c2+out_pv[c2]+1)%len(out_pv)) "
   ]
  },
  {
   "cell_type": "code",
   "execution_count": 6,
   "metadata": {
    "collapsed": true
   },
   "outputs": [],
   "source": [
    "def next_10_recipes(n):\n",
    "    s=(pyr.pvector([3, 7]), 0, 1)\n",
    "\n",
    "    while len(s[0])<=n+10:\n",
    "        s=step(s)\n",
    "\n",
    "    return ''.join([str(i) for i in s[0][n:n+10]])"
   ]
  },
  {
   "cell_type": "code",
   "execution_count": 7,
   "metadata": {
    "collapsed": true
   },
   "outputs": [],
   "source": [
    "\n",
    "assert next_10_recipes(9)=='5158916779'\n",
    "assert next_10_recipes(5)=='0124515891'\n",
    "assert next_10_recipes(18)=='9251071085'\n",
    "assert next_10_recipes(2018)=='5941429882'\n"
   ]
  },
  {
   "cell_type": "markdown",
   "metadata": {},
   "source": [
    "And now with the puzzle input:"
   ]
  },
  {
   "cell_type": "code",
   "execution_count": 8,
   "metadata": {},
   "outputs": [
    {
     "data": {
      "text/plain": [
       "'5832873106'"
      ]
     },
     "execution_count": 8,
     "metadata": {},
     "output_type": "execute_result"
    }
   ],
   "source": [
    "next_10_recipes(939601)"
   ]
  },
  {
   "cell_type": "markdown",
   "metadata": {},
   "source": [
    "## Part 2"
   ]
  },
  {
   "cell_type": "markdown",
   "metadata": {},
   "source": [
    "Right, let's assume that we can just leave it running and see what happens."
   ]
  },
  {
   "cell_type": "markdown",
   "metadata": {},
   "source": [
    "That took quite a long time when I first tried it, so let's give it a go with a generator. Not sure if that'll make a difference, but I've not used them before and they're probably worth learning."
   ]
  },
  {
   "cell_type": "code",
   "execution_count": 9,
   "metadata": {
    "collapsed": true
   },
   "outputs": [],
   "source": [
    "import array\n",
    "import itertools as it"
   ]
  },
  {
   "cell_type": "code",
   "execution_count": 10,
   "metadata": {
    "collapsed": true
   },
   "outputs": [],
   "source": [
    "def new_recipes_pt2(c_ar, c1, c2):\n",
    "    u=c_ar[c1]+c_ar[c2]\n",
    "    if u>9:\n",
    "        return array.array('i', [u//10, u%10])\n",
    "    else:\n",
    "        return array.array('i', [u])"
   ]
  },
  {
   "cell_type": "code",
   "execution_count": 11,
   "metadata": {},
   "outputs": [],
   "source": [
    "def score_gen():\n",
    "    \n",
    "    scores_ar=array.array('i', [3, 7])\n",
    "    c1=0\n",
    "    c2=1\n",
    "    \n",
    "    yield 3\n",
    "    yield 7\n",
    "    \n",
    "    while True:\n",
    "        \n",
    "        u=scores_ar[c1]+scores_ar[c2]\n",
    "        \n",
    "        if u>9:\n",
    "            yield 1\n",
    "            scores_ar.append(1)\n",
    "            u-=10\n",
    "        \n",
    "        yield u\n",
    "        scores_ar.append(u)\n",
    "\n",
    "        c1=(scores_ar[c1]+c1+1)%len(scores_ar)\n",
    "        c2=(scores_ar[c2]+c2+1)%len(scores_ar)\n",
    "        "
   ]
  },
  {
   "cell_type": "markdown",
   "metadata": {},
   "source": [
    "OK, that seems to be working for the basic case. Do the checks again:"
   ]
  },
  {
   "cell_type": "code",
   "execution_count": 12,
   "metadata": {},
   "outputs": [],
   "source": [
    "f=lambda x:''.join([str(c) for c in it.islice(score_gen(), x, x+10)])\n",
    "\n",
    "assert f(9)=='5158916779'\n",
    "assert f(5)=='0124515891'\n",
    "assert f(18)=='9251071085'\n",
    "assert f(2018)=='5941429882'\n",
    "assert f(939601)=='5832873106'"
   ]
  },
  {
   "cell_type": "markdown",
   "metadata": {},
   "source": [
    "OK, let's see whether this runs in an acceptable time for the second part of the puzzle."
   ]
  },
  {
   "cell_type": "code",
   "execution_count": 13,
   "metadata": {
    "collapsed": true
   },
   "outputs": [],
   "source": [
    "def part2(str_in):\n",
    "    \n",
    "    i=0\n",
    "    target_ls=[int(i) for i in str_in]\n",
    "    \n",
    "    sofar_ls=[0 for i in target_ls]\n",
    "    \n",
    "    scores=score_gen()\n",
    "\n",
    "    while True:\n",
    "        sofar_ls.pop(0)\n",
    "        sofar_ls.append(next(scores))\n",
    "        i+=1\n",
    "        if sofar_ls==target_ls:\n",
    "            break\n",
    "        \n",
    "    return i-len(str_in)"
   ]
  },
  {
   "cell_type": "code",
   "execution_count": 14,
   "metadata": {},
   "outputs": [],
   "source": [
    "assert part2('51589')==9\n",
    "assert part2('01245')==5\n",
    "assert part2('92510')==18\n",
    "assert part2('59414')==2018"
   ]
  },
  {
   "cell_type": "markdown",
   "metadata": {},
   "source": [
    "Try with the puzzle input:"
   ]
  },
  {
   "cell_type": "code",
   "execution_count": 15,
   "metadata": {},
   "outputs": [
    {
     "data": {
      "text/plain": [
       "20273708"
      ]
     },
     "execution_count": 15,
     "metadata": {},
     "output_type": "execute_result"
    }
   ],
   "source": [
    "part2('939601')"
   ]
  },
  {
   "cell_type": "code",
   "execution_count": null,
   "metadata": {
    "collapsed": true
   },
   "outputs": [],
   "source": []
  }
 ],
 "metadata": {
  "kernelspec": {
   "display_name": "Python 3",
   "language": "python",
   "name": "python3"
  },
  "language_info": {
   "codemirror_mode": {
    "name": "ipython",
    "version": 3
   },
   "file_extension": ".py",
   "mimetype": "text/x-python",
   "name": "python",
   "nbconvert_exporter": "python",
   "pygments_lexer": "ipython3",
   "version": "3.6.1"
  }
 },
 "nbformat": 4,
 "nbformat_minor": 2
}
