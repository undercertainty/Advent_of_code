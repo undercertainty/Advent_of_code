{
 "cells": [
  {
   "cell_type": "markdown",
   "metadata": {},
   "source": [
    "Merry Christmas everyone! \n",
    "\n",
    "[Advent of Code day 8](http://adventofcode.com/2018/day/8)"
   ]
  },
  {
   "cell_type": "markdown",
   "metadata": {},
   "source": [
    "Ah, damn it... got a cfg. Oh for prolog..."
   ]
  },
  {
   "cell_type": "markdown",
   "metadata": {},
   "source": [
    "Having complained a lot [yesterday](Advent of Code 2018- Day 07.ipynb) about inplace alterations to data structures in python, I'd completely forgotten about `pyrsistent`, so I'll use that today."
   ]
  },
  {
   "cell_type": "code",
   "execution_count": 68,
   "metadata": {
    "collapsed": true
   },
   "outputs": [],
   "source": [
    "from pyrsistent import pvector"
   ]
  },
  {
   "cell_type": "markdown",
   "metadata": {},
   "source": [
    "## Part 1"
   ]
  },
  {
   "cell_type": "code",
   "execution_count": 69,
   "metadata": {},
   "outputs": [
    {
     "data": {
      "text/plain": [
       "pvector([2, 3, 0, 3, 10, 11, 12, 1, 1, 0, 1, 99, 2, 1, 1, 2])"
      ]
     },
     "execution_count": 69,
     "metadata": {},
     "output_type": "execute_result"
    }
   ],
   "source": [
    "test_input=\"2 3 0 3 10 11 12 1 1 0 1 99 2 1 1 2\"\n",
    "\n",
    "input_v=pvector([int(x) for x in test_input.strip().split()])\n",
    "input_v\n"
   ]
  },
  {
   "cell_type": "markdown",
   "metadata": {},
   "source": [
    "Hmmm, that's interesting. There seems to be a little redundancy here. Or I've misinterpreted. Either way..."
   ]
  },
  {
   "cell_type": "markdown",
   "metadata": {},
   "source": [
    "Next cell is the basic reducer (without accumulating the metadata)"
   ]
  },
  {
   "cell_type": "code",
   "execution_count": 70,
   "metadata": {},
   "outputs": [],
   "source": [
    "def reduce(input_v):\n",
    "    '''\n",
    "    parse the node at the front of the input vector. Return pair\n",
    "    of the metadata and the rest of the input.\n",
    "    '''\n",
    "    if input_v[0]==0:\n",
    "        return(input_v[2:input_v[1]+2], input_v[input_v[1]+2:])\n",
    "    else:\n",
    "        to_parse_v=input_v[2:]\n",
    "        for i in range(input_v[0]):\n",
    "            (metadata_v, to_parse_v)=reduce(to_parse_v)\n",
    "        return (to_parse_v[:input_v[1]], to_parse_v[input_v[1]:])\n",
    "\n",
    "            \n",
    "\n"
   ]
  },
  {
   "cell_type": "markdown",
   "metadata": {},
   "source": [
    "OK, now adjust `reduce` so that it accumulates the metadata"
   ]
  },
  {
   "cell_type": "code",
   "execution_count": 71,
   "metadata": {
    "collapsed": true
   },
   "outputs": [],
   "source": [
    "def reduce(input_v, metadata_sofar_v):\n",
    "    '''\n",
    "    parse the node at the front of the input vector. Return pair\n",
    "    of all metadata collected and the rest of the input.\n",
    "    '''\n",
    "    if input_v[0]==0:\n",
    "        return(metadata_sofar_v.extend(input_v[2:input_v[1]+2]),\n",
    "               input_v[input_v[1]+2:])\n",
    "    else:\n",
    "        to_parse_v=input_v[2:]\n",
    "        metadata_v=metadata_sofar_v\n",
    "        for i in range(input_v[0]):\n",
    "            (metadata_v, to_parse_v)=reduce(to_parse_v, metadata_v)\n",
    "        return (metadata_v.extend(to_parse_v[:input_v[1]]), \n",
    "                to_parse_v[input_v[1]:])"
   ]
  },
  {
   "cell_type": "code",
   "execution_count": 72,
   "metadata": {},
   "outputs": [
    {
     "data": {
      "text/plain": [
       "pvector([2, 3, 0, 3, 10, 11, 12, 1, 1, 0, 1, 99, 2, 1, 1, 2])"
      ]
     },
     "execution_count": 72,
     "metadata": {},
     "output_type": "execute_result"
    }
   ],
   "source": [
    "test_input=\"2 3 0 3 10 11 12 1 1 0 1 99 2 1 1 2\"\n",
    "\n",
    "input_v=pvector([int(x) for x in test_input.strip().split()])\n",
    "input_v\n"
   ]
  },
  {
   "cell_type": "code",
   "execution_count": 73,
   "metadata": {},
   "outputs": [],
   "source": [
    "assert sum(reduce(input_v, pvector([]))[0])==138"
   ]
  },
  {
   "cell_type": "markdown",
   "metadata": {},
   "source": [
    "Now try with the puzzle input:"
   ]
  },
  {
   "cell_type": "code",
   "execution_count": 74,
   "metadata": {},
   "outputs": [],
   "source": [
    "puzzle_input=open('inputs/day8').read()\n",
    "\n",
    "input_v=pvector([int(x) for x in puzzle_input.strip().split()])"
   ]
  },
  {
   "cell_type": "code",
   "execution_count": 75,
   "metadata": {},
   "outputs": [
    {
     "data": {
      "text/plain": [
       "45865"
      ]
     },
     "execution_count": 75,
     "metadata": {},
     "output_type": "execute_result"
    }
   ],
   "source": [
    "sum(reduce(input_v, pvector([]))[0])"
   ]
  },
  {
   "cell_type": "markdown",
   "metadata": {},
   "source": [
    "The right answer!"
   ]
  },
  {
   "cell_type": "markdown",
   "metadata": {},
   "source": [
    "## Part 2"
   ]
  },
  {
   "cell_type": "markdown",
   "metadata": {},
   "source": [
    "I'm hoping that this part is easier to solve than it is to actually understand."
   ]
  },
  {
   "cell_type": "markdown",
   "metadata": {},
   "source": [
    "Probably easiest to alter `reduce` so that in the recursive case, we return a list of child nodes, and work from those."
   ]
  },
  {
   "cell_type": "code",
   "execution_count": 90,
   "metadata": {
    "collapsed": true
   },
   "outputs": [],
   "source": [
    "def parse(input_v):\n",
    "    '''\n",
    "    parse the node at the front of the input vector. Return pair\n",
    "    of node value and the rest of the input.\n",
    "    '''\n",
    "    if input_v[0]==0:\n",
    "        # If no children, return sum of metadata\n",
    "        return(sum(input_v[2:input_v[1]+2]),\n",
    "               input_v[input_v[1]+2:])\n",
    "    else:\n",
    "        to_parse_v=input_v[2:]\n",
    "        child_values_ls=[]\n",
    "        for i in range(input_v[0]):\n",
    "            (value, to_parse_v)=parse(to_parse_v)\n",
    "            child_values_ls.append(value)\n",
    "        metadata_values=to_parse_v[:input_v[1]]\n",
    "        value_out=sum([child_values_ls[i-1] for i in metadata_values if i<=len(child_values_ls)])\n",
    "        return (value_out, \n",
    "                to_parse_v[input_v[1]:])"
   ]
  },
  {
   "cell_type": "code",
   "execution_count": 91,
   "metadata": {},
   "outputs": [
    {
     "data": {
      "text/plain": [
       "pvector([2, 3, 0, 3, 10, 11, 12, 1, 1, 0, 1, 99, 2, 1, 1, 2])"
      ]
     },
     "execution_count": 91,
     "metadata": {},
     "output_type": "execute_result"
    }
   ],
   "source": [
    "test_input=\"2 3 0 3 10 11 12 1 1 0 1 99 2 1 1 2\"\n",
    "\n",
    "input_v=pvector([int(x) for x in test_input.strip().split()])\n",
    "input_v"
   ]
  },
  {
   "cell_type": "code",
   "execution_count": 94,
   "metadata": {},
   "outputs": [],
   "source": [
    "assert parse(input_v)[0]==66"
   ]
  },
  {
   "cell_type": "markdown",
   "metadata": {},
   "source": [
    "Seems OK. Try with the puzzle input:"
   ]
  },
  {
   "cell_type": "code",
   "execution_count": 96,
   "metadata": {
    "collapsed": true
   },
   "outputs": [],
   "source": [
    "puzzle_input=open('inputs/day8').read()\n",
    "\n",
    "input_v=pvector([int(x) for x in puzzle_input.strip().split()])"
   ]
  },
  {
   "cell_type": "code",
   "execution_count": 97,
   "metadata": {},
   "outputs": [
    {
     "data": {
      "text/plain": [
       "22608"
      ]
     },
     "execution_count": 97,
     "metadata": {},
     "output_type": "execute_result"
    }
   ],
   "source": [
    "parse(input_v)[0]"
   ]
  },
  {
   "cell_type": "code",
   "execution_count": null,
   "metadata": {
    "collapsed": true
   },
   "outputs": [],
   "source": []
  }
 ],
 "metadata": {
  "kernelspec": {
   "display_name": "Python 3",
   "language": "python",
   "name": "python3"
  },
  "language_info": {
   "codemirror_mode": {
    "name": "ipython",
    "version": 3
   },
   "file_extension": ".py",
   "mimetype": "text/x-python",
   "name": "python",
   "nbconvert_exporter": "python",
   "pygments_lexer": "ipython3",
   "version": "3.6.1"
  }
 },
 "nbformat": 4,
 "nbformat_minor": 2
}
