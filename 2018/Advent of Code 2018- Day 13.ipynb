{
 "cells": [
  {
   "cell_type": "markdown",
   "metadata": {},
   "source": [
    "Merry Christmas everyone! \n",
    "\n",
    "[Advent of Code day 13](http://adventofcode.com/2018/day/13)"
   ]
  },
  {
   "cell_type": "markdown",
   "metadata": {},
   "source": [
    "OK, this code is going to be hideous 'cos I'm doing it on the train back from [New Model Army](https://newmodelarmy.org) at the Forum, and I'm knackered and not completely sober."
   ]
  },
  {
   "cell_type": "code",
   "execution_count": 1,
   "metadata": {
    "collapsed": true
   },
   "outputs": [],
   "source": [
    "import numpy as np"
   ]
  },
  {
   "cell_type": "markdown",
   "metadata": {},
   "source": [
    "## Part 1"
   ]
  },
  {
   "cell_type": "markdown",
   "metadata": {},
   "source": [
    "Let's use a `dict` to represent a cart. Then we can represent each bit of the mine path with a function that returns the next state of the cart."
   ]
  },
  {
   "cell_type": "markdown",
   "metadata": {},
   "source": [
    "Here's a representation of the carts in the example:"
   ]
  },
  {
   "cell_type": "code",
   "execution_count": 2,
   "metadata": {
    "collapsed": true
   },
   "outputs": [],
   "source": [
    "cart1={'loc':(2, 0),\n",
    "       'facing': 'E',\n",
    "       'turn': 'L'\n",
    "}\n",
    "\n",
    "cart2={'loc':(9, 3),\n",
    "       'facing': 'S',\n",
    "       'turn': 'L'\n",
    "}"
   ]
  },
  {
   "cell_type": "markdown",
   "metadata": {},
   "source": [
    "So let's define a function that takes the graphical representation of the tracks, and a cart, and returns a representation of the cart after one step."
   ]
  },
  {
   "cell_type": "markdown",
   "metadata": {},
   "source": [
    "Note: this kind of grew. I didn't intend it to be this big and ugly originally."
   ]
  },
  {
   "cell_type": "code",
   "execution_count": 3,
   "metadata": {
    "collapsed": true
   },
   "outputs": [],
   "source": [
    "def move_cart(track, cart_in):\n",
    "    \n",
    "    if track[cart_in['loc']]=='|':\n",
    "        if cart_in['facing']=='N':\n",
    "            return {'loc':(cart_in['loc'][0], cart_in['loc'][1]-1),\n",
    "                    'facing':'N',\n",
    "                    'turn':cart_in['turn']}\n",
    "        elif cart_in['facing']=='S':\n",
    "            return {'loc':(cart_in['loc'][0], cart_in['loc'][1]+1),\n",
    "                    'facing':'S',\n",
    "                    'turn':cart_in['turn']}\n",
    "\n",
    "    elif track[cart_in['loc']]=='-':\n",
    "\n",
    "        if cart_in['facing']=='E':\n",
    "            return {'loc':(cart_in['loc'][0]+1, cart_in['loc'][1]),\n",
    "                    'facing':'E',\n",
    "                    'turn':cart_in['turn']}\n",
    "        elif cart_in['facing']=='W':\n",
    "            return {'loc':(cart_in['loc'][0]-1, cart_in['loc'][1]),\n",
    "                    'facing':'W',\n",
    "                    'turn':cart_in['turn']}\n",
    "\n",
    "    elif track[cart_in['loc']]=='/':\n",
    "\n",
    "        if cart_in['facing']=='N':\n",
    "            return {'loc':(cart_in['loc'][0]+1, cart_in['loc'][1]),\n",
    "                    'facing':'E',\n",
    "                    'turn':cart_in['turn']}\n",
    "        elif cart_in['facing']=='E':\n",
    "            return {'loc':(cart_in['loc'][0], cart_in['loc'][1]-1),\n",
    "                    'facing':'N',\n",
    "                    'turn':cart_in['turn']}\n",
    "        elif cart_in['facing']=='S':\n",
    "            return {'loc':(cart_in['loc'][0]-1, cart_in['loc'][1]),\n",
    "                    'facing':'W',\n",
    "                    'turn':cart_in['turn']}\n",
    "        elif cart_in['facing']=='W':\n",
    "            return {'loc':(cart_in['loc'][0], cart_in['loc'][1]+1),\n",
    "                    'facing':'S',\n",
    "                    'turn':cart_in['turn']}\n",
    "        \n",
    "    elif track[cart_in['loc']]=='\\\\':\n",
    "\n",
    "        if cart_in['facing']=='N':\n",
    "            return {'loc':(cart_in['loc'][0]-1, cart_in['loc'][1]),\n",
    "                    'facing':'W',\n",
    "                    'turn':cart_in['turn']}\n",
    "        elif cart_in['facing']=='E':\n",
    "            return {'loc':(cart_in['loc'][0], cart_in['loc'][1]+1),\n",
    "                    'facing':'S',\n",
    "                    'turn':cart_in['turn']}\n",
    "        elif cart_in['facing']=='S':\n",
    "            return {'loc':(cart_in['loc'][0]+1, cart_in['loc'][1]),\n",
    "                    'facing':'E',\n",
    "                    'turn':cart_in['turn']}\n",
    "        elif cart_in['facing']=='W':\n",
    "            return {'loc':(cart_in['loc'][0], cart_in['loc'][1]-1),\n",
    "                    'facing':'N',\n",
    "                    'turn':cart_in['turn']}\n",
    "\n",
    "    elif track[cart_in['loc']]=='+':\n",
    "\n",
    "        if cart_in['facing']=='N':\n",
    "            if cart_in['turn']=='L':\n",
    "                return {'loc':(cart_in['loc'][0]-1, cart_in['loc'][1]),\n",
    "                        'facing':'W',\n",
    "                        'turn':'F'}\n",
    "            if cart_in['turn']=='F':\n",
    "                return {'loc':(cart_in['loc'][0], cart_in['loc'][1]-1),\n",
    "                        'facing':'N',\n",
    "                        'turn':'R'}\n",
    "            if cart_in['turn']=='R':\n",
    "                return {'loc':(cart_in['loc'][0]+1, cart_in['loc'][1]),\n",
    "                        'facing':'E',\n",
    "                        'turn':'L'}\n",
    "\n",
    "        if cart_in['facing']=='E':\n",
    "            if cart_in['turn']=='L':\n",
    "                return {'loc':(cart_in['loc'][0], cart_in['loc'][1]-1),\n",
    "                        'facing':'N',\n",
    "                        'turn':'F'}\n",
    "            if cart_in['turn']=='F':\n",
    "                return {'loc':(cart_in['loc'][0]+1, cart_in['loc'][1]),\n",
    "                        'facing':'E',\n",
    "                        'turn':'R'}\n",
    "            if cart_in['turn']=='R':\n",
    "                return {'loc':(cart_in['loc'][0], cart_in['loc'][1]+1),\n",
    "                        'facing':'S',\n",
    "                        'turn':'L'}\n",
    "\n",
    "        if cart_in['facing']=='S':\n",
    "            if cart_in['turn']=='L':\n",
    "                return {'loc':(cart_in['loc'][0]+1, cart_in['loc'][1]),\n",
    "                        'facing':'E',\n",
    "                        'turn':'F'}\n",
    "            if cart_in['turn']=='F':\n",
    "                return {'loc':(cart_in['loc'][0], cart_in['loc'][1]+1),\n",
    "                        'facing':'S',\n",
    "                        'turn':'R'}\n",
    "            if cart_in['turn']=='R':\n",
    "                return {'loc':(cart_in['loc'][0]-1, cart_in['loc'][1]),\n",
    "                        'facing':'W',\n",
    "                        'turn':'L'}\n",
    "\n",
    "        if cart_in['facing']=='W':\n",
    "            if cart_in['turn']=='L':\n",
    "                return {'loc':(cart_in['loc'][0], cart_in['loc'][1]+1),\n",
    "                        'facing':'S',\n",
    "                        'turn':'F'}\n",
    "            if cart_in['turn']=='F':\n",
    "                return {'loc':(cart_in['loc'][0]-1, cart_in['loc'][1]),\n",
    "                        'facing':'W',\n",
    "                        'turn':'R'}\n",
    "            if cart_in['turn']=='R':\n",
    "                return {'loc':(cart_in['loc'][0], cart_in['loc'][1]-1),\n",
    "                        'facing':'N',\n",
    "                        'turn':'L'}\n",
    "\n"
   ]
  },
  {
   "cell_type": "markdown",
   "metadata": {},
   "source": [
    "Try applying to the test input:"
   ]
  },
  {
   "cell_type": "code",
   "execution_count": 4,
   "metadata": {
    "collapsed": true
   },
   "outputs": [],
   "source": [
    "test_input_str=r'''/->-\\        \n",
    "|   |  /----\\\n",
    "| /-+--+-\\  |\n",
    "| | |  | v  |\n",
    "\\-+-/  \\-+--/\n",
    "  \\------/   '''"
   ]
  },
  {
   "cell_type": "markdown",
   "metadata": {},
   "source": [
    "It would be useful to have a function that takes the input string and returns a representation of the track and the carts. Note that if there's a cart in the input, then in the track, it needs to be replaced with `|` (for `^` or `v`) or `-` (for `<` or `>`)."
   ]
  },
  {
   "cell_type": "code",
   "execution_count": 5,
   "metadata": {
    "collapsed": true
   },
   "outputs": [],
   "source": [
    "def build_initial_state(input_str):\n",
    "    mine_ar=np.array([[c for c in nl] for nl in input_str.splitlines()]).T\n",
    "    carts_ls=[]\n",
    "    for x in range(mine_ar.shape[0]):\n",
    "        for y in range(mine_ar.shape[1]):\n",
    "            if mine_ar[x, y]=='>':\n",
    "                carts_ls.append({'loc':(x, y),\n",
    "                                 'facing': 'E',\n",
    "                                 'turn': 'L'})\n",
    "                mine_ar[x, y]='-'\n",
    "            if mine_ar[x, y]=='<':\n",
    "                carts_ls.append({'loc':(x, y),\n",
    "                                 'facing': 'W',\n",
    "                                 'turn': 'L'})\n",
    "                mine_ar[x, y]='-'\n",
    "            if mine_ar[x, y]=='v':\n",
    "                carts_ls.append({'loc':(x, y),\n",
    "                                 'facing': 'S',\n",
    "                                 'turn': 'L'})\n",
    "                mine_ar[x, y]='|'\n",
    "            if mine_ar[x, y]=='^':\n",
    "                carts_ls.append({'loc':(x, y),\n",
    "                                 'facing': 'N',\n",
    "                                 'turn': 'L'})\n",
    "                mine_ar[x, y]='|'\n",
    "    return {'map':mine_ar, 'carts':carts_ls}"
   ]
  },
  {
   "cell_type": "markdown",
   "metadata": {},
   "source": [
    "I quite like the way they display the mine and carts, so let's write a `display` function:"
   ]
  },
  {
   "cell_type": "code",
   "execution_count": 6,
   "metadata": {},
   "outputs": [],
   "source": [
    "def display(mine_ar, carts_ls):\n",
    "    \"Hacky display that doesn't consider crashes\"\n",
    "    for y in range(mine_ar.shape[1]):\n",
    "        for x in range(mine_ar.shape[0]):\n",
    "            cart_here=False\n",
    "            for c in carts_ls:\n",
    "                if c['loc']==(x, y):\n",
    "                    cart_here=True\n",
    "                    if c['facing']=='N':\n",
    "                        print('^', end='')\n",
    "                        break\n",
    "                    elif c['facing']=='E':\n",
    "                        print('>', end='')\n",
    "                        break\n",
    "                    elif c['facing']=='S':\n",
    "                        print('v', end='')\n",
    "                        break\n",
    "                    elif c['facing']=='W':\n",
    "                        print('<', end='')\n",
    "                        break\n",
    "            if not cart_here:\n",
    "                print(mine_ar[x, y], end='')\n",
    "        print()"
   ]
  },
  {
   "cell_type": "code",
   "execution_count": 7,
   "metadata": {},
   "outputs": [
    {
     "name": "stdout",
     "output_type": "stream",
     "text": [
      "/->-\\        \n",
      "|   |  /----\\\n",
      "| /-+--+-\\  |\n",
      "| | |  | v  |\n",
      "\\-+-/  \\-+--/\n",
      "  \\------/   \n"
     ]
    }
   ],
   "source": [
    "s_dict=build_initial_state(test_input_str)\n",
    "\n",
    "display(s_dict['map'], s_dict['carts'])"
   ]
  },
  {
   "cell_type": "markdown",
   "metadata": {},
   "source": [
    "OK, so far so good. Now, let's try some next steps. We move the carts in order of y coordinate then x coordinate:"
   ]
  },
  {
   "cell_type": "code",
   "execution_count": 8,
   "metadata": {},
   "outputs": [
    {
     "data": {
      "text/plain": [
       "[{'facing': 'E', 'loc': (2, 0), 'turn': 'L'},\n",
       " {'facing': 'S', 'loc': (9, 3), 'turn': 'L'}]"
      ]
     },
     "execution_count": 8,
     "metadata": {},
     "output_type": "execute_result"
    }
   ],
   "source": [
    "sorted(s_dict['carts'], key=lambda x:(x['loc'][1], x['loc'][0]))"
   ]
  },
  {
   "cell_type": "markdown",
   "metadata": {},
   "source": [
    "If there's a collision, I'll return the coordinates of the collision, otherwise the list of carts. Need to check for the collision both before and after adding to `carts_out` so that we don't get eg. `--><--` $\\rightarrow$ `--<>--`."
   ]
  },
  {
   "cell_type": "code",
   "execution_count": 9,
   "metadata": {},
   "outputs": [],
   "source": [
    "def move_carts(map_in, carts_ls):\n",
    "    carts_out=[]\n",
    "    for cart in sorted(carts_ls, key=lambda x:(x['loc'][1], x['loc'][0])):\n",
    "        if any([c['loc']==cart['loc'] for c in carts_out]):\n",
    "            return c['loc']\n",
    "        cart1=move_cart(map_in, cart)\n",
    "        if any([c['loc']==cart1['loc'] for c in carts_out]):\n",
    "            return cart1['loc']\n",
    "        carts_out.append(cart1)\n",
    "    return carts_out"
   ]
  },
  {
   "cell_type": "markdown",
   "metadata": {},
   "source": [
    "Run through a few iterations and make sure it's working OK:"
   ]
  },
  {
   "cell_type": "code",
   "execution_count": 10,
   "metadata": {},
   "outputs": [
    {
     "name": "stdout",
     "output_type": "stream",
     "text": [
      "/->-\\        \n",
      "|   |  /----\\\n",
      "| /-+--+-\\  |\n",
      "| | |  | v  |\n",
      "\\-+-/  \\-+--/\n",
      "  \\------/   \n",
      "{'loc': (2, 0), 'facing': 'E', 'turn': 'L'}\n",
      "{'loc': (9, 3), 'facing': 'S', 'turn': 'L'}\n",
      "\n",
      "/-->\\        \n",
      "|   |  /----\\\n",
      "| /-+--+-\\  |\n",
      "| | |  | |  |\n",
      "\\-+-/  \\-v--/\n",
      "  \\------/   \n",
      "{'loc': (3, 0), 'facing': 'E', 'turn': 'L'}\n",
      "{'loc': (9, 4), 'facing': 'S', 'turn': 'L'}\n",
      "\n",
      "/--->        \n",
      "|   |  /----\\\n",
      "| /-+--+-\\  |\n",
      "| | |  | |  |\n",
      "\\-+-/  \\-+>-/\n",
      "  \\------/   \n",
      "{'loc': (4, 0), 'facing': 'E', 'turn': 'L'}\n",
      "{'loc': (10, 4), 'facing': 'E', 'turn': 'F'}\n",
      "\n",
      "/---\\        \n",
      "|   v  /----\\\n",
      "| /-+--+-\\  |\n",
      "| | |  | |  |\n",
      "\\-+-/  \\-+->/\n",
      "  \\------/   \n",
      "{'loc': (4, 1), 'facing': 'S', 'turn': 'L'}\n",
      "{'loc': (11, 4), 'facing': 'E', 'turn': 'F'}\n",
      "\n",
      "/---\\        \n",
      "|   |  /----\\\n",
      "| /-v--+-\\  |\n",
      "| | |  | |  |\n",
      "\\-+-/  \\-+-->\n",
      "  \\------/   \n",
      "{'loc': (4, 2), 'facing': 'S', 'turn': 'L'}\n",
      "{'loc': (12, 4), 'facing': 'E', 'turn': 'F'}\n",
      "\n",
      "/---\\        \n",
      "|   |  /----\\\n",
      "| /-+>-+-\\  |\n",
      "| | |  | |  ^\n",
      "\\-+-/  \\-+--/\n",
      "  \\------/   \n",
      "{'loc': (5, 2), 'facing': 'E', 'turn': 'F'}\n",
      "{'loc': (12, 3), 'facing': 'N', 'turn': 'F'}\n",
      "\n",
      "/---\\        \n",
      "|   |  /----\\\n",
      "| /-+->+-\\  ^\n",
      "| | |  | |  |\n",
      "\\-+-/  \\-+--/\n",
      "  \\------/   \n",
      "{'loc': (6, 2), 'facing': 'E', 'turn': 'F'}\n",
      "{'loc': (12, 2), 'facing': 'N', 'turn': 'F'}\n",
      "\n",
      "/---\\        \n",
      "|   |  /----^\n",
      "| /-+-->-\\  |\n",
      "| | |  | |  |\n",
      "\\-+-/  \\-+--/\n",
      "  \\------/   \n",
      "{'loc': (7, 2), 'facing': 'E', 'turn': 'F'}\n",
      "{'loc': (12, 1), 'facing': 'N', 'turn': 'F'}\n",
      "\n",
      "/---\\        \n",
      "|   |  /---<\\\n",
      "| /-+--+>\\  |\n",
      "| | |  | |  |\n",
      "\\-+-/  \\-+--/\n",
      "  \\------/   \n",
      "{'loc': (11, 1), 'facing': 'W', 'turn': 'F'}\n",
      "{'loc': (8, 2), 'facing': 'E', 'turn': 'R'}\n",
      "\n",
      "/---\\        \n",
      "|   |  /--<-\\\n",
      "| /-+--+->  |\n",
      "| | |  | |  |\n",
      "\\-+-/  \\-+--/\n",
      "  \\------/   \n",
      "{'loc': (10, 1), 'facing': 'W', 'turn': 'F'}\n",
      "{'loc': (9, 2), 'facing': 'E', 'turn': 'R'}\n",
      "\n",
      "/---\\        \n",
      "|   |  /-<--\\\n",
      "| /-+--+-\\  |\n",
      "| | |  | v  |\n",
      "\\-+-/  \\-+--/\n",
      "  \\------/   \n",
      "{'loc': (9, 1), 'facing': 'W', 'turn': 'F'}\n",
      "{'loc': (9, 3), 'facing': 'S', 'turn': 'R'}\n",
      "\n",
      "/---\\        \n",
      "|   |  /<---\\\n",
      "| /-+--+-\\  |\n",
      "| | |  | |  |\n",
      "\\-+-/  \\-v--/\n",
      "  \\------/   \n",
      "{'loc': (8, 1), 'facing': 'W', 'turn': 'F'}\n",
      "{'loc': (9, 4), 'facing': 'S', 'turn': 'R'}\n",
      "\n",
      "/---\\        \n",
      "|   |  <----\\\n",
      "| /-+--+-\\  |\n",
      "| | |  | |  |\n",
      "\\-+-/  \\<+--/\n",
      "  \\------/   \n",
      "{'loc': (7, 1), 'facing': 'W', 'turn': 'F'}\n",
      "{'loc': (8, 4), 'facing': 'W', 'turn': 'L'}\n",
      "\n",
      "/---\\        \n",
      "|   |  /----\\\n",
      "| /-+--v-\\  |\n",
      "| | |  | |  |\n",
      "\\-+-/  <-+--/\n",
      "  \\------/   \n",
      "{'loc': (7, 2), 'facing': 'S', 'turn': 'F'}\n",
      "{'loc': (7, 4), 'facing': 'W', 'turn': 'L'}\n",
      "\n",
      "Collide at (7, 3)\n"
     ]
    }
   ],
   "source": [
    "s_dict=build_initial_state(test_input_str)\n",
    "\n",
    "mc=lambda x:move_carts(s_dict['map'], x)\n",
    "carts_ls=s_dict['carts']\n",
    "\n",
    "for i in range(15):\n",
    "    display(s_dict['map'], carts_ls)\n",
    "    for c in carts_ls:\n",
    "        print(c)\n",
    "    print()\n",
    "    \n",
    "    carts_ls=mc(carts_ls)\n",
    "    if type(carts_ls)==tuple:\n",
    "        print('Collide at {}'.format(carts_ls))\n",
    "        break"
   ]
  },
  {
   "cell_type": "markdown",
   "metadata": {},
   "source": [
    "OK, and now do it with our input:"
   ]
  },
  {
   "cell_type": "code",
   "execution_count": 11,
   "metadata": {},
   "outputs": [],
   "source": [
    "puzzle_input_str=open('inputs/day13').read()"
   ]
  },
  {
   "cell_type": "code",
   "execution_count": 12,
   "metadata": {},
   "outputs": [
    {
     "name": "stdout",
     "output_type": "stream",
     "text": [
      "Collide at (38, 57)\n"
     ]
    }
   ],
   "source": [
    "s_dict=build_initial_state(puzzle_input_str)\n",
    "\n",
    "carts_ls=s_dict['carts']\n",
    "\n",
    "while True:\n",
    "    carts_ls=move_carts(s_dict['map'], carts_ls)\n",
    "    if type(carts_ls)==tuple:\n",
    "        print('Collide at {}'.format(carts_ls))\n",
    "        break"
   ]
  },
  {
   "cell_type": "markdown",
   "metadata": {},
   "source": [
    "Correct."
   ]
  },
  {
   "cell_type": "markdown",
   "metadata": {},
   "source": [
    "## Part 2"
   ]
  },
  {
   "cell_type": "markdown",
   "metadata": {},
   "source": [
    "Right, let's assume that we can just leave it running and see what happens."
   ]
  },
  {
   "cell_type": "markdown",
   "metadata": {},
   "source": [
    "To run this problem, we (just?) need to remove the carts when they collide. So we need an updated version of `move_carts`:"
   ]
  },
  {
   "cell_type": "code",
   "execution_count": 13,
   "metadata": {},
   "outputs": [],
   "source": [
    "def move_carts_1(map_in, carts_ls):\n",
    "    carts_out=[]\n",
    "    for cart in sorted(carts_ls, key=lambda x:(x['loc'][1], x['loc'][0])):\n",
    "        crash=False\n",
    "        for (i, c) in enumerate(carts_out):\n",
    "            if c['loc']==cart['loc']:\n",
    "                carts_out.pop(i)\n",
    "                crash=True\n",
    "        cart1=move_cart(map_in, cart)\n",
    "        if not crash:\n",
    "            for (i, c) in enumerate(carts_out):\n",
    "                if c['loc']==cart1['loc']:\n",
    "                    carts_out.pop(i)\n",
    "                    crash=True\n",
    "        if not crash:\n",
    "            carts_out.append(cart1)\n",
    "    return carts_out"
   ]
  },
  {
   "cell_type": "code",
   "execution_count": 14,
   "metadata": {
    "collapsed": true
   },
   "outputs": [],
   "source": [
    "test_input_2_str=r'''/>-<\\  \n",
    "|   |  \n",
    "| /<+-\\\n",
    "| | | v\n",
    "\\>+</ |\n",
    "  |   ^\n",
    "  \\<->/'''"
   ]
  },
  {
   "cell_type": "code",
   "execution_count": 15,
   "metadata": {},
   "outputs": [
    {
     "name": "stdout",
     "output_type": "stream",
     "text": [
      "/>-<\\  \n",
      "|   |  \n",
      "| /<+-\\\n",
      "| | | v\n",
      "\\>+</ |\n",
      "  |   ^\n",
      "  \\<->/\n"
     ]
    }
   ],
   "source": [
    "s_dict=build_initial_state(test_input_2_str)\n",
    "\n",
    "display(s_dict['map'], s_dict['carts'])"
   ]
  },
  {
   "cell_type": "code",
   "execution_count": 16,
   "metadata": {},
   "outputs": [
    {
     "name": "stdout",
     "output_type": "stream",
     "text": [
      "/---\\  \n",
      "|   |  \n",
      "| <-+-\\\n",
      "| | | |\n",
      "\\-+-/ |\n",
      "  |   |\n",
      "  <--->\n"
     ]
    }
   ],
   "source": [
    "display(s_dict['map'], move_carts_1(s_dict['map'], s_dict['carts']))"
   ]
  },
  {
   "cell_type": "code",
   "execution_count": 17,
   "metadata": {},
   "outputs": [
    {
     "name": "stdout",
     "output_type": "stream",
     "text": [
      "/---\\  \n",
      "|   |  \n",
      "| /-+-\\\n",
      "| v | |\n",
      "\\-+-/ |\n",
      "  ^   ^\n",
      "  \\---/\n"
     ]
    }
   ],
   "source": [
    "display(s_dict['map'], move_carts_1(s_dict['map'], move_carts_1(s_dict['map'], s_dict['carts'])))"
   ]
  },
  {
   "cell_type": "code",
   "execution_count": 18,
   "metadata": {},
   "outputs": [
    {
     "name": "stdout",
     "output_type": "stream",
     "text": [
      "/---\\  \n",
      "|   |  \n",
      "| /-+-\\\n",
      "| | | |\n",
      "\\-+-/ ^\n",
      "  |   |\n",
      "  \\---/\n"
     ]
    }
   ],
   "source": [
    "display(s_dict['map'], move_carts_1(s_dict['map'], move_carts_1(s_dict['map'], move_carts_1(s_dict['map'], s_dict['carts']))))"
   ]
  },
  {
   "cell_type": "markdown",
   "metadata": {},
   "source": [
    "That seems to be working OK. So we want a loop that terminates when there's only one cart left."
   ]
  },
  {
   "cell_type": "code",
   "execution_count": 19,
   "metadata": {},
   "outputs": [
    {
     "data": {
      "text/plain": [
       "(6, 4)"
      ]
     },
     "execution_count": 19,
     "metadata": {},
     "output_type": "execute_result"
    }
   ],
   "source": [
    "s_dict=build_initial_state(test_input_2_str)\n",
    "\n",
    "carts_ls=s_dict['carts']\n",
    "\n",
    "while len(carts_ls)>1:\n",
    "    carts_ls=move_carts_1(s_dict['map'], carts_ls)\n",
    "    \n",
    "carts_ls[0]['loc']"
   ]
  },
  {
   "cell_type": "markdown",
   "metadata": {},
   "source": [
    "Works on the test case. How about the puzzle input? I'll just get it to print when the number of carts is reduced."
   ]
  },
  {
   "cell_type": "code",
   "execution_count": 20,
   "metadata": {},
   "outputs": [
    {
     "name": "stdout",
     "output_type": "stream",
     "text": [
      "210\t17\n",
      "286\t15\n",
      "546\t13\n",
      "557\t11\n",
      "889\t9\n",
      "2110\t7\n",
      "2970\t5\n",
      "15207\t3\n"
     ]
    },
    {
     "data": {
      "text/plain": [
       "(4, 92)"
      ]
     },
     "execution_count": 20,
     "metadata": {},
     "output_type": "execute_result"
    }
   ],
   "source": [
    "s_dict=build_initial_state(puzzle_input_str)\n",
    "\n",
    "i=0\n",
    "\n",
    "carts_ls=s_dict['carts']\n",
    "\n",
    "l=len(carts_ls)\n",
    "\n",
    "while len(carts_ls)>1:\n",
    "    carts_ls=move_carts_1(s_dict['map'], carts_ls)\n",
    "    if len(carts_ls)<l:\n",
    "        print('{}\\t{}'.format(i, l))\n",
    "        l=len(carts_ls)\n",
    "    i+=1\n",
    "    \n",
    "carts_ls[0]['loc']"
   ]
  },
  {
   "cell_type": "markdown",
   "metadata": {},
   "source": [
    "Correct. And runs quicker than I was expecting."
   ]
  }
 ],
 "metadata": {
  "kernelspec": {
   "display_name": "Python 3",
   "language": "python",
   "name": "python3"
  },
  "language_info": {
   "codemirror_mode": {
    "name": "ipython",
    "version": 3
   },
   "file_extension": ".py",
   "mimetype": "text/x-python",
   "name": "python",
   "nbconvert_exporter": "python",
   "pygments_lexer": "ipython3",
   "version": "3.6.1"
  }
 },
 "nbformat": 4,
 "nbformat_minor": 2
}
