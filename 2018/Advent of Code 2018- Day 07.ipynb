{
 "cells": [
  {
   "cell_type": "markdown",
   "metadata": {},
   "source": [
    "Merry Christmas everyone! \n",
    "\n",
    "[Advent of Code day 7](http://adventofcode.com/2018/day/7)"
   ]
  },
  {
   "cell_type": "markdown",
   "metadata": {},
   "source": [
    "## Part 1"
   ]
  },
  {
   "cell_type": "markdown",
   "metadata": {},
   "source": [
    "Probably easiest to create a `dict` of the prerequisites, and then choose the next alphabetical step which doesn't have any outstanding prerequisites."
   ]
  },
  {
   "cell_type": "code",
   "execution_count": 1,
   "metadata": {
    "collapsed": true
   },
   "outputs": [],
   "source": [
    "import re"
   ]
  },
  {
   "cell_type": "markdown",
   "metadata": {},
   "source": [
    "Now create an re that matches against any of the steps:"
   ]
  },
  {
   "cell_type": "code",
   "execution_count": 2,
   "metadata": {
    "collapsed": true
   },
   "outputs": [],
   "source": [
    "step_re=re.compile('Step (\\w) must be finished before step (\\w) can begin.')"
   ]
  },
  {
   "cell_type": "code",
   "execution_count": 3,
   "metadata": {
    "collapsed": true
   },
   "outputs": [],
   "source": [
    "test_input_str='''\n",
    "Step C must be finished before step A can begin.\n",
    "Step C must be finished before step F can begin.\n",
    "Step A must be finished before step B can begin.\n",
    "Step A must be finished before step D can begin.\n",
    "Step B must be finished before step E can begin.\n",
    "Step D must be finished before step E can begin.\n",
    "Step F must be finished before step E can begin.\n",
    "'''"
   ]
  },
  {
   "cell_type": "code",
   "execution_count": 4,
   "metadata": {
    "collapsed": true
   },
   "outputs": [],
   "source": [
    "input_str=test_input_str"
   ]
  },
  {
   "cell_type": "markdown",
   "metadata": {},
   "source": [
    "We should be able to use a `.findall` to identify each of the steps:"
   ]
  },
  {
   "cell_type": "code",
   "execution_count": 5,
   "metadata": {},
   "outputs": [
    {
     "data": {
      "text/plain": [
       "[('C', 'A'),\n",
       " ('C', 'F'),\n",
       " ('A', 'B'),\n",
       " ('A', 'D'),\n",
       " ('B', 'E'),\n",
       " ('D', 'E'),\n",
       " ('F', 'E')]"
      ]
     },
     "execution_count": 5,
     "metadata": {},
     "output_type": "execute_result"
    }
   ],
   "source": [
    "step_re.findall(input_str)"
   ]
  },
  {
   "cell_type": "markdown",
   "metadata": {},
   "source": [
    "And add to a dictionary of prerequisites:"
   ]
  },
  {
   "cell_type": "code",
   "execution_count": 6,
   "metadata": {},
   "outputs": [
    {
     "data": {
      "text/plain": [
       "{'A': {'C'},\n",
       " 'B': {'A'},\n",
       " 'C': set(),\n",
       " 'D': {'A'},\n",
       " 'E': {'B', 'D', 'F'},\n",
       " 'F': {'C'}}"
      ]
     },
     "execution_count": 6,
     "metadata": {},
     "output_type": "execute_result"
    }
   ],
   "source": [
    "prereq_dict={}\n",
    "\n",
    "for (dependency, step) in step_re.findall(input_str):\n",
    "\n",
    "    # Minor hack to ensure that all steps are contained:\n",
    "    if dependency not in prereq_dict:\n",
    "        prereq_dict[dependency]=set()\n",
    "    if step not in prereq_dict:\n",
    "        prereq_dict[step]=set()\n",
    "    \n",
    "    # Add the actual dependency\n",
    "    prereq_dict[step].add(dependency)\n",
    "\n",
    "prereq_dict"
   ]
  },
  {
   "cell_type": "markdown",
   "metadata": {},
   "source": [
    "Loop through the dict. At each stage, carry out the step which is first alphabetically of those which have no remaining prerequisites."
   ]
  },
  {
   "cell_type": "code",
   "execution_count": 7,
   "metadata": {
    "collapsed": true
   },
   "outputs": [],
   "source": [
    "out=''\n",
    "\n",
    "while prereq_dict:\n",
    "    # Get next step\n",
    "    next_step=sorted([k for k in prereq_dict if not prereq_dict[k]])[0]\n",
    "\n",
    "    # Remove the next step from the queue:\n",
    "    prereq_dict.pop(next_step)\n",
    "\n",
    "    # Remove from prerequisites\n",
    "    for k in prereq_dict:\n",
    "        if next_step in prereq_dict[k]:\n",
    "            prereq_dict[k].remove(next_step)\n",
    "            \n",
    "    # Add to the output\n",
    "    out+=next_step"
   ]
  },
  {
   "cell_type": "code",
   "execution_count": 8,
   "metadata": {
    "collapsed": true
   },
   "outputs": [],
   "source": [
    "assert out=='CABDFE'"
   ]
  },
  {
   "cell_type": "markdown",
   "metadata": {},
   "source": [
    "Should be OK. Try for the puzzle input."
   ]
  },
  {
   "cell_type": "code",
   "execution_count": 9,
   "metadata": {},
   "outputs": [
    {
     "data": {
      "text/plain": [
       "'GKCNPTVHIRYDUJMSXFBQLOAEWZ'"
      ]
     },
     "execution_count": 9,
     "metadata": {},
     "output_type": "execute_result"
    }
   ],
   "source": [
    "prereq_dict={}\n",
    "\n",
    "for (dependency, step) in step_re.findall(open('inputs/day7').read()):\n",
    "\n",
    "    # Minor hack to ensure that all steps are contained:\n",
    "    if dependency not in prereq_dict:\n",
    "        prereq_dict[dependency]=set()\n",
    "    if step not in prereq_dict:\n",
    "        prereq_dict[step]=set()\n",
    "    \n",
    "    # Add the actual dependency\n",
    "    prereq_dict[step].add(dependency)\n",
    "\n",
    "out=''\n",
    "\n",
    "while prereq_dict:\n",
    "    # Get next step\n",
    "    next_step=sorted([k for k in prereq_dict if not prereq_dict[k]])[0]\n",
    "\n",
    "    # Remove the next step from the queue:\n",
    "    prereq_dict.pop(next_step)\n",
    "\n",
    "    # Remove from prerequisites\n",
    "    for k in prereq_dict:\n",
    "        if next_step in prereq_dict[k]:\n",
    "            prereq_dict[k].remove(next_step)\n",
    "            \n",
    "    # Add to the output\n",
    "    out+=next_step\n",
    "    \n",
    "out\n"
   ]
  },
  {
   "cell_type": "markdown",
   "metadata": {},
   "source": [
    "## Part 2"
   ]
  },
  {
   "cell_type": "markdown",
   "metadata": {},
   "source": [
    "I don't know whether this is a search task. Let's start on the assumption that we can just work on the tasks in alphabetical order again."
   ]
  },
  {
   "cell_type": "markdown",
   "metadata": {},
   "source": [
    "At each stage, there are a number of options:\n",
    "\n",
    "1. Assign a worker to a task\n",
    "2. Work on the task for one second\n",
    "3. Take a worker off a completed task\n",
    "\n",
    "Let's say that the state at any given time consists of:\n",
    "\n",
    "1. The current time\n",
    "2. The available workers\n",
    "3. The ongoing tasks, with\n",
    "    - the task ID\n",
    "    - the time remaining on that task\n",
    "    - the worker working on that task\n",
    "4. The dictionary of prerequisites\n",
    "\n",
    "Much as I hate OO programming, and even more python's horrible excuse for objects, I hate inplace functions even more, so let's create an object >:-(. This is where I'd go over to a sensible language if this was a serious task."
   ]
  },
  {
   "cell_type": "code",
   "execution_count": 10,
   "metadata": {
    "collapsed": true
   },
   "outputs": [],
   "source": [
    "class State():\n",
    "    \n",
    "    def __init__(self,\n",
    "                 input_str,\n",
    "                 time_offset=60,\n",
    "                 workers=set([1,2,3,4,5])):\n",
    "        step_re=re.compile('Step (\\w) must be finished before step (\\w) can begin.')\n",
    "        \n",
    "        for (dependency, step) in step_re.findall(input_str):\n",
    "            # Minor hack to ensure that all steps are contained:\n",
    "            if dependency not in prereq_dict:\n",
    "                prereq_dict[dependency]=set()\n",
    "            if step not in prereq_dict:\n",
    "                prereq_dict[step]=set()\n",
    "\n",
    "            # Add the actual dependency\n",
    "            prereq_dict[step].add(dependency)\n",
    "            \n",
    "        self.my_prereqs=prereq_dict\n",
    "            \n",
    "        self.my_time_offset=time_offset\n",
    "        self.my_available_workers=workers\n",
    "        self.my_time=0\n",
    "        self.my_ongoing_tasks=[]\n",
    "\n",
    "        self.my_completed_tasks=[]\n",
    "        return None\n",
    "\n",
    "    def complete(self):\n",
    "        if self.my_prereqs or self.my_ongoing_tasks:\n",
    "            return False\n",
    "        else:\n",
    "            return True\n",
    "\n",
    "    def to_dict(self):\n",
    "        'For ease of viewing'\n",
    "        return {'time':self.my_time,\n",
    "                'schedule':self.my_prereqs,\n",
    "                'available workers':self.my_available_workers,\n",
    "                'ongoing tasks':self.my_ongoing_tasks,\n",
    "                'completed tasks':self.my_completed_tasks}\n",
    "    \n",
    "    def assign_task(self):\n",
    "        '''Assigns a worker to the next task. Return False if no\n",
    "           available tasks or workers, True otherwise.'''\n",
    "            # If no available workers, return None\n",
    "        if not self.my_available_workers:\n",
    "            return False\n",
    "        # Find next available task:\n",
    "        next_tasks=sorted([k for k in self.my_prereqs if not self.my_prereqs[k]])\n",
    "        if not next_tasks:\n",
    "            return False\n",
    "        else:\n",
    "            next_task=next_tasks[0]\n",
    "\n",
    "        # Add the next task with an assigned worker to the ongoing tasks\n",
    "        self.my_prereqs.pop(next_task)\n",
    "        assigned_worker=self.my_available_workers.pop()\n",
    "        self.my_ongoing_tasks.append({'task':next_task,\n",
    "                                      'assigned worker':assigned_worker,\n",
    "                                      'time remaining':self.my_time_offset + ord(next_task) -ord('A')+1})\n",
    "\n",
    "        return True\n",
    "    \n",
    "    def tick(self):\n",
    "        '''Advance the state by one second'''\n",
    "        # First, need to reduce the required times in the\n",
    "        # ongoing tasks by 1 second\n",
    "        self.my_time+=1\n",
    "        for t in self.my_ongoing_tasks:\n",
    "            t['time remaining'] -= 1\n",
    "            \n",
    "        # Then for any completed tasks, need to\n",
    "        # remove the task from the list, release\n",
    "        # the worker, complete any prereq. info, and\n",
    "        # add the completed task to the output.\n",
    "        for t in self.my_ongoing_tasks:\n",
    "            if t['time remaining']==0:\n",
    "                self.my_available_workers.add(t['assigned worker'])\n",
    "                self.my_completed_tasks.append(t['task'])\n",
    "                self.my_ongoing_tasks.remove(t)\n",
    "                for p in self.my_prereqs:\n",
    "                    if t['task'] in self.my_prereqs[p]:\n",
    "                        self.my_prereqs[p].remove(t['task'])\n",
    "        return True\n"
   ]
  },
  {
   "cell_type": "markdown",
   "metadata": {},
   "source": [
    "Good, now check with five workers, the given offset and the puzzle input:"
   ]
  },
  {
   "cell_type": "code",
   "execution_count": 11,
   "metadata": {},
   "outputs": [
    {
     "data": {
      "text/plain": [
       "1265"
      ]
     },
     "execution_count": 11,
     "metadata": {},
     "output_type": "execute_result"
    }
   ],
   "source": [
    "s=State(open('inputs/day7').read(), workers={1, 2, 3, 4, 5}, time_offset=60)\n",
    "\n",
    "while not s.complete():\n",
    "    if s.assign_task():\n",
    "        pass\n",
    "    else:\n",
    "        s.tick()\n",
    "\n",
    "s.to_dict()['time']"
   ]
  }
 ],
 "metadata": {
  "kernelspec": {
   "display_name": "Python 3",
   "language": "python",
   "name": "python3"
  },
  "language_info": {
   "codemirror_mode": {
    "name": "ipython",
    "version": 3
   },
   "file_extension": ".py",
   "mimetype": "text/x-python",
   "name": "python",
   "nbconvert_exporter": "python",
   "pygments_lexer": "ipython3",
   "version": "3.6.1"
  }
 },
 "nbformat": 4,
 "nbformat_minor": 2
}
