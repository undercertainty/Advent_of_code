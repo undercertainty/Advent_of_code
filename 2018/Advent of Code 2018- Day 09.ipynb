{
 "cells": [
  {
   "cell_type": "markdown",
   "metadata": {},
   "source": [
    "Merry Christmas everyone! \n",
    "\n",
    "[Advent of Code day 9](http://adventofcode.com/2018/day/9)"
   ]
  },
  {
   "cell_type": "code",
   "execution_count": 1,
   "metadata": {
    "collapsed": true
   },
   "outputs": [],
   "source": [
    "import itertools as it\n",
    "from collections import defaultdict, deque"
   ]
  },
  {
   "cell_type": "markdown",
   "metadata": {},
   "source": [
    "## Part 1"
   ]
  },
  {
   "cell_type": "markdown",
   "metadata": {},
   "source": [
    "OK, seems that we need the circle, the available marbles, the score for each elf, the current marble, and the current elf."
   ]
  },
  {
   "cell_type": "markdown",
   "metadata": {},
   "source": [
    "Looks very much like a `deque`."
   ]
  },
  {
   "cell_type": "code",
   "execution_count": 2,
   "metadata": {
    "collapsed": true
   },
   "outputs": [],
   "source": [
    "# Test data\n",
    "\n",
    "number_of_players=10\n",
    "number_of_marbles=25"
   ]
  },
  {
   "cell_type": "code",
   "execution_count": 3,
   "metadata": {},
   "outputs": [
    {
     "data": {
      "text/plain": [
       "deque([0])"
      ]
     },
     "execution_count": 3,
     "metadata": {},
     "output_type": "execute_result"
    }
   ],
   "source": [
    "s=deque([0])\n",
    "s"
   ]
  },
  {
   "cell_type": "markdown",
   "metadata": {},
   "source": [
    "Next state is to place the next marble between 1 and 2 marbles clockwise. If we assume that the current marble is the one at the leftmost side of the `deque`, then we need to cycle the `deque` through -2, and then add to the left:"
   ]
  },
  {
   "cell_type": "code",
   "execution_count": 4,
   "metadata": {},
   "outputs": [
    {
     "data": {
      "text/plain": [
       "deque([9, 2, 5, 1, 6, 3, 7, 0, 8, 4])"
      ]
     },
     "execution_count": 4,
     "metadata": {},
     "output_type": "execute_result"
    }
   ],
   "source": [
    "s=deque([0])\n",
    "\n",
    "for marble in range(1, 10):\n",
    "    s.rotate(-2)\n",
    "    s.appendleft(marble)\n",
    "    \n",
    "s"
   ]
  },
  {
   "cell_type": "markdown",
   "metadata": {},
   "source": [
    "That looks OK. Now, if the marble's value is divisible by 23, then we remove the marble 7 steps *anti*-clockwise:"
   ]
  },
  {
   "cell_type": "code",
   "execution_count": 5,
   "metadata": {},
   "outputs": [
    {
     "name": "stdout",
     "output_type": "stream",
     "text": [
      "deque([1, 0])\n",
      "deque([2, 1, 0])\n",
      "deque([3, 0, 2, 1])\n",
      "deque([4, 2, 1, 3, 0])\n",
      "deque([5, 1, 3, 0, 4, 2])\n",
      "deque([6, 3, 0, 4, 2, 5, 1])\n",
      "deque([7, 0, 4, 2, 5, 1, 6, 3])\n",
      "deque([8, 4, 2, 5, 1, 6, 3, 7, 0])\n",
      "deque([9, 2, 5, 1, 6, 3, 7, 0, 8, 4])\n",
      "deque([10, 5, 1, 6, 3, 7, 0, 8, 4, 9, 2])\n",
      "deque([11, 1, 6, 3, 7, 0, 8, 4, 9, 2, 10, 5])\n",
      "deque([12, 6, 3, 7, 0, 8, 4, 9, 2, 10, 5, 11, 1])\n",
      "deque([13, 3, 7, 0, 8, 4, 9, 2, 10, 5, 11, 1, 12, 6])\n",
      "deque([14, 7, 0, 8, 4, 9, 2, 10, 5, 11, 1, 12, 6, 13, 3])\n",
      "deque([15, 0, 8, 4, 9, 2, 10, 5, 11, 1, 12, 6, 13, 3, 14, 7])\n",
      "deque([16, 8, 4, 9, 2, 10, 5, 11, 1, 12, 6, 13, 3, 14, 7, 15, 0])\n",
      "deque([17, 4, 9, 2, 10, 5, 11, 1, 12, 6, 13, 3, 14, 7, 15, 0, 16, 8])\n",
      "deque([18, 9, 2, 10, 5, 11, 1, 12, 6, 13, 3, 14, 7, 15, 0, 16, 8, 17, 4])\n",
      "deque([19, 2, 10, 5, 11, 1, 12, 6, 13, 3, 14, 7, 15, 0, 16, 8, 17, 4, 18, 9])\n",
      "deque([20, 10, 5, 11, 1, 12, 6, 13, 3, 14, 7, 15, 0, 16, 8, 17, 4, 18, 9, 19, 2])\n",
      "deque([21, 5, 11, 1, 12, 6, 13, 3, 14, 7, 15, 0, 16, 8, 17, 4, 18, 9, 19, 2, 20, 10])\n",
      "deque([22, 11, 1, 12, 6, 13, 3, 14, 7, 15, 0, 16, 8, 17, 4, 18, 9, 19, 2, 20, 10, 21, 5])\n",
      "deque([19, 2, 20, 10, 21, 5, 22, 11, 1, 12, 6, 13, 3, 14, 7, 15, 0, 16, 8, 17, 4, 18])\n",
      "deque([24, 20, 10, 21, 5, 22, 11, 1, 12, 6, 13, 3, 14, 7, 15, 0, 16, 8, 17, 4, 18, 19, 2])\n",
      "deque([25, 10, 21, 5, 22, 11, 1, 12, 6, 13, 3, 14, 7, 15, 0, 16, 8, 17, 4, 18, 19, 2, 24, 20])\n"
     ]
    }
   ],
   "source": [
    "s=deque([0])\n",
    "\n",
    "for marble in range(1, 26):\n",
    "    if not marble%23:\n",
    "        s.rotate(7)\n",
    "        s.popleft()\n",
    "    else:\n",
    "        s.rotate(-2)\n",
    "        s.appendleft(marble)\n",
    "        \n",
    "    print(s)"
   ]
  },
  {
   "cell_type": "markdown",
   "metadata": {},
   "source": [
    "OK, that seems to be working. Now just need to add the scores. We can say that the current player is just the number of the marble modulo the number of players."
   ]
  },
  {
   "cell_type": "code",
   "execution_count": 6,
   "metadata": {},
   "outputs": [
    {
     "name": "stdout",
     "output_type": "stream",
     "text": [
      "deque([1, 0])\n",
      "deque([2, 1, 0])\n",
      "deque([3, 0, 2, 1])\n",
      "deque([4, 2, 1, 3, 0])\n",
      "deque([5, 1, 3, 0, 4, 2])\n",
      "deque([6, 3, 0, 4, 2, 5, 1])\n",
      "deque([7, 0, 4, 2, 5, 1, 6, 3])\n",
      "deque([8, 4, 2, 5, 1, 6, 3, 7, 0])\n",
      "deque([9, 2, 5, 1, 6, 3, 7, 0, 8, 4])\n",
      "deque([10, 5, 1, 6, 3, 7, 0, 8, 4, 9, 2])\n",
      "deque([11, 1, 6, 3, 7, 0, 8, 4, 9, 2, 10, 5])\n",
      "deque([12, 6, 3, 7, 0, 8, 4, 9, 2, 10, 5, 11, 1])\n",
      "deque([13, 3, 7, 0, 8, 4, 9, 2, 10, 5, 11, 1, 12, 6])\n",
      "deque([14, 7, 0, 8, 4, 9, 2, 10, 5, 11, 1, 12, 6, 13, 3])\n",
      "deque([15, 0, 8, 4, 9, 2, 10, 5, 11, 1, 12, 6, 13, 3, 14, 7])\n",
      "deque([16, 8, 4, 9, 2, 10, 5, 11, 1, 12, 6, 13, 3, 14, 7, 15, 0])\n",
      "deque([17, 4, 9, 2, 10, 5, 11, 1, 12, 6, 13, 3, 14, 7, 15, 0, 16, 8])\n",
      "deque([18, 9, 2, 10, 5, 11, 1, 12, 6, 13, 3, 14, 7, 15, 0, 16, 8, 17, 4])\n",
      "deque([19, 2, 10, 5, 11, 1, 12, 6, 13, 3, 14, 7, 15, 0, 16, 8, 17, 4, 18, 9])\n",
      "deque([20, 10, 5, 11, 1, 12, 6, 13, 3, 14, 7, 15, 0, 16, 8, 17, 4, 18, 9, 19, 2])\n",
      "deque([21, 5, 11, 1, 12, 6, 13, 3, 14, 7, 15, 0, 16, 8, 17, 4, 18, 9, 19, 2, 20, 10])\n",
      "deque([22, 11, 1, 12, 6, 13, 3, 14, 7, 15, 0, 16, 8, 17, 4, 18, 9, 19, 2, 20, 10, 21, 5])\n",
      "deque([19, 2, 20, 10, 21, 5, 22, 11, 1, 12, 6, 13, 3, 14, 7, 15, 0, 16, 8, 17, 4, 18])\n",
      "deque([24, 20, 10, 21, 5, 22, 11, 1, 12, 6, 13, 3, 14, 7, 15, 0, 16, 8, 17, 4, 18, 19, 2])\n",
      "deque([25, 10, 21, 5, 22, 11, 1, 12, 6, 13, 3, 14, 7, 15, 0, 16, 8, 17, 4, 18, 19, 2, 24, 20])\n"
     ]
    },
    {
     "data": {
      "text/plain": [
       "32"
      ]
     },
     "execution_count": 6,
     "metadata": {},
     "output_type": "execute_result"
    }
   ],
   "source": [
    "number_of_players=10\n",
    "number_of_marbles=25\n",
    "\n",
    "s=deque([0])\n",
    "scores=defaultdict(int)\n",
    "\n",
    "for marble in range(1, number_of_marbles+1):\n",
    "    if not marble%23:\n",
    "        scores[marble%number_of_players]+=marble\n",
    "        s.rotate(7)\n",
    "        scores[marble%number_of_players]+=s.popleft()\n",
    "    else:\n",
    "        s.rotate(-2)\n",
    "        s.appendleft(marble)\n",
    "        \n",
    "    print(s)\n",
    "\n",
    "max(scores.values())"
   ]
  },
  {
   "cell_type": "markdown",
   "metadata": {},
   "source": [
    "OK, wrap in a function to make the testing easier:"
   ]
  },
  {
   "cell_type": "code",
   "execution_count": 7,
   "metadata": {
    "collapsed": true
   },
   "outputs": [],
   "source": [
    "def find_max_score(number_of_players, number_of_marbles):\n",
    "\n",
    "    s=deque([0])\n",
    "    scores=defaultdict(int)\n",
    "\n",
    "    for marble in range(1, number_of_marbles+1):\n",
    "        if not marble%23:\n",
    "            scores[marble%number_of_players]+=marble\n",
    "            s.rotate(7)\n",
    "            scores[marble%number_of_players]+=s.popleft()\n",
    "        else:\n",
    "            s.rotate(-2)\n",
    "            s.appendleft(marble)\n",
    "\n",
    "    return max(scores.values())\n"
   ]
  },
  {
   "cell_type": "code",
   "execution_count": 8,
   "metadata": {
    "collapsed": true
   },
   "outputs": [],
   "source": [
    "assert find_max_score(10, 25)==32\n",
    "assert find_max_score(10, 1618)==8317\n",
    "assert find_max_score(13, 7999)==146373\n",
    "assert find_max_score(17, 1104)==2764\n",
    "assert find_max_score(21, 6111)==54718\n",
    "assert find_max_score(30, 5807)==37305"
   ]
  },
  {
   "cell_type": "markdown",
   "metadata": {},
   "source": [
    "Cool, that all seems to be working. Now, my puzzle input is:"
   ]
  },
  {
   "cell_type": "raw",
   "metadata": {},
   "source": [
    "478 players; last marble is worth 71240 points"
   ]
  },
  {
   "cell_type": "code",
   "execution_count": 9,
   "metadata": {},
   "outputs": [
    {
     "data": {
      "text/plain": [
       "375465"
      ]
     },
     "execution_count": 9,
     "metadata": {},
     "output_type": "execute_result"
    }
   ],
   "source": [
    "find_max_score(478, 71240)"
   ]
  },
  {
   "cell_type": "markdown",
   "metadata": {},
   "source": [
    "## Part 2"
   ]
  },
  {
   "cell_type": "markdown",
   "metadata": {},
   "source": [
    "First just have a go with the new values:"
   ]
  },
  {
   "cell_type": "code",
   "execution_count": 10,
   "metadata": {},
   "outputs": [
    {
     "data": {
      "text/plain": [
       "3037741441"
      ]
     },
     "execution_count": 10,
     "metadata": {},
     "output_type": "execute_result"
    }
   ],
   "source": [
    "find_max_score(478, 7124000)"
   ]
  },
  {
   "cell_type": "markdown",
   "metadata": {},
   "source": [
    "Oh, OK. Fine."
   ]
  }
 ],
 "metadata": {
  "kernelspec": {
   "display_name": "Python 3",
   "language": "python",
   "name": "python3"
  },
  "language_info": {
   "codemirror_mode": {
    "name": "ipython",
    "version": 3
   },
   "file_extension": ".py",
   "mimetype": "text/x-python",
   "name": "python",
   "nbconvert_exporter": "python",
   "pygments_lexer": "ipython3",
   "version": "3.6.1"
  }
 },
 "nbformat": 4,
 "nbformat_minor": 2
}
