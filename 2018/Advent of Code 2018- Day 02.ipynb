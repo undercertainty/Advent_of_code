{
 "cells": [
  {
   "cell_type": "markdown",
   "metadata": {},
   "source": [
    "Merry Christmas everyone! \n",
    "\n",
    "[Advent of Code day 2](http://adventofcode.com/2018/day/2)"
   ]
  },
  {
   "cell_type": "markdown",
   "metadata": {},
   "source": [
    "## Part 1"
   ]
  },
  {
   "cell_type": "markdown",
   "metadata": {},
   "source": [
    "We need to check whether a given input contains exactly two occurrences of a letter, and then exactly three. `Counter` in `collections` should be helpful here..."
   ]
  },
  {
   "cell_type": "code",
   "execution_count": 1,
   "metadata": {
    "collapsed": true
   },
   "outputs": [],
   "source": [
    "from collections import Counter"
   ]
  },
  {
   "cell_type": "code",
   "execution_count": 2,
   "metadata": {
    "collapsed": true
   },
   "outputs": [],
   "source": [
    "def contains_n(input, n):\n",
    "    '''\n",
    "    Return True if input contains two occurrences of a letter\n",
    "    '''\n",
    "    return n in Counter(input).values()"
   ]
  },
  {
   "cell_type": "markdown",
   "metadata": {},
   "source": [
    "Now for a given input, need to find the number of lines which are true for `n=2` and `n=3` and multiply them."
   ]
  },
  {
   "cell_type": "code",
   "execution_count": 3,
   "metadata": {},
   "outputs": [],
   "source": [
    "test_input='''\n",
    "    abcdef\n",
    "    bababc\n",
    "    abbcde\n",
    "    abcccd\n",
    "    aabcdd\n",
    "    abcdee\n",
    "    ababab \n",
    "    '''"
   ]
  },
  {
   "cell_type": "code",
   "execution_count": 4,
   "metadata": {},
   "outputs": [],
   "source": [
    "ti=test_input.split()\n",
    "\n",
    "assert (len([t for t in ti if contains_n(t, 2)]) * \\\n",
    "        len([t for t in ti if contains_n(t, 3)])) == 12"
   ]
  },
  {
   "cell_type": "code",
   "execution_count": 5,
   "metadata": {},
   "outputs": [
    {
     "name": "stdout",
     "output_type": "stream",
     "text": [
      "6888\n"
     ]
    }
   ],
   "source": [
    "with open('inputs/day2') as fIn:\n",
    "    ti=fIn.read().split()\n",
    "    \n",
    "    print(len([t for t in ti if contains_n(t, 2)]) *\n",
    "          len([t for t in ti if contains_n(t, 3)]))"
   ]
  },
  {
   "cell_type": "markdown",
   "metadata": {},
   "source": [
    "## Part 2"
   ]
  },
  {
   "cell_type": "markdown",
   "metadata": {},
   "source": [
    "There's probably a neater way of doing this, but here's a slightly hacky function:"
   ]
  },
  {
   "cell_type": "code",
   "execution_count": 6,
   "metadata": {},
   "outputs": [],
   "source": [
    "def differ_by_one(str_1, str_2):\n",
    "    '''If str_1 and str_2 differ by exactly 1 character, return\n",
    "       the index of that character. Otherwise return -1'''\n",
    "    d=-1\n",
    "    for (i, c) in enumerate(str_2):\n",
    "        if c!=str_1[i]:\n",
    "            if d==-1:\n",
    "                d=i\n",
    "            else:\n",
    "                return -1\n",
    "    return d\n",
    "            \n",
    "assert differ_by_one('fghij', 'fguij') >= 0\n",
    "assert differ_by_one('fghij', 'fghij') == -1\n",
    "assert differ_by_one('abcde', 'axcye') == -1"
   ]
  },
  {
   "cell_type": "markdown",
   "metadata": {},
   "source": [
    "Now do a pairwise comparison of the input:"
   ]
  },
  {
   "cell_type": "code",
   "execution_count": 7,
   "metadata": {},
   "outputs": [
    {
     "name": "stdout",
     "output_type": "stream",
     "text": [
      "icxjvbrobtunlelzpdmfkahgs\n",
      "icxjvbrobtunlelzpdmfkahgs\n"
     ]
    }
   ],
   "source": [
    "with open('inputs/day2') as fIn:\n",
    "    ti=fIn.read().split()\n",
    "    \n",
    "    for x in ti: \n",
    "        for y in ti:\n",
    "            i=differ_by_one(x, y)\n",
    "            if i != -1:\n",
    "                print(x[:i]+x[i+1:])\n"
   ]
  },
  {
   "cell_type": "markdown",
   "metadata": {},
   "source": [
    "Correct! Day 2 complete."
   ]
  }
 ],
 "metadata": {
  "kernelspec": {
   "display_name": "Python 3",
   "language": "python",
   "name": "python3"
  },
  "language_info": {
   "codemirror_mode": {
    "name": "ipython",
    "version": 3
   },
   "file_extension": ".py",
   "mimetype": "text/x-python",
   "name": "python",
   "nbconvert_exporter": "python",
   "pygments_lexer": "ipython3",
   "version": "3.6.1"
  }
 },
 "nbformat": 4,
 "nbformat_minor": 2
}
