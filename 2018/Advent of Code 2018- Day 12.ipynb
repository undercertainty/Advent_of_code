{
 "cells": [
  {
   "cell_type": "markdown",
   "metadata": {},
   "source": [
    "Merry Christmas everyone! \n",
    "\n",
    "[Advent of Code day 12](http://adventofcode.com/2018/day/12)"
   ]
  },
  {
   "cell_type": "code",
   "execution_count": 1,
   "metadata": {
    "collapsed": true
   },
   "outputs": [],
   "source": [
    "import numpy as np"
   ]
  },
  {
   "cell_type": "markdown",
   "metadata": {},
   "source": [
    "## Part 1"
   ]
  },
  {
   "cell_type": "code",
   "execution_count": 2,
   "metadata": {
    "collapsed": true
   },
   "outputs": [],
   "source": [
    "test_input_str='#..#.#..##......###...###'"
   ]
  },
  {
   "cell_type": "code",
   "execution_count": 3,
   "metadata": {},
   "outputs": [
    {
     "data": {
      "text/plain": [
       "{0, 3, 5, 8, 9, 16, 17, 18, 22, 23, 24}"
      ]
     },
     "execution_count": 3,
     "metadata": {},
     "output_type": "execute_result"
    }
   ],
   "source": [
    "initial_state_set={i for (i, c) in enumerate(test_input_str) if c=='#'}\n",
    "\n",
    "initial_state_set"
   ]
  },
  {
   "cell_type": "code",
   "execution_count": 4,
   "metadata": {
    "collapsed": true
   },
   "outputs": [],
   "source": [
    "test_rules_str='''\n",
    "...## => #\n",
    "..#.. => #\n",
    ".#... => #\n",
    ".#.#. => #\n",
    ".#.## => #\n",
    ".##.. => #\n",
    ".#### => #\n",
    "#.#.# => #\n",
    "#.### => #\n",
    "##.#. => #\n",
    "##.## => #\n",
    "###.. => #\n",
    "###.# => #\n",
    "####. => #\n",
    "'''"
   ]
  },
  {
   "cell_type": "code",
   "execution_count": 5,
   "metadata": {},
   "outputs": [
    {
     "data": {
      "text/plain": [
       "{(False, False, False, True, True),\n",
       " (False, False, True, False, False),\n",
       " (False, True, False, False, False),\n",
       " (False, True, False, True, False),\n",
       " (False, True, False, True, True),\n",
       " (False, True, True, False, False),\n",
       " (False, True, True, True, True),\n",
       " (True, False, True, False, True),\n",
       " (True, False, True, True, True),\n",
       " (True, True, False, True, False),\n",
       " (True, True, False, True, True),\n",
       " (True, True, True, False, False),\n",
       " (True, True, True, False, True),\n",
       " (True, True, True, True, False)}"
      ]
     },
     "execution_count": 5,
     "metadata": {},
     "output_type": "execute_result"
    }
   ],
   "source": [
    "rules_set=set()\n",
    "\n",
    "for c in test_rules_str.strip().splitlines():\n",
    "    rules_set.add((c[0]=='#',\n",
    "                   c[1]=='#',\n",
    "                   c[2]=='#',\n",
    "                   c[3]=='#',\n",
    "                   c[4]=='#'))\n",
    "\n",
    "rules_set"
   ]
  },
  {
   "cell_type": "code",
   "execution_count": 6,
   "metadata": {},
   "outputs": [],
   "source": [
    "def next_generation(state_in, rules):\n",
    "    out=set()\n",
    "    for i in range(min(state_in)-4, max(state_in)+4):\n",
    "        if (i-2 in state_in,\n",
    "            i-1 in state_in,\n",
    "            i in state_in,\n",
    "            i+1 in state_in,\n",
    "            i+2 in state_in) in rules:\n",
    "            out.add(i)\n",
    "    return out"
   ]
  },
  {
   "cell_type": "code",
   "execution_count": 7,
   "metadata": {},
   "outputs": [
    {
     "data": {
      "text/plain": [
       "{0, 4, 9, 15, 18, 21, 24}"
      ]
     },
     "execution_count": 7,
     "metadata": {},
     "output_type": "execute_result"
    }
   ],
   "source": [
    "next_generation(initial_state_set, rules_set)"
   ]
  },
  {
   "cell_type": "code",
   "execution_count": 8,
   "metadata": {},
   "outputs": [
    {
     "name": "stdout",
     "output_type": "stream",
     "text": [
      ".....#...#....#.....#..#..#..#...............\n",
      ".....##..##...##....#..#..#..##..............\n",
      "....#.#...#..#.#....#..#..#...#..............\n",
      ".....#.#..#...#.#...#..#..##..##.............\n",
      "......#...##...#.#..#..#...#...#.............\n",
      "......##.#.#....#...#..##..##..##............\n",
      ".....#..###.#...##..#...#...#...#............\n",
      ".....#....##.#.#.#..##..##..##..##...........\n",
      ".....##..#..#####....#...#...#...#...........\n",
      "....#.#..#...#.##....##..##..##..##..........\n",
      ".....#...##...#.#...#.#...#...#...#..........\n",
      ".....##.#.#....#.#...#.#..##..##..##.........\n",
      "....#..###.#....#.#...#....#...#...#.........\n",
      "....#....##.#....#.#..##...##..##..##........\n",
      "....##..#..#.#....#....#..#.#...#...#........\n",
      "...#.#..#...#.#...##...#...#.#..##..##.......\n",
      "....#...##...#.#.#.#...##...#....#...#.......\n",
      "....##.#.#....#####.#.#.#...##...##..##......\n",
      "...#..###.#..#.#.#######.#.#.#..#.#...#......\n",
      "...#....##....#####...#######....#.#..##.....\n"
     ]
    }
   ],
   "source": [
    "s={i for (i, c) in enumerate(test_input_str) if c=='#'}\n",
    "\n",
    "for i in range(20):\n",
    "    s=next_generation(s, rules_set)\n",
    "    print(''.join(['#' if t in s else '.' for t in range(-5, 40)]))"
   ]
  },
  {
   "cell_type": "markdown",
   "metadata": {},
   "source": [
    "Looks about right. So the answer should just be the sum in the final set:"
   ]
  },
  {
   "cell_type": "code",
   "execution_count": 9,
   "metadata": {},
   "outputs": [],
   "source": [
    "assert sum(s)==325"
   ]
  },
  {
   "cell_type": "markdown",
   "metadata": {},
   "source": [
    "OK, good. Now do the official input:"
   ]
  },
  {
   "cell_type": "code",
   "execution_count": 10,
   "metadata": {},
   "outputs": [
    {
     "name": "stdout",
     "output_type": "stream",
     "text": [
      "###..###....####.###...#..#...##...#..#....#.##.##.#..#.#..##.#####..######....#....##..#...#...#.#\n",
      "..#.# => #\n",
      "###.# => .\n",
      "#.#.# => .\n",
      ".#.#. => .\n",
      "##... => #\n",
      "...## => .\n",
      ".##.# => .\n",
      ".#... => #\n",
      "####. => #\n",
      "....# => .\n",
      ".##.. => #\n",
      ".#### => #\n",
      "..### => .\n",
      ".###. => #\n",
      "##### => #\n",
      "..#.. => #\n",
      "#..#. => .\n",
      "###.. => #\n",
      "#..## => #\n",
      "##.## => #\n",
      "##..# => .\n",
      ".#..# => #\n",
      "#.#.. => #\n",
      "#.### => #\n",
      "#.##. => #\n",
      "..... => .\n",
      ".#.## => #\n",
      "#...# => .\n",
      "...#. => #\n",
      "..##. => #\n",
      "##.#. => #\n",
      "#.... => .\n"
     ]
    }
   ],
   "source": [
    "with open('inputs/day12') as fIn:\n",
    "    puzzle_input_str=''.join([c for c in fIn.readline()\n",
    "                              if c=='.' or c=='#'])\n",
    "    puzzle_rules_str=fIn.read().strip()\n",
    "    \n",
    "    \n",
    "print(puzzle_input_str)\n",
    "\n",
    "print(puzzle_rules_str)"
   ]
  },
  {
   "cell_type": "markdown",
   "metadata": {},
   "source": [
    "To parse the official input, only want those cases with a '#' on the RHS:"
   ]
  },
  {
   "cell_type": "code",
   "execution_count": 11,
   "metadata": {},
   "outputs": [
    {
     "data": {
      "text/plain": [
       "{(False, False, False, True, False),\n",
       " (False, False, True, False, False),\n",
       " (False, False, True, False, True),\n",
       " (False, False, True, True, False),\n",
       " (False, True, False, False, False),\n",
       " (False, True, False, False, True),\n",
       " (False, True, False, True, True),\n",
       " (False, True, True, False, False),\n",
       " (False, True, True, True, False),\n",
       " (False, True, True, True, True),\n",
       " (True, False, False, True, True),\n",
       " (True, False, True, False, False),\n",
       " (True, False, True, True, False),\n",
       " (True, False, True, True, True),\n",
       " (True, True, False, False, False),\n",
       " (True, True, False, True, False),\n",
       " (True, True, False, True, True),\n",
       " (True, True, True, False, False),\n",
       " (True, True, True, True, False),\n",
       " (True, True, True, True, True)}"
      ]
     },
     "execution_count": 11,
     "metadata": {},
     "output_type": "execute_result"
    }
   ],
   "source": [
    "rules_set=set()\n",
    "\n",
    "for c in puzzle_rules_str.strip().splitlines():\n",
    "    if c[-1]=='#':\n",
    "        rules_set.add((c[0]=='#',\n",
    "                       c[1]=='#',\n",
    "                       c[2]=='#',\n",
    "                       c[3]=='#',\n",
    "                       c[4]=='#'))\n",
    "\n",
    "rules_set"
   ]
  },
  {
   "cell_type": "markdown",
   "metadata": {},
   "source": [
    "And apply:"
   ]
  },
  {
   "cell_type": "code",
   "execution_count": 12,
   "metadata": {},
   "outputs": [
    {
     "data": {
      "text/plain": [
       "6201"
      ]
     },
     "execution_count": 12,
     "metadata": {},
     "output_type": "execute_result"
    }
   ],
   "source": [
    "s={i for (i, c) in enumerate(puzzle_input_str) if c=='#'}\n",
    "\n",
    "for i in range(20):\n",
    "    s=next_generation(s, rules_set)\n",
    "\n",
    "sum(s)"
   ]
  },
  {
   "cell_type": "markdown",
   "metadata": {},
   "source": [
    "## Part 2"
   ]
  },
  {
   "cell_type": "markdown",
   "metadata": {},
   "source": [
    "Hmmm. 50000000000 doesn't look good. Probably some patterns going to come out if we run it for a bit. "
   ]
  },
  {
   "cell_type": "markdown",
   "metadata": {},
   "source": [
    "Let's have a look at the first couple of hundred answers. I've added the max, min, length and sum:"
   ]
  },
  {
   "cell_type": "code",
   "execution_count": 13,
   "metadata": {},
   "outputs": [
    {
     "name": "stdout",
     "output_type": "stream",
     "text": [
      "0\t0\t98\t98\t2194\t47\t\n",
      "1\t1\t99\t98\t3379\t67\t\n",
      "2\t1\t100\t99\t3670\t71\t\n",
      "3\t0\t101\t101\t3882\t76\t\n",
      "4\t0\t102\t102\t4001\t77\t\n",
      "5\t0\t103\t103\t4222\t81\t\n",
      "6\t-1\t104\t105\t4347\t83\t\n",
      "7\t-1\t105\t106\t4472\t84\t\n",
      "8\t-1\t106\t107\t4601\t85\t\n",
      "9\t-2\t107\t109\t4728\t87\t\n",
      "10\t-2\t108\t110\t4856\t88\t\n",
      "11\t-2\t109\t111\t4986\t88\t\n",
      "12\t-3\t110\t113\t5110\t90\t\n",
      "13\t-3\t111\t114\t5239\t91\t\n",
      "14\t-4\t112\t116\t5362\t94\t\n",
      "15\t-3\t113\t116\t5516\t97\t\n",
      "16\t-2\t114\t116\t5653\t97\t\n",
      "17\t-1\t115\t116\t5790\t97\t\n",
      "18\t0\t116\t116\t5927\t97\t\n",
      "19\t0\t117\t117\t6064\t98\t\n",
      "20\t-1\t118\t119\t6201\t101\t\n",
      "21\t0\t119\t119\t6340\t101\t\n",
      "22\t1\t120\t119\t6479\t101\t\n",
      "23\t2\t121\t119\t6618\t101\t\n",
      "24\t1\t122\t121\t6762\t104\t\n",
      "25\t2\t123\t121\t6902\t104\t\n",
      "26\t3\t124\t121\t7042\t104\t\n",
      "27\t2\t125\t123\t7190\t107\t\n",
      "28\t3\t126\t123\t7331\t107\t\n",
      "29\t4\t127\t123\t7472\t107\t\n",
      "30\t5\t128\t123\t7613\t107\t\n",
      "31\t4\t129\t125\t7768\t110\t\n",
      "32\t5\t130\t125\t7910\t110\t\n",
      "33\t6\t131\t125\t8052\t110\t\n",
      "34\t7\t132\t125\t8194\t110\t\n",
      "35\t6\t133\t127\t8348\t112\t\n",
      "36\t6\t134\t128\t8505\t114\t\n",
      "37\t6\t135\t129\t8655\t115\t\n",
      "38\t5\t136\t131\t8817\t118\t\n",
      "39\t6\t137\t131\t8963\t118\t\n",
      "40\t6\t138\t132\t9115\t119\t\n",
      "41\t5\t139\t134\t9279\t122\t\n",
      "42\t6\t140\t134\t9427\t122\t\n",
      "43\t6\t141\t135\t9581\t123\t\n",
      "44\t5\t142\t137\t9747\t126\t\n",
      "45\t6\t143\t137\t9897\t126\t\n",
      "46\t7\t144\t137\t10047\t126\t\n",
      "47\t6\t145\t139\t10209\t128\t\n",
      "48\t6\t146\t140\t10364\t129\t\n",
      "49\t6\t147\t141\t10523\t130\t\n",
      "50\t5\t148\t143\t10687\t132\t\n",
      "51\t5\t149\t144\t10854\t134\t\n",
      "52\t5\t150\t145\t11015\t135\t\n",
      "53\t4\t151\t147\t11186\t138\t\n",
      "54\t5\t152\t147\t11344\t138\t\n",
      "55\t5\t153\t148\t11507\t139\t\n",
      "56\t4\t154\t150\t11680\t142\t\n",
      "57\t5\t155\t150\t11840\t142\t\n",
      "58\t6\t156\t150\t12000\t142\t\n",
      "59\t7\t157\t150\t12160\t142\t\n",
      "60\t7\t158\t151\t12327\t143\t\n",
      "61\t6\t159\t153\t12500\t145\t\n",
      "62\t6\t160\t154\t12666\t146\t\n",
      "63\t6\t161\t155\t12836\t147\t\n",
      "64\t5\t162\t157\t13011\t149\t\n",
      "65\t5\t163\t158\t13180\t150\t\n",
      "66\t5\t164\t159\t13353\t151\t\n",
      "67\t4\t165\t161\t13530\t153\t\n",
      "68\t4\t166\t162\t13702\t154\t\n",
      "69\t4\t167\t163\t13860\t153\t\n",
      "70\t3\t168\t165\t14031\t155\t\n",
      "71\t3\t169\t166\t14214\t157\t\n",
      "72\t2\t170\t168\t14429\t163\t\n",
      "73\t3\t171\t168\t14601\t163\t\n",
      "74\t4\t172\t168\t14776\t163\t\n",
      "75\t5\t173\t168\t14951\t163\t\n",
      "76\t6\t174\t168\t15126\t163\t\n",
      "77\t5\t175\t170\t15311\t165\t\n",
      "78\t5\t176\t171\t15499\t167\t\n",
      "79\t5\t177\t172\t15681\t168\t\n",
      "80\t4\t178\t174\t15873\t171\t\n",
      "81\t5\t179\t174\t16052\t171\t\n",
      "82\t5\t180\t175\t16236\t172\t\n",
      "83\t4\t181\t177\t16430\t175\t\n",
      "84\t5\t182\t177\t16611\t175\t\n",
      "85\t5\t183\t178\t16797\t176\t\n",
      "86\t4\t184\t180\t16993\t179\t\n",
      "87\t5\t185\t180\t17176\t179\t\n",
      "88\t6\t186\t180\t17359\t179\t\n",
      "89\t5\t187\t182\t17559\t182\t\n",
      "90\t6\t188\t182\t17743\t182\t\n",
      "91\t6\t189\t183\t17933\t183\t\n",
      "92\t5\t190\t185\t18135\t186\t\n",
      "93\t6\t191\t185\t18321\t186\t\n",
      "94\t7\t192\t185\t18507\t186\t\n",
      "95\t8\t193\t185\t18693\t186\t\n",
      "96\t9\t194\t185\t18879\t186\t\n",
      "97\t10\t195\t185\t19065\t186\t\n",
      "98\t11\t196\t185\t19251\t186\t\n",
      "99\t12\t197\t185\t19437\t186\t\n",
      "100\t13\t198\t185\t19623\t186\t\n",
      "101\t14\t199\t185\t19809\t186\t\n",
      "102\t15\t200\t185\t19995\t186\t\n",
      "103\t16\t201\t185\t20181\t186\t\n",
      "104\t17\t202\t185\t20367\t186\t\n",
      "105\t18\t203\t185\t20553\t186\t\n",
      "106\t19\t204\t185\t20739\t186\t\n",
      "107\t20\t205\t185\t20925\t186\t\n",
      "108\t21\t206\t185\t21111\t186\t\n",
      "109\t22\t207\t185\t21297\t186\t\n",
      "110\t23\t208\t185\t21483\t186\t\n",
      "111\t24\t209\t185\t21669\t186\t\n",
      "112\t25\t210\t185\t21855\t186\t\n",
      "113\t26\t211\t185\t22041\t186\t\n",
      "114\t27\t212\t185\t22227\t186\t\n",
      "115\t28\t213\t185\t22413\t186\t\n",
      "116\t29\t214\t185\t22599\t186\t\n",
      "117\t30\t215\t185\t22785\t186\t\n",
      "118\t31\t216\t185\t22971\t186\t\n",
      "119\t32\t217\t185\t23157\t186\t\n",
      "120\t33\t218\t185\t23343\t186\t\n",
      "121\t34\t219\t185\t23529\t186\t\n",
      "122\t35\t220\t185\t23715\t186\t\n",
      "123\t36\t221\t185\t23901\t186\t\n",
      "124\t37\t222\t185\t24087\t186\t\n",
      "125\t38\t223\t185\t24273\t186\t\n",
      "126\t39\t224\t185\t24459\t186\t\n",
      "127\t40\t225\t185\t24645\t186\t\n",
      "128\t41\t226\t185\t24831\t186\t\n",
      "129\t42\t227\t185\t25017\t186\t\n",
      "130\t43\t228\t185\t25203\t186\t\n",
      "131\t44\t229\t185\t25389\t186\t\n",
      "132\t45\t230\t185\t25575\t186\t\n",
      "133\t46\t231\t185\t25761\t186\t\n",
      "134\t47\t232\t185\t25947\t186\t\n",
      "135\t48\t233\t185\t26133\t186\t\n",
      "136\t49\t234\t185\t26319\t186\t\n",
      "137\t50\t235\t185\t26505\t186\t\n",
      "138\t51\t236\t185\t26691\t186\t\n",
      "139\t52\t237\t185\t26877\t186\t\n",
      "140\t53\t238\t185\t27063\t186\t\n",
      "141\t54\t239\t185\t27249\t186\t\n",
      "142\t55\t240\t185\t27435\t186\t\n",
      "143\t56\t241\t185\t27621\t186\t\n",
      "144\t57\t242\t185\t27807\t186\t\n",
      "145\t58\t243\t185\t27993\t186\t\n",
      "146\t59\t244\t185\t28179\t186\t\n",
      "147\t60\t245\t185\t28365\t186\t\n",
      "148\t61\t246\t185\t28551\t186\t\n",
      "149\t62\t247\t185\t28737\t186\t\n",
      "150\t63\t248\t185\t28923\t186\t\n",
      "151\t64\t249\t185\t29109\t186\t\n",
      "152\t65\t250\t185\t29295\t186\t\n",
      "153\t66\t251\t185\t29481\t186\t\n",
      "154\t67\t252\t185\t29667\t186\t\n",
      "155\t68\t253\t185\t29853\t186\t\n",
      "156\t69\t254\t185\t30039\t186\t\n",
      "157\t70\t255\t185\t30225\t186\t\n",
      "158\t71\t256\t185\t30411\t186\t\n",
      "159\t72\t257\t185\t30597\t186\t\n",
      "160\t73\t258\t185\t30783\t186\t\n",
      "161\t74\t259\t185\t30969\t186\t\n",
      "162\t75\t260\t185\t31155\t186\t\n",
      "163\t76\t261\t185\t31341\t186\t\n",
      "164\t77\t262\t185\t31527\t186\t\n",
      "165\t78\t263\t185\t31713\t186\t\n",
      "166\t79\t264\t185\t31899\t186\t\n",
      "167\t80\t265\t185\t32085\t186\t\n",
      "168\t81\t266\t185\t32271\t186\t\n",
      "169\t82\t267\t185\t32457\t186\t\n",
      "170\t83\t268\t185\t32643\t186\t\n",
      "171\t84\t269\t185\t32829\t186\t\n",
      "172\t85\t270\t185\t33015\t186\t\n",
      "173\t86\t271\t185\t33201\t186\t\n",
      "174\t87\t272\t185\t33387\t186\t\n",
      "175\t88\t273\t185\t33573\t186\t\n",
      "176\t89\t274\t185\t33759\t186\t\n",
      "177\t90\t275\t185\t33945\t186\t\n",
      "178\t91\t276\t185\t34131\t186\t\n",
      "179\t92\t277\t185\t34317\t186\t\n",
      "180\t93\t278\t185\t34503\t186\t\n",
      "181\t94\t279\t185\t34689\t186\t\n",
      "182\t95\t280\t185\t34875\t186\t\n",
      "183\t96\t281\t185\t35061\t186\t\n",
      "184\t97\t282\t185\t35247\t186\t\n",
      "185\t98\t283\t185\t35433\t186\t\n",
      "186\t99\t284\t185\t35619\t186\t\n",
      "187\t100\t285\t185\t35805\t186\t\n",
      "188\t101\t286\t185\t35991\t186\t\n",
      "189\t102\t287\t185\t36177\t186\t\n",
      "190\t103\t288\t185\t36363\t186\t\n",
      "191\t104\t289\t185\t36549\t186\t\n",
      "192\t105\t290\t185\t36735\t186\t\n",
      "193\t106\t291\t185\t36921\t186\t\n",
      "194\t107\t292\t185\t37107\t186\t\n",
      "195\t108\t293\t185\t37293\t186\t\n",
      "196\t109\t294\t185\t37479\t186\t\n",
      "197\t110\t295\t185\t37665\t186\t\n",
      "198\t111\t296\t185\t37851\t186\t\n",
      "199\t112\t297\t185\t38037\t186\t\n"
     ]
    }
   ],
   "source": [
    "s={i for (i, c) in enumerate(puzzle_input_str) if c=='#'}\n",
    "\n",
    "for i in range(200):\n",
    "    print(i, end='\\t')\n",
    "    print(min(s), end='\\t')\n",
    "    print(max(s), end='\\t')\n",
    "    print(max(s)-min(s), end='\\t')\n",
    "    print(sum(s), end='\\t')\n",
    "    print(len(s), end='\\t')\n",
    "    print()\n",
    "    s=next_generation(s, rules_set)\n"
   ]
  },
  {
   "cell_type": "markdown",
   "metadata": {},
   "source": [
    "OK, that seems to settle down after a bit. Always 186 members, difference btw first and last is 185, so it's got to be the sum of the series from (choosing an abitrary member of the sequence): (i-87) to (i+98).\n",
    "\n",
    "I'm not entirely (read: \"at all\") about this dodgy empirical way of solving the problem, but needs must..."
   ]
  },
  {
   "cell_type": "code",
   "execution_count": 14,
   "metadata": {},
   "outputs": [
    {
     "data": {
      "text/plain": [
       "38037"
      ]
     },
     "execution_count": 14,
     "metadata": {},
     "output_type": "execute_result"
    }
   ],
   "source": [
    "# Yes, yes, I know that Gauss' method works much better, but it's getting to the end of lunchtime\n",
    "\n",
    "def f(x):\n",
    "    return sum(range(x-87, x+99))\n",
    "\n",
    "f(199)"
   ]
  },
  {
   "cell_type": "markdown",
   "metadata": {},
   "source": [
    "Try it for a bigger number:"
   ]
  },
  {
   "cell_type": "code",
   "execution_count": 15,
   "metadata": {},
   "outputs": [
    {
     "data": {
      "text/plain": [
       "699081"
      ]
     },
     "execution_count": 15,
     "metadata": {},
     "output_type": "execute_result"
    }
   ],
   "source": [
    "s={i for (i, c) in enumerate(puzzle_input_str) if c=='#'}\n",
    "\n",
    "for i in range(3753):\n",
    "    s=next_generation(s, rules_set)\n",
    "\n",
    "sum(s)"
   ]
  },
  {
   "cell_type": "code",
   "execution_count": 16,
   "metadata": {},
   "outputs": [
    {
     "data": {
      "text/plain": [
       "699081"
      ]
     },
     "execution_count": 16,
     "metadata": {},
     "output_type": "execute_result"
    }
   ],
   "source": [
    "f(3753)"
   ]
  },
  {
   "cell_type": "markdown",
   "metadata": {},
   "source": [
    "OK, try with the input:"
   ]
  },
  {
   "cell_type": "code",
   "execution_count": 17,
   "metadata": {},
   "outputs": [
    {
     "data": {
      "text/plain": [
       "9300000001023"
      ]
     },
     "execution_count": 17,
     "metadata": {},
     "output_type": "execute_result"
    }
   ],
   "source": [
    "f(50000000000)"
   ]
  },
  {
   "cell_type": "markdown",
   "metadata": {},
   "source": [
    "The right answer, but I feel rather unclean..."
   ]
  },
  {
   "cell_type": "code",
   "execution_count": null,
   "metadata": {
    "collapsed": true
   },
   "outputs": [],
   "source": []
  }
 ],
 "metadata": {
  "kernelspec": {
   "display_name": "Python 3",
   "language": "python",
   "name": "python3"
  },
  "language_info": {
   "codemirror_mode": {
    "name": "ipython",
    "version": 3
   },
   "file_extension": ".py",
   "mimetype": "text/x-python",
   "name": "python",
   "nbconvert_exporter": "python",
   "pygments_lexer": "ipython3",
   "version": "3.6.1"
  }
 },
 "nbformat": 4,
 "nbformat_minor": 2
}
