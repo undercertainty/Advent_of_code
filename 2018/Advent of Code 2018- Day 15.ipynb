{
 "cells": [
  {
   "cell_type": "markdown",
   "metadata": {},
   "source": [
    "Merry Christmas everyone! \n",
    "\n",
    "[Advent of Code day 15](http://adventofcode.com/2018/day/15)"
   ]
  },
  {
   "cell_type": "markdown",
   "metadata": {},
   "source": [
    "I wasn't going to bother with this one, but it's been nagging at me, so I'll give it another spin. And it's good practice for generators..."
   ]
  },
  {
   "cell_type": "markdown",
   "metadata": {},
   "source": [
    "## Part 1"
   ]
  },
  {
   "cell_type": "markdown",
   "metadata": {},
   "source": [
    "Bluuurggh, the fact that this one takes so long to describe is a bit worrying, and that's before I've even started reading it..."
   ]
  },
  {
   "cell_type": "markdown",
   "metadata": {},
   "source": [
    "Parse the input. "
   ]
  },
  {
   "cell_type": "code",
   "execution_count": 1,
   "metadata": {
    "collapsed": true
   },
   "outputs": [],
   "source": [
    "import numpy as np"
   ]
  },
  {
   "cell_type": "code",
   "execution_count": 28,
   "metadata": {
    "collapsed": true
   },
   "outputs": [],
   "source": [
    "test_input_str='''#########\n",
    "#G..G..G#\n",
    "#.......#\n",
    "#.......#\n",
    "#G..E..G#\n",
    "#.......#\n",
    "#.......#\n",
    "#G..G..G#\n",
    "#########'''"
   ]
  },
  {
   "cell_type": "code",
   "execution_count": 84,
   "metadata": {},
   "outputs": [
    {
     "data": {
      "text/plain": [
       "{'elves': [(4, 4)],\n",
       " 'goblins': [(1, 1), (4, 1), (7, 1), (1, 4), (7, 4), (1, 7), (4, 7), (7, 7)],\n",
       " 'map': [['#', '#', '#', '#', '#', '#', '#', '#', '#'],\n",
       "  ['#', '.', '.', '.', '.', '.', '.', '.', '#'],\n",
       "  ['#', '.', '.', '.', '.', '.', '.', '.', '#'],\n",
       "  ['#', '.', '.', '.', '.', '.', '.', '.', '#'],\n",
       "  ['#', '.', '.', '.', '.', '.', '.', '.', '#'],\n",
       "  ['#', '.', '.', '.', '.', '.', '.', '.', '#'],\n",
       "  ['#', '.', '.', '.', '.', '.', '.', '.', '#'],\n",
       "  ['#', '.', '.', '.', '.', '.', '.', '.', '#'],\n",
       "  ['#', '#', '#', '#', '#', '#', '#', '#', '#']],\n",
       " 'walls': [(0, 0),\n",
       "  (1, 0),\n",
       "  (2, 0),\n",
       "  (3, 0),\n",
       "  (4, 0),\n",
       "  (5, 0),\n",
       "  (6, 0),\n",
       "  (7, 0),\n",
       "  (8, 0),\n",
       "  (0, 1),\n",
       "  (8, 1),\n",
       "  (0, 2),\n",
       "  (8, 2),\n",
       "  (0, 3),\n",
       "  (8, 3),\n",
       "  (0, 4),\n",
       "  (8, 4),\n",
       "  (0, 5),\n",
       "  (8, 5),\n",
       "  (0, 6),\n",
       "  (8, 6),\n",
       "  (0, 7),\n",
       "  (8, 7),\n",
       "  (0, 8),\n",
       "  (1, 8),\n",
       "  (2, 8),\n",
       "  (3, 8),\n",
       "  (4, 8),\n",
       "  (5, 8),\n",
       "  (6, 8),\n",
       "  (7, 8),\n",
       "  (8, 8)]}"
      ]
     },
     "execution_count": 84,
     "metadata": {},
     "output_type": "execute_result"
    }
   ],
   "source": [
    "\n",
    "def parse_input(str_in):\n",
    "    map_ls=[]\n",
    "    elves_ls=[]\n",
    "    goblins_ls=[]\n",
    "    walls_ls=[]\n",
    "\n",
    "    for (y, nl) in enumerate(str_in.splitlines()):\n",
    "        map_ls.append([{'#':'#', 'E':'.', 'G':'.', '.':'.'}[c] for c in nl])\n",
    "        elves_ls.extend([(x, y) for (x, c) in enumerate(nl) if nl[x]=='E'])\n",
    "        goblins_ls.extend([(x, y) for (x, c) in enumerate(nl) if nl[x]=='G'])\n",
    "        walls_ls.extend([(x, y) for (x, c) in enumerate(nl) if nl[x]=='#'])\n",
    "    \n",
    "    return {'map':map_ls,\n",
    "            'elves':elves_ls,\n",
    "            'goblins':goblins_ls,\n",
    "            'walls':walls_ls}\n",
    "\n",
    "parse_input(test_input_str)"
   ]
  },
  {
   "cell_type": "markdown",
   "metadata": {
    "collapsed": true
   },
   "source": [
    "OK, so I need to write a bfs. Let's write a generator which at each stage, returns the coordinates of the current point, and the path taken to get there."
   ]
  },
  {
   "cell_type": "code",
   "execution_count": 52,
   "metadata": {
    "collapsed": true
   },
   "outputs": [],
   "source": [
    "import itertools as it\n",
    "import pyrsistent as pyr\n",
    "import collections as coll"
   ]
  },
  {
   "cell_type": "code",
   "execution_count": 81,
   "metadata": {},
   "outputs": [
    {
     "data": {
      "text/plain": [
       "[['#', '#', '#', '#', '#', '#', '#', '#', '#'],\n",
       " ['#', '.', '.', '.', '.', '.', '.', '.', '#'],\n",
       " ['#', '.', '.', '.', '.', '.', '.', '.', '#'],\n",
       " ['#', '.', '.', '.', '.', '.', '.', '.', '#'],\n",
       " ['#', '#', '.', '.', '.', '.', '.', '.', '#'],\n",
       " ['#', '.', '.', '.', '.', '.', '.', '.', '#'],\n",
       " ['#', '.', '.', '.', '.', '.', '.', '.', '#'],\n",
       " ['#', '.', '.', '.', '.', '.', '.', '.', '#'],\n",
       " ['#', '#', '#', '#', '#', '#', '#', '#', '#']]"
      ]
     },
     "execution_count": 81,
     "metadata": {},
     "output_type": "execute_result"
    }
   ],
   "source": [
    "m= [['#', '#', '#', '#', '#', '#', '#', '#', '#'],\n",
    "  ['#', '.', '.', '.', '.', '.', '.', '.', '#'],\n",
    "  ['#', '.', '.', '.', '.', '.', '.', '.', '#'],\n",
    "  ['#', '.', '.', '.', '.', '.', '.', '.', '#'],\n",
    "  ['#', '#', '.', '.', '.', '.', '.', '.', '#'],\n",
    "  ['#', '.', '.', '.', '.', '.', '.', '.', '#'],\n",
    "  ['#', '.', '.', '.', '.', '.', '.', '.', '#'],\n",
    "  ['#', '.', '.', '.', '.', '.', '.', '.', '#'],\n",
    "  ['#', '#', '#', '#', '#', '#', '#', '#', '#']]\n",
    "\n",
    "m"
   ]
  },
  {
   "cell_type": "code",
   "execution_count": 82,
   "metadata": {},
   "outputs": [
    {
     "ename": "SyntaxError",
     "evalue": "invalid syntax (<ipython-input-82-4c1afb746712>, line 1)",
     "output_type": "error",
     "traceback": [
      "\u001b[0;36m  File \u001b[0;32m\"<ipython-input-82-4c1afb746712>\"\u001b[0;36m, line \u001b[0;32m1\u001b[0m\n\u001b[0;31m    for ()\u001b[0m\n\u001b[0m          ^\u001b[0m\n\u001b[0;31mSyntaxError\u001b[0m\u001b[0;31m:\u001b[0m invalid syntax\n"
     ]
    }
   ],
   "source": [
    "for "
   ]
  },
  {
   "cell_type": "code",
   "execution_count": 105,
   "metadata": {
    "collapsed": true
   },
   "outputs": [],
   "source": [
    "def walk_search_space(start_state, daughters_fn, success_fn, fail_fn, strategy='bfs'):\n",
    "    '''Generator for exploring a search space'''\n",
    "    \n",
    "    Agenda_item=coll.namedtuple('AgendaItem', ['state', 'path'])\n",
    "    Search_node=coll.namedtuple('SearchNode', ['state', 'path', 'result'])\n",
    "    \n",
    "    visited_set=set()\n",
    "    # maps start_position onto a tuple. In case I forget and send a list...\n",
    "    agenda=[Agenda_item(start_state, pyr.pvector())]\n",
    "\n",
    "    while agenda:\n",
    "        next_agenda_item=agenda.pop(0)\n",
    "        \n",
    "        if next_agenda_item.state not in visited_set:\n",
    "\n",
    "            if fail_fn(next_agenda_item.state):\n",
    "                yield Search_node(next_agenda_item.state,\n",
    "                                  next_agenda_item.path,\n",
    "                                  'Fail')\n",
    "\n",
    "            elif success_fn(next_agenda_item.state):\n",
    "                visited_set.add(next_agenda_item.state)\n",
    "                agenda.extend([Agenda_item(next_state,\n",
    "                                           next_agenda_item.path.append(next_agenda_item.state))\n",
    "                               for next_state in daughters_fn(next_agenda_item.state)])\n",
    "                yield Search_node(next_agenda_item.state,\n",
    "                                  next_agenda_item.path,\n",
    "                                  'Success')\n",
    "\n",
    "            else:\n",
    "                visited_set.add(next_agenda_item.state)\n",
    "                agenda.extend([Agenda_item(next_state,\n",
    "                                           next_agenda_item.path.append(next_agenda_item.state))\n",
    "                               for next_state in daughters_fn(next_agenda_item.state)])\n",
    "                yield Search_node(next_agenda_item.state,\n",
    "                                  next_agenda_item.path,\n",
    "                                  'None')"
   ]
  },
  {
   "cell_type": "code",
   "execution_count": 106,
   "metadata": {},
   "outputs": [
    {
     "data": {
      "text/plain": [
       "[(3, 3), (2, 4), (4, 4), (3, 5)]"
      ]
     },
     "execution_count": 106,
     "metadata": {},
     "output_type": "execute_result"
    }
   ],
   "source": [
    "def move1_fn(pos):\n",
    "    return [(pos[0], pos[1]-1), # move up\n",
    "            (pos[0]-1, pos[1]), # move left\n",
    "            (pos[0]+1, pos[1]), # move right\n",
    "            (pos[0], pos[1]+1)] # move down\n",
    "move1((3, 4))"
   ]
  },
  {
   "cell_type": "code",
   "execution_count": 107,
   "metadata": {},
   "outputs": [],
   "source": [
    "w=walk_search_space((3, 3),\n",
    "                    move1_fn,\n",
    "                    lambda x:False,\n",
    "                    lambda x:False)"
   ]
  },
  {
   "cell_type": "code",
   "execution_count": 108,
   "metadata": {},
   "outputs": [
    {
     "name": "stdout",
     "output_type": "stream",
     "text": [
      "SearchNode(state=(3, 3), path=pvector([]), result='None')\n",
      "SearchNode(state=(3, 2), path=pvector([(3, 3)]), result='None')\n",
      "SearchNode(state=(2, 3), path=pvector([(3, 3)]), result='None')\n",
      "SearchNode(state=(4, 3), path=pvector([(3, 3)]), result='None')\n",
      "SearchNode(state=(3, 4), path=pvector([(3, 3)]), result='None')\n",
      "SearchNode(state=(3, 1), path=pvector([(3, 3), (3, 2)]), result='None')\n",
      "SearchNode(state=(2, 2), path=pvector([(3, 3), (3, 2)]), result='None')\n",
      "SearchNode(state=(4, 2), path=pvector([(3, 3), (3, 2)]), result='None')\n",
      "SearchNode(state=(1, 3), path=pvector([(3, 3), (2, 3)]), result='None')\n",
      "SearchNode(state=(2, 4), path=pvector([(3, 3), (2, 3)]), result='None')\n",
      "SearchNode(state=(5, 3), path=pvector([(3, 3), (4, 3)]), result='None')\n",
      "SearchNode(state=(4, 4), path=pvector([(3, 3), (4, 3)]), result='None')\n",
      "SearchNode(state=(3, 5), path=pvector([(3, 3), (3, 4)]), result='None')\n",
      "SearchNode(state=(3, 0), path=pvector([(3, 3), (3, 2), (3, 1)]), result='None')\n",
      "SearchNode(state=(2, 1), path=pvector([(3, 3), (3, 2), (3, 1)]), result='None')\n",
      "SearchNode(state=(4, 1), path=pvector([(3, 3), (3, 2), (3, 1)]), result='None')\n",
      "SearchNode(state=(1, 2), path=pvector([(3, 3), (3, 2), (2, 2)]), result='None')\n",
      "SearchNode(state=(5, 2), path=pvector([(3, 3), (3, 2), (4, 2)]), result='None')\n",
      "SearchNode(state=(0, 3), path=pvector([(3, 3), (2, 3), (1, 3)]), result='None')\n",
      "SearchNode(state=(1, 4), path=pvector([(3, 3), (2, 3), (1, 3)]), result='None')\n"
     ]
    }
   ],
   "source": [
    "for i in it.islice(w, 0, 20):\n",
    "    print(i)"
   ]
  },
  {
   "cell_type": "code",
   "execution_count": 109,
   "metadata": {},
   "outputs": [
    {
     "data": {
      "text/plain": [
       "{'elves': [(1, 1)],\n",
       " 'goblins': [(4, 1), (2, 3), (5, 3)],\n",
       " 'map': [['#', '#', '#', '#', '#', '#', '#'],\n",
       "  ['#', '.', '.', '.', '.', '.', '#'],\n",
       "  ['#', '.', '.', '.', '#', '.', '#'],\n",
       "  ['#', '.', '.', '.', '#', '.', '#'],\n",
       "  ['#', '#', '#', '#', '#', '#', '#']],\n",
       " 'walls': [(0, 0),\n",
       "  (1, 0),\n",
       "  (2, 0),\n",
       "  (3, 0),\n",
       "  (4, 0),\n",
       "  (5, 0),\n",
       "  (6, 0),\n",
       "  (0, 1),\n",
       "  (6, 1),\n",
       "  (0, 2),\n",
       "  (4, 2),\n",
       "  (6, 2),\n",
       "  (0, 3),\n",
       "  (4, 3),\n",
       "  (6, 3),\n",
       "  (0, 4),\n",
       "  (1, 4),\n",
       "  (2, 4),\n",
       "  (3, 4),\n",
       "  (4, 4),\n",
       "  (5, 4),\n",
       "  (6, 4)]}"
      ]
     },
     "execution_count": 109,
     "metadata": {},
     "output_type": "execute_result"
    }
   ],
   "source": [
    "t='''#######\n",
    "#E..G.#\n",
    "#...#.#\n",
    "#.G.#G#\n",
    "#######'''\n",
    "\n",
    "parse_input(t)"
   ]
  },
  {
   "cell_type": "code",
   "execution_count": 116,
   "metadata": {},
   "outputs": [],
   "source": [
    "z=parse_input(t)\n",
    "\n",
    "elf_walk=walk_search_space((1, 1),\n",
    "                           move1_fn,\n",
    "                           success_fn=lambda x:x in z['goblins'],\n",
    "                           fail_fn=lambda x:x in z['walls'])"
   ]
  },
  {
   "cell_type": "code",
   "execution_count": 115,
   "metadata": {},
   "outputs": [
    {
     "name": "stdout",
     "output_type": "stream",
     "text": [
      "SearchNode(state=(1, 1), path=pvector([]), result='None')\n",
      "SearchNode(state=(2, 1), path=pvector([(1, 1)]), result='None')\n",
      "SearchNode(state=(1, 2), path=pvector([(1, 1)]), result='None')\n",
      "SearchNode(state=(3, 1), path=pvector([(1, 1), (2, 1)]), result='None')\n",
      "SearchNode(state=(2, 2), path=pvector([(1, 1), (2, 1)]), result='None')\n",
      "SearchNode(state=(1, 3), path=pvector([(1, 1), (1, 2)]), result='None')\n",
      "SearchNode(state=(4, 1), path=pvector([(1, 1), (2, 1), (3, 1)]), result='Success')\n",
      "SearchNode(state=(3, 2), path=pvector([(1, 1), (2, 1), (3, 1)]), result='None')\n",
      "SearchNode(state=(2, 3), path=pvector([(1, 1), (2, 1), (2, 2)]), result='Success')\n",
      "SearchNode(state=(5, 1), path=pvector([(1, 1), (2, 1), (3, 1), (4, 1)]), result='None')\n",
      "SearchNode(state=(3, 3), path=pvector([(1, 1), (2, 1), (3, 1), (3, 2)]), result='None')\n",
      "SearchNode(state=(5, 2), path=pvector([(1, 1), (2, 1), (3, 1), (4, 1), (5, 1)]), result='None')\n",
      "SearchNode(state=(5, 3), path=pvector([(1, 1), (2, 1), (3, 1), (4, 1), (5, 1), (5, 2)]), result='Success')\n"
     ]
    }
   ],
   "source": [
    "for i in elf_walk:\n",
    "    if not i.result=='Fail':\n",
    "        print(i)"
   ]
  },
  {
   "cell_type": "code",
   "execution_count": 118,
   "metadata": {},
   "outputs": [
    {
     "data": {
      "text/plain": [
       "[(0, 0), (0, 1), (0, 2), (1, 0), (1, 1), (1, 2), (2, 0), (2, 1), (2, 2)]"
      ]
     },
     "execution_count": 118,
     "metadata": {},
     "output_type": "execute_result"
    }
   ],
   "source": [
    "sorted([(x, y) for x in range(3) for y in range(3)])"
   ]
  },
  {
   "cell_type": "markdown",
   "metadata": {},
   "source": [
    "Next, we need to find a unit's path. Let's have functions `move_elf` and `move_goblin`:"
   ]
  },
  {
   "cell_type": "code",
   "execution_count": 46,
   "metadata": {
    "collapsed": true
   },
   "outputs": [],
   "source": [
    "def move_elf(elf_loc, state):\n",
    "\n",
    "    elf_path=it.filterfalse(lambda x:state['map'][x[0][0]][x[0][1]]=='#',\n",
    "                            move(elf_loc))\n",
    "    \n",
    "    for (pos, path) in it.islice(elf_path, 0, 30):\n",
    "        print((pos, path))\n",
    "        \n",
    "    "
   ]
  },
  {
   "cell_type": "code",
   "execution_count": 51,
   "metadata": {},
   "outputs": [
    {
     "name": "stdout",
     "output_type": "stream",
     "text": [
      "((1, 1), pvector([]))\n",
      "((1, 0), pvector([(1, 1)]))\n",
      "((1, 2), pvector([(1, 1)]))\n",
      "((0, 1), pvector([(1, 1)]))\n",
      "((2, 1), pvector([(1, 1)]))\n",
      "((1, -1), pvector([(1, 1), (1, 0)]))\n",
      "((0, 0), pvector([(1, 1), (1, 0)]))\n",
      "((2, 0), pvector([(1, 1), (1, 0)]))\n",
      "((1, 3), pvector([(1, 1), (1, 2)]))\n",
      "((0, 2), pvector([(1, 1), (1, 2)]))\n",
      "((2, 2), pvector([(1, 1), (1, 2)]))\n",
      "((-1, 1), pvector([(1, 1), (0, 1)]))\n",
      "((3, 1), pvector([(1, 1), (2, 1)]))\n",
      "((1, -2), pvector([(1, 1), (1, 0), (1, -1)]))\n",
      "((0, -1), pvector([(1, 1), (1, 0), (1, -1)]))\n",
      "((2, -1), pvector([(1, 1), (1, 0), (1, -1)]))\n",
      "((-1, 0), pvector([(1, 1), (1, 0), (0, 0)]))\n",
      "((3, 0), pvector([(1, 1), (1, 0), (2, 0)]))\n",
      "((1, 4), pvector([(1, 1), (1, 2), (1, 3)]))\n",
      "((0, 3), pvector([(1, 1), (1, 2), (1, 3)]))\n"
     ]
    }
   ],
   "source": [
    "for i in it.islice(move((1,1)), 0, 20):\n",
    "    print(i)"
   ]
  },
  {
   "cell_type": "markdown",
   "metadata": {},
   "source": [
    "## Part 2"
   ]
  },
  {
   "cell_type": "code",
   "execution_count": 5,
   "metadata": {},
   "outputs": [
    {
     "data": {
      "text/plain": [
       "pvector(['a'])"
      ]
     },
     "execution_count": 5,
     "metadata": {},
     "output_type": "execute_result"
    }
   ],
   "source": [
    "u=pyr.pvector()\n",
    "u.append('a')"
   ]
  },
  {
   "cell_type": "code",
   "execution_count": 6,
   "metadata": {},
   "outputs": [
    {
     "data": {
      "text/plain": [
       "pvector([])"
      ]
     },
     "execution_count": 6,
     "metadata": {},
     "output_type": "execute_result"
    }
   ],
   "source": [
    "u"
   ]
  },
  {
   "cell_type": "code",
   "execution_count": null,
   "metadata": {
    "collapsed": true
   },
   "outputs": [],
   "source": []
  }
 ],
 "metadata": {
  "kernelspec": {
   "display_name": "Python 3",
   "language": "python",
   "name": "python3"
  },
  "language_info": {
   "codemirror_mode": {
    "name": "ipython",
    "version": 3
   },
   "file_extension": ".py",
   "mimetype": "text/x-python",
   "name": "python",
   "nbconvert_exporter": "python",
   "pygments_lexer": "ipython3",
   "version": "3.6.1"
  }
 },
 "nbformat": 4,
 "nbformat_minor": 2
}
