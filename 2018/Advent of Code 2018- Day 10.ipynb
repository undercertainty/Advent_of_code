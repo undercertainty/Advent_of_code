{
 "cells": [
  {
   "cell_type": "markdown",
   "metadata": {},
   "source": [
    "Merry Christmas everyone! \n",
    "\n",
    "[Advent of Code day 10](http://adventofcode.com/2018/day/10)"
   ]
  },
  {
   "cell_type": "markdown",
   "metadata": {},
   "source": [
    "## Part 1"
   ]
  },
  {
   "cell_type": "markdown",
   "metadata": {},
   "source": [
    "Some of this feels like it might benefit from a vectorised input, so let's use pandas:"
   ]
  },
  {
   "cell_type": "code",
   "execution_count": 1,
   "metadata": {
    "collapsed": true
   },
   "outputs": [],
   "source": [
    "import pandas as pd\n",
    "import re"
   ]
  },
  {
   "cell_type": "code",
   "execution_count": 2,
   "metadata": {
    "collapsed": true
   },
   "outputs": [],
   "source": [
    "test_input_str='''\n",
    "position=< 9,  1> velocity=< 0,  2>\n",
    "position=< 7,  0> velocity=<-1,  0>\n",
    "position=< 3, -2> velocity=<-1,  1>\n",
    "position=< 6, 10> velocity=<-2, -1>\n",
    "position=< 2, -4> velocity=< 2,  2>\n",
    "position=<-6, 10> velocity=< 2, -2>\n",
    "position=< 1,  8> velocity=< 1, -1>\n",
    "position=< 1,  7> velocity=< 1,  0>\n",
    "position=<-3, 11> velocity=< 1, -2>\n",
    "position=< 7,  6> velocity=<-1, -1>\n",
    "position=<-2,  3> velocity=< 1,  0>\n",
    "position=<-4,  3> velocity=< 2,  0>\n",
    "position=<10, -3> velocity=<-1,  1>\n",
    "position=< 5, 11> velocity=< 1, -2>\n",
    "position=< 4,  7> velocity=< 0, -1>\n",
    "position=< 8, -2> velocity=< 0,  1>\n",
    "position=<15,  0> velocity=<-2,  0>\n",
    "position=< 1,  6> velocity=< 1,  0>\n",
    "position=< 8,  9> velocity=< 0, -1>\n",
    "position=< 3,  3> velocity=<-1,  1>\n",
    "position=< 0,  5> velocity=< 0, -1>\n",
    "position=<-2,  2> velocity=< 2,  0>\n",
    "position=< 5, -2> velocity=< 1,  2>\n",
    "position=< 1,  4> velocity=< 2,  1>\n",
    "position=<-2,  7> velocity=< 2, -2>\n",
    "position=< 3,  6> velocity=<-1, -1>\n",
    "position=< 5,  0> velocity=< 1,  0>\n",
    "position=<-6,  0> velocity=< 2,  0>\n",
    "position=< 5,  9> velocity=< 1, -2>\n",
    "position=<14,  7> velocity=<-2,  0>\n",
    "position=<-3,  6> velocity=< 2, -1>\n",
    "'''"
   ]
  },
  {
   "cell_type": "code",
   "execution_count": 3,
   "metadata": {
    "collapsed": true
   },
   "outputs": [],
   "source": [
    "input_str=test_input_str"
   ]
  },
  {
   "cell_type": "code",
   "execution_count": 4,
   "metadata": {},
   "outputs": [
    {
     "data": {
      "text/html": [
       "<div>\n",
       "<style scoped>\n",
       "    .dataframe tbody tr th:only-of-type {\n",
       "        vertical-align: middle;\n",
       "    }\n",
       "\n",
       "    .dataframe tbody tr th {\n",
       "        vertical-align: top;\n",
       "    }\n",
       "\n",
       "    .dataframe thead th {\n",
       "        text-align: right;\n",
       "    }\n",
       "</style>\n",
       "<table border=\"1\" class=\"dataframe\">\n",
       "  <thead>\n",
       "    <tr style=\"text-align: right;\">\n",
       "      <th></th>\n",
       "      <th>x</th>\n",
       "      <th>xv</th>\n",
       "      <th>y</th>\n",
       "      <th>yv</th>\n",
       "    </tr>\n",
       "  </thead>\n",
       "  <tbody>\n",
       "    <tr>\n",
       "      <th>0</th>\n",
       "      <td>9</td>\n",
       "      <td>0</td>\n",
       "      <td>1</td>\n",
       "      <td>2</td>\n",
       "    </tr>\n",
       "    <tr>\n",
       "      <th>1</th>\n",
       "      <td>7</td>\n",
       "      <td>-1</td>\n",
       "      <td>0</td>\n",
       "      <td>0</td>\n",
       "    </tr>\n",
       "    <tr>\n",
       "      <th>2</th>\n",
       "      <td>3</td>\n",
       "      <td>-1</td>\n",
       "      <td>-2</td>\n",
       "      <td>1</td>\n",
       "    </tr>\n",
       "    <tr>\n",
       "      <th>3</th>\n",
       "      <td>6</td>\n",
       "      <td>-2</td>\n",
       "      <td>10</td>\n",
       "      <td>-1</td>\n",
       "    </tr>\n",
       "    <tr>\n",
       "      <th>4</th>\n",
       "      <td>2</td>\n",
       "      <td>2</td>\n",
       "      <td>-4</td>\n",
       "      <td>2</td>\n",
       "    </tr>\n",
       "    <tr>\n",
       "      <th>5</th>\n",
       "      <td>-6</td>\n",
       "      <td>2</td>\n",
       "      <td>10</td>\n",
       "      <td>-2</td>\n",
       "    </tr>\n",
       "    <tr>\n",
       "      <th>6</th>\n",
       "      <td>1</td>\n",
       "      <td>1</td>\n",
       "      <td>8</td>\n",
       "      <td>-1</td>\n",
       "    </tr>\n",
       "    <tr>\n",
       "      <th>7</th>\n",
       "      <td>1</td>\n",
       "      <td>1</td>\n",
       "      <td>7</td>\n",
       "      <td>0</td>\n",
       "    </tr>\n",
       "    <tr>\n",
       "      <th>8</th>\n",
       "      <td>-3</td>\n",
       "      <td>1</td>\n",
       "      <td>11</td>\n",
       "      <td>-2</td>\n",
       "    </tr>\n",
       "    <tr>\n",
       "      <th>9</th>\n",
       "      <td>7</td>\n",
       "      <td>-1</td>\n",
       "      <td>6</td>\n",
       "      <td>-1</td>\n",
       "    </tr>\n",
       "    <tr>\n",
       "      <th>10</th>\n",
       "      <td>-2</td>\n",
       "      <td>1</td>\n",
       "      <td>3</td>\n",
       "      <td>0</td>\n",
       "    </tr>\n",
       "    <tr>\n",
       "      <th>11</th>\n",
       "      <td>-4</td>\n",
       "      <td>2</td>\n",
       "      <td>3</td>\n",
       "      <td>0</td>\n",
       "    </tr>\n",
       "    <tr>\n",
       "      <th>12</th>\n",
       "      <td>10</td>\n",
       "      <td>-1</td>\n",
       "      <td>-3</td>\n",
       "      <td>1</td>\n",
       "    </tr>\n",
       "    <tr>\n",
       "      <th>13</th>\n",
       "      <td>5</td>\n",
       "      <td>1</td>\n",
       "      <td>11</td>\n",
       "      <td>-2</td>\n",
       "    </tr>\n",
       "    <tr>\n",
       "      <th>14</th>\n",
       "      <td>4</td>\n",
       "      <td>0</td>\n",
       "      <td>7</td>\n",
       "      <td>-1</td>\n",
       "    </tr>\n",
       "    <tr>\n",
       "      <th>15</th>\n",
       "      <td>8</td>\n",
       "      <td>0</td>\n",
       "      <td>-2</td>\n",
       "      <td>1</td>\n",
       "    </tr>\n",
       "    <tr>\n",
       "      <th>16</th>\n",
       "      <td>15</td>\n",
       "      <td>-2</td>\n",
       "      <td>0</td>\n",
       "      <td>0</td>\n",
       "    </tr>\n",
       "    <tr>\n",
       "      <th>17</th>\n",
       "      <td>1</td>\n",
       "      <td>1</td>\n",
       "      <td>6</td>\n",
       "      <td>0</td>\n",
       "    </tr>\n",
       "    <tr>\n",
       "      <th>18</th>\n",
       "      <td>8</td>\n",
       "      <td>0</td>\n",
       "      <td>9</td>\n",
       "      <td>-1</td>\n",
       "    </tr>\n",
       "    <tr>\n",
       "      <th>19</th>\n",
       "      <td>3</td>\n",
       "      <td>-1</td>\n",
       "      <td>3</td>\n",
       "      <td>1</td>\n",
       "    </tr>\n",
       "    <tr>\n",
       "      <th>20</th>\n",
       "      <td>0</td>\n",
       "      <td>0</td>\n",
       "      <td>5</td>\n",
       "      <td>-1</td>\n",
       "    </tr>\n",
       "    <tr>\n",
       "      <th>21</th>\n",
       "      <td>-2</td>\n",
       "      <td>2</td>\n",
       "      <td>2</td>\n",
       "      <td>0</td>\n",
       "    </tr>\n",
       "    <tr>\n",
       "      <th>22</th>\n",
       "      <td>5</td>\n",
       "      <td>1</td>\n",
       "      <td>-2</td>\n",
       "      <td>2</td>\n",
       "    </tr>\n",
       "    <tr>\n",
       "      <th>23</th>\n",
       "      <td>1</td>\n",
       "      <td>2</td>\n",
       "      <td>4</td>\n",
       "      <td>1</td>\n",
       "    </tr>\n",
       "    <tr>\n",
       "      <th>24</th>\n",
       "      <td>-2</td>\n",
       "      <td>2</td>\n",
       "      <td>7</td>\n",
       "      <td>-2</td>\n",
       "    </tr>\n",
       "    <tr>\n",
       "      <th>25</th>\n",
       "      <td>3</td>\n",
       "      <td>-1</td>\n",
       "      <td>6</td>\n",
       "      <td>-1</td>\n",
       "    </tr>\n",
       "    <tr>\n",
       "      <th>26</th>\n",
       "      <td>5</td>\n",
       "      <td>1</td>\n",
       "      <td>0</td>\n",
       "      <td>0</td>\n",
       "    </tr>\n",
       "    <tr>\n",
       "      <th>27</th>\n",
       "      <td>-6</td>\n",
       "      <td>2</td>\n",
       "      <td>0</td>\n",
       "      <td>0</td>\n",
       "    </tr>\n",
       "    <tr>\n",
       "      <th>28</th>\n",
       "      <td>5</td>\n",
       "      <td>1</td>\n",
       "      <td>9</td>\n",
       "      <td>-2</td>\n",
       "    </tr>\n",
       "    <tr>\n",
       "      <th>29</th>\n",
       "      <td>14</td>\n",
       "      <td>-2</td>\n",
       "      <td>7</td>\n",
       "      <td>0</td>\n",
       "    </tr>\n",
       "    <tr>\n",
       "      <th>30</th>\n",
       "      <td>-3</td>\n",
       "      <td>2</td>\n",
       "      <td>6</td>\n",
       "      <td>-1</td>\n",
       "    </tr>\n",
       "  </tbody>\n",
       "</table>\n",
       "</div>"
      ],
      "text/plain": [
       "     x  xv   y  yv\n",
       "0    9   0   1   2\n",
       "1    7  -1   0   0\n",
       "2    3  -1  -2   1\n",
       "3    6  -2  10  -1\n",
       "4    2   2  -4   2\n",
       "5   -6   2  10  -2\n",
       "6    1   1   8  -1\n",
       "7    1   1   7   0\n",
       "8   -3   1  11  -2\n",
       "9    7  -1   6  -1\n",
       "10  -2   1   3   0\n",
       "11  -4   2   3   0\n",
       "12  10  -1  -3   1\n",
       "13   5   1  11  -2\n",
       "14   4   0   7  -1\n",
       "15   8   0  -2   1\n",
       "16  15  -2   0   0\n",
       "17   1   1   6   0\n",
       "18   8   0   9  -1\n",
       "19   3  -1   3   1\n",
       "20   0   0   5  -1\n",
       "21  -2   2   2   0\n",
       "22   5   1  -2   2\n",
       "23   1   2   4   1\n",
       "24  -2   2   7  -2\n",
       "25   3  -1   6  -1\n",
       "26   5   1   0   0\n",
       "27  -6   2   0   0\n",
       "28   5   1   9  -2\n",
       "29  14  -2   7   0\n",
       "30  -3   2   6  -1"
      ]
     },
     "execution_count": 4,
     "metadata": {},
     "output_type": "execute_result"
    }
   ],
   "source": [
    "# Parse the input string into a dataframe\n",
    "\n",
    "xs=[]\n",
    "ys=[]\n",
    "xvs=[]\n",
    "yvs=[]\n",
    "\n",
    "for (x, y, xv, yv) in re.findall('position=<(.+),(.+)> velocity=<(.*),(.*)>', input_str):\n",
    "    xs.append(x)\n",
    "    ys.append(y)\n",
    "    xvs.append(xv)\n",
    "    yvs.append(yv)\n",
    "\n",
    "test_input_df=pd.DataFrame({'x':[int(x.strip()) for x in xs],\n",
    "                            'y':[int(x.strip()) for x in ys],\n",
    "                            'xv':[int(x.strip()) for x in xvs],\n",
    "                            'yv':[int(x.strip()) for x in yvs]})\n",
    "\n",
    "test_input_df\n"
   ]
  },
  {
   "cell_type": "markdown",
   "metadata": {},
   "source": [
    "Want a \"function\" `display` which takes a sequence of xs and a sequence of ys, and plots the image of those points:"
   ]
  },
  {
   "cell_type": "code",
   "execution_count": 5,
   "metadata": {
    "collapsed": true
   },
   "outputs": [],
   "source": [
    "def display(xs, ys):\n",
    "    'Create an image of the points. Add a border of 1'\n",
    "    for y in range(min(ys)-1, max(ys)+2):\n",
    "        for x in range(min(xs)-1, max(xs)+2):\n",
    "            if (x, y) in zip(xs, ys):\n",
    "                print('#', end='')\n",
    "            else:\n",
    "                print('.', end='')\n",
    "        print('')"
   ]
  },
  {
   "cell_type": "code",
   "execution_count": 6,
   "metadata": {},
   "outputs": [
    {
     "name": "stdout",
     "output_type": "stream",
     "text": [
      "........................\n",
      ".........#..............\n",
      ".................#......\n",
      "..........#.#..#........\n",
      "........................\n",
      ".#..........#.#.......#.\n",
      "................#.......\n",
      ".....#..................\n",
      "...#.#....#.............\n",
      "........#...............\n",
      ".......#................\n",
      "....#...#.#...#.........\n",
      ".....#..#..#.........#..\n",
      "........#...............\n",
      "............#..#........\n",
      ".#...........#..........\n",
      "....#.......#...........\n",
      "........................\n"
     ]
    }
   ],
   "source": [
    "display(test_input_df['x'], test_input_df['y'])"
   ]
  },
  {
   "cell_type": "markdown",
   "metadata": {},
   "source": [
    "OK, let's create a further function to take an input dataframe and a time, and to show the display after a number of steps using `input_df` and `display`:"
   ]
  },
  {
   "cell_type": "code",
   "execution_count": 7,
   "metadata": {},
   "outputs": [
    {
     "name": "stdout",
     "output_type": "stream",
     "text": [
      "............\n",
      ".#...#..###.\n",
      ".#...#...#..\n",
      ".#...#...#..\n",
      ".#####...#..\n",
      ".#...#...#..\n",
      ".#...#...#..\n",
      ".#...#...#..\n",
      ".#...#..###.\n",
      "............\n"
     ]
    }
   ],
   "source": [
    "def display_map(input_df, t):\n",
    "    display(input_df['x']+t*input_df['xv'],\n",
    "            input_df['y']+t*input_df['yv'])\n",
    "\n",
    "display_map(test_input_df, 3)"
   ]
  },
  {
   "cell_type": "markdown",
   "metadata": {
    "collapsed": true
   },
   "source": [
    "OK, good. Now go through the puzzle input and see where that gets us."
   ]
  },
  {
   "cell_type": "code",
   "execution_count": 8,
   "metadata": {},
   "outputs": [
    {
     "data": {
      "text/html": [
       "<div>\n",
       "<style scoped>\n",
       "    .dataframe tbody tr th:only-of-type {\n",
       "        vertical-align: middle;\n",
       "    }\n",
       "\n",
       "    .dataframe tbody tr th {\n",
       "        vertical-align: top;\n",
       "    }\n",
       "\n",
       "    .dataframe thead th {\n",
       "        text-align: right;\n",
       "    }\n",
       "</style>\n",
       "<table border=\"1\" class=\"dataframe\">\n",
       "  <thead>\n",
       "    <tr style=\"text-align: right;\">\n",
       "      <th></th>\n",
       "      <th>x</th>\n",
       "      <th>xv</th>\n",
       "      <th>y</th>\n",
       "      <th>yv</th>\n",
       "    </tr>\n",
       "  </thead>\n",
       "  <tbody>\n",
       "    <tr>\n",
       "      <th>0</th>\n",
       "      <td>-20620</td>\n",
       "      <td>2</td>\n",
       "      <td>-41485</td>\n",
       "      <td>4</td>\n",
       "    </tr>\n",
       "    <tr>\n",
       "      <th>1</th>\n",
       "      <td>-51844</td>\n",
       "      <td>5</td>\n",
       "      <td>41770</td>\n",
       "      <td>-4</td>\n",
       "    </tr>\n",
       "    <tr>\n",
       "      <th>2</th>\n",
       "      <td>-51817</td>\n",
       "      <td>5</td>\n",
       "      <td>-20670</td>\n",
       "      <td>2</td>\n",
       "    </tr>\n",
       "    <tr>\n",
       "      <th>3</th>\n",
       "      <td>21000</td>\n",
       "      <td>-2</td>\n",
       "      <td>52179</td>\n",
       "      <td>-5</td>\n",
       "    </tr>\n",
       "    <tr>\n",
       "      <th>4</th>\n",
       "      <td>21051</td>\n",
       "      <td>-2</td>\n",
       "      <td>31360</td>\n",
       "      <td>-3</td>\n",
       "    </tr>\n",
       "  </tbody>\n",
       "</table>\n",
       "</div>"
      ],
      "text/plain": [
       "       x  xv      y  yv\n",
       "0 -20620   2 -41485   4\n",
       "1 -51844   5  41770  -4\n",
       "2 -51817   5 -20670   2\n",
       "3  21000  -2  52179  -5\n",
       "4  21051  -2  31360  -3"
      ]
     },
     "execution_count": 8,
     "metadata": {},
     "output_type": "execute_result"
    }
   ],
   "source": [
    "# Parse the input string into a dataframe\n",
    "\n",
    "xs=[]\n",
    "ys=[]\n",
    "xvs=[]\n",
    "yvs=[]\n",
    "\n",
    "for (x, y, xv, yv) in re.findall('position=<(.+),(.+)> velocity=<(.*),(.*)>',\n",
    "                                 open('inputs/day10').read()):\n",
    "    xs.append(x)\n",
    "    ys.append(y)\n",
    "    xvs.append(xv)\n",
    "    yvs.append(yv)\n",
    "\n",
    "puzzle_input_df=pd.DataFrame({'x':[int(x.strip()) for x in xs],\n",
    "                       'y':[int(x.strip()) for x in ys],\n",
    "                       'xv':[int(x.strip()) for x in xvs],\n",
    "                       'yv':[int(x.strip()) for x in yvs]})\n",
    "\n",
    "puzzle_input_df.head()\n"
   ]
  },
  {
   "cell_type": "markdown",
   "metadata": {},
   "source": [
    "Ha! a quick eyeball of the data suggests it looks rather large :-). Let's see what the minimum size of the arrangement is."
   ]
  },
  {
   "cell_type": "code",
   "execution_count": 9,
   "metadata": {},
   "outputs": [
    {
     "data": {
      "text/plain": [
       "(103629, 103579, 10733788191)"
      ]
     },
     "execution_count": 9,
     "metadata": {},
     "output_type": "execute_result"
    }
   ],
   "source": [
    "# Size after t secs:\n",
    "t=50\n",
    "\n",
    "sxt=max(puzzle_input_df['x']+t*puzzle_input_df['xv'])-min(puzzle_input_df['x']+t*puzzle_input_df['xv'])\n",
    "\n",
    "syt=max(puzzle_input_df['y']+t*puzzle_input_df['yv'])-min(puzzle_input_df['y']+t*puzzle_input_df['yv'])\n",
    "\n",
    "(sxt, syt, sxt*syt)"
   ]
  },
  {
   "cell_type": "markdown",
   "metadata": {},
   "source": [
    "It converges quite slowly, so let's just hack it... find out what the minimum is for increasing sizes of t:"
   ]
  },
  {
   "cell_type": "code",
   "execution_count": 10,
   "metadata": {},
   "outputs": [
    {
     "data": {
      "text/plain": [
       "(549, 10407)"
      ]
     },
     "execution_count": 10,
     "metadata": {},
     "output_type": "execute_result"
    }
   ],
   "source": [
    "min([(((max(puzzle_input_df['x']+t*puzzle_input_df['xv'])-min(puzzle_input_df['x']+t*puzzle_input_df['xv'])) *\n",
    "  (max(puzzle_input_df['y']+t*puzzle_input_df['yv'])-min(puzzle_input_df['y']+t*puzzle_input_df['yv']))), t)\n",
    " for t in range(100000)])"
   ]
  },
  {
   "cell_type": "markdown",
   "metadata": {},
   "source": [
    "Let's see what the display is after 10407 seconds:"
   ]
  },
  {
   "cell_type": "code",
   "execution_count": 11,
   "metadata": {},
   "outputs": [
    {
     "name": "stdout",
     "output_type": "stream",
     "text": [
      "................................................................\n",
      ".#####...#....#..#........####...#####...#....#..######..#....#.\n",
      ".#....#..#....#..#.......#....#..#....#..##...#..#.......#...#..\n",
      ".#....#..#....#..#.......#.......#....#..##...#..#.......#..#...\n",
      ".#....#..#....#..#.......#.......#....#..#.#..#..#.......#.#....\n",
      ".#####...######..#.......#.......#####...#.#..#..#####...##.....\n",
      ".#.......#....#..#.......#..###..#..#....#..#.#..#.......##.....\n",
      ".#.......#....#..#.......#....#..#...#...#..#.#..#.......#.#....\n",
      ".#.......#....#..#.......#....#..#...#...#...##..#.......#..#...\n",
      ".#.......#....#..#.......#...##..#....#..#...##..#.......#...#..\n",
      ".#.......#....#..######...###.#..#....#..#....#..#.......#....#.\n",
      "................................................................\n"
     ]
    }
   ],
   "source": [
    "d=display_map(puzzle_input_df, 10407)"
   ]
  },
  {
   "cell_type": "markdown",
   "metadata": {},
   "source": [
    "Yep, that looks like it. "
   ]
  },
  {
   "cell_type": "markdown",
   "metadata": {},
   "source": [
    "## Part 2"
   ]
  },
  {
   "cell_type": "markdown",
   "metadata": {},
   "source": [
    "That's nice and easy, just the time value from the previous part."
   ]
  }
 ],
 "metadata": {
  "kernelspec": {
   "display_name": "Python 3",
   "language": "python",
   "name": "python3"
  },
  "language_info": {
   "codemirror_mode": {
    "name": "ipython",
    "version": 3
   },
   "file_extension": ".py",
   "mimetype": "text/x-python",
   "name": "python",
   "nbconvert_exporter": "python",
   "pygments_lexer": "ipython3",
   "version": "3.6.1"
  }
 },
 "nbformat": 4,
 "nbformat_minor": 2
}
