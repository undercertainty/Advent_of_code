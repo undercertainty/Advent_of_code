{
 "cells": [
  {
   "cell_type": "markdown",
   "metadata": {},
   "source": [
    "Merry Christmas everyone! \n",
    "\n",
    "[Advent of Code day 11](http://adventofcode.com/2018/day/11)"
   ]
  },
  {
   "cell_type": "code",
   "execution_count": 1,
   "metadata": {
    "collapsed": true
   },
   "outputs": [],
   "source": [
    "import numpy as np"
   ]
  },
  {
   "cell_type": "markdown",
   "metadata": {},
   "source": [
    "## Part 1"
   ]
  },
  {
   "cell_type": "markdown",
   "metadata": {},
   "source": [
    "Hmmm... not sure that this will take long to generate the actual grid, so maybe just do a naïve run at it first:"
   ]
  },
  {
   "cell_type": "code",
   "execution_count": 2,
   "metadata": {},
   "outputs": [],
   "source": [
    "def get_hundreds(i):\n",
    "    \"Return number of hundreds in i\"\n",
    "    return int(str(i).zfill(3)[-3])"
   ]
  },
  {
   "cell_type": "code",
   "execution_count": 3,
   "metadata": {},
   "outputs": [
    {
     "data": {
      "text/plain": [
       "array([[0, 0, 0, ..., 0, 0, 0],\n",
       "       [0, 0, 0, ..., 0, 0, 0],\n",
       "       [0, 0, 0, ..., 0, 0, 0],\n",
       "       ..., \n",
       "       [0, 0, 0, ..., 0, 0, 0],\n",
       "       [0, 0, 0, ..., 0, 0, 0],\n",
       "       [0, 0, 0, ..., 0, 0, 0]])"
      ]
     },
     "execution_count": 3,
     "metadata": {},
     "output_type": "execute_result"
    }
   ],
   "source": [
    "grid_ar=np.zeros([300, 300], dtype=np.int)\n",
    "\n",
    "grid_ar"
   ]
  },
  {
   "cell_type": "markdown",
   "metadata": {},
   "source": [
    "Add the rack IDs:"
   ]
  },
  {
   "cell_type": "code",
   "execution_count": 4,
   "metadata": {},
   "outputs": [
    {
     "data": {
      "text/plain": [
       "array([[ 11,  12,  13, ..., 308, 309, 310],\n",
       "       [ 11,  12,  13, ..., 308, 309, 310],\n",
       "       [ 11,  12,  13, ..., 308, 309, 310],\n",
       "       ..., \n",
       "       [ 11,  12,  13, ..., 308, 309, 310],\n",
       "       [ 11,  12,  13, ..., 308, 309, 310],\n",
       "       [ 11,  12,  13, ..., 308, 309, 310]])"
      ]
     },
     "execution_count": 4,
     "metadata": {},
     "output_type": "execute_result"
    }
   ],
   "source": [
    "rack_id_ar=np.array([[10+i for i in range(1, 301)]] * 300)\n",
    "\n",
    "grid_ar+=rack_id_ar\n",
    "grid_ar"
   ]
  },
  {
   "cell_type": "code",
   "execution_count": 5,
   "metadata": {},
   "outputs": [
    {
     "data": {
      "text/plain": [
       "array([[ 11,  12,  13, ..., 308, 309, 310],\n",
       "       [ 11,  12,  13, ..., 308, 309, 310],\n",
       "       [ 11,  12,  13, ..., 308, 309, 310],\n",
       "       ..., \n",
       "       [ 11,  12,  13, ..., 308, 309, 310],\n",
       "       [ 11,  12,  13, ..., 308, 309, 310],\n",
       "       [ 11,  12,  13, ..., 308, 309, 310]])"
      ]
     },
     "execution_count": 5,
     "metadata": {},
     "output_type": "execute_result"
    }
   ],
   "source": [
    "np.array([[10+i for i in range(1, 301)]] * 300)"
   ]
  },
  {
   "cell_type": "markdown",
   "metadata": {},
   "source": [
    "Multiply the rack ID by the Y coordinate"
   ]
  },
  {
   "cell_type": "code",
   "execution_count": 6,
   "metadata": {},
   "outputs": [
    {
     "data": {
      "text/plain": [
       "array([[  1,   1,   1, ...,   1,   1,   1],\n",
       "       [  2,   2,   2, ...,   2,   2,   2],\n",
       "       [  3,   3,   3, ...,   3,   3,   3],\n",
       "       ..., \n",
       "       [298, 298, 298, ..., 298, 298, 298],\n",
       "       [299, 299, 299, ..., 299, 299, 299],\n",
       "       [300, 300, 300, ..., 300, 300, 300]])"
      ]
     },
     "execution_count": 6,
     "metadata": {},
     "output_type": "execute_result"
    }
   ],
   "source": [
    "y_coordinates_ar=np.array([[i]*300 for i in range(1, 301)])\n",
    "\n",
    "y_coordinates_ar"
   ]
  },
  {
   "cell_type": "code",
   "execution_count": 7,
   "metadata": {},
   "outputs": [
    {
     "data": {
      "text/plain": [
       "array([[   11,    12,    13, ...,   308,   309,   310],\n",
       "       [   22,    24,    26, ...,   616,   618,   620],\n",
       "       [   33,    36,    39, ...,   924,   927,   930],\n",
       "       ..., \n",
       "       [ 3278,  3576,  3874, ..., 91784, 92082, 92380],\n",
       "       [ 3289,  3588,  3887, ..., 92092, 92391, 92690],\n",
       "       [ 3300,  3600,  3900, ..., 92400, 92700, 93000]])"
      ]
     },
     "execution_count": 7,
     "metadata": {},
     "output_type": "execute_result"
    }
   ],
   "source": [
    "grid_ar*=y_coordinates_ar\n",
    "grid_ar"
   ]
  },
  {
   "cell_type": "markdown",
   "metadata": {},
   "source": [
    "Add the serial number"
   ]
  },
  {
   "cell_type": "code",
   "execution_count": 8,
   "metadata": {},
   "outputs": [
    {
     "data": {
      "text/plain": [
       "array([[   19,    20,    21, ...,   316,   317,   318],\n",
       "       [   30,    32,    34, ...,   624,   626,   628],\n",
       "       [   41,    44,    47, ...,   932,   935,   938],\n",
       "       ..., \n",
       "       [ 3286,  3584,  3882, ..., 91792, 92090, 92388],\n",
       "       [ 3297,  3596,  3895, ..., 92100, 92399, 92698],\n",
       "       [ 3308,  3608,  3908, ..., 92408, 92708, 93008]])"
      ]
     },
     "execution_count": 8,
     "metadata": {},
     "output_type": "execute_result"
    }
   ],
   "source": [
    "test_serial_number=8\n",
    "\n",
    "grid_ar+=test_serial_number\n",
    "\n",
    "grid_ar"
   ]
  },
  {
   "cell_type": "markdown",
   "metadata": {},
   "source": [
    "Multiply again by the rack ID:"
   ]
  },
  {
   "cell_type": "code",
   "execution_count": 9,
   "metadata": {
    "collapsed": true
   },
   "outputs": [],
   "source": [
    "grid_ar*=rack_id_ar"
   ]
  },
  {
   "cell_type": "code",
   "execution_count": 10,
   "metadata": {},
   "outputs": [
    {
     "data": {
      "text/plain": [
       "949"
      ]
     },
     "execution_count": 10,
     "metadata": {},
     "output_type": "execute_result"
    }
   ],
   "source": [
    "grid_ar[4][2]"
   ]
  },
  {
   "cell_type": "markdown",
   "metadata": {},
   "source": [
    "Apply the `get_hundreds` function to the array:"
   ]
  },
  {
   "cell_type": "code",
   "execution_count": 11,
   "metadata": {},
   "outputs": [
    {
     "data": {
      "text/plain": [
       "array([[2, 2, 2, ..., 3, 9, 5],\n",
       "       [3, 3, 4, ..., 1, 4, 6],\n",
       "       [4, 5, 6, ..., 0, 9, 7],\n",
       "       ..., \n",
       "       [1, 0, 4, ..., 9, 8, 2],\n",
       "       [2, 1, 6, ..., 8, 2, 3],\n",
       "       [3, 2, 8, ..., 6, 7, 4]])"
      ]
     },
     "execution_count": 11,
     "metadata": {},
     "output_type": "execute_result"
    }
   ],
   "source": [
    "np.vectorize(get_hundreds)(grid_ar)"
   ]
  },
  {
   "cell_type": "markdown",
   "metadata": {},
   "source": [
    "And subtract 5:"
   ]
  },
  {
   "cell_type": "code",
   "execution_count": 12,
   "metadata": {
    "collapsed": true
   },
   "outputs": [],
   "source": [
    "ar=_-5"
   ]
  },
  {
   "cell_type": "code",
   "execution_count": 13,
   "metadata": {},
   "outputs": [
    {
     "data": {
      "text/plain": [
       "4"
      ]
     },
     "execution_count": 13,
     "metadata": {},
     "output_type": "execute_result"
    }
   ],
   "source": [
    "ar[4][2]"
   ]
  },
  {
   "cell_type": "markdown",
   "metadata": {},
   "source": [
    "OK, let's put all that into a single function:"
   ]
  },
  {
   "cell_type": "code",
   "execution_count": 14,
   "metadata": {
    "collapsed": true
   },
   "outputs": [],
   "source": [
    "def generate_fuel_cells(serial_number):\n",
    "    '''Generates grid of fuel cells'''\n",
    "    rack_id_ar=np.array([[10+i for i in range(1, 301)]] * 300)\n",
    "    y_coordinates_ar=np.array([[i]*300 for i in range(1, 301)])\n",
    "    \n",
    "    \n",
    "    grid_out_ar=np.zeros([300, 300], dtype=np.int)\n",
    "    grid_out_ar+=rack_id_ar\n",
    "    grid_out_ar*=y_coordinates_ar\n",
    "    grid_out_ar+=serial_number\n",
    "    grid_out_ar*=rack_id_ar\n",
    "    grid_out_ar=np.vectorize(get_hundreds)(grid_out_ar)\n",
    "    grid_out_ar-=5\n",
    "    \n",
    "    # And I'll return the transpose so that the coordinates\n",
    "    # match to X and Y\n",
    "    return grid_out_ar.T\n",
    "    \n",
    "    "
   ]
  },
  {
   "cell_type": "markdown",
   "metadata": {},
   "source": [
    "When calling the grid, remember that the grid dimensions are offset by 1."
   ]
  },
  {
   "cell_type": "code",
   "execution_count": 15,
   "metadata": {},
   "outputs": [],
   "source": [
    "assert generate_fuel_cells(8)[2,4]==4\n",
    "assert generate_fuel_cells(57)[121, 78]==-5\n",
    "assert generate_fuel_cells(39)[216, 195]==0\n",
    "assert generate_fuel_cells(71)[100, 152]==4"
   ]
  },
  {
   "cell_type": "markdown",
   "metadata": {},
   "source": [
    "OK, good. Now find the smallest 3\\*3 subgrid.\n",
    "\n",
    "We can use `sum(sum(...))` to get the sum of all the members of the grid, as with:"
   ]
  },
  {
   "cell_type": "code",
   "execution_count": 16,
   "metadata": {},
   "outputs": [
    {
     "data": {
      "text/plain": [
       "array([[ 3, -5, -3],\n",
       "       [-5, -2,  0],\n",
       "       [-2,  1,  4]])"
      ]
     },
     "execution_count": 16,
     "metadata": {},
     "output_type": "execute_result"
    }
   ],
   "source": [
    "ar=generate_fuel_cells(18)\n",
    "ar[4:7, 6:9]"
   ]
  },
  {
   "cell_type": "code",
   "execution_count": 17,
   "metadata": {},
   "outputs": [
    {
     "data": {
      "text/plain": [
       "-9"
      ]
     },
     "execution_count": 17,
     "metadata": {},
     "output_type": "execute_result"
    }
   ],
   "source": [
    "ar=generate_fuel_cells(18)\n",
    "sum(sum(ar[4:7, 6:9]))"
   ]
  },
  {
   "cell_type": "markdown",
   "metadata": {},
   "source": [
    "Good, so now we can just use `max`:"
   ]
  },
  {
   "cell_type": "code",
   "execution_count": 18,
   "metadata": {},
   "outputs": [
    {
     "data": {
      "text/plain": [
       "(29, 33, 45)"
      ]
     },
     "execution_count": 18,
     "metadata": {},
     "output_type": "execute_result"
    }
   ],
   "source": [
    "# Add x+1 and y+1 to make it easier to read:\n",
    "\n",
    "max([(sum(sum(ar[x:x+3,y:y+3])), x+1, y+1) for x in range(300) for y in range(300)])"
   ]
  },
  {
   "cell_type": "markdown",
   "metadata": {},
   "source": [
    "Check the results:"
   ]
  },
  {
   "cell_type": "code",
   "execution_count": 19,
   "metadata": {
    "collapsed": true
   },
   "outputs": [],
   "source": [
    "ar=generate_fuel_cells(18)\n",
    "assert max([(sum(sum(ar[x:x+3,y:y+3])), x+1, y+1) for x in range(300) for y in range(300)]) == (29, 33, 45)\n",
    "\n",
    "ar=generate_fuel_cells(42)\n",
    "assert max([(sum(sum(ar[x:x+3,y:y+3])), x+1, y+1) for x in range(300) for y in range(300)]) == (30, 21, 61)\n",
    "\n"
   ]
  },
  {
   "cell_type": "markdown",
   "metadata": {},
   "source": [
    "OK, those work. So for my puzzle input of 9445, have:"
   ]
  },
  {
   "cell_type": "code",
   "execution_count": 20,
   "metadata": {},
   "outputs": [
    {
     "data": {
      "text/plain": [
       "(29, 233, 36)"
      ]
     },
     "execution_count": 20,
     "metadata": {},
     "output_type": "execute_result"
    }
   ],
   "source": [
    "ar=generate_fuel_cells(9445)\n",
    "max([(sum(sum(ar[x:x+3,y:y+3])), x+1, y+1) for x in range(300) for y in range(300)])"
   ]
  },
  {
   "cell_type": "markdown",
   "metadata": {},
   "source": [
    "Yep, that looks like it. "
   ]
  },
  {
   "cell_type": "markdown",
   "metadata": {},
   "source": [
    "## Part 2"
   ]
  },
  {
   "cell_type": "markdown",
   "metadata": {},
   "source": [
    "Shouldn't be too hard, although as usual I'll brute force it in the first instance."
   ]
  },
  {
   "cell_type": "markdown",
   "metadata": {},
   "source": [
    "Wrap it in a function (put in the grid as an input: don't want to keep reconstructing it)"
   ]
  },
  {
   "cell_type": "code",
   "execution_count": 21,
   "metadata": {},
   "outputs": [],
   "source": [
    "def get_maximum_grid(input_grid, subgrid_size):\n",
    "    '''\n",
    "    Return the coordinates and size of highest \n",
    "    power subgrid of size subgrid_size\n",
    "    '''\n",
    "    # Check that the input's the right size\n",
    "    assert input_grid.size==90000\n",
    "    \n",
    "    return max([(sum(sum(input_grid[x:x+subgrid_size,y:y+subgrid_size])), x+1, y+1) \n",
    "                for x in range(300-subgrid_size) for y in range(300-subgrid_size)])"
   ]
  },
  {
   "cell_type": "code",
   "execution_count": 22,
   "metadata": {
    "collapsed": true
   },
   "outputs": [],
   "source": [
    "ar=generate_fuel_cells(42)"
   ]
  },
  {
   "cell_type": "code",
   "execution_count": 23,
   "metadata": {},
   "outputs": [
    {
     "data": {
      "text/plain": [
       "(30, 21, 61)"
      ]
     },
     "execution_count": 23,
     "metadata": {},
     "output_type": "execute_result"
    }
   ],
   "source": [
    "get_maximum_grid(ar, 3)"
   ]
  },
  {
   "cell_type": "raw",
   "metadata": {},
   "source": [
    "ar=generate_fuel_cells(42)\n",
    "\n",
    "for i in range(1, 300):\n",
    "    print(i, end='')\n",
    "    print(get_maximum_grid(ar, i))"
   ]
  },
  {
   "cell_type": "markdown",
   "metadata": {},
   "source": [
    "Hmmm... that's interesting. Looks like it peaks quite early, then goes heavily negative. Let's just assume that if the maximum is negative, then we've found the global max. Might not work and I don't have the time or inclination to prove it, but let's give it a go."
   ]
  },
  {
   "cell_type": "code",
   "execution_count": 24,
   "metadata": {},
   "outputs": [],
   "source": [
    "def global_max(serial_number):\n",
    "    '''Return the global max serial number, with the coords and subgrid size'''\n",
    "    fuel_array=generate_fuel_cells(serial_number)\n",
    "    \n",
    "    current_subgrid_size=1\n",
    "    global_max=0\n",
    "    current_max=1\n",
    "    \n",
    "    while current_max>=0:\n",
    "        (current_max, x, y)=get_maximum_grid(fuel_array, current_subgrid_size)\n",
    "        if current_max>global_max:\n",
    "            global_max=current_max\n",
    "            max_x=x\n",
    "            max_y=y\n",
    "            max_s=current_subgrid_size\n",
    "        current_subgrid_size+=1\n",
    "    \n",
    "    return (global_max, max_x, max_y, max_s)\n",
    "            \n",
    "        \n",
    "        \n",
    "        \n",
    "\n"
   ]
  },
  {
   "cell_type": "code",
   "execution_count": 25,
   "metadata": {},
   "outputs": [
    {
     "data": {
      "text/plain": [
       "(113, 90, 269, 16)"
      ]
     },
     "execution_count": 25,
     "metadata": {},
     "output_type": "execute_result"
    }
   ],
   "source": [
    "ar=generate_fuel_cells(18)\n",
    "\n",
    "get_maximum_grid(ar, 3)\n",
    "global_max(18)"
   ]
  },
  {
   "cell_type": "markdown",
   "metadata": {},
   "source": [
    "That seems to be working. Also do a check for 42:"
   ]
  },
  {
   "cell_type": "code",
   "execution_count": 26,
   "metadata": {},
   "outputs": [],
   "source": [
    "assert global_max(18)[1:4]==(90,269,16)\n",
    "assert global_max(42)[1:4]==(232,251,12)"
   ]
  },
  {
   "cell_type": "markdown",
   "metadata": {},
   "source": [
    "And finally with the test input:"
   ]
  },
  {
   "cell_type": "code",
   "execution_count": 27,
   "metadata": {},
   "outputs": [
    {
     "data": {
      "text/plain": [
       "(231, 107, 14)"
      ]
     },
     "execution_count": 27,
     "metadata": {},
     "output_type": "execute_result"
    }
   ],
   "source": [
    "global_max(9445)[1:4]"
   ]
  },
  {
   "cell_type": "markdown",
   "metadata": {},
   "source": [
    "Done."
   ]
  }
 ],
 "metadata": {
  "kernelspec": {
   "display_name": "Python 3",
   "language": "python",
   "name": "python3"
  },
  "language_info": {
   "codemirror_mode": {
    "name": "ipython",
    "version": 3
   },
   "file_extension": ".py",
   "mimetype": "text/x-python",
   "name": "python",
   "nbconvert_exporter": "python",
   "pygments_lexer": "ipython3",
   "version": "3.6.1"
  }
 },
 "nbformat": 4,
 "nbformat_minor": 2
}
