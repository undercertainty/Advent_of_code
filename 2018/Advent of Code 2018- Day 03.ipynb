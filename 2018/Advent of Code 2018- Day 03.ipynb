{
 "cells": [
  {
   "cell_type": "markdown",
   "metadata": {},
   "source": [
    "Merry Christmas everyone! \n",
    "\n",
    "[Advent of Code day 3](http://adventofcode.com/2018/day/3)"
   ]
  },
  {
   "cell_type": "markdown",
   "metadata": {},
   "source": [
    "## Part 1"
   ]
  },
  {
   "cell_type": "markdown",
   "metadata": {},
   "source": [
    "Slightly more complicated from here. "
   ]
  },
  {
   "cell_type": "markdown",
   "metadata": {},
   "source": [
    "We'll want regexps for the input, and arrays for the claims"
   ]
  },
  {
   "cell_type": "code",
   "execution_count": 1,
   "metadata": {
    "collapsed": true
   },
   "outputs": [],
   "source": [
    "import re\n",
    "\n",
    "import numpy as np"
   ]
  },
  {
   "cell_type": "code",
   "execution_count": 2,
   "metadata": {},
   "outputs": [],
   "source": [
    "m=re.match('(.+)\\s@\\s(\\d+),(\\d+):\\s(\\d+)x(\\d+)', '#1 @ 1,3: 4x4')"
   ]
  },
  {
   "cell_type": "markdown",
   "metadata": {
    "collapsed": true
   },
   "source": [
    "OK... now I'd like a function which takes a sheet size, offset and size and returns an `np.ndarray` of zeros, except for the bit that's claimed."
   ]
  },
  {
   "cell_type": "code",
   "execution_count": 3,
   "metadata": {
    "collapsed": true
   },
   "outputs": [],
   "source": [
    "def claim(sheet_size, offset_x, offset_y, size_x, size_y):\n",
    "    '''\n",
    "    Return an ndarray of size sheet_size square, with\n",
    "    zeros except for the claim (which is 1)\n",
    "    '''\n",
    "    # Set up the initial sheet\n",
    "    out=np.zeros((sheet_size, sheet_size), dtype=np.int)\n",
    "    \n",
    "    # set the values of the claimed square to 1\n",
    "    # Probably a better way than with a for loop,\n",
    "    # but I don't know numpy that well\n",
    "    for i in range(offset_y, offset_y+size_y):\n",
    "        out[i][offset_x:offset_x+size_x]=1\n",
    "    \n",
    "    \n",
    "    return out"
   ]
  },
  {
   "cell_type": "code",
   "execution_count": 4,
   "metadata": {},
   "outputs": [
    {
     "data": {
      "text/plain": [
       "array([[0, 0, 0, 0, 0, 0, 0, 0, 0, 0],\n",
       "       [0, 0, 0, 0, 0, 0, 0, 0, 0, 0],\n",
       "       [0, 0, 0, 1, 1, 1, 1, 1, 0, 0],\n",
       "       [0, 0, 0, 1, 1, 1, 1, 1, 0, 0],\n",
       "       [0, 0, 0, 1, 1, 1, 1, 1, 0, 0],\n",
       "       [0, 0, 0, 1, 1, 1, 1, 1, 0, 0],\n",
       "       [0, 0, 0, 0, 0, 0, 0, 0, 0, 0],\n",
       "       [0, 0, 0, 0, 0, 0, 0, 0, 0, 0],\n",
       "       [0, 0, 0, 0, 0, 0, 0, 0, 0, 0],\n",
       "       [0, 0, 0, 0, 0, 0, 0, 0, 0, 0]])"
      ]
     },
     "execution_count": 4,
     "metadata": {},
     "output_type": "execute_result"
    }
   ],
   "source": [
    "a=claim(10, 3, 2, 5, 4)\n",
    "\n",
    "a"
   ]
  },
  {
   "cell_type": "markdown",
   "metadata": {},
   "source": [
    "Seems OK. "
   ]
  },
  {
   "cell_type": "markdown",
   "metadata": {},
   "source": [
    "Now, want to create one of these arrays for each claim, and then sum them. Let's parse the input, and use the list of claims to ascertain how big the original sheet needs to be:"
   ]
  },
  {
   "cell_type": "code",
   "execution_count": 5,
   "metadata": {},
   "outputs": [],
   "source": [
    "def parse_input(string_in):\n",
    "    '''\n",
    "    Return a dict of claims, indexed by the claim ID\n",
    "    '''\n",
    "    out_dict={}\n",
    "    for nl in string_in.split('\\n'):\n",
    "        m=re.match('(.+)\\s@\\s(\\d+),(\\d+):\\s(\\d+)x(\\d+)', nl.strip())\n",
    "        if m:\n",
    "            out_dict[m.group(1)]=[int(m.group(x)) for x in range(2, 6)]\n",
    "    return out_dict"
   ]
  },
  {
   "cell_type": "code",
   "execution_count": 6,
   "metadata": {},
   "outputs": [
    {
     "data": {
      "text/plain": [
       "{'#1': [1, 3, 4, 4], '#2': [3, 1, 4, 4], '#3': [5, 5, 2, 2]}"
      ]
     },
     "execution_count": 6,
     "metadata": {},
     "output_type": "execute_result"
    }
   ],
   "source": [
    "d=parse_input('''\n",
    "    #1 @ 1,3: 4x4\n",
    "    #2 @ 3,1: 4x4\n",
    "    #3 @ 5,5: 2x2\n",
    "    ''')\n",
    "d"
   ]
  },
  {
   "cell_type": "markdown",
   "metadata": {},
   "source": [
    "Maximum needed size of the overall sheet is the biggest offset plus the biggest size in the same dimension:"
   ]
  },
  {
   "cell_type": "code",
   "execution_count": 7,
   "metadata": {},
   "outputs": [
    {
     "data": {
      "text/plain": [
       "7"
      ]
     },
     "execution_count": 7,
     "metadata": {},
     "output_type": "execute_result"
    }
   ],
   "source": [
    "\n",
    "\n",
    "max_sheet_size=max([ox+sx for (ox, oy, sx, sy) in d.values()] +\n",
    "                   [oy+sy for (ox, oy, sx, sy) in d.values()])\n",
    "\n",
    "max_sheet_size"
   ]
  },
  {
   "cell_type": "markdown",
   "metadata": {},
   "source": [
    "And then simply (ahem) sum the arrays and count the number of elements which are greater than 1."
   ]
  },
  {
   "cell_type": "code",
   "execution_count": 8,
   "metadata": {
    "collapsed": true
   },
   "outputs": [],
   "source": [
    "def count_overlap(string_in):\n",
    "    '''\n",
    "    Count overlapping squares from input of claims\n",
    "    '''\n",
    "    d=parse_input(string_in)\n",
    "    max_sheet_size=max([ox+sx for (ox, oy, sx, sy) in d.values()] +\n",
    "                       [oy+sy for (ox, oy, sx, sy) in d.values()])\n",
    "    \n",
    "    array_out=np.zeros((max_sheet_size, max_sheet_size), dtype=np.int)\n",
    "    \n",
    "    for k in d:\n",
    "        array_out += claim(max_sheet_size,\n",
    "                           d[k][0], d[k][1], d[k][2], d[k][3])\n",
    "    \n",
    "    return len([x for x in array_out.flatten() if x>=2])"
   ]
  },
  {
   "cell_type": "code",
   "execution_count": 9,
   "metadata": {},
   "outputs": [],
   "source": [
    "assert count_overlap('''#1 @ 1,3: 4x4\n",
    "                        #2 @ 3,1: 4x4\n",
    "                        #3 @ 5,5: 2x2''') == 4"
   ]
  },
  {
   "cell_type": "markdown",
   "metadata": {},
   "source": [
    "OK, the assert works. Now for my input:"
   ]
  },
  {
   "cell_type": "code",
   "execution_count": 10,
   "metadata": {},
   "outputs": [
    {
     "name": "stdout",
     "output_type": "stream",
     "text": [
      "96569\n"
     ]
    }
   ],
   "source": [
    "with open('inputs/day3') as fIn:\n",
    "    print(count_overlap(fIn.read()))"
   ]
  },
  {
   "cell_type": "markdown",
   "metadata": {},
   "source": [
    "## Part 2"
   ]
  },
  {
   "cell_type": "markdown",
   "metadata": {},
   "source": [
    "Again, this is going to be a bit (!) hacky. Let's try a pairwise comparison. With luck, the arrays are handled efficiently enough that my horribly inefficient code won't be a problem :-)."
   ]
  },
  {
   "cell_type": "markdown",
   "metadata": {},
   "source": [
    "Ha! That didn't work. Easier to write a function to check for overlap just from the numbers:"
   ]
  },
  {
   "cell_type": "code",
   "execution_count": 11,
   "metadata": {},
   "outputs": [],
   "source": [
    "def overlap(claim1, claim2):\n",
    "    '''True if the two claims overlap, fFalse otherwise'''\n",
    "    [x1, y1, sx1, sy1]=[claim1[0], claim1[1], claim1[2], claim1[3]]\n",
    "    [x2, y2, sx2, sy2]=[claim2[0], claim2[1], claim2[2], claim2[3]]\n",
    "    \n",
    "    return ((x2>=x1 and x2<x1+sx1) or (x1>=x2 and x1<x2+sx2)) and \\\n",
    "           ((y2>=y1 and y2<y1+sy1) or (y1>=y2 and y1<y2+sy2))"
   ]
  },
  {
   "cell_type": "code",
   "execution_count": 12,
   "metadata": {},
   "outputs": [
    {
     "data": {
      "text/plain": [
       "[1, 3, 4, 4]"
      ]
     },
     "execution_count": 12,
     "metadata": {},
     "output_type": "execute_result"
    }
   ],
   "source": [
    "#Check for the original input:\n",
    "\n",
    "d=parse_input('''#1 @ 1,3: 4x4\n",
    "                        #2 @ 3,1: 4x4\n",
    "                        #3 @ 5,5: 2x2''')\n",
    "\n",
    "d['#1']"
   ]
  },
  {
   "cell_type": "code",
   "execution_count": 13,
   "metadata": {},
   "outputs": [
    {
     "data": {
      "text/plain": [
       "False"
      ]
     },
     "execution_count": 13,
     "metadata": {},
     "output_type": "execute_result"
    }
   ],
   "source": [
    "overlap(d['#1'], d['#3'])"
   ]
  },
  {
   "cell_type": "markdown",
   "metadata": {},
   "source": [
    "So we can now check see whether a given claim overlaps with any of the others:"
   ]
  },
  {
   "cell_type": "code",
   "execution_count": 14,
   "metadata": {},
   "outputs": [
    {
     "data": {
      "text/plain": [
       "[True, False]"
      ]
     },
     "execution_count": 14,
     "metadata": {},
     "output_type": "execute_result"
    }
   ],
   "source": [
    "# Try with claim #1:\n",
    "\n",
    "k='#1'\n",
    "[overlap(d[k1], d[k]) for k1 in d if k!=k1]"
   ]
  },
  {
   "cell_type": "markdown",
   "metadata": {},
   "source": [
    "And we should be able to do this for all the claims:"
   ]
  },
  {
   "cell_type": "code",
   "execution_count": 15,
   "metadata": {},
   "outputs": [
    {
     "data": {
      "text/plain": [
       "{'#1': [True, False], '#2': [True, False], '#3': [False, False]}"
      ]
     },
     "execution_count": 15,
     "metadata": {},
     "output_type": "execute_result"
    }
   ],
   "source": [
    "{k:[overlap(d[k1], d[k]) for k1 in d if k!=k1] for k in d}"
   ]
  },
  {
   "cell_type": "markdown",
   "metadata": {},
   "source": [
    "Add an `any` check, so it's `True` if it overlaps with any of the others:"
   ]
  },
  {
   "cell_type": "code",
   "execution_count": 16,
   "metadata": {},
   "outputs": [
    {
     "data": {
      "text/plain": [
       "{'#1': True, '#2': True, '#3': False}"
      ]
     },
     "execution_count": 16,
     "metadata": {},
     "output_type": "execute_result"
    }
   ],
   "source": [
    "coverage_dict={k:any([overlap(d[k1], d[k]) for k1 in d if k!=k1]) for k in d}\n",
    "coverage_dict"
   ]
  },
  {
   "cell_type": "markdown",
   "metadata": {},
   "source": [
    "And get the claims which don't have any overlap:"
   ]
  },
  {
   "cell_type": "code",
   "execution_count": 17,
   "metadata": {},
   "outputs": [
    {
     "data": {
      "text/plain": [
       "['#3']"
      ]
     },
     "execution_count": 17,
     "metadata": {},
     "output_type": "execute_result"
    }
   ],
   "source": [
    "[claim for claim in coverage_dict if not coverage_dict[claim]]"
   ]
  },
  {
   "cell_type": "markdown",
   "metadata": {},
   "source": [
    "OK, works for the test case. Try with my input:"
   ]
  },
  {
   "cell_type": "code",
   "execution_count": 18,
   "metadata": {},
   "outputs": [
    {
     "data": {
      "text/plain": [
       "[555, 514, 18, 14]"
      ]
     },
     "execution_count": 18,
     "metadata": {},
     "output_type": "execute_result"
    }
   ],
   "source": [
    "with open('inputs/day3') as fIn:\n",
    "    d=parse_input(fIn.read())\n",
    "d['#12']"
   ]
  },
  {
   "cell_type": "code",
   "execution_count": 19,
   "metadata": {},
   "outputs": [
    {
     "data": {
      "text/plain": [
       "['#1023']"
      ]
     },
     "execution_count": 19,
     "metadata": {},
     "output_type": "execute_result"
    }
   ],
   "source": [
    "coverage_dict={k:any([overlap(d[k1], d[k]) for k1 in d if k!=k1]) for k in d}\n",
    "\n",
    "[claim for claim in coverage_dict if not coverage_dict[claim]]"
   ]
  },
  {
   "cell_type": "code",
   "execution_count": null,
   "metadata": {
    "collapsed": true
   },
   "outputs": [],
   "source": []
  }
 ],
 "metadata": {
  "kernelspec": {
   "display_name": "Python 3",
   "language": "python",
   "name": "python3"
  },
  "language_info": {
   "codemirror_mode": {
    "name": "ipython",
    "version": 3
   },
   "file_extension": ".py",
   "mimetype": "text/x-python",
   "name": "python",
   "nbconvert_exporter": "python",
   "pygments_lexer": "ipython3",
   "version": "3.6.1"
  }
 },
 "nbformat": 4,
 "nbformat_minor": 2
}
