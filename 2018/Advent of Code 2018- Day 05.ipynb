{
 "cells": [
  {
   "cell_type": "markdown",
   "metadata": {},
   "source": [
    "Merry Christmas everyone! \n",
    "\n",
    "[Advent of Code day 5](http://adventofcode.com/2018/day/5)"
   ]
  },
  {
   "cell_type": "markdown",
   "metadata": {},
   "source": [
    "## Part 1"
   ]
  },
  {
   "cell_type": "markdown",
   "metadata": {},
   "source": [
    "This should be fairly straightforward..? Use `re.sub` until all the substitutions have been made."
   ]
  },
  {
   "cell_type": "code",
   "execution_count": 1,
   "metadata": {
    "collapsed": true
   },
   "outputs": [],
   "source": [
    "import re"
   ]
  },
  {
   "cell_type": "markdown",
   "metadata": {},
   "source": [
    "Build the expression with a loop:"
   ]
  },
  {
   "cell_type": "code",
   "execution_count": 2,
   "metadata": {},
   "outputs": [],
   "source": [
    "reactor='|'.join(['{}{}|{}{}'.format(c, c.upper(), c.upper(), c) for c in 'abcdefghijklmnopqrstuvwxyz'])"
   ]
  },
  {
   "cell_type": "code",
   "execution_count": 3,
   "metadata": {
    "collapsed": true
   },
   "outputs": [],
   "source": [
    "test_input_str='dabAcCaCBAcCcaDA'"
   ]
  },
  {
   "cell_type": "code",
   "execution_count": 4,
   "metadata": {},
   "outputs": [
    {
     "data": {
      "text/plain": [
       "'dabCBAcaDA'"
      ]
     },
     "execution_count": 4,
     "metadata": {},
     "output_type": "execute_result"
    }
   ],
   "source": [
    "out1=test_input_str\n",
    "out=''\n",
    "\n",
    "while out!=out1:\n",
    "    out=out1\n",
    "    out1=re.sub(reactor, '', out1)\n",
    "out"
   ]
  },
  {
   "cell_type": "markdown",
   "metadata": {},
   "source": [
    "Seems OK. Let's wrap it into a function:"
   ]
  },
  {
   "cell_type": "code",
   "execution_count": 5,
   "metadata": {
    "collapsed": true
   },
   "outputs": [],
   "source": [
    "def reduce_polymer(str_in):\n",
    "    '''Return the string formed by repeatedly reducing the input polymer'''\n",
    "    out1=str_in\n",
    "    out=''\n",
    "\n",
    "    while out!=out1:\n",
    "        out=out1\n",
    "        out1=re.sub(reactor, '', out1)\n",
    "    return out"
   ]
  },
  {
   "cell_type": "code",
   "execution_count": 6,
   "metadata": {},
   "outputs": [],
   "source": [
    "assert reduce_polymer(test_input_str)=='dabCBAcaDA'"
   ]
  },
  {
   "cell_type": "markdown",
   "metadata": {},
   "source": [
    "And apply to the puzzle input:"
   ]
  },
  {
   "cell_type": "code",
   "execution_count": 7,
   "metadata": {},
   "outputs": [
    {
     "name": "stdout",
     "output_type": "stream",
     "text": [
      "9154\n"
     ]
    }
   ],
   "source": [
    "print(len(reduce_polymer(open('inputs/day5').read().strip())))"
   ]
  },
  {
   "cell_type": "markdown",
   "metadata": {},
   "source": [
    "## Part 2"
   ]
  },
  {
   "cell_type": "markdown",
   "metadata": {},
   "source": [
    "Any reason not to do this with brute force? Check with the test input first:"
   ]
  },
  {
   "cell_type": "code",
   "execution_count": 8,
   "metadata": {},
   "outputs": [
    {
     "name": "stdout",
     "output_type": "stream",
     "text": [
      "c 4\n",
      "d 6\n",
      "b 8\n",
      "a 6\n"
     ]
    }
   ],
   "source": [
    "for c in {c1 for c1 in test_input_str.lower()}:\n",
    "    str1=test_input_str.replace(c, '').replace(c.upper(), '')\n",
    "    print(c, len(reduce_polymer(str1)))"
   ]
  },
  {
   "cell_type": "markdown",
   "metadata": {},
   "source": [
    "Wrap in a function:"
   ]
  },
  {
   "cell_type": "code",
   "execution_count": 9,
   "metadata": {},
   "outputs": [],
   "source": [
    "def find_unit(input_str):\n",
    "    '''Return the unit which allows the greatest reduction'''\n",
    "    d={}\n",
    "    for c in {c1 for c1 in input_str.lower()}:\n",
    "        str1=input_str.replace(c, '').replace(c.upper(), '')\n",
    "        d[c]=len(reduce_polymer(str1))\n",
    "    return sorted(d.items(), key=lambda x:x[1])[0]"
   ]
  },
  {
   "cell_type": "code",
   "execution_count": 10,
   "metadata": {},
   "outputs": [],
   "source": [
    "assert find_unit(test_input_str)==('c', 4)"
   ]
  },
  {
   "cell_type": "markdown",
   "metadata": {},
   "source": [
    "And apply to the puzzle input:"
   ]
  },
  {
   "cell_type": "code",
   "execution_count": 11,
   "metadata": {},
   "outputs": [
    {
     "data": {
      "text/plain": [
       "('e', 4556)"
      ]
     },
     "execution_count": 11,
     "metadata": {},
     "output_type": "execute_result"
    }
   ],
   "source": [
    "find_unit(open('inputs/day5').read().strip())"
   ]
  },
  {
   "cell_type": "markdown",
   "metadata": {},
   "source": [
    "OK, a bit time consuming, but gives the right answer."
   ]
  }
 ],
 "metadata": {
  "kernelspec": {
   "display_name": "Python 3",
   "language": "python",
   "name": "python3"
  },
  "language_info": {
   "codemirror_mode": {
    "name": "ipython",
    "version": 3
   },
   "file_extension": ".py",
   "mimetype": "text/x-python",
   "name": "python",
   "nbconvert_exporter": "python",
   "pygments_lexer": "ipython3",
   "version": "3.6.1"
  }
 },
 "nbformat": 4,
 "nbformat_minor": 2
}
