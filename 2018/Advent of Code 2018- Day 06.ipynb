{
 "cells": [
  {
   "cell_type": "markdown",
   "metadata": {},
   "source": [
    "Merry Christmas everyone! \n",
    "\n",
    "[Advent of Code day 6](http://adventofcode.com/2018/day/6)"
   ]
  },
  {
   "cell_type": "markdown",
   "metadata": {},
   "source": [
    "## Part 1"
   ]
  },
  {
   "cell_type": "markdown",
   "metadata": {},
   "source": [
    "OK, this one looks a bit more tricky than some of the previous ones."
   ]
  },
  {
   "cell_type": "markdown",
   "metadata": {},
   "source": [
    "Let's get the coordinates from the input:"
   ]
  },
  {
   "cell_type": "code",
   "execution_count": 1,
   "metadata": {
    "collapsed": true
   },
   "outputs": [],
   "source": [
    "test_input_str='''\n",
    "1, 1\n",
    "1, 6\n",
    "8, 3\n",
    "3, 4\n",
    "5, 5\n",
    "8, 9\n",
    "'''"
   ]
  },
  {
   "cell_type": "code",
   "execution_count": 2,
   "metadata": {
    "collapsed": true
   },
   "outputs": [],
   "source": [
    "input_str=test_input_str"
   ]
  },
  {
   "cell_type": "markdown",
   "metadata": {},
   "source": [
    "Get the coordinates of the points:"
   ]
  },
  {
   "cell_type": "code",
   "execution_count": 3,
   "metadata": {},
   "outputs": [
    {
     "data": {
      "text/plain": [
       "[(1, 1), (1, 6), (8, 3), (3, 4), (5, 5), (8, 9)]"
      ]
     },
     "execution_count": 3,
     "metadata": {},
     "output_type": "execute_result"
    }
   ],
   "source": [
    "points_ls=[(int(x), int(y)) for [x, y] in [nl.split(', ') for nl in input_str.strip().splitlines()]]\n",
    "points_ls"
   ]
  },
  {
   "cell_type": "markdown",
   "metadata": {},
   "source": [
    "Now, it'll be useful to get the boundaries:"
   ]
  },
  {
   "cell_type": "code",
   "execution_count": 4,
   "metadata": {},
   "outputs": [
    {
     "data": {
      "text/plain": [
       "((1, 1), (8, 9))"
      ]
     },
     "execution_count": 4,
     "metadata": {},
     "output_type": "execute_result"
    }
   ],
   "source": [
    "top_left=(min([p[0] for p in points_ls]), min([p[1] for p in points_ls]))\n",
    "bottom_right=(max([p[0] for p in points_ls]), max([p[1] for p in points_ls]))\n",
    "(top_left, bottom_right)"
   ]
  },
  {
   "cell_type": "markdown",
   "metadata": {},
   "source": [
    "In fact, let's put in a bit of a boundary to guess which are the infinite areas:"
   ]
  },
  {
   "cell_type": "code",
   "execution_count": 5,
   "metadata": {},
   "outputs": [
    {
     "data": {
      "text/plain": [
       "((-1, -1), (10, 11))"
      ]
     },
     "execution_count": 5,
     "metadata": {},
     "output_type": "execute_result"
    }
   ],
   "source": [
    "(top_left, bottom_right)=((top_left[0]-2, top_left[1]-2), (bottom_right[0]+2, bottom_right[1]+2))\n",
    "\n",
    "(top_left, bottom_right)"
   ]
  },
  {
   "cell_type": "markdown",
   "metadata": {},
   "source": [
    "Let's have a function that gives the Manhattan distance for two points:"
   ]
  },
  {
   "cell_type": "code",
   "execution_count": 6,
   "metadata": {
    "collapsed": true
   },
   "outputs": [],
   "source": [
    "def manhattan_distance(point1, point2):\n",
    "    '''Manhattan distance between the two points'''\n",
    "    return abs(point1[0]-point2[0]) + \\\n",
    "           abs(point1[1]-point2[1])"
   ]
  },
  {
   "cell_type": "markdown",
   "metadata": {},
   "source": [
    "Now, for each point in the grid, find out which is the closest point from the input."
   ]
  },
  {
   "cell_type": "markdown",
   "metadata": {},
   "source": [
    "First, given an arbitrary point, say (4, 5), which is the closest of the points in the input? Small gotcha: need to get the closest *two* points to make sure that they're not equidistant."
   ]
  },
  {
   "cell_type": "code",
   "execution_count": 7,
   "metadata": {},
   "outputs": [
    {
     "data": {
      "text/plain": [
       "[(8, (8, 9)), (7, (1, 1)), (6, (8, 3)), (4, (1, 6)), (2, (3, 4)), (1, (5, 5))]"
      ]
     },
     "execution_count": 7,
     "metadata": {},
     "output_type": "execute_result"
    }
   ],
   "source": [
    "p=(4, 5)\n",
    "\n",
    "sorted([(manhattan_distance(p, x), x) for x in points_ls], reverse=True)"
   ]
  },
  {
   "cell_type": "markdown",
   "metadata": {},
   "source": [
    "So to get the closest points, we need to get the "
   ]
  },
  {
   "cell_type": "code",
   "execution_count": 8,
   "metadata": {},
   "outputs": [
    {
     "data": {
      "text/plain": [
       "(5, 5)"
      ]
     },
     "execution_count": 8,
     "metadata": {},
     "output_type": "execute_result"
    }
   ],
   "source": [
    "p=(4,5)\n",
    "\n",
    "v=sorted([(manhattan_distance(p, x), x) for x in points_ls])\n",
    "if v[0][0]==v[1][0]:\n",
    "    o=False\n",
    "else:\n",
    "    o=v[0][1]\n",
    "o"
   ]
  },
  {
   "cell_type": "markdown",
   "metadata": {},
   "source": [
    "Now, set up an initial distance dict:"
   ]
  },
  {
   "cell_type": "code",
   "execution_count": 9,
   "metadata": {},
   "outputs": [
    {
     "data": {
      "text/plain": [
       "{(1, 1): 0, (1, 6): 0, (3, 4): 0, (5, 5): 0, (8, 3): 0, (8, 9): 0}"
      ]
     },
     "execution_count": 9,
     "metadata": {},
     "output_type": "execute_result"
    }
   ],
   "source": [
    "distance_dict={p:0 for p in points_ls}\n",
    "distance_dict"
   ]
  },
  {
   "cell_type": "markdown",
   "metadata": {},
   "source": [
    "And count how many points are closest to each coordinate:"
   ]
  },
  {
   "cell_type": "code",
   "execution_count": 10,
   "metadata": {
    "collapsed": true
   },
   "outputs": [],
   "source": [
    "\n",
    "for p in [(x, y) for x in range(top_left[0], bottom_right[0]+1)\n",
    "                 for y in range(top_left[1], bottom_right[1]+1)]:\n",
    "    v=sorted([(manhattan_distance(p, x), x) for x in points_ls])\n",
    "    \n",
    "    if v[0][0]!=v[1][0]:\n",
    "        distance_dict[v[0][1]]+=1"
   ]
  },
  {
   "cell_type": "code",
   "execution_count": 11,
   "metadata": {},
   "outputs": [
    {
     "data": {
      "text/plain": [
       "{(1, 1): 25, (1, 6): 27, (3, 4): 9, (5, 5): 17, (8, 3): 32, (8, 9): 30}"
      ]
     },
     "execution_count": 11,
     "metadata": {},
     "output_type": "execute_result"
    }
   ],
   "source": [
    "distance_dict"
   ]
  },
  {
   "cell_type": "markdown",
   "metadata": {},
   "source": [
    "And finally, need to remove all the coordinates which aren't central to a finite area. Let's take all the coordinates which are closest to a point on the edge (I'm not 100% sure that this is mathematically correct, but let's give it a go). This is a really hacky way of doing it, so apologies to the spirits of Computing past:"
   ]
  },
  {
   "cell_type": "code",
   "execution_count": 12,
   "metadata": {
    "collapsed": true
   },
   "outputs": [],
   "source": [
    "distance_dict={p:0 for p in points_ls}\n",
    "exclusion_set=set()\n",
    "\n",
    "for p in [(x, y) for x in range(top_left[0], bottom_right[0]+1)\n",
    "                 for y in range(top_left[1], bottom_right[1]+1)]:\n",
    "    v=sorted([(manhattan_distance(p, x), x) for x in points_ls])\n",
    "    \n",
    "    if v[0][0]!=v[1][0]:\n",
    "        distance_dict[v[0][1]]+=1\n",
    "        if p[0]==top_left[0] or p[0]==bottom_right[0] or p[1]==top_left[1] or p[1]==bottom_right[1]:\n",
    "            exclusion_set.add(v[0][1])"
   ]
  },
  {
   "cell_type": "code",
   "execution_count": 13,
   "metadata": {},
   "outputs": [
    {
     "data": {
      "text/plain": [
       "{(1, 1), (1, 6), (8, 3), (8, 9)}"
      ]
     },
     "execution_count": 13,
     "metadata": {},
     "output_type": "execute_result"
    }
   ],
   "source": [
    "exclusion_set"
   ]
  },
  {
   "cell_type": "markdown",
   "metadata": {},
   "source": [
    "Now remove the elements of the excluded set from the distance dictionary:"
   ]
  },
  {
   "cell_type": "code",
   "execution_count": 14,
   "metadata": {
    "collapsed": true
   },
   "outputs": [],
   "source": [
    "for p in exclusion_set:\n",
    "    distance_dict.pop(p)"
   ]
  },
  {
   "cell_type": "markdown",
   "metadata": {},
   "source": [
    "And return the largest value:"
   ]
  },
  {
   "cell_type": "code",
   "execution_count": 15,
   "metadata": {},
   "outputs": [
    {
     "data": {
      "text/plain": [
       "17"
      ]
     },
     "execution_count": 15,
     "metadata": {},
     "output_type": "execute_result"
    }
   ],
   "source": [
    "max(distance_dict.values())"
   ]
  },
  {
   "cell_type": "markdown",
   "metadata": {},
   "source": [
    "Seems to work OK. Let's do it with the puzzle input:"
   ]
  },
  {
   "cell_type": "code",
   "execution_count": 16,
   "metadata": {},
   "outputs": [
    {
     "data": {
      "text/plain": [
       "[(84, 212),\n",
       " (168, 116),\n",
       " (195, 339),\n",
       " (110, 86),\n",
       " (303, 244),\n",
       " (228, 338),\n",
       " (151, 295),\n",
       " (115, 49),\n",
       " (161, 98),\n",
       " (60, 197),\n",
       " (40, 55),\n",
       " (55, 322),\n",
       " (148, 82),\n",
       " (86, 349),\n",
       " (145, 295),\n",
       " (243, 281),\n",
       " (91, 343),\n",
       " (280, 50),\n",
       " (149, 129),\n",
       " (174, 119),\n",
       " (170, 44),\n",
       " (296, 148),\n",
       " (152, 160),\n",
       " (115, 251),\n",
       " (266, 281),\n",
       " (269, 285),\n",
       " (109, 242),\n",
       " (136, 241),\n",
       " (236, 249),\n",
       " (338, 245),\n",
       " (71, 101),\n",
       " (254, 327),\n",
       " (208, 231),\n",
       " (289, 184),\n",
       " (282, 158),\n",
       " (352, 51),\n",
       " (326, 230),\n",
       " (88, 240),\n",
       " (292, 342),\n",
       " (352, 189),\n",
       " (231, 141),\n",
       " (280, 350),\n",
       " (296, 185),\n",
       " (226, 252),\n",
       " (172, 235),\n",
       " (137, 161),\n",
       " (207, 90),\n",
       " (101, 133),\n",
       " (156, 234),\n",
       " (241, 185)]"
      ]
     },
     "execution_count": 16,
     "metadata": {},
     "output_type": "execute_result"
    }
   ],
   "source": [
    "input_str=open('inputs/day6').read()\n",
    "\n",
    "points_ls=[(int(x), int(y)) for [x, y] in [nl.split(', ') for nl in input_str.strip().splitlines()]]\n",
    "points_ls"
   ]
  },
  {
   "cell_type": "code",
   "execution_count": 17,
   "metadata": {},
   "outputs": [
    {
     "data": {
      "text/plain": [
       "((38, 42), (354, 352))"
      ]
     },
     "execution_count": 17,
     "metadata": {},
     "output_type": "execute_result"
    }
   ],
   "source": [
    "top_left=(min([p[0] for p in points_ls]), min([p[1] for p in points_ls]))\n",
    "bottom_right=(max([p[0] for p in points_ls]), max([p[1] for p in points_ls]))\n",
    "\n",
    "(top_left, bottom_right)=((top_left[0]-2, top_left[1]-2), (bottom_right[0]+2, bottom_right[1]+2))\n",
    "\n",
    "(top_left, bottom_right)"
   ]
  },
  {
   "cell_type": "code",
   "execution_count": 18,
   "metadata": {
    "collapsed": true
   },
   "outputs": [],
   "source": [
    "distance_dict={p:0 for p in points_ls}\n",
    "exclusion_set=set()\n",
    "\n",
    "for p in [(x, y) for x in range(top_left[0], bottom_right[0]+1)\n",
    "                 for y in range(top_left[1], bottom_right[1]+1)]:\n",
    "    v=sorted([(manhattan_distance(p, x), x) for x in points_ls])\n",
    "    \n",
    "    if v[0][0]!=v[1][0]:\n",
    "        distance_dict[v[0][1]]+=1\n",
    "        if p[0]==top_left[0] or p[0]==bottom_right[0] or p[1]==top_left[1] or p[1]==bottom_right[1]:\n",
    "            exclusion_set.add(v[0][1])"
   ]
  },
  {
   "cell_type": "code",
   "execution_count": 19,
   "metadata": {},
   "outputs": [
    {
     "data": {
      "text/plain": [
       "3722"
      ]
     },
     "execution_count": 19,
     "metadata": {},
     "output_type": "execute_result"
    }
   ],
   "source": [
    "for p in exclusion_set:\n",
    "    distance_dict.pop(p)\n",
    "    \n",
    "max(distance_dict.values())"
   ]
  },
  {
   "cell_type": "markdown",
   "metadata": {},
   "source": [
    "## Part 2"
   ]
  },
  {
   "cell_type": "code",
   "execution_count": 20,
   "metadata": {
    "collapsed": true
   },
   "outputs": [],
   "source": [
    "test_input_str='''\n",
    "1, 1\n",
    "1, 6\n",
    "8, 3\n",
    "3, 4\n",
    "5, 5\n",
    "8, 9\n",
    "'''"
   ]
  },
  {
   "cell_type": "code",
   "execution_count": 21,
   "metadata": {
    "collapsed": true
   },
   "outputs": [],
   "source": [
    "input_str=test_input_str"
   ]
  },
  {
   "cell_type": "code",
   "execution_count": 22,
   "metadata": {},
   "outputs": [
    {
     "data": {
      "text/plain": [
       "[(1, 1), (1, 6), (8, 3), (3, 4), (5, 5), (8, 9)]"
      ]
     },
     "execution_count": 22,
     "metadata": {},
     "output_type": "execute_result"
    }
   ],
   "source": [
    "points_ls=[(int(x), int(y)) for [x, y] in [nl.split(', ') for nl in input_str.strip().splitlines()]]\n",
    "points_ls"
   ]
  },
  {
   "cell_type": "code",
   "execution_count": 23,
   "metadata": {},
   "outputs": [
    {
     "data": {
      "text/plain": [
       "((1, 1), (8, 9))"
      ]
     },
     "execution_count": 23,
     "metadata": {},
     "output_type": "execute_result"
    }
   ],
   "source": [
    "top_left=(min([p[0] for p in points_ls]), min([p[1] for p in points_ls]))\n",
    "bottom_right=(max([p[0] for p in points_ls]), max([p[1] for p in points_ls]))\n",
    "(top_left, bottom_right)"
   ]
  },
  {
   "cell_type": "code",
   "execution_count": 24,
   "metadata": {},
   "outputs": [],
   "source": [
    "threshold=32\n",
    "safe_area=0\n",
    "for p in [(x, y) for x in range(top_left[0], bottom_right[0]+1)\n",
    "                 for y in range(top_left[1], bottom_right[1]+1)]:\n",
    "    d=sum([x[0] for x in [(manhattan_distance(p, x), x) for x in points_ls]])\n",
    "    \n",
    "    if d<threshold:\n",
    "        safe_area+=1\n",
    "\n",
    "assert safe_area==16"
   ]
  },
  {
   "cell_type": "markdown",
   "metadata": {},
   "source": [
    "Now do with the puzzle input:"
   ]
  },
  {
   "cell_type": "code",
   "execution_count": 25,
   "metadata": {},
   "outputs": [
    {
     "data": {
      "text/plain": [
       "[(84, 212),\n",
       " (168, 116),\n",
       " (195, 339),\n",
       " (110, 86),\n",
       " (303, 244),\n",
       " (228, 338),\n",
       " (151, 295),\n",
       " (115, 49),\n",
       " (161, 98),\n",
       " (60, 197),\n",
       " (40, 55),\n",
       " (55, 322),\n",
       " (148, 82),\n",
       " (86, 349),\n",
       " (145, 295),\n",
       " (243, 281),\n",
       " (91, 343),\n",
       " (280, 50),\n",
       " (149, 129),\n",
       " (174, 119),\n",
       " (170, 44),\n",
       " (296, 148),\n",
       " (152, 160),\n",
       " (115, 251),\n",
       " (266, 281),\n",
       " (269, 285),\n",
       " (109, 242),\n",
       " (136, 241),\n",
       " (236, 249),\n",
       " (338, 245),\n",
       " (71, 101),\n",
       " (254, 327),\n",
       " (208, 231),\n",
       " (289, 184),\n",
       " (282, 158),\n",
       " (352, 51),\n",
       " (326, 230),\n",
       " (88, 240),\n",
       " (292, 342),\n",
       " (352, 189),\n",
       " (231, 141),\n",
       " (280, 350),\n",
       " (296, 185),\n",
       " (226, 252),\n",
       " (172, 235),\n",
       " (137, 161),\n",
       " (207, 90),\n",
       " (101, 133),\n",
       " (156, 234),\n",
       " (241, 185)]"
      ]
     },
     "execution_count": 25,
     "metadata": {},
     "output_type": "execute_result"
    }
   ],
   "source": [
    "input_str=open('inputs/day6').read()\n",
    "\n",
    "points_ls=[(int(x), int(y)) for [x, y] in [nl.split(', ') for nl in input_str.strip().splitlines()]]\n",
    "points_ls"
   ]
  },
  {
   "cell_type": "code",
   "execution_count": 26,
   "metadata": {},
   "outputs": [
    {
     "data": {
      "text/plain": [
       "((40, 44), (352, 350))"
      ]
     },
     "execution_count": 26,
     "metadata": {},
     "output_type": "execute_result"
    }
   ],
   "source": [
    "top_left=(min([p[0] for p in points_ls]), min([p[1] for p in points_ls]))\n",
    "bottom_right=(max([p[0] for p in points_ls]), max([p[1] for p in points_ls]))\n",
    "(top_left, bottom_right)"
   ]
  },
  {
   "cell_type": "code",
   "execution_count": 28,
   "metadata": {
    "collapsed": true
   },
   "outputs": [],
   "source": [
    "threshold=10000\n",
    "safe_area=0\n",
    "for p in [(x, y) for x in range(top_left[0], bottom_right[0]+1)\n",
    "                 for y in range(top_left[1], bottom_right[1]+1)]:\n",
    "    d=sum([x[0] for x in [(manhattan_distance(p, x), x) for x in points_ls]])\n",
    "    \n",
    "    if d<threshold:\n",
    "        safe_area+=1\n"
   ]
  },
  {
   "cell_type": "code",
   "execution_count": 29,
   "metadata": {},
   "outputs": [
    {
     "data": {
      "text/plain": [
       "44634"
      ]
     },
     "execution_count": 29,
     "metadata": {},
     "output_type": "execute_result"
    }
   ],
   "source": [
    "safe_area"
   ]
  },
  {
   "cell_type": "code",
   "execution_count": null,
   "metadata": {
    "collapsed": true
   },
   "outputs": [],
   "source": []
  }
 ],
 "metadata": {
  "kernelspec": {
   "display_name": "Python 3",
   "language": "python",
   "name": "python3"
  },
  "language_info": {
   "codemirror_mode": {
    "name": "ipython",
    "version": 3
   },
   "file_extension": ".py",
   "mimetype": "text/x-python",
   "name": "python",
   "nbconvert_exporter": "python",
   "pygments_lexer": "ipython3",
   "version": "3.6.1"
  }
 },
 "nbformat": 4,
 "nbformat_minor": 2
}
