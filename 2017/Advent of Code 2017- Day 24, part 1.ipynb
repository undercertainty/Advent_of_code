{
 "cells": [
  {
   "cell_type": "markdown",
   "metadata": {},
   "source": [
    "# <font color=\"red\">Warning: I don't have time over Christmas to comment this properly, or describe what I'm doing, so the following notebook shouldn't be taken as a good way of doing things!</font>"
   ]
  },
  {
   "cell_type": "markdown",
   "metadata": {},
   "source": [
    "It's taken an unusually long time to get a proper search question. I'm guessing the first part will be reasonably tractable."
   ]
  },
  {
   "cell_type": "markdown",
   "metadata": {},
   "source": [
    "Trying to write a search routine with mutable data structures is an absolute pain in the neck, so I'm going to try out this `pyrsistent` library that's been mentioned to me:"
   ]
  },
  {
   "cell_type": "code",
   "execution_count": 1,
   "metadata": {
    "collapsed": true
   },
   "outputs": [],
   "source": [
    "import pyrsistent as pyr"
   ]
  },
  {
   "cell_type": "code",
   "execution_count": 2,
   "metadata": {
    "collapsed": true
   },
   "outputs": [],
   "source": [
    "testInput='''\n",
    "0/2\n",
    "2/2\n",
    "2/3\n",
    "3/4\n",
    "3/5\n",
    "0/1\n",
    "10/1\n",
    "9/10\n",
    "'''"
   ]
  },
  {
   "cell_type": "markdown",
   "metadata": {},
   "source": [
    "Might be better as a set, but there's always the chance that some parts are repeated:"
   ]
  },
  {
   "cell_type": "code",
   "execution_count": 3,
   "metadata": {
    "collapsed": true
   },
   "outputs": [],
   "source": [
    "l=[(int(x), int(y)) \n",
    "   for [x, y] in [nl.split('/') \n",
    "                  for nl in testInput.strip().split('\\n')]]\n",
    "\n",
    "parts_pv=pyr.pvector(l)\n"
   ]
  },
  {
   "cell_type": "code",
   "execution_count": 4,
   "metadata": {},
   "outputs": [
    {
     "data": {
      "text/plain": [
       "[(0, 2), (2, 2), (2, 3)]"
      ]
     },
     "execution_count": 4,
     "metadata": {},
     "output_type": "execute_result"
    }
   ],
   "source": [
    "[x for x in parts_pv if x[0]==2 or x[1]==2]"
   ]
  },
  {
   "cell_type": "code",
   "execution_count": 5,
   "metadata": {},
   "outputs": [
    {
     "data": {
      "text/plain": [
       "pvector([(1, 0), (2, 2)])"
      ]
     },
     "execution_count": 5,
     "metadata": {},
     "output_type": "execute_result"
    }
   ],
   "source": [
    "pyr.v((1, 0), (2, 2))"
   ]
  },
  {
   "cell_type": "code",
   "execution_count": 6,
   "metadata": {},
   "outputs": [
    {
     "name": "stdout",
     "output_type": "stream",
     "text": [
      "(0, 2)\n",
      "(2, 2)\n",
      "(2, 3)\n",
      "(3, 4)\n",
      "(3, 5)\n",
      "(0, 1)\n",
      "(10, 1)\n",
      "(9, 10)\n"
     ]
    }
   ],
   "source": [
    "for i in l:\n",
    "    print(i)"
   ]
  },
  {
   "cell_type": "code",
   "execution_count": 7,
   "metadata": {},
   "outputs": [
    {
     "data": {
      "text/plain": [
       "pmap({'seeking': 0, 'parts': pvector([(0, 2), (2, 2), (2, 3), (3, 4), (3, 5), (0, 1), (10, 1), (9, 10)]), 'bridge': pvector([])})"
      ]
     },
     "execution_count": 7,
     "metadata": {},
     "output_type": "execute_result"
    }
   ],
   "source": [
    "firstState_pm=pyr.m(seeking=0,\n",
    "                    parts=parts_pv,\n",
    "                    bridge=pyr.v())\n",
    "firstState_pm"
   ]
  },
  {
   "cell_type": "code",
   "execution_count": 8,
   "metadata": {
    "collapsed": true
   },
   "outputs": [],
   "source": [
    "def next_states(agendaIn_pv):\n",
    "    '''\n",
    "    Takes an agenda of states.\n",
    "    Returns a pair of the current state\n",
    "    and an updated agenda.\n",
    "    '''\n",
    "    # Take the first item off the agenda\n",
    "    nextItem_pm=agendaIn_pv[0]\n",
    "    \n",
    "    agendaOut_pv=agendaIn_pv.delete(0)\n",
    "    \n",
    "    # Find the list of parts which can attach to the \n",
    "    # current exposed part:\n",
    "    validNextStates_ls=[x for x in nextItem_pm['parts']\n",
    "                        if x[0]==nextItem_pm['seeking'] or x[1]==nextItem_pm['seeking']]\n",
    "    \n",
    "    # For each of these states, create a new agenda item:\n",
    "    newAgendaItems_pv=pyr.v()\n",
    "    \n",
    "    for (x, y) in validNextStates_ls:\n",
    "        if x==nextItem_pm['seeking']:\n",
    "            newAgendaItems_pv=newAgendaItems_pv.append(pyr.m(seeking=y,\n",
    "                                           parts=nextItem_pm['parts'].remove((x, y)),\n",
    "                                           bridge=nextItem_pm['bridge'].append((x, y))))\n",
    "        else:\n",
    "            newAgendaItems_pv=newAgendaItems_pv.append(pyr.m(seeking=x,\n",
    "                                           parts=nextItem_pm['parts'].remove((x, y)),\n",
    "                                           bridge=nextItem_pm['bridge'].append((x, y))))\n",
    "\n",
    "    return (nextItem_pm, agendaOut_pv.extend(newAgendaItems_pv))"
   ]
  },
  {
   "cell_type": "code",
   "execution_count": 9,
   "metadata": {},
   "outputs": [
    {
     "data": {
      "text/plain": [
       "(pmap({'seeking': 0, 'parts': pvector([(0, 2), (2, 2), (2, 3), (3, 4), (3, 5), (0, 1), (10, 1), (9, 10)]), 'bridge': pvector([])}),\n",
       " pvector([pmap({'seeking': 2, 'parts': pvector([(2, 2), (2, 3), (3, 4), (3, 5), (0, 1), (10, 1), (9, 10)]), 'bridge': pvector([(0, 2)])}), pmap({'seeking': 1, 'parts': pvector([(0, 2), (2, 2), (2, 3), (3, 4), (3, 5), (10, 1), (9, 10)]), 'bridge': pvector([(0, 1)])})]))"
      ]
     },
     "execution_count": 9,
     "metadata": {},
     "output_type": "execute_result"
    }
   ],
   "source": [
    "next_states(pyr.v(firstState_pm))"
   ]
  },
  {
   "cell_type": "markdown",
   "metadata": {},
   "source": [
    "Might make things a shade more readable if we define a function `bridge_strength` to apply to states:"
   ]
  },
  {
   "cell_type": "code",
   "execution_count": 10,
   "metadata": {
    "collapsed": true
   },
   "outputs": [],
   "source": [
    "def bridge_strength(stateIn):\n",
    "    '''\n",
    "    Return the strength of the bridge in the current state\n",
    "    '''\n",
    "    return sum([x+y for (x, y) in stateIn['bridge']])"
   ]
  },
  {
   "cell_type": "markdown",
   "metadata": {},
   "source": [
    "OK, now we should just be able to do a DFS to return the strongest bridge."
   ]
  },
  {
   "cell_type": "code",
   "execution_count": 11,
   "metadata": {},
   "outputs": [
    {
     "data": {
      "text/plain": [
       "pmap({'seeking': 0, 'parts': pvector([(0, 2), (2, 2), (2, 3), (3, 4), (3, 5), (0, 1), (10, 1), (9, 10)]), 'bridge': pvector([])})"
      ]
     },
     "execution_count": 11,
     "metadata": {},
     "output_type": "execute_result"
    }
   ],
   "source": [
    "parts_pv=pyr.pvector([(int(x), int(y)) \n",
    "                      for [x, y] in [nl.split('/')\n",
    "                                     for nl in testInput.strip().split('\\n')]])\n",
    "\n",
    "firstState_pm=pyr.m(seeking=0,\n",
    "                    parts=parts_pv,\n",
    "                    bridge=pyr.v())\n",
    "\n",
    "# Check the first state:\n",
    "firstState_pm\n",
    "\n"
   ]
  },
  {
   "cell_type": "markdown",
   "metadata": {},
   "source": [
    "Now just run to exhaustion:"
   ]
  },
  {
   "cell_type": "code",
   "execution_count": 12,
   "metadata": {
    "collapsed": true
   },
   "outputs": [],
   "source": [
    "agenda_pv=pyr.v(firstState_pm)\n",
    "\n",
    "strongestBridge_i=0\n",
    "\n",
    "while len(agenda_pv):\n",
    "    (nextState_pm, agenda_pv)=next_states(agenda_pv)\n",
    "    if bridge_strength(nextState_pm)>strongestBridge_i:\n",
    "        strongestBridge_i=bridge_strength(nextState_pm)\n",
    "    \n",
    "assert strongestBridge_i==31"
   ]
  },
  {
   "cell_type": "markdown",
   "metadata": {},
   "source": [
    "Good, now apply to the puzzle input:"
   ]
  },
  {
   "cell_type": "code",
   "execution_count": 14,
   "metadata": {},
   "outputs": [
    {
     "name": "stdout",
     "output_type": "stream",
     "text": [
      "9\n",
      "46\n",
      "106\n",
      "161\n",
      "172\n",
      "186\n",
      "222\n",
      "226\n",
      "237\n",
      "280\n",
      "284\n",
      "294\n",
      "322\n",
      "327\n",
      "352\n",
      "380\n",
      "394\n",
      "419\n",
      "430\n",
      "452\n",
      "461\n",
      "472\n",
      "507\n",
      "519\n",
      "530\n",
      "539\n",
      "549\n",
      "560\n",
      "597\n",
      "607\n",
      "639\n",
      "649\n",
      "660\n",
      "664\n",
      "697\n",
      "699\n",
      "706\n",
      "728\n",
      "729\n",
      "749\n",
      "757\n",
      "764\n",
      "806\n",
      "828\n",
      "841\n",
      "906\n",
      "907\n",
      "926\n",
      "941\n",
      "950\n",
      "951\n",
      "963\n",
      "965\n",
      "983\n",
      "1004\n",
      "1008\n",
      "1041\n",
      "1043\n",
      "1050\n",
      "1073\n",
      "1074\n",
      "1088\n",
      "1101\n",
      "1108\n",
      "1117\n",
      "1124\n",
      "1136\n",
      "1152\n",
      "1158\n",
      "1159\n",
      "1166\n",
      "1173\n",
      "1182\n",
      "1209\n",
      "1224\n",
      "1231\n",
      "1251\n",
      "1260\n",
      "1309\n",
      "1344\n",
      "1353\n",
      "1379\n",
      "1394\n",
      "1401\n",
      "1411\n",
      "1414\n",
      "1430\n",
      "1479\n",
      "1514\n",
      "1536\n",
      "1538\n",
      "1544\n",
      "1559\n",
      "1594\n",
      "1626\n",
      "1631\n",
      "1653\n",
      "1673\n",
      "1688\n",
      "1696\n",
      "1703\n",
      "1764\n",
      "1770\n",
      "1784\n",
      "1790\n",
      "1846\n",
      "1852\n",
      "1866\n",
      "1868\n"
     ]
    },
    {
     "data": {
      "text/plain": [
       "1868"
      ]
     },
     "execution_count": 14,
     "metadata": {},
     "output_type": "execute_result"
    }
   ],
   "source": [
    "with open('data/day24.txt') as fIn:\n",
    "    parts_pv=pyr.pvector([(int(x), int(y)) \n",
    "                          for [x, y] in [nl.split('/')\n",
    "                                         for nl in fIn.read().strip().split('\\n')]])\n",
    "\n",
    "\n",
    "firstState_pm=pyr.m(seeking=0,\n",
    "                    parts=parts_pv,\n",
    "                    bridge=pyr.v())\n",
    "\n",
    "agenda_pv=pyr.v(firstState_pm)\n",
    "\n",
    "strongestBridge_i=0\n",
    "\n",
    "while len(agenda_pv):\n",
    "    (nextState_pm, agenda_pv)=next_states(agenda_pv)\n",
    "    if bridge_strength(nextState_pm)>strongestBridge_i:\n",
    "        strongestBridge_i=bridge_strength(nextState_pm)\n",
    "        print(strongestBridge_i)\n",
    "    \n",
    "strongestBridge_i\n",
    "\n"
   ]
  },
  {
   "cell_type": "markdown",
   "metadata": {},
   "source": [
    "That took ages... probably worth trying to speed it up for the next part."
   ]
  }
 ],
 "metadata": {
  "kernelspec": {
   "display_name": "Python 3",
   "language": "python",
   "name": "python3"
  },
  "language_info": {
   "codemirror_mode": {
    "name": "ipython",
    "version": 3
   },
   "file_extension": ".py",
   "mimetype": "text/x-python",
   "name": "python",
   "nbconvert_exporter": "python",
   "pygments_lexer": "ipython3",
   "version": "3.6.1"
  }
 },
 "nbformat": 4,
 "nbformat_minor": 2
}
