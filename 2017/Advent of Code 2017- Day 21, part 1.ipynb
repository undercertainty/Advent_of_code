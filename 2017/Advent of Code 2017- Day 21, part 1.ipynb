{
 "cells": [
  {
   "cell_type": "markdown",
   "metadata": {},
   "source": [
    "This one looks prosaic and time consuming, rather than elegant, but I'm on leave now, so it doesn't matter."
   ]
  },
  {
   "cell_type": "code",
   "execution_count": 1,
   "metadata": {
    "collapsed": true
   },
   "outputs": [],
   "source": [
    "import re"
   ]
  },
  {
   "cell_type": "markdown",
   "metadata": {},
   "source": [
    "Rather than rotate each square as we look at it, let's write some parsing functions that take a line of the input, and returns a `dict` mapping input squares to output squares. Assume that the inputs will be correctly in a calling function:"
   ]
  },
  {
   "cell_type": "code",
   "execution_count": 2,
   "metadata": {
    "collapsed": true
   },
   "outputs": [],
   "source": [
    "def parse_rule_2(ruleIn_str):\n",
    "    '''\n",
    "    Parses a rule for a 2x2 square. Returns a dict\n",
    "    of rules in the input rule format.\n",
    "    '''\n",
    "    \n",
    "    # Can do a simple pattern match to find the \n",
    "    # input and output strings\n",
    "    [ruleIn_str, ruleOut_str]=[s.strip() for s in ruleIn_str.split('=>')]\n",
    "    \n",
    "    # We can use the indexing of a dictionary to \n",
    "    # avoid checking for duplicates\n",
    "    \n",
    "    # Long and boring way of doing this, but I\n",
    "    # can't be bothered to do it properly at\n",
    "    # the moment.\n",
    "    \n",
    "    # Parse the input intod characters:\n",
    "    [a, b, slash, d, c]=list(ruleIn_str)\n",
    "    \n",
    "    rulesOut_dict={}\n",
    "    \n",
    "    # Add the rotational versions to the dict:\n",
    "    \n",
    "    # Rotations are: ab   da   cd   bc\n",
    "    #                dc   cb   ba   ad\n",
    "    \n",
    "    rulesOut_dict['{}{}/{}{}'.format(a, b, d, c)]=ruleOut_str\n",
    "    rulesOut_dict['{}{}/{}{}'.format(d, a, c, b)]=ruleOut_str\n",
    "    rulesOut_dict['{}{}/{}{}'.format(c, d, b, a)]=ruleOut_str\n",
    "    rulesOut_dict['{}{}/{}{}'.format(b, c, a, d)]=ruleOut_str\n",
    "        \n",
    "    # Add the flipped versions to the dict:\n",
    "    \n",
    "    # Flips are: ad   ba   dc   cb\n",
    "    #            bc   cd   ab   da\n",
    "\n",
    "    rulesOut_dict['{}{}/{}{}'.format(a, d, b, c)]=ruleOut_str\n",
    "    rulesOut_dict['{}{}/{}{}'.format(b, a, c, d)]=ruleOut_str\n",
    "    rulesOut_dict['{}{}/{}{}'.format(d, c, a, b)]=ruleOut_str\n",
    "    rulesOut_dict['{}{}/{}{}'.format(c, b, d, a)]=ruleOut_str\n",
    "\n",
    "    return rulesOut_dict"
   ]
  },
  {
   "cell_type": "markdown",
   "metadata": {},
   "source": [
    "Do a similar one for 3x3 rules:"
   ]
  },
  {
   "cell_type": "code",
   "execution_count": 3,
   "metadata": {
    "collapsed": true
   },
   "outputs": [],
   "source": [
    "def parse_rule_3(ruleIn_str):\n",
    "    '''\n",
    "    Parses a rule for a 3x3 square. Returns a dict\n",
    "    of rules in the input rule format.\n",
    "    '''\n",
    "    \n",
    "    # Can do a simple pattern match to find the \n",
    "    # input and output strings\n",
    "    [ruleIn_str, ruleOut_str]=[s.strip() for s in ruleIn_str.split('=>')]\n",
    "    \n",
    "    # We can use the indexing of a dictionary to \n",
    "    # avoid checking for duplicates\n",
    "    \n",
    "    # Long and boring way of doing this, but I\n",
    "    # can't be bothered to do it properly at\n",
    "    # the moment.\n",
    "    \n",
    "    # Parse the input into characters:\n",
    "    [a, b, c, slash1, h, x, d, slash2, g, f, e]=list(ruleIn_str)\n",
    "    \n",
    "    rulesOut_dict={}\n",
    "    \n",
    "    # Add the rotational versions to the dict:\n",
    "    \n",
    "    # Rotations are: abc  gha  efg  cde\n",
    "    #                hxd  fxb  dxh  bxf\n",
    "    #                gfe  edc  cba  ahg\n",
    "    \n",
    "    rulesOut_dict['{}{}{}/{}{}{}/{}{}{}'.format(a, b, c, h, x, d, g, f, e)]=ruleOut_str\n",
    "    rulesOut_dict['{}{}{}/{}{}{}/{}{}{}'.format(g, h, a, f, x, b, e, d, c)]=ruleOut_str\n",
    "    rulesOut_dict['{}{}{}/{}{}{}/{}{}{}'.format(e, f, g, d, x, h, c, b, a)]=ruleOut_str\n",
    "    rulesOut_dict['{}{}{}/{}{}{}/{}{}{}'.format(c, d, e, b, x, f, a, h, g)]=ruleOut_str\n",
    "        \n",
    "    # Add the flipped versions to the dict:\n",
    "    \n",
    "    # Flips are: gfe  cba  edc  ahg\n",
    "    #            hxd  dxh  fxb  bxf\n",
    "    #            abc  efg  gha  cde\n",
    "\n",
    "    rulesOut_dict['{}{}{}/{}{}{}/{}{}{}'.format(g, f, e, h, x, d, a, b, c)]=ruleOut_str\n",
    "    rulesOut_dict['{}{}{}/{}{}{}/{}{}{}'.format(c, b, a, d, x, h, e, f, g)]=ruleOut_str\n",
    "    rulesOut_dict['{}{}{}/{}{}{}/{}{}{}'.format(e, d, c, f, x, b, g, h, a)]=ruleOut_str\n",
    "    rulesOut_dict['{}{}{}/{}{}{}/{}{}{}'.format(a, h, g, b, x, f, c, d, e)]=ruleOut_str\n",
    "\n",
    "    return rulesOut_dict"
   ]
  },
  {
   "cell_type": "code",
   "execution_count": 4,
   "metadata": {
    "collapsed": true
   },
   "outputs": [],
   "source": [
    "testInput_str='''\n",
    "../.# => ##./#../...\n",
    ".#./..#/### => #..#/..../..../#..#\n",
    "'''"
   ]
  },
  {
   "cell_type": "markdown",
   "metadata": {},
   "source": [
    "OK, now we need to parse the pattern book, and return the whole thing as a dictionary. Easiest to use `re` for this, I think. That will mean for a 2x2 rule we want the match:"
   ]
  },
  {
   "cell_type": "code",
   "execution_count": 5,
   "metadata": {},
   "outputs": [
    {
     "data": {
      "text/plain": [
       "[('../.# => ##./#../...', '.', '#', '.', '.', '.')]"
      ]
     },
     "execution_count": 5,
     "metadata": {},
     "output_type": "execute_result"
    }
   ],
   "source": [
    "re.findall('((\\.|#){2}/(\\.|#){2}\\s+\\=\\>\\s+(\\.|#){3}/(\\.|#){3}/(\\.|#){3})', \n",
    "           testInput_str)"
   ]
  },
  {
   "cell_type": "markdown",
   "metadata": {},
   "source": [
    "Note that it's the first element that we want, so to actually parse the input we'd use:"
   ]
  },
  {
   "cell_type": "code",
   "execution_count": 6,
   "metadata": {},
   "outputs": [
    {
     "name": "stdout",
     "output_type": "stream",
     "text": [
      "../.# => ##./#../...\n"
     ]
    }
   ],
   "source": [
    "for match_tuple in re.findall('((\\.|#){2}/(\\.|#){2}\\s+\\=\\>\\s+(\\.|#){3}/(\\.|#){3}/(\\.|#){3})', \n",
    "                              testInput_str):\n",
    "    print(match_tuple[0])"
   ]
  },
  {
   "cell_type": "markdown",
   "metadata": {},
   "source": [
    "And we can do something similar for the 3x3 rules:"
   ]
  },
  {
   "cell_type": "code",
   "execution_count": 7,
   "metadata": {},
   "outputs": [
    {
     "name": "stdout",
     "output_type": "stream",
     "text": [
      ".#./..#/### => #..#/..../..../#..#\n"
     ]
    }
   ],
   "source": [
    "for match_tuple in re.findall('((\\.|#){3}/(\\.|#){3}/(\\.|#){3}\\s+\\=\\>\\s+(\\.|#){4}/(\\.|#){4}/(\\.|#){4}/(\\.|#){4})',\n",
    "                              testInput_str):\n",
    "    print(match_tuple[0])"
   ]
  },
  {
   "cell_type": "markdown",
   "metadata": {},
   "source": [
    "OK, so the matchers seem to be working. Now we need functions for extracting a subsquare from an input, and inserting a subsquare into an input. We'll describe the input as a list of lists, such as:\n",
    "\n",
    "`[['.', '#', '.'], ['.', '.', '#'], ['#', '#', '#']]`\n",
    "\n",
    "as strings are immutable."
   ]
  },
  {
   "cell_type": "code",
   "execution_count": 8,
   "metadata": {
    "collapsed": true
   },
   "outputs": [],
   "source": [
    "def extract_subsquare(topCornerRow_i, topCornerCol_i, size_i, inputSquare_ls):\n",
    "    '''\n",
    "    Extract the subsquare whose top corner is at\n",
    "    (topCornerRow_i, topCornerCol_i) and whose sides are\n",
    "    length size_i'''\n",
    "    \n",
    "    output_str=''\n",
    "    \n",
    "    for i in range(topCornerRow_i, topCornerRow_i+size_i):\n",
    "        for j in range(topCornerCol_i, topCornerCol_i+size_i):\n",
    "            output_str+=inputSquare_ls[i][j]\n",
    "        output_str+='/'\n",
    "    return output_str[:-1]  # Remove trailing slash\n",
    "\n",
    "        "
   ]
  },
  {
   "cell_type": "code",
   "execution_count": 9,
   "metadata": {
    "collapsed": true
   },
   "outputs": [],
   "source": [
    "initialSquare_ls=[['.', '#', '.'], ['.', '.', '#'], ['#', '#', '#']]\n",
    "\n",
    "assert extract_subsquare(0,0,2,initialSquare_ls)=='.#/..'\n",
    "assert extract_subsquare(1,0,2,initialSquare_ls)=='../##'\n",
    "assert extract_subsquare(0,1,2,initialSquare_ls)=='#./.#'\n",
    "assert extract_subsquare(0,0,3,initialSquare_ls)=='.#./..#/###'\n"
   ]
  },
  {
   "cell_type": "markdown",
   "metadata": {},
   "source": [
    "Now a \"function\" to insert a subsquare into a square. Do it in place; the corruption's got far enough that there's no point in trying to stop it..."
   ]
  },
  {
   "cell_type": "code",
   "execution_count": 10,
   "metadata": {
    "collapsed": true
   },
   "outputs": [],
   "source": [
    "def insert_subsquare(topCornerRow_i, topCornerCol_i, input_str, square_ls):\n",
    "    '''\n",
    "    Insert a subsquare whose top corner is at\n",
    "    (topCornerRow_i, topCornerCol_i) and which is defined\n",
    "    by input_str\n",
    "    '''\n",
    "    \n",
    "    for (i, row_str) in enumerate(input_str.split('/')):\n",
    "        for (j,c) in enumerate(row_str):\n",
    "            square_ls[topCornerRow_i+i][topCornerCol_i+j]=c\n",
    "\n",
    "        "
   ]
  },
  {
   "cell_type": "code",
   "execution_count": 11,
   "metadata": {},
   "outputs": [
    {
     "data": {
      "text/plain": [
       "[[0, 0, 0, 0, 0],\n",
       " [0, 0, 0, 0, 0],\n",
       " [0, 0, 0, 0, 0],\n",
       " [0, 0, 0, 0, 0],\n",
       " [0, 0, 0, 0, 0]]"
      ]
     },
     "execution_count": 11,
     "metadata": {},
     "output_type": "execute_result"
    }
   ],
   "source": [
    "testInputSquare_ls=[[0 for i in range(5)] for j in range(5)]\n",
    "testInputSquare_ls"
   ]
  },
  {
   "cell_type": "code",
   "execution_count": 12,
   "metadata": {},
   "outputs": [
    {
     "data": {
      "text/plain": [
       "[[0, 0, 0, 0, 0],\n",
       " [0, 0, '#', '#', '.'],\n",
       " [0, 0, '#', '.', '.'],\n",
       " [0, 0, '.', '.', '.'],\n",
       " [0, 0, 0, 0, 0]]"
      ]
     },
     "execution_count": 12,
     "metadata": {},
     "output_type": "execute_result"
    }
   ],
   "source": [
    "insert_subsquare(1, 2, '##./#../...', testInputSquare_ls)\n",
    "testInputSquare_ls"
   ]
  },
  {
   "cell_type": "markdown",
   "metadata": {},
   "source": [
    "So we should now be able to extract the same string that we input..."
   ]
  },
  {
   "cell_type": "code",
   "execution_count": 13,
   "metadata": {
    "collapsed": true
   },
   "outputs": [],
   "source": [
    "testInputSquare_ls\n",
    "testString_str='##./#../...'\n",
    "\n",
    "insert_subsquare(1, 2, testString_str, testInputSquare_ls)\n",
    "assert extract_subsquare(1, 2, 3, testInputSquare_ls)==testString_str"
   ]
  },
  {
   "cell_type": "markdown",
   "metadata": {},
   "source": [
    "OK, let's bring it all together in the test cases:"
   ]
  },
  {
   "cell_type": "markdown",
   "metadata": {},
   "source": [
    "First parse the input:"
   ]
  },
  {
   "cell_type": "code",
   "execution_count": 14,
   "metadata": {},
   "outputs": [
    {
     "data": {
      "text/plain": [
       "{'###/#../.#.': '#..#/..../..../#..#',\n",
       " '###/..#/.#.': '#..#/..../..../#..#',\n",
       " '##./#.#/#..': '#..#/..../..../#..#',\n",
       " '#../#.#/##.': '#..#/..../..../#..#',\n",
       " '#./..': '##./#../...',\n",
       " '.##/#.#/..#': '#..#/..../..../#..#',\n",
       " '.#./#../###': '#..#/..../..../#..#',\n",
       " '.#./..#/###': '#..#/..../..../#..#',\n",
       " '.#/..': '##./#../...',\n",
       " '..#/#.#/.##': '#..#/..../..../#..#',\n",
       " '../#.': '##./#../...',\n",
       " '../.#': '##./#../...'}"
      ]
     },
     "execution_count": 14,
     "metadata": {},
     "output_type": "execute_result"
    }
   ],
   "source": [
    "testRules_str='''\n",
    "../.# => ##./#../...\n",
    ".#./..#/### => #..#/..../..../#..#\n",
    "'''\n",
    "\n",
    "rules_dict={}\n",
    "for rule_str in re.findall('((\\.|#){2}/(\\.|#){2}\\s+\\=\\>\\s+(\\.|#){3}/(\\.|#){3}/(\\.|#){3})', \n",
    "                              testRules_str):\n",
    "    rules_dict.update(parse_rule_2(rule_str[0]))\n",
    "for rule_str in re.findall('((\\.|#){3}/(\\.|#){3}/(\\.|#){3}\\s+\\=\\>\\s+(\\.|#){4}/(\\.|#){4}/(\\.|#){4}/(\\.|#){4})',\n",
    "                              testInput_str):\n",
    "    rules_dict.update(parse_rule_3(rule_str[0]))\n",
    "    \n",
    "rules_dict\n",
    "    "
   ]
  },
  {
   "cell_type": "markdown",
   "metadata": {},
   "source": [
    "God, this is a lot of work. Let's have a function that takes an input square and the rules, and returns an output square:"
   ]
  },
  {
   "cell_type": "code",
   "execution_count": 15,
   "metadata": {
    "collapsed": true
   },
   "outputs": [],
   "source": [
    "def next_state(rulesIn_dict, squareIn_ls):\n",
    "    '''\n",
    "    Return the square that's the result of applying\n",
    "    rulesIn_dict to squareIn_ls\n",
    "    '''\n",
    "    \n",
    "    # I can no longer be bothered to do any error checking\n",
    "    if not len(squareIn_ls)%2:\n",
    "        size_i=len(squareIn_ls)//2\n",
    "        squareOut_ls=[[0 for i in range(3*size_i)] for j in range(3*size_i)]\n",
    "\n",
    "        for i in range(size_i):\n",
    "            for j in range(size_i):\n",
    "                in_str=extract_subsquare(2*i, 2*j, 2, squareIn_ls)\n",
    "                insert_subsquare(3*i, 3*j, rulesIn_dict[in_str], squareOut_ls)\n",
    "                \n",
    "        return squareOut_ls\n",
    "    \n",
    "    # If it's not divisible by 2, then it's divisible by 3:\n",
    "    else:\n",
    "        size_i=len(squareIn_ls)//3\n",
    "        squareOut_ls=[[0 for i in range(4*size_i)] for j in range(4*size_i)]\n",
    "\n",
    "        for i in range(size_i):\n",
    "            for j in range(size_i):\n",
    "                in_str=extract_subsquare(3*i, 3*j, 3, squareIn_ls)\n",
    "                insert_subsquare(4*i, 4*j, rulesIn_dict[in_str], squareOut_ls)\n",
    "                \n",
    "        return squareOut_ls\n",
    "    \n"
   ]
  },
  {
   "cell_type": "code",
   "execution_count": 16,
   "metadata": {},
   "outputs": [
    {
     "data": {
      "text/plain": [
       "[['#', '.', '.', '#'],\n",
       " ['.', '.', '.', '.'],\n",
       " ['.', '.', '.', '.'],\n",
       " ['#', '.', '.', '#']]"
      ]
     },
     "execution_count": 16,
     "metadata": {},
     "output_type": "execute_result"
    }
   ],
   "source": [
    "next_state(rules_dict, [['.', '#', '.'], ['.', '.', '#'], ['#', '#', '#']])"
   ]
  },
  {
   "cell_type": "code",
   "execution_count": 17,
   "metadata": {},
   "outputs": [
    {
     "data": {
      "text/plain": [
       "[['#', '#', '.', '#', '#', '.'],\n",
       " ['#', '.', '.', '#', '.', '.'],\n",
       " ['.', '.', '.', '.', '.', '.'],\n",
       " ['#', '#', '.', '#', '#', '.'],\n",
       " ['#', '.', '.', '#', '.', '.'],\n",
       " ['.', '.', '.', '.', '.', '.']]"
      ]
     },
     "execution_count": 17,
     "metadata": {},
     "output_type": "execute_result"
    }
   ],
   "source": [
    "next_state(rules_dict, _)"
   ]
  },
  {
   "cell_type": "markdown",
   "metadata": {},
   "source": [
    "OK, that seems to be working."
   ]
  },
  {
   "cell_type": "markdown",
   "metadata": {},
   "source": [
    "Now let's do it with the puzzle input:"
   ]
  },
  {
   "cell_type": "code",
   "execution_count": 18,
   "metadata": {
    "collapsed": true
   },
   "outputs": [],
   "source": [
    "with open('data/day21.txt') as fIn:\n",
    "    puzzleInput_str=fIn.read()\n",
    "\n",
    "\n",
    "rules_dict={}\n",
    "for rule_str in re.findall('((\\.|#){2}/(\\.|#){2}\\s+\\=\\>\\s+(\\.|#){3}/(\\.|#){3}/(\\.|#){3})', \n",
    "                              puzzleInput_str):\n",
    "    rules_dict.update(parse_rule_2(rule_str[0]))\n",
    "for rule_str in re.findall('((\\.|#){3}/(\\.|#){3}/(\\.|#){3}\\s+\\=\\>\\s+(\\.|#){4}/(\\.|#){4}/(\\.|#){4}/(\\.|#){4})',\n",
    "                              puzzleInput_str):\n",
    "    rules_dict.update(parse_rule_3(rule_str[0]))\n",
    "\n"
   ]
  },
  {
   "cell_type": "markdown",
   "metadata": {},
   "source": [
    "Now apply these rules to the input:"
   ]
  },
  {
   "cell_type": "code",
   "execution_count": 19,
   "metadata": {
    "collapsed": true
   },
   "outputs": [],
   "source": [
    "puzzleInput_ls=[['.', '#', '.'], ['.', '.', '#'], ['#', '#', '#']]"
   ]
  },
  {
   "cell_type": "code",
   "execution_count": 20,
   "metadata": {},
   "outputs": [
    {
     "data": {
      "text/plain": [
       "[['.', '#', '.', '#'],\n",
       " ['#', '.', '.', '.'],\n",
       " ['.', '.', '#', '.'],\n",
       " ['#', '.', '#', '#']]"
      ]
     },
     "execution_count": 20,
     "metadata": {},
     "output_type": "execute_result"
    }
   ],
   "source": [
    "# Iteration 1\n",
    "next_state(rules_dict, puzzleInput_ls)"
   ]
  },
  {
   "cell_type": "code",
   "execution_count": 21,
   "metadata": {},
   "outputs": [
    {
     "data": {
      "text/plain": [
       "[['#', '.', '.', '.', '#', '#'],\n",
       " ['#', '.', '.', '#', '.', '.'],\n",
       " ['.', '#', '.', '#', '#', '#'],\n",
       " ['.', '#', '#', '.', '#', '.'],\n",
       " ['#', '.', '.', '#', '.', '.'],\n",
       " ['#', '#', '#', '#', '.', '.']]"
      ]
     },
     "execution_count": 21,
     "metadata": {},
     "output_type": "execute_result"
    }
   ],
   "source": [
    "# Iteration 2\n",
    "next_state(rules_dict, _)"
   ]
  },
  {
   "cell_type": "code",
   "execution_count": 22,
   "metadata": {},
   "outputs": [
    {
     "data": {
      "text/plain": [
       "[['.', '.', '#', '.', '#', '#', '.', '.', '#'],\n",
       " ['#', '.', '#', '#', '.', '.', '#', '.', '#'],\n",
       " ['#', '.', '.', '#', '#', '#', '#', '.', '.'],\n",
       " ['.', '.', '#', '#', '.', '.', '.', '#', '.'],\n",
       " ['#', '.', '#', '#', '.', '.', '#', '.', '.'],\n",
       " ['#', '.', '.', '.', '#', '.', '#', '.', '.'],\n",
       " ['.', '#', '.', '.', '#', '.', '.', '#', '#'],\n",
       " ['#', '.', '.', '#', '.', '.', '#', '.', '.'],\n",
       " ['#', '.', '.', '#', '.', '.', '.', '.', '#']]"
      ]
     },
     "execution_count": 22,
     "metadata": {},
     "output_type": "execute_result"
    }
   ],
   "source": [
    "# Iteration 3\n",
    "next_state(rules_dict, _)"
   ]
  },
  {
   "cell_type": "code",
   "execution_count": 23,
   "metadata": {},
   "outputs": [
    {
     "data": {
      "text/plain": [
       "[['#', '#', '.', '#', '#', '.', '.', '#', '#', '#', '.', '#'],\n",
       " ['.', '#', '#', '.', '#', '#', '#', '.', '.', '#', '#', '.'],\n",
       " ['#', '.', '.', '.', '.', '.', '.', '.', '#', '.', '.', '.'],\n",
       " ['.', '#', '#', '#', '#', '#', '.', '#', '.', '#', '#', '#'],\n",
       " ['#', '#', '.', '#', '#', '#', '.', '.', '#', '#', '.', '.'],\n",
       " ['.', '#', '#', '.', '#', '#', '#', '#', '#', '#', '#', '#'],\n",
       " ['#', '.', '.', '.', '.', '.', '#', '.', '.', '.', '#', '.'],\n",
       " ['.', '#', '#', '#', '.', '.', '.', '#', '.', '.', '.', '#'],\n",
       " ['#', '#', '.', '.', '#', '#', '.', '.', '#', '.', '#', '.'],\n",
       " ['#', '#', '#', '#', '#', '#', '#', '#', '.', '.', '#', '.'],\n",
       " ['.', '.', '#', '.', '.', '.', '#', '.', '#', '#', '#', '.'],\n",
       " ['.', '.', '.', '#', '.', '.', '.', '#', '#', '#', '#', '.']]"
      ]
     },
     "execution_count": 23,
     "metadata": {},
     "output_type": "execute_result"
    }
   ],
   "source": [
    "# Iteration 4\n",
    "next_state(rules_dict, _)"
   ]
  },
  {
   "cell_type": "code",
   "execution_count": 24,
   "metadata": {},
   "outputs": [
    {
     "data": {
      "text/plain": [
       "[['.',\n",
       "  '#',\n",
       "  '.',\n",
       "  '#',\n",
       "  '.',\n",
       "  '.',\n",
       "  '.',\n",
       "  '#',\n",
       "  '.',\n",
       "  '#',\n",
       "  '.',\n",
       "  '.',\n",
       "  '.',\n",
       "  '#',\n",
       "  '.',\n",
       "  '#',\n",
       "  '.',\n",
       "  '.'],\n",
       " ['#',\n",
       "  '.',\n",
       "  '.',\n",
       "  '#',\n",
       "  '.',\n",
       "  '.',\n",
       "  '#',\n",
       "  '.',\n",
       "  '.',\n",
       "  '#',\n",
       "  '.',\n",
       "  '.',\n",
       "  '#',\n",
       "  '.',\n",
       "  '.',\n",
       "  '#',\n",
       "  '.',\n",
       "  '.'],\n",
       " ['#',\n",
       "  '.',\n",
       "  '.',\n",
       "  '.',\n",
       "  '#',\n",
       "  '.',\n",
       "  '#',\n",
       "  '.',\n",
       "  '.',\n",
       "  '.',\n",
       "  '#',\n",
       "  '.',\n",
       "  '#',\n",
       "  '.',\n",
       "  '.',\n",
       "  '.',\n",
       "  '#',\n",
       "  '.'],\n",
       " ['#',\n",
       "  '.',\n",
       "  '.',\n",
       "  '.',\n",
       "  '.',\n",
       "  '#',\n",
       "  '.',\n",
       "  '.',\n",
       "  '#',\n",
       "  '.',\n",
       "  '#',\n",
       "  '#',\n",
       "  '#',\n",
       "  '.',\n",
       "  '.',\n",
       "  '.',\n",
       "  '.',\n",
       "  '#'],\n",
       " ['#',\n",
       "  '.',\n",
       "  '.',\n",
       "  '#',\n",
       "  '.',\n",
       "  '#',\n",
       "  '#',\n",
       "  '.',\n",
       "  '#',\n",
       "  '#',\n",
       "  '.',\n",
       "  '.',\n",
       "  '#',\n",
       "  '.',\n",
       "  '.',\n",
       "  '#',\n",
       "  '.',\n",
       "  '#'],\n",
       " ['.',\n",
       "  '#',\n",
       "  '.',\n",
       "  '#',\n",
       "  '.',\n",
       "  '.',\n",
       "  '#',\n",
       "  '.',\n",
       "  '.',\n",
       "  '#',\n",
       "  '#',\n",
       "  '#',\n",
       "  '.',\n",
       "  '#',\n",
       "  '.',\n",
       "  '#',\n",
       "  '.',\n",
       "  '.'],\n",
       " ['.',\n",
       "  '#',\n",
       "  '.',\n",
       "  '#',\n",
       "  '.',\n",
       "  '.',\n",
       "  '.',\n",
       "  '#',\n",
       "  '#',\n",
       "  '.',\n",
       "  '.',\n",
       "  '#',\n",
       "  '.',\n",
       "  '#',\n",
       "  '#',\n",
       "  '.',\n",
       "  '.',\n",
       "  '#'],\n",
       " ['#',\n",
       "  '.',\n",
       "  '.',\n",
       "  '#',\n",
       "  '.',\n",
       "  '.',\n",
       "  '.',\n",
       "  '.',\n",
       "  '.',\n",
       "  '#',\n",
       "  '.',\n",
       "  '#',\n",
       "  '.',\n",
       "  '.',\n",
       "  '.',\n",
       "  '#',\n",
       "  '.',\n",
       "  '#'],\n",
       " ['#',\n",
       "  '.',\n",
       "  '.',\n",
       "  '.',\n",
       "  '#',\n",
       "  '.',\n",
       "  '.',\n",
       "  '#',\n",
       "  '#',\n",
       "  '#',\n",
       "  '.',\n",
       "  '.',\n",
       "  '.',\n",
       "  '#',\n",
       "  '#',\n",
       "  '#',\n",
       "  '.',\n",
       "  '.'],\n",
       " ['#',\n",
       "  '.',\n",
       "  '.',\n",
       "  '.',\n",
       "  '.',\n",
       "  '#',\n",
       "  '.',\n",
       "  '#',\n",
       "  '#',\n",
       "  '#',\n",
       "  '.',\n",
       "  '.',\n",
       "  '.',\n",
       "  '#',\n",
       "  '#',\n",
       "  '#',\n",
       "  '.',\n",
       "  '.'],\n",
       " ['#',\n",
       "  '.',\n",
       "  '.',\n",
       "  '#',\n",
       "  '.',\n",
       "  '#',\n",
       "  '#',\n",
       "  '.',\n",
       "  '.',\n",
       "  '#',\n",
       "  '.',\n",
       "  '.',\n",
       "  '#',\n",
       "  '.',\n",
       "  '.',\n",
       "  '#',\n",
       "  '.',\n",
       "  '.'],\n",
       " ['.',\n",
       "  '#',\n",
       "  '.',\n",
       "  '#',\n",
       "  '.',\n",
       "  '.',\n",
       "  '.',\n",
       "  '.',\n",
       "  '#',\n",
       "  '.',\n",
       "  '#',\n",
       "  '.',\n",
       "  '.',\n",
       "  '.',\n",
       "  '#',\n",
       "  '.',\n",
       "  '#',\n",
       "  '.'],\n",
       " ['.',\n",
       "  '#',\n",
       "  '#',\n",
       "  '.',\n",
       "  '.',\n",
       "  '#',\n",
       "  '.',\n",
       "  '#',\n",
       "  '#',\n",
       "  '.',\n",
       "  '.',\n",
       "  '#',\n",
       "  '.',\n",
       "  '#',\n",
       "  '#',\n",
       "  '.',\n",
       "  '.',\n",
       "  '#'],\n",
       " ['.',\n",
       "  '.',\n",
       "  '.',\n",
       "  '#',\n",
       "  '.',\n",
       "  '#',\n",
       "  '.',\n",
       "  '.',\n",
       "  '.',\n",
       "  '#',\n",
       "  '.',\n",
       "  '#',\n",
       "  '#',\n",
       "  '.',\n",
       "  '.',\n",
       "  '#',\n",
       "  '.',\n",
       "  '#'],\n",
       " ['.',\n",
       "  '#',\n",
       "  '#',\n",
       "  '#',\n",
       "  '.',\n",
       "  '.',\n",
       "  '.',\n",
       "  '#',\n",
       "  '#',\n",
       "  '#',\n",
       "  '.',\n",
       "  '.',\n",
       "  '#',\n",
       "  '#',\n",
       "  '#',\n",
       "  '#',\n",
       "  '.',\n",
       "  '.'],\n",
       " ['.',\n",
       "  '#',\n",
       "  '#',\n",
       "  '#',\n",
       "  '.',\n",
       "  '.',\n",
       "  '.',\n",
       "  '#',\n",
       "  '#',\n",
       "  '#',\n",
       "  '.',\n",
       "  '.',\n",
       "  '.',\n",
       "  '#',\n",
       "  '#',\n",
       "  '.',\n",
       "  '.',\n",
       "  '#'],\n",
       " ['#',\n",
       "  '.',\n",
       "  '.',\n",
       "  '#',\n",
       "  '.',\n",
       "  '.',\n",
       "  '#',\n",
       "  '.',\n",
       "  '.',\n",
       "  '#',\n",
       "  '.',\n",
       "  '.',\n",
       "  '.',\n",
       "  '.',\n",
       "  '.',\n",
       "  '#',\n",
       "  '.',\n",
       "  '#'],\n",
       " ['.',\n",
       "  '.',\n",
       "  '#',\n",
       "  '.',\n",
       "  '#',\n",
       "  '.',\n",
       "  '.',\n",
       "  '.',\n",
       "  '#',\n",
       "  '.',\n",
       "  '#',\n",
       "  '.',\n",
       "  '.',\n",
       "  '#',\n",
       "  '#',\n",
       "  '#',\n",
       "  '.',\n",
       "  '.']]"
      ]
     },
     "execution_count": 24,
     "metadata": {},
     "output_type": "execute_result"
    }
   ],
   "source": [
    "# Iteration 5\n",
    "next_state(rules_dict, _)"
   ]
  },
  {
   "cell_type": "code",
   "execution_count": 25,
   "metadata": {
    "collapsed": true
   },
   "outputs": [],
   "source": [
    "finalState_ls=_"
   ]
  },
  {
   "cell_type": "code",
   "execution_count": 26,
   "metadata": {},
   "outputs": [
    {
     "data": {
      "text/plain": [
       "133"
      ]
     },
     "execution_count": 26,
     "metadata": {},
     "output_type": "execute_result"
    }
   ],
   "source": [
    "sum([row.count('#') for row in finalState_ls])"
   ]
  },
  {
   "cell_type": "code",
   "execution_count": null,
   "metadata": {
    "collapsed": true
   },
   "outputs": [],
   "source": []
  }
 ],
 "metadata": {
  "kernelspec": {
   "display_name": "Python 3",
   "language": "python",
   "name": "python3"
  },
  "language_info": {
   "codemirror_mode": {
    "name": "ipython",
    "version": 3
   },
   "file_extension": ".py",
   "mimetype": "text/x-python",
   "name": "python",
   "nbconvert_exporter": "python",
   "pygments_lexer": "ipython3",
   "version": "3.6.1"
  }
 },
 "nbformat": 4,
 "nbformat_minor": 2
}
