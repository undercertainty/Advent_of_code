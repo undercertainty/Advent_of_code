{
 "cells": [
  {
   "cell_type": "markdown",
   "metadata": {},
   "source": [
    "OK, not a Dijkstra. But it'll be a lot easier to do this part if we've got a function to identify the group that a given node is a member of."
   ]
  },
  {
   "cell_type": "code",
   "execution_count": 1,
   "metadata": {
    "collapsed": true
   },
   "outputs": [],
   "source": [
    "def find_group(startNode, graph_dict):\n",
    "    '''\n",
    "    Return the set of nodes in graph_dict connected to startNode.\n",
    "    '''\n",
    "    connected_set=set()\n",
    "    agenda_ls=[startNode]\n",
    "\n",
    "    while agenda_ls:\n",
    "        nextNode=agenda_ls.pop()\n",
    "        if nextNode not in connected_set:\n",
    "            connected_set.add(nextNode)\n",
    "            agenda_ls[0:0]=list(graph_dict[nextNode])\n",
    "    \n",
    "    return connected_set\n"
   ]
  },
  {
   "cell_type": "markdown",
   "metadata": {},
   "source": [
    "Check that this works with the test data:"
   ]
  },
  {
   "cell_type": "code",
   "execution_count": 2,
   "metadata": {},
   "outputs": [
    {
     "data": {
      "text/plain": [
       "{'0': {'2'},\n",
       " '1': {'1'},\n",
       " '2': {'0', '3', '4'},\n",
       " '3': {'2', '4'},\n",
       " '4': {'2', '3', '6'},\n",
       " '5': {'6'},\n",
       " '6': {'4', '5'}}"
      ]
     },
     "execution_count": 2,
     "metadata": {},
     "output_type": "execute_result"
    }
   ],
   "source": [
    "testInput_str='''\n",
    "0 <-> 2\n",
    "1 <-> 1\n",
    "2 <-> 0, 3, 4\n",
    "3 <-> 2, 4\n",
    "4 <-> 2, 3, 6\n",
    "5 <-> 6\n",
    "6 <-> 4, 5\n",
    "'''\n",
    "\n",
    "graph_dict={}\n",
    "\n",
    "for node, value in [nl.split(' <-> ') for nl in testInput_str.strip().split('\\n')]:\n",
    "    graph_dict[node]=set(v.strip() for v in value.split(','))\n",
    "\n",
    "graph_dict"
   ]
  },
  {
   "cell_type": "markdown",
   "metadata": {},
   "source": [
    "And check that the `find_group` function works OK:"
   ]
  },
  {
   "cell_type": "code",
   "execution_count": 3,
   "metadata": {
    "collapsed": true
   },
   "outputs": [],
   "source": [
    "assert find_group('0', graph_dict)=={'0', '2', '3', '4', '5', '6'}\n",
    "assert find_group('1', graph_dict)=={'1'}"
   ]
  },
  {
   "cell_type": "markdown",
   "metadata": {},
   "source": [
    "Good. Now we should just be able to repeatedly pop the keys and remove the group from `graph_dict` until the dict is empty:"
   ]
  },
  {
   "cell_type": "code",
   "execution_count": 4,
   "metadata": {},
   "outputs": [
    {
     "data": {
      "text/plain": [
       "[{'0', '2', '3', '4', '5', '6'}, {'1'}]"
      ]
     },
     "execution_count": 4,
     "metadata": {},
     "output_type": "execute_result"
    }
   ],
   "source": [
    "groups_ls=[]\n",
    "\n",
    "while graph_dict:\n",
    "    pickANode=list(graph_dict.keys())[0]\n",
    "    connectedNodes_set=find_group(pickANode, graph_dict)\n",
    "    groups_ls.append(connectedNodes_set)\n",
    "    for node in connectedNodes_set:\n",
    "        graph_dict.pop(node)\n",
    "groups_ls\n",
    "    "
   ]
  },
  {
   "cell_type": "markdown",
   "metadata": {},
   "source": [
    "That gives us the right number of groups (2), so let's apply to our puzzle input:"
   ]
  },
  {
   "cell_type": "code",
   "execution_count": 5,
   "metadata": {},
   "outputs": [
    {
     "data": {
      "text/plain": [
       "200"
      ]
     },
     "execution_count": 5,
     "metadata": {},
     "output_type": "execute_result"
    }
   ],
   "source": [
    "with open('data/day12.txt') as fIn:\n",
    "    puzzleInput_str=fIn.read()\n",
    "\n",
    "graph_dict={}\n",
    "\n",
    "for node, value in [nl.split(' <-> ') for nl in puzzleInput_str.strip().split('\\n')]:\n",
    "    graph_dict[node]=set(v.strip() for v in value.split(','))\n",
    "\n",
    "groups_ls=[]\n",
    "\n",
    "while graph_dict:\n",
    "    pickANode=list(graph_dict.keys())[0]\n",
    "    connectedNodes_set=find_group(pickANode, graph_dict)\n",
    "    groups_ls.append(connectedNodes_set)\n",
    "    for node in connectedNodes_set:\n",
    "        graph_dict.pop(node)\n",
    "\n",
    "len(groups_ls)"
   ]
  }
 ],
 "metadata": {
  "kernelspec": {
   "display_name": "Python 3",
   "language": "python",
   "name": "python3"
  },
  "language_info": {
   "codemirror_mode": {
    "name": "ipython",
    "version": 3
   },
   "file_extension": ".py",
   "mimetype": "text/x-python",
   "name": "python",
   "nbconvert_exporter": "python",
   "pygments_lexer": "ipython3",
   "version": "3.6.1"
  }
 },
 "nbformat": 4,
 "nbformat_minor": 2
}
