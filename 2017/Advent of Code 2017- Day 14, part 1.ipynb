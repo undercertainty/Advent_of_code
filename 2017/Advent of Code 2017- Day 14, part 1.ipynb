{
 "cells": [
  {
   "cell_type": "markdown",
   "metadata": {},
   "source": [
    "So we will need the 'full_knot_hash' function defined in Day 10:"
   ]
  },
  {
   "cell_type": "markdown",
   "metadata": {},
   "source": [
    "We'll want the `knot_hash` function again:"
   ]
  },
  {
   "cell_type": "code",
   "execution_count": 1,
   "metadata": {
    "collapsed": true
   },
   "outputs": [],
   "source": [
    "from itertools import cycle, islice\n",
    "from functools import reduce"
   ]
  },
  {
   "cell_type": "code",
   "execution_count": 2,
   "metadata": {
    "collapsed": true
   },
   "outputs": [],
   "source": [
    "def hash_once(listIn_ls, pos_i, length_i, skipSize_i=0):\n",
    "    '''\n",
    "    Apply the hash function once to an input list.\n",
    "    \n",
    "    Return a triple of the new list, new position, and new skip size.\n",
    "    '''\n",
    "    # Start by taking a cycle of the input list, and another\n",
    "    # of indices we can use to update the list later\n",
    "    listCycle_cc=cycle(listIn_ls)\n",
    "    indexCycle_cc=cycle(range(len(listIn_ls)))\n",
    "    \n",
    "    # It'll also be useful to return a copy of the input list:\n",
    "    listOut_ls=listIn_ls.copy()\n",
    "    \n",
    "    # Next, take a slice of the circular input list\n",
    "    revSublist_ls=list(islice(listCycle_cc, pos_i, pos_i+length_i))\n",
    "    # And reverse it:\n",
    "    revSublist_ls.reverse()\n",
    "    \n",
    "    # And now replace the elements in listOut_ls with the\n",
    "    # members of revSublist_ls. Use indexCycle_cc to get\n",
    "    # them in the right place:\n",
    "    \n",
    "    for (i, j) in enumerate(islice(indexCycle_cc, pos_i, pos_i+length_i)):\n",
    "        listOut_ls[j]=revSublist_ls[i]\n",
    "        \n",
    "    # The list has been updated; now need to return the appropriate\n",
    "    # values, of the new list, the new position, and the new skip size\n",
    "    \n",
    "    newPos_i=(pos_i+length_i+skipSize_i)%len(listIn_ls)\n",
    "    return (listOut_ls, newPos_i, skipSize_i+1)\n",
    "\n",
    "def knot_hash(inputList_ls, lengths_ls):\n",
    "    listOut_ls=inputList_ls.copy()\n",
    "    pos_i=0\n",
    "    skip_i=0\n",
    "    \n",
    "    for length_i in lengths_ls:\n",
    "        (listOut_ls, pos_i, skip_i)=hash_once(listOut_ls, pos_i, length_i, skip_i)\n",
    "    return listOut_ls\n",
    "\n",
    "def full_knot_hash(input_str):\n",
    "    '''\n",
    "    Do a full knot hash of the input string. Return the hashed version.\n",
    "    '''\n",
    "    \n",
    "    sparseHash_ls=knot_hash(list(range(256)), 64*([ord(c) for c in input_str] + [17, 31, 73, 47, 23]))\n",
    "    \n",
    "    # For the dense hash, split the sparse hash into blocks of 16,\n",
    "    # and call XOR on the sets. Useful to use functools.reduce here\n",
    "    denseHash_ls=[reduce(lambda x, y:x^y, charList_ls)\n",
    "              for charList_ls in [sparseHash_ls[16*x:16*(x+1)] for x in range(16)]]\n",
    "    return ''.join([hex(x)[-2:].replace('x', '0') for x in denseHash_ls])\n"
   ]
  },
  {
   "cell_type": "code",
   "execution_count": 3,
   "metadata": {
    "collapsed": true
   },
   "outputs": [],
   "source": [
    "assert full_knot_hash('')=='a2582a3a0e66e6e86e3812dcb672a272'\n",
    "assert full_knot_hash('AoC 2017')=='33efeb34ea91902bb2f59c9920caa6cd'\n",
    "assert full_knot_hash('1,2,3')=='3efbe78a8d82f29979031a4aa0b16a9d'\n",
    "assert full_knot_hash('1,2,4')=='63960835bcdc130f0b66d7ff4f6a5a8e'\n",
    "\n",
    "with open('data/day10.txt') as fIn:\n",
    "    input_str=fIn.read().strip()\n",
    "\n",
    "assert full_knot_hash(input_str)=='aff593797989d665349efe11bb4fd99b'"
   ]
  },
  {
   "cell_type": "code",
   "execution_count": 4,
   "metadata": {},
   "outputs": [
    {
     "data": {
      "text/plain": [
       "'1010'"
      ]
     },
     "execution_count": 4,
     "metadata": {},
     "output_type": "execute_result"
    }
   ],
   "source": [
    "bin(int('a', 16))[2:]"
   ]
  },
  {
   "cell_type": "code",
   "execution_count": 5,
   "metadata": {
    "collapsed": true
   },
   "outputs": [],
   "source": [
    "def hex_to_bin_string(hexIn_str):\n",
    "    return(''.join([bin(int(h, 16))[2:].zfill(4) for h in hexIn_str]))\n",
    "\n",
    "assert len(hex_to_bin_string('aff593797989d665349efe11bb4fd99b'))==128"
   ]
  },
  {
   "cell_type": "markdown",
   "metadata": {},
   "source": [
    "We can represent the grid as a list of the 128 character strings:"
   ]
  },
  {
   "cell_type": "code",
   "execution_count": 6,
   "metadata": {
    "collapsed": true
   },
   "outputs": [],
   "source": [
    "testInput_str='flqrgnkx'\n",
    "\n",
    "grid_ls=[hex_to_bin_string(full_knot_hash(hx)) for hx in \n",
    "         ['{}-{}'.format(testInput_str, i) for i in range(128)]]"
   ]
  },
  {
   "cell_type": "code",
   "execution_count": 7,
   "metadata": {},
   "outputs": [
    {
     "name": "stdout",
     "output_type": "stream",
     "text": [
      "11010100\n",
      "01010101\n",
      "00001010\n",
      "10101101\n",
      "01101000\n",
      "11001001\n",
      "01000100\n",
      "11010110\n"
     ]
    }
   ],
   "source": [
    "for x in grid_ls[:8]:\n",
    "    print(x[:8])"
   ]
  },
  {
   "cell_type": "code",
   "execution_count": 8,
   "metadata": {
    "collapsed": true
   },
   "outputs": [],
   "source": [
    "assert (''.join(grid_ls)).count('1')==8108"
   ]
  },
  {
   "cell_type": "markdown",
   "metadata": {},
   "source": [
    "Seems to be working OK. Now apply to the puzzle input:"
   ]
  },
  {
   "cell_type": "code",
   "execution_count": 9,
   "metadata": {},
   "outputs": [
    {
     "data": {
      "text/plain": [
       "8230"
      ]
     },
     "execution_count": 9,
     "metadata": {},
     "output_type": "execute_result"
    }
   ],
   "source": [
    "puzzleInput_str='hfdlxzhv'\n",
    "\n",
    "puzzleGrid_ls=[hex_to_bin_string(full_knot_hash(hx)) for hx in \n",
    "                ['{}-{}'.format(puzzleInput_str, i) for i in range(128)]]\n",
    "\n",
    "''.join(puzzleGrid_ls).count('1')"
   ]
  }
 ],
 "metadata": {
  "kernelspec": {
   "display_name": "Python 3",
   "language": "python",
   "name": "python3"
  },
  "language_info": {
   "codemirror_mode": {
    "name": "ipython",
    "version": 3
   },
   "file_extension": ".py",
   "mimetype": "text/x-python",
   "name": "python",
   "nbconvert_exporter": "python",
   "pygments_lexer": "ipython3",
   "version": "3.6.1"
  }
 },
 "nbformat": 4,
 "nbformat_minor": 2
}
