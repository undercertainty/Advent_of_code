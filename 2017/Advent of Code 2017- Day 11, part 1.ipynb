{
 "cells": [
  {
   "cell_type": "markdown",
   "metadata": {},
   "source": [
    "Oh crap, I hate hex grids. I think I'll do a massive hack at this point, and calculate the distance using the three different coordinate sets. Then I can return the smallest."
   ]
  },
  {
   "cell_type": "markdown",
   "metadata": {},
   "source": [
    "So define 3 functions, where the coordinate systems are based on (N, NE), (N, SE) and (NE, SE):"
   ]
  },
  {
   "cell_type": "code",
   "execution_count": 1,
   "metadata": {},
   "outputs": [
    {
     "data": {
      "text/plain": [
       "(2, 1)"
      ]
     },
     "execution_count": 1,
     "metadata": {},
     "output_type": "execute_result"
    }
   ],
   "source": [
    "def find_coords_n_ne(stepsIn_ls):\n",
    "    '''\n",
    "    Return the coordinates of the final position, if\n",
    "    the axes are in the directions of n and ne\n",
    "    '''\n",
    "    moves_dict={'n':(1, 0), 'ne':(0, 1), 'se':(-1, 1),\n",
    "                's':(-1, 0), 'sw':(0, -1), 'nw':(1, -1)}\n",
    "    # Set the initial position\n",
    "    pos=(0,0)\n",
    "    \n",
    "    for step in stepsIn_ls:\n",
    "        (c1m, c2m)=moves_dict[step]\n",
    "        pos=(pos[0]+c1m, pos[1]+c2m)\n",
    "    \n",
    "    return pos\n",
    "\n",
    "find_coords_n_ne(['n', 'n', 'ne'])"
   ]
  },
  {
   "cell_type": "code",
   "execution_count": 2,
   "metadata": {},
   "outputs": [
    {
     "data": {
      "text/plain": [
       "(3, 1)"
      ]
     },
     "execution_count": 2,
     "metadata": {},
     "output_type": "execute_result"
    }
   ],
   "source": [
    "def find_coords_n_se(stepsIn_ls):\n",
    "    '''\n",
    "    Return the coordinates of the final position, if\n",
    "    the axes are in the directions of n and se\n",
    "    '''\n",
    "    moves_dict={'n':(1, 0), 'ne':(1, 1), 'se':(0, 1),\n",
    "                's':(-1, 0), 'sw':(-1, -1), 'nw':(0, -1)}\n",
    "    # Set the initial position\n",
    "    pos=(0,0)\n",
    "    \n",
    "    for step in stepsIn_ls:\n",
    "        (c1m, c2m)=moves_dict[step]\n",
    "        pos=(pos[0]+c1m, pos[1]+c2m)\n",
    "    \n",
    "    return pos\n",
    "\n",
    "find_coords_n_se(['n', 'n', 'ne'])"
   ]
  },
  {
   "cell_type": "code",
   "execution_count": 3,
   "metadata": {},
   "outputs": [
    {
     "data": {
      "text/plain": [
       "(3, -2)"
      ]
     },
     "execution_count": 3,
     "metadata": {},
     "output_type": "execute_result"
    }
   ],
   "source": [
    "def find_coords_ne_se(stepsIn_ls):\n",
    "    '''\n",
    "    Return the coordinates of the final position, if\n",
    "    the axes are in the directions of ne and se\n",
    "    '''\n",
    "    moves_dict={'n':(1, -1), 'ne':(1, 0), 'se':(0, 1),\n",
    "                's':(-1, 1), 'sw':(-1, 0), 'nw':(0, -1)}\n",
    "    # Set the initial position\n",
    "    pos=(0,0)\n",
    "    \n",
    "    for step in stepsIn_ls:\n",
    "        (c1m, c2m)=moves_dict[step]\n",
    "        pos=(pos[0]+c1m, pos[1]+c2m)\n",
    "    \n",
    "    return pos\n",
    "\n",
    "find_coords_ne_se(['n', 'n', 'ne'])"
   ]
  },
  {
   "cell_type": "markdown",
   "metadata": {},
   "source": [
    "Now find the shortest path to the child:"
   ]
  },
  {
   "cell_type": "code",
   "execution_count": 4,
   "metadata": {
    "collapsed": true
   },
   "outputs": [],
   "source": [
    "def shortest_path_length(stepsIn_ls):\n",
    "    '''\n",
    "    Find the shortest path given a sequence of steps\n",
    "    '''\n",
    "    \n",
    "    (x, y)=find_coords_n_ne(stepsIn_ls)\n",
    "    pathLengthNNe_i=abs(x)+abs(y)\n",
    "    \n",
    "    (x, y)=find_coords_n_se(stepsIn_ls)\n",
    "    pathLengthNSe_i=abs(x)+abs(y)\n",
    "    \n",
    "    (x, y)=find_coords_ne_se(stepsIn_ls)\n",
    "    pathLengthNeSe_i=abs(x)+abs(y)\n",
    "    \n",
    "    # And return the smallest\n",
    "    return min([pathLengthNNe_i, pathLengthNSe_i, pathLengthNeSe_i])    "
   ]
  },
  {
   "cell_type": "markdown",
   "metadata": {},
   "source": [
    "Do the test cases:"
   ]
  },
  {
   "cell_type": "code",
   "execution_count": 5,
   "metadata": {
    "collapsed": true
   },
   "outputs": [],
   "source": [
    "assert shortest_path_length(['ne','ne','ne'])==3\n",
    "assert shortest_path_length(['ne','ne','sw','sw'])==0\n",
    "assert shortest_path_length(['ne','ne','s', 's'])==2\n",
    "assert shortest_path_length(['se','sw','se','sw','sw'])==3\n"
   ]
  },
  {
   "cell_type": "markdown",
   "metadata": {},
   "source": [
    "Good, test cases passed. Now do my puzzle input:"
   ]
  },
  {
   "cell_type": "code",
   "execution_count": 6,
   "metadata": {},
   "outputs": [
    {
     "data": {
      "text/plain": [
       "['s', 'sw', 'sw', 'nw', 'nw']"
      ]
     },
     "execution_count": 6,
     "metadata": {},
     "output_type": "execute_result"
    }
   ],
   "source": [
    "with open('data/day11.txt') as fIn:\n",
    "    puzzleInput_ls=fIn.read().strip().split(',')\n",
    "puzzleInput_ls[:5]"
   ]
  },
  {
   "cell_type": "code",
   "execution_count": 7,
   "metadata": {},
   "outputs": [
    {
     "data": {
      "text/plain": [
       "650"
      ]
     },
     "execution_count": 7,
     "metadata": {},
     "output_type": "execute_result"
    }
   ],
   "source": [
    "shortest_path_length(puzzleInput_ls)"
   ]
  }
 ],
 "metadata": {
  "kernelspec": {
   "display_name": "Python 3",
   "language": "python",
   "name": "python3"
  },
  "language_info": {
   "codemirror_mode": {
    "name": "ipython",
    "version": 3
   },
   "file_extension": ".py",
   "mimetype": "text/x-python",
   "name": "python",
   "nbconvert_exporter": "python",
   "pygments_lexer": "ipython3",
   "version": "3.6.1"
  }
 },
 "nbformat": 4,
 "nbformat_minor": 2
}
