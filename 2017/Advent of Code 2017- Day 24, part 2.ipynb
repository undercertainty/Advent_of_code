{
 "cells": [
  {
   "cell_type": "markdown",
   "metadata": {},
   "source": [
    "# <font color=\"red\">Warning: I don't have time over Christmas to comment this properly, or describe what I'm doing, so the following notebook shouldn't be taken as a good way of doing things!</font>"
   ]
  },
  {
   "cell_type": "markdown",
   "metadata": {},
   "source": [
    "We can probably reduce the search space by finding unique pairs. A pair will be unique if it appears exactly twice in the pipes. So if we have X/Y and Y/Z, then the only way this can be used is as X/Z. (Note: this doesn't apply to zero). Also, need to include the length for part 2:"
   ]
  },
  {
   "cell_type": "code",
   "execution_count": 1,
   "metadata": {
    "collapsed": true
   },
   "outputs": [],
   "source": [
    "import pyrsistent as pyr"
   ]
  },
  {
   "cell_type": "code",
   "execution_count": 2,
   "metadata": {},
   "outputs": [
    {
     "data": {
      "text/plain": [
       "pvector([(0, 2), (2, 2), (2, 3), (3, 4), (3, 5), (0, 1), (10, 1), (9, 10)])"
      ]
     },
     "execution_count": 2,
     "metadata": {},
     "output_type": "execute_result"
    }
   ],
   "source": [
    "testInput_str='''\n",
    "0/2\n",
    "2/2\n",
    "2/3\n",
    "3/4\n",
    "3/5\n",
    "0/1\n",
    "10/1\n",
    "9/10\n",
    "'''\n",
    "\n",
    "parts_pv=pyr.pvector([(int(x), int(y))\n",
    "                      for [x, y] in [nl.split('/')\n",
    "                                     for nl in testInput_str.strip().split('\\n')]])\n",
    "\n",
    "parts_pv"
   ]
  },
  {
   "cell_type": "code",
   "execution_count": 3,
   "metadata": {},
   "outputs": [
    {
     "data": {
      "text/plain": [
       "pvector([(25, 13), (4, 43), (42, 42), (39, 40), (17, 18), (30, 7), (12, 12), (32, 28), (9, 28), (1, 1), (16, 7), (47, 43), (34, 16), (39, 36), (6, 4), (3, 2), (10, 49), (46, 50), (18, 25), (2, 23), (3, 21), (5, 24), (46, 26), (50, 19), (26, 41), (1, 50), (47, 41), (39, 50), (12, 14), (11, 19), (28, 2), (38, 47), (5, 5), (38, 34), (39, 39), (17, 34), (42, 16), (32, 23), (13, 21), (28, 6), (6, 20), (1, 30), (44, 21), (11, 28), (14, 17), (33, 33), (17, 43), (31, 13), (11, 21), (31, 39), (0, 9), (13, 50), (10, 14), (16, 10), (3, 24), (7, 0), (50, 50)])"
      ]
     },
     "execution_count": 3,
     "metadata": {},
     "output_type": "execute_result"
    }
   ],
   "source": [
    "with open('data/day24.txt') as fIn:\n",
    "    parts_pv=pyr.pvector([(int(x), int(y))\n",
    "                          for [x, y] in [nl.split('/')\n",
    "                                         for nl in fIn.read().strip().split('\\n')]])\n",
    "\n",
    "parts_pv"
   ]
  },
  {
   "cell_type": "code",
   "execution_count": 4,
   "metadata": {},
   "outputs": [
    {
     "data": {
      "text/plain": [
       "{4, 9, 18, 19, 23, 24, 25, 26, 30, 31, 32, 33, 38, 41, 46}"
      ]
     },
     "execution_count": 4,
     "metadata": {},
     "output_type": "execute_result"
    }
   ],
   "source": [
    "allNumbers_ls=[]\n",
    "\n",
    "for (x, y) in parts_pv:\n",
    "    allNumbers_ls.append(x)\n",
    "    allNumbers_ls.append(y)\n",
    "\n",
    "duplicates_set={x for x in allNumbers_ls if (x and allNumbers_ls.count(x)==2)}\n",
    "duplicates_set"
   ]
  },
  {
   "cell_type": "code",
   "execution_count": 5,
   "metadata": {},
   "outputs": [
    {
     "data": {
      "text/plain": [
       "pvector([(25, 13, 38, 1), (4, 43, 47, 1), (42, 42, 84, 1), (39, 40, 79, 1), (17, 18, 35, 1), (30, 7, 37, 1), (12, 12, 24, 1), (32, 28, 60, 1), (9, 28, 37, 1), (1, 1, 2, 1), (16, 7, 23, 1), (47, 43, 90, 1), (34, 16, 50, 1), (39, 36, 75, 1), (6, 4, 10, 1), (3, 2, 5, 1), (10, 49, 59, 1), (46, 50, 96, 1), (18, 25, 43, 1), (2, 23, 25, 1), (3, 21, 24, 1), (5, 24, 29, 1), (46, 26, 72, 1), (50, 19, 69, 1), (26, 41, 67, 1), (1, 50, 51, 1), (47, 41, 88, 1), (39, 50, 89, 1), (12, 14, 26, 1), (11, 19, 30, 1), (28, 2, 30, 1), (38, 47, 85, 1), (5, 5, 10, 1), (38, 34, 72, 1), (39, 39, 78, 1), (17, 34, 51, 1), (42, 16, 58, 1), (32, 23, 55, 1), (13, 21, 34, 1), (28, 6, 34, 1), (6, 20, 26, 1), (1, 30, 31, 1), (44, 21, 65, 1), (11, 28, 39, 1), (14, 17, 31, 1), (33, 33, 66, 1), (17, 43, 60, 1), (31, 13, 44, 1), (11, 21, 32, 1), (31, 39, 70, 1), (0, 9, 9, 1), (13, 50, 63, 1), (10, 14, 24, 1), (16, 10, 26, 1), (3, 24, 27, 1), (7, 0, 7, 1), (50, 50, 100, 1)])"
      ]
     },
     "execution_count": 5,
     "metadata": {},
     "output_type": "execute_result"
    }
   ],
   "source": [
    "partsWithLength_pv=pyr.pvector([(x, y, x+y, 1) for (x, y) in parts_pv])\n",
    "partsWithLength_pv"
   ]
  },
  {
   "cell_type": "code",
   "execution_count": 6,
   "metadata": {},
   "outputs": [
    {
     "name": "stdout",
     "output_type": "stream",
     "text": [
      "32\n",
      "[(32, 28, 60, 1), (32, 23, 55, 1)]\n",
      "33\n",
      "4\n",
      "[(4, 43, 47, 1), (6, 4, 10, 1)]\n",
      "38\n",
      "[(38, 47, 85, 1), (38, 34, 72, 1)]\n",
      "9\n",
      "[(9, 28, 37, 1), (0, 9, 9, 1)]\n",
      "41\n",
      "[(26, 41, 67, 1), (47, 41, 88, 1)]\n",
      "46\n",
      "[(46, 50, 96, 1), (46, 26, 72, 1)]\n",
      "18\n",
      "[(17, 18, 35, 1), (18, 25, 43, 1)]\n",
      "19\n",
      "[(50, 19, 69, 1), (11, 19, 30, 1)]\n",
      "23\n",
      "[(2, 23, 25, 1), (28, 23, 115, 2)]\n",
      "24\n",
      "[(5, 24, 29, 1), (3, 24, 27, 1)]\n",
      "25\n",
      "[(25, 13, 38, 1), (17, 25, 78, 2)]\n",
      "26\n",
      "[(26, 47, 155, 2), (50, 26, 168, 2)]\n",
      "30\n",
      "[(30, 7, 37, 1), (1, 30, 31, 1)]\n",
      "31\n",
      "[(31, 13, 44, 1), (31, 39, 70, 1)]\n"
     ]
    }
   ],
   "source": [
    "for duplicate_i in duplicates_set:\n",
    "    \n",
    "    print(duplicate_i)\n",
    "    \n",
    "    u=[x for x in partsWithLength_pv if (x[0]==duplicate_i or x[1]==duplicate_i)]\n",
    "    \n",
    "    # If just have a single X/X entry:\n",
    "    if len(u)==1:\n",
    "        partsWithLength_pv=partsWithLength_pv.remove(u[0])\n",
    "        continue\n",
    "    \n",
    "    print(u)\n",
    "    \n",
    "    [x1, y1, c1, l1]=u[0]\n",
    "    [x2, y2, c2, l2]=u[1]\n",
    "    \n",
    "    if x1==duplicate_i and x2==duplicate_i:\n",
    "        z=partsWithLength_pv.remove(u[0])\n",
    "        z1=z.remove(u[1])\n",
    "        partsWithLength_pv=z1.append((y1, y2, c1+c2, l1+l2))\n",
    "        \n",
    "    if x1==duplicate_i and y2==duplicate_i:\n",
    "        z=partsWithLength_pv.remove(u[0])\n",
    "        z1=z.remove(u[1])\n",
    "        partsWithLength_pv=z1.append((y1, x2, c1+c2, l1+l2))\n",
    "        \n",
    "    if y1==duplicate_i and x2==duplicate_i:\n",
    "        z=partsWithLength_pv.remove(u[0])\n",
    "        z1=z.remove(u[1])\n",
    "        partsWithLength_pv=z1.append((x1, y2, c1+c2, l1+l2))\n",
    "        \n",
    "    if y1==duplicate_i and y2==duplicate_i:\n",
    "        z=partsWithLength_pv.remove(u[0])\n",
    "        z1=z.remove(u[1])\n",
    "        partsWithLength_pv=z1.append((x1, x2, c1+c2, l1+l2))\n",
    "        \n",
    "\n",
    "        "
   ]
  },
  {
   "cell_type": "code",
   "execution_count": 7,
   "metadata": {},
   "outputs": [
    {
     "data": {
      "text/plain": [
       "pvector([(42, 42, 84, 1), (39, 40, 79, 1), (12, 12, 24, 1), (1, 1, 2, 1), (16, 7, 23, 1), (47, 43, 90, 1), (34, 16, 50, 1), (39, 36, 75, 1), (3, 2, 5, 1), (10, 49, 59, 1), (3, 21, 24, 1), (1, 50, 51, 1), (39, 50, 89, 1), (12, 14, 26, 1), (28, 2, 30, 1), (5, 5, 10, 1), (39, 39, 78, 1), (17, 34, 51, 1), (42, 16, 58, 1), (13, 21, 34, 1), (28, 6, 34, 1), (6, 20, 26, 1), (44, 21, 65, 1), (11, 28, 39, 1), (14, 17, 31, 1), (17, 43, 60, 1), (11, 21, 32, 1), (13, 50, 63, 1), (10, 14, 24, 1), (16, 10, 26, 1), (7, 0, 7, 1), (50, 50, 100, 1), (43, 6, 57, 2), (47, 34, 157, 2), (28, 0, 46, 2), (50, 11, 99, 2), (2, 28, 140, 3), (5, 3, 56, 2), (13, 17, 116, 3), (47, 50, 323, 4), (7, 1, 68, 2), (13, 39, 114, 2)])"
      ]
     },
     "execution_count": 7,
     "metadata": {},
     "output_type": "execute_result"
    }
   ],
   "source": [
    "partsWithLength_pv"
   ]
  },
  {
   "cell_type": "markdown",
   "metadata": {},
   "source": [
    "OK, doesn't seem to have trimmed things quite as much as I'd hoped, but let's see if it makes a difference:"
   ]
  },
  {
   "cell_type": "code",
   "execution_count": 8,
   "metadata": {
    "collapsed": true
   },
   "outputs": [],
   "source": [
    "def next_states(agendaIn_pv):\n",
    "    '''\n",
    "    Takes an agenda of states.\n",
    "    Returns a pair of the current state\n",
    "    and an updated agenda.\n",
    "    '''\n",
    "    # Take the first item off the agenda\n",
    "    nextItem_pm=agendaIn_pv[0]\n",
    "    \n",
    "    agendaOut_pv=agendaIn_pv.delete(0)\n",
    "    \n",
    "    # Find the list of parts which can attach to the \n",
    "    # current exposed part:\n",
    "    validNextStates_ls=[x for x in nextItem_pm['parts']\n",
    "                        if x[0]==nextItem_pm['seeking'] or x[1]==nextItem_pm['seeking']]\n",
    "    \n",
    "    # For each of these states, create a new agenda item:\n",
    "    newAgendaItems_pv=pyr.v()\n",
    "    \n",
    "    for (x, y, c, l) in validNextStates_ls:\n",
    "        if x==nextItem_pm['seeking']:\n",
    "            newAgendaItems_pv=newAgendaItems_pv.append(pyr.m(seeking=y,\n",
    "                                           parts=nextItem_pm['parts'].remove((x, y, c, l)),\n",
    "                                           bridge=nextItem_pm['bridge'].append((x, y, c, l))))\n",
    "        else:\n",
    "            newAgendaItems_pv=newAgendaItems_pv.append(pyr.m(seeking=x,\n",
    "                                           parts=nextItem_pm['parts'].remove((x, y, c, l)),\n",
    "                                           bridge=nextItem_pm['bridge'].append((x, y, c, l))))\n",
    "\n",
    "    return (nextItem_pm, agendaOut_pv.extend(newAgendaItems_pv))"
   ]
  },
  {
   "cell_type": "code",
   "execution_count": 9,
   "metadata": {
    "collapsed": true
   },
   "outputs": [],
   "source": [
    "def bridge_strength(stateIn):\n",
    "    '''\n",
    "    Return the strength of the bridge in the current state\n",
    "    '''\n",
    "    return sum([x[2] for x in stateIn['bridge']])"
   ]
  },
  {
   "cell_type": "code",
   "execution_count": 10,
   "metadata": {
    "collapsed": true
   },
   "outputs": [],
   "source": [
    "def bridge_length(stateIn):\n",
    "    '''\n",
    "    Return the strength of the bridge in the current state\n",
    "    '''\n",
    "    return sum([x[3] for x in stateIn['bridge']])"
   ]
  },
  {
   "cell_type": "code",
   "execution_count": 11,
   "metadata": {},
   "outputs": [
    {
     "data": {
      "text/plain": [
       "pmap({'parts': pvector([(42, 42, 84, 1), (39, 40, 79, 1), (12, 12, 24, 1), (1, 1, 2, 1), (16, 7, 23, 1), (47, 43, 90, 1), (34, 16, 50, 1), (39, 36, 75, 1), (3, 2, 5, 1), (10, 49, 59, 1), (3, 21, 24, 1), (1, 50, 51, 1), (39, 50, 89, 1), (12, 14, 26, 1), (28, 2, 30, 1), (5, 5, 10, 1), (39, 39, 78, 1), (17, 34, 51, 1), (42, 16, 58, 1), (13, 21, 34, 1), (28, 6, 34, 1), (6, 20, 26, 1), (44, 21, 65, 1), (11, 28, 39, 1), (14, 17, 31, 1), (17, 43, 60, 1), (11, 21, 32, 1), (13, 50, 63, 1), (10, 14, 24, 1), (16, 10, 26, 1), (7, 0, 7, 1), (50, 50, 100, 1), (43, 6, 57, 2), (47, 34, 157, 2), (28, 0, 46, 2), (50, 11, 99, 2), (2, 28, 140, 3), (5, 3, 56, 2), (13, 17, 116, 3), (47, 50, 323, 4), (7, 1, 68, 2), (13, 39, 114, 2)]), 'bridge': pvector([]), 'seeking': 0})"
      ]
     },
     "execution_count": 11,
     "metadata": {},
     "output_type": "execute_result"
    }
   ],
   "source": [
    "firstState_pm=pyr.m(seeking=0,\n",
    "                    parts=partsWithLength_pv,\n",
    "                    bridge=pyr.v())\n",
    "firstState_pm"
   ]
  },
  {
   "cell_type": "code",
   "execution_count": 12,
   "metadata": {},
   "outputs": [
    {
     "data": {
      "text/plain": [
       "1841"
      ]
     },
     "execution_count": 12,
     "metadata": {},
     "output_type": "execute_result"
    }
   ],
   "source": [
    "agenda_pv=pyr.v(firstState_pm)\n",
    "\n",
    "longestBridge_i=0\n",
    "strongestBridge_i=0\n",
    "\n",
    "while len(agenda_pv):\n",
    "    (nextState_pm, agenda_pv)=next_states(agenda_pv)\n",
    "    if bridge_length(nextState_pm)==longestBridge_i:\n",
    "        if bridge_strength(nextState_pm)>strongestBridge_i:\n",
    "            strongestBridge_i=bridge_strength(nextState_pm)\n",
    "    elif bridge_length(nextState_pm)>longestBridge_i:\n",
    "        longestBridge_i=bridge_length(nextState_pm)\n",
    "        strongestBridge_i=bridge_strength(nextState_pm)\n",
    "\n",
    "strongestBridge_i"
   ]
  }
 ],
 "metadata": {
  "kernelspec": {
   "display_name": "Python 3",
   "language": "python",
   "name": "python3"
  },
  "language_info": {
   "codemirror_mode": {
    "name": "ipython",
    "version": 3
   },
   "file_extension": ".py",
   "mimetype": "text/x-python",
   "name": "python",
   "nbconvert_exporter": "python",
   "pygments_lexer": "ipython3",
   "version": "3.6.1"
  }
 },
 "nbformat": 4,
 "nbformat_minor": 2
}
