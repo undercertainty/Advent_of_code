{
 "cells": [
  {
   "cell_type": "markdown",
   "metadata": {},
   "source": [
    "I suspect that this task is harder to understand than it is to actually solve. The `itertools.cycle` function should be useful for this task."
   ]
  },
  {
   "cell_type": "code",
   "execution_count": 1,
   "metadata": {},
   "outputs": [],
   "source": [
    "from itertools import cycle, islice"
   ]
  },
  {
   "cell_type": "code",
   "execution_count": 2,
   "metadata": {},
   "outputs": [],
   "source": [
    "def hash_once(listIn_ls, pos_i, length_i, skipSize_i=0):\n",
    "    '''\n",
    "    Apply the hash function once to an input list.\n",
    "    \n",
    "    Return a triple of the new list, new position, and new skip size.\n",
    "    '''\n",
    "    # Start by taking a cycle of the input list, and another\n",
    "    # of indices we can use to update the list later\n",
    "    listCycle_cc=cycle(listIn_ls)\n",
    "    indexCycle_cc=cycle(range(len(listIn_ls)))\n",
    "    \n",
    "    # It'll also be useful to return a copy of the input list:\n",
    "    listOut_ls=listIn_ls.copy()\n",
    "    \n",
    "    # Next, take a slice of the circular input list\n",
    "    revSublist_ls=list(islice(listCycle_cc, pos_i, pos_i+length_i))\n",
    "    # And reverse it:\n",
    "    revSublist_ls.reverse()\n",
    "    \n",
    "    # And now replace the elements in listOut_ls with the\n",
    "    # members of revSublist_ls. Use indexCycle_cc to get\n",
    "    # them in the right place:\n",
    "    \n",
    "    for (i, j) in enumerate(islice(indexCycle_cc, pos_i, pos_i+length_i)):\n",
    "        listOut_ls[j]=revSublist_ls[i]\n",
    "        \n",
    "    # The list has been updated; now need to return the appropriate\n",
    "    # values, of the new list, the new position, and the new skip size\n",
    "    \n",
    "    newPos_i=(pos_i+length_i+skipSize_i)%len(listIn_ls)\n",
    "    return (listOut_ls, newPos_i, skipSize_i+1)"
   ]
  },
  {
   "cell_type": "markdown",
   "metadata": {},
   "source": [
    "Check the test cases:"
   ]
  },
  {
   "cell_type": "code",
   "execution_count": 3,
   "metadata": {},
   "outputs": [],
   "source": [
    "assert hash_once([0,1,2,3,4], 0, 3, 0)==([2,1,0,3,4], 3, 1)\n",
    "\n",
    "assert hash_once([2,1,0,3,4], 3, 4, 1)==([4,3,0,1,2], 3, 2)\n",
    "\n",
    "assert hash_once([4,3,0,1,2], 3, 1, 2)==([4,3,0,1,2], 1, 3)\n",
    "\n",
    "assert hash_once([4,3,0,1,2], 1, 5, 3)==([3,4,2,1,0], 4, 4)"
   ]
  },
  {
   "cell_type": "markdown",
   "metadata": {},
   "source": [
    "That seems fine. So, let's apply to my input:"
   ]
  },
  {
   "cell_type": "code",
   "execution_count": 4,
   "metadata": {},
   "outputs": [],
   "source": [
    "def knot_hash(inputList_ls, lengths_ls):\n",
    "    listOut_ls=inputList_ls.copy()\n",
    "    pos_i=0\n",
    "    skip_i=0\n",
    "    \n",
    "    for length_i in lengths_ls:\n",
    "        (listOut_ls, pos_i, skip_i)=hash_once(listOut_ls, pos_i, length_i, skip_i)\n",
    "    return listOut_ls"
   ]
  },
  {
   "cell_type": "code",
   "execution_count": 5,
   "metadata": {},
   "outputs": [
    {
     "data": {
      "text/plain": [
       "[3, 4, 2, 1, 0]"
      ]
     },
     "execution_count": 5,
     "metadata": {},
     "output_type": "execute_result"
    }
   ],
   "source": [
    "knot_hash([0,1,2,3,4], [3,4,1,5])"
   ]
  },
  {
   "cell_type": "code",
   "execution_count": 6,
   "metadata": {},
   "outputs": [
    {
     "data": {
      "text/plain": [
       "[97, 167, 54, 178, 2, 11, 209, 174, 119, 248, 254, 0, 255, 1, 64, 190]"
      ]
     },
     "execution_count": 6,
     "metadata": {},
     "output_type": "execute_result"
    }
   ],
   "source": [
    "with open('data/day10.txt') as fIn:\n",
    "    lengths_ls=[int(x) for x in fIn.read().strip().split(',')]\n",
    "lengths_ls"
   ]
  },
  {
   "cell_type": "code",
   "execution_count": 7,
   "metadata": {},
   "outputs": [
    {
     "data": {
      "text/plain": [
       "8536"
      ]
     },
     "execution_count": 7,
     "metadata": {},
     "output_type": "execute_result"
    }
   ],
   "source": [
    "out_ls=knot_hash(list(range(256)), lengths_ls)\n",
    "out_ls[0]*out_ls[1]"
   ]
  }
 ],
 "metadata": {
  "kernelspec": {
   "display_name": "Python 3",
   "language": "python",
   "name": "python3"
  },
  "language_info": {
   "codemirror_mode": {
    "name": "ipython",
    "version": 3
   },
   "file_extension": ".py",
   "mimetype": "text/x-python",
   "name": "python",
   "nbconvert_exporter": "python",
   "pygments_lexer": "ipython3",
   "version": "3.6.1"
  }
 },
 "nbformat": 4,
 "nbformat_minor": 2
}
