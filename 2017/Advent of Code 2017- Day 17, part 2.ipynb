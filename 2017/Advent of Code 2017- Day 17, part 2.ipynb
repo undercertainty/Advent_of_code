{
 "cells": [
  {
   "cell_type": "markdown",
   "metadata": {},
   "source": [
    "So if we want the value after 0, let's see if it looks as though there's a pattern."
   ]
  },
  {
   "cell_type": "code",
   "execution_count": 1,
   "metadata": {
    "collapsed": true
   },
   "outputs": [],
   "source": [
    "import itertools as it\n",
    "import pandas as pd"
   ]
  },
  {
   "cell_type": "code",
   "execution_count": 2,
   "metadata": {
    "collapsed": true
   },
   "outputs": [],
   "source": [
    "def spinlock_generator(stepSizeIn_i, iterations_i):\n",
    "    '''\n",
    "    Return a generator with step size stepSizeIn_i, that\n",
    "    has run for iterations_i cycles.\n",
    "    '''\n",
    "\n",
    "    spinlock_cyc=it.cycle([0])\n",
    "    for n in range(iterations_i):\n",
    "        \n",
    "        # Step forward the given number of steps:\n",
    "        for i in range(stepSizeIn_i+1):\n",
    "            next(spinlock_cyc)\n",
    "\n",
    "        newCycle_ls=[n+1]+list(it.islice(spinlock_cyc, 0, n+1))\n",
    "\n",
    "        spinlock_cyc=it.cycle(newCycle_ls)\n",
    "        \n",
    "    return spinlock_cyc\n",
    "        "
   ]
  },
  {
   "cell_type": "markdown",
   "metadata": {},
   "source": [
    "Write a quick function to get the value after zero:"
   ]
  },
  {
   "cell_type": "code",
   "execution_count": 3,
   "metadata": {
    "collapsed": true
   },
   "outputs": [],
   "source": [
    "def value_after_zero(iteratorIn_cyc):\n",
    "    '''Run through an iterator.cycle object, and return\n",
    "       the first value found after 0\n",
    "    '''\n",
    "    while not next(iteratorIn_cyc)==0:\n",
    "        pass\n",
    "    return next(iteratorIn_cyc)"
   ]
  },
  {
   "cell_type": "code",
   "execution_count": 4,
   "metadata": {
    "collapsed": true
   },
   "outputs": [],
   "source": [
    "assert value_after_zero(spinlock_generator(3, 4))==2"
   ]
  },
  {
   "cell_type": "markdown",
   "metadata": {},
   "source": [
    "For the test input we get:"
   ]
  },
  {
   "cell_type": "code",
   "execution_count": 5,
   "metadata": {
    "collapsed": true
   },
   "outputs": [],
   "source": [
    "# [value_after_zero(spinlock_generator(3, i)) for i in range(1000)]\n",
    "\n",
    "# Edited out to avoid a massive output"
   ]
  },
  {
   "cell_type": "markdown",
   "metadata": {},
   "source": [
    "Nothing obvious there, I don't think."
   ]
  },
  {
   "cell_type": "markdown",
   "metadata": {},
   "source": [
    "Perhaps what we want to be doing is looking at when a number is added when 0 is at the end of the cycle. So where is 0 after each cycle?\n",
    "\n",
    "1. [1,0] $p=1$\n",
    "2. [2,1,0] $p=2$\n",
    "3. [3,1,0,2] $p=2$\n",
    "4. [4,3,1,0,2] $p=3$\n",
    "5. [5,2,4,3,1,0] $p=6$\n",
    "6. [6,1,0,5,2,4,3] $p=3$\n",
    "7. [7,2,4,3,6,1,0,5] $p=6$\n"
   ]
  },
  {
   "cell_type": "markdown",
   "metadata": {},
   "source": [
    "This will be easier to visualise as a `pd.Series`:"
   ]
  },
  {
   "cell_type": "code",
   "execution_count": 6,
   "metadata": {},
   "outputs": [
    {
     "data": {
      "text/plain": [
       "0    0\n",
       "1    1\n",
       "2    2\n",
       "3    2\n",
       "4    3\n",
       "5    5\n",
       "6    2\n",
       "7    6\n",
       "8    3\n",
       "9    9\n",
       "dtype: int64"
      ]
     },
     "execution_count": 6,
     "metadata": {},
     "output_type": "execute_result"
    }
   ],
   "source": [
    "pd.Series([list(it.islice(spinlock_generator(3, i), i+1)).index(0) for i in range(10)])"
   ]
  },
  {
   "cell_type": "markdown",
   "metadata": {},
   "source": [
    "OK, so let's say we have i (the index), and f(i) is the position of the 0:\n",
    "* If f(i)==step size, then f(i+1)==i+1, and the value following 0 is i+1\n",
    "* if f(i)>step size, then f(i+1)==f(i)-step size\n",
    "* if f(i)<step size, then f(i+1)=i+f(i)-step size+1\n",
    "\n"
   ]
  },
  {
   "cell_type": "markdown",
   "metadata": {},
   "source": [
    "Now, this behaviour is obviously slightly different in the opening stages, so in the interests of speed/laziness, I'm just going to calculate the $n$th case. I'm not proud."
   ]
  },
  {
   "cell_type": "code",
   "execution_count": 7,
   "metadata": {},
   "outputs": [
    {
     "name": "stdout",
     "output_type": "stream",
     "text": [
      "3, 2\n",
      "4, 3\n",
      "5, 5\n",
      "6, 2\n",
      "7, 6\n",
      "8, 3\n",
      "9, 9\n",
      "10, 6\n",
      "11, 3\n",
      "12, 12\n",
      "13, 9\n",
      "14, 6\n",
      "15, 3\n",
      "16, 16\n",
      "17, 13\n",
      "18, 10\n",
      "19, 7\n"
     ]
    },
    {
     "data": {
      "text/plain": [
       "16"
      ]
     },
     "execution_count": 7,
     "metadata": {},
     "output_type": "execute_result"
    }
   ],
   "source": [
    "stepSize_i=3\n",
    "\n",
    "i=stepSize_i\n",
    "fi=list(it.islice(spinlock_generator(stepSize_i, i), i+1)).index(0)\n",
    "\n",
    "valueAfter0_i=fi\n",
    "\n",
    "while i<20:\n",
    "    print('{}, {}'.format(i, fi))\n",
    "    if fi==stepSize_i:\n",
    "        fi=i+1\n",
    "        valueAfter0_i=i+1\n",
    "    elif fi>stepSize_i:\n",
    "        fi=fi-stepSize_i\n",
    "    elif fi<stepSize_i:\n",
    "        fi=i+fi-stepSize_i+1\n",
    "    i+=1\n",
    "    \n",
    "valueAfter0_i"
   ]
  },
  {
   "cell_type": "markdown",
   "metadata": {},
   "source": [
    "Good, that seems to work. So let's find the fifty millionth for my puzzle input:"
   ]
  },
  {
   "cell_type": "code",
   "execution_count": 8,
   "metadata": {},
   "outputs": [
    {
     "data": {
      "text/plain": [
       "1080289"
      ]
     },
     "execution_count": 8,
     "metadata": {},
     "output_type": "execute_result"
    }
   ],
   "source": [
    "stepSize_i=363\n",
    "\n",
    "i=stepSize_i\n",
    "fi=list(it.islice(spinlock_generator(stepSize_i, i), i+1)).index(0)\n",
    "\n",
    "valueAfter0_i=fi\n",
    "\n",
    "while i<50000000:\n",
    "\n",
    "    if fi==stepSize_i:\n",
    "        fi=i+1\n",
    "        valueAfter0_i=i+1\n",
    "    elif fi>stepSize_i:\n",
    "        fi=fi-stepSize_i\n",
    "    elif fi<stepSize_i:\n",
    "        fi=i+fi-stepSize_i+1\n",
    "    i+=1\n",
    "\n",
    "valueAfter0_i"
   ]
  }
 ],
 "metadata": {
  "kernelspec": {
   "display_name": "Python 3",
   "language": "python",
   "name": "python3"
  },
  "language_info": {
   "codemirror_mode": {
    "name": "ipython",
    "version": 3
   },
   "file_extension": ".py",
   "mimetype": "text/x-python",
   "name": "python",
   "nbconvert_exporter": "python",
   "pygments_lexer": "ipython3",
   "version": "3.6.1"
  }
 },
 "nbformat": 4,
 "nbformat_minor": 2
}
