{
 "cells": [
  {
   "cell_type": "markdown",
   "metadata": {},
   "source": [
    "It shouldn't be a complicated extension, but I'm concerned about that huge number at the bottom. Let's do a brute force version first, and then see whether it's feasible in the time."
   ]
  },
  {
   "cell_type": "code",
   "execution_count": 1,
   "metadata": {
    "collapsed": true
   },
   "outputs": [],
   "source": [
    "testInput_str='''\n",
    "..#\n",
    "#..\n",
    "...\n",
    "'''"
   ]
  },
  {
   "cell_type": "markdown",
   "metadata": {},
   "source": [
    "Set this up in the same way as previously, but with additional keys to account for the weakened and flagged states:"
   ]
  },
  {
   "cell_type": "code",
   "execution_count": 2,
   "metadata": {},
   "outputs": [
    {
     "data": {
      "text/plain": [
       "{'facing': 'u',\n",
       " 'flagged': set(),\n",
       " 'infected': {(0, 1), (2, 0)},\n",
       " 'pos': (1, 1),\n",
       " 'weakened': set()}"
      ]
     },
     "execution_count": 2,
     "metadata": {},
     "output_type": "execute_result"
    }
   ],
   "source": [
    "infected_set=set()\n",
    "input_ls=testInput_str.strip().split('\\n')\n",
    "\n",
    "for (j, row) in enumerate(input_ls):\n",
    "    for (i, ch) in enumerate(row):\n",
    "        if ch=='#':\n",
    "            infected_set.add((i, j))\n",
    "\n",
    "state_dict={'facing':'u', 'pos':(len(input_ls[0])//2, len(input_ls)//2),\n",
    "            'infected':infected_set, 'weakened':set(), 'flagged':set()}\n",
    "\n",
    "state_dict"
   ]
  },
  {
   "cell_type": "markdown",
   "metadata": {},
   "source": [
    "OK, now define a function to do a burst:"
   ]
  },
  {
   "cell_type": "code",
   "execution_count": 3,
   "metadata": {
    "collapsed": true
   },
   "outputs": [],
   "source": [
    "def burst2(stateIn_dict):\n",
    "    '''\n",
    "    Carry out a single burst for the virus carrier.\n",
    "    Returns a pair of the next state, and a bool \n",
    "    stating whether the current node was infected.\n",
    "    '''\n",
    "    infectOut_bool=False\n",
    "    \n",
    "    if stateIn_dict['pos'] in stateIn_dict['infected']:\n",
    "        # If on an infected node, turn right\n",
    "        facingOut_chr={'u':'r', 'r':'d', 'd':'l', 'l':'u'}[stateIn_dict['facing']]\n",
    "    elif stateIn_dict['pos'] in stateIn_dict['weakened']:\n",
    "        # If on a weakened node, carry on\n",
    "        facingOut_chr=stateIn_dict['facing']\n",
    "    elif stateIn_dict['pos'] in stateIn_dict['flagged']:\n",
    "        # If on a flagged node, reverse\n",
    "        facingOut_chr={'u':'d', 'd':'u', 'r':'l', 'l':'r'}[stateIn_dict['facing']]\n",
    "    else:\n",
    "        # Otherwise turn left:\n",
    "        facingOut_chr={'u':'l', 'l':'d', 'd':'r', 'r':'u'}[stateIn_dict['facing']]\n",
    "    \n",
    "    # Modify the state of the node\n",
    "    infectedOut_set=stateIn_dict['infected'].copy() # Shallow copy. Never mind...\n",
    "    weakenedOut_set=stateIn_dict['weakened'].copy()\n",
    "    flaggedOut_set=stateIn_dict['flagged'].copy()\n",
    "    \n",
    "    if stateIn_dict['pos'] in stateIn_dict['weakened']:\n",
    "        # If weakened, infect:\n",
    "        infectedOut_set.add(stateIn_dict['pos'])\n",
    "        weakenedOut_set.remove(stateIn_dict['pos'])\n",
    "        infectOut_bool=True\n",
    "    elif stateIn_dict['pos'] in stateIn_dict['infected']:\n",
    "        # If infected, flag:\n",
    "        infectedOut_set.remove(stateIn_dict['pos'])\n",
    "        flaggedOut_set.add(stateIn_dict['pos'])\n",
    "    elif stateIn_dict['pos'] in stateIn_dict['flagged']:\n",
    "        # If flagged, clean:\n",
    "        flaggedOut_set.remove(stateIn_dict['pos'])\n",
    "    else:\n",
    "        # If clean, weaken\n",
    "        weakenedOut_set.add(stateIn_dict['pos'])\n",
    "    \n",
    "    # And finally move:\n",
    "    (rowOut_i, colOut_i)=stateIn_dict['pos']\n",
    "    if facingOut_chr=='u':\n",
    "        colOut_i -= 1\n",
    "    elif facingOut_chr=='d':\n",
    "        colOut_i += 1\n",
    "    elif facingOut_chr=='l':\n",
    "        rowOut_i -= 1\n",
    "    elif facingOut_chr=='r':\n",
    "        rowOut_i += 1\n",
    "        \n",
    "    return ({'facing':facingOut_chr, \n",
    "             'pos':(rowOut_i, colOut_i),\n",
    "             'infected':infectedOut_set,\n",
    "             'flagged':flaggedOut_set,\n",
    "             'weakened':weakenedOut_set},\n",
    "            infectOut_bool)\n",
    "\n",
    "    "
   ]
  },
  {
   "cell_type": "code",
   "execution_count": 4,
   "metadata": {},
   "outputs": [
    {
     "data": {
      "text/plain": [
       "{'facing': 'u',\n",
       " 'flagged': set(),\n",
       " 'infected': {(0, 1), (2, 0)},\n",
       " 'pos': (1, 1),\n",
       " 'weakened': set()}"
      ]
     },
     "execution_count": 4,
     "metadata": {},
     "output_type": "execute_result"
    }
   ],
   "source": [
    "infected_set=set()\n",
    "input_ls=testInput_str.strip().split('\\n')\n",
    "\n",
    "for (j, row) in enumerate(input_ls):\n",
    "    for (i, ch) in enumerate(row):\n",
    "        if ch=='#':\n",
    "            infected_set.add((i, j))\n",
    "\n",
    "state_dict={'facing':'u', 'pos':(len(input_ls[0])//2, len(input_ls)//2),\n",
    "            'infected':infected_set, 'weakened':set(), 'flagged':set()}\n",
    "\n",
    "state_dict"
   ]
  },
  {
   "cell_type": "code",
   "execution_count": 5,
   "metadata": {},
   "outputs": [
    {
     "name": "stdout",
     "output_type": "stream",
     "text": [
      "{'facing': 'l', 'pos': (0, 1), 'infected': {(0, 1), (2, 0)}, 'flagged': set(), 'weakened': {(1, 1)}} False\n"
     ]
    }
   ],
   "source": [
    "(state_dict, infected_bool)=burst2(state_dict)\n",
    "print(state_dict, infected_bool)"
   ]
  },
  {
   "cell_type": "code",
   "execution_count": 6,
   "metadata": {},
   "outputs": [
    {
     "name": "stdout",
     "output_type": "stream",
     "text": [
      "{'facing': 'u', 'pos': (0, 0), 'infected': {(2, 0)}, 'flagged': {(0, 1)}, 'weakened': {(1, 1)}} False\n"
     ]
    }
   ],
   "source": [
    "(state_dict, infected_bool)=burst2(state_dict)\n",
    "print(state_dict, infected_bool)"
   ]
  },
  {
   "cell_type": "code",
   "execution_count": 7,
   "metadata": {},
   "outputs": [
    {
     "name": "stdout",
     "output_type": "stream",
     "text": [
      "{'facing': 'l', 'pos': (-1, 0), 'infected': {(2, 0)}, 'flagged': {(0, 1)}, 'weakened': {(0, 0), (1, 1)}} False\n"
     ]
    }
   ],
   "source": [
    "(state_dict, infected_bool)=burst2(state_dict)\n",
    "print(state_dict, infected_bool)"
   ]
  },
  {
   "cell_type": "code",
   "execution_count": 8,
   "metadata": {},
   "outputs": [
    {
     "name": "stdout",
     "output_type": "stream",
     "text": [
      "{'facing': 'd', 'pos': (-1, 1), 'infected': {(2, 0)}, 'flagged': {(0, 1)}, 'weakened': {(-1, 0), (0, 0), (1, 1)}} False\n"
     ]
    }
   ],
   "source": [
    "(state_dict, infected_bool)=burst2(state_dict)\n",
    "print(state_dict, infected_bool)"
   ]
  },
  {
   "cell_type": "code",
   "execution_count": 9,
   "metadata": {},
   "outputs": [
    {
     "name": "stdout",
     "output_type": "stream",
     "text": [
      "{'facing': 'r', 'pos': (0, 1), 'infected': {(2, 0)}, 'flagged': {(0, 1)}, 'weakened': {(-1, 1), (-1, 0), (0, 0), (1, 1)}} False\n"
     ]
    }
   ],
   "source": [
    "(state_dict, infected_bool)=burst2(state_dict)\n",
    "print(state_dict, infected_bool)"
   ]
  },
  {
   "cell_type": "code",
   "execution_count": 10,
   "metadata": {},
   "outputs": [
    {
     "name": "stdout",
     "output_type": "stream",
     "text": [
      "{'facing': 'l', 'pos': (-1, 1), 'infected': {(2, 0)}, 'flagged': set(), 'weakened': {(-1, 1), (-1, 0), (0, 0), (1, 1)}} False\n"
     ]
    }
   ],
   "source": [
    "(state_dict, infected_bool)=burst2(state_dict)\n",
    "print(state_dict, infected_bool)"
   ]
  },
  {
   "cell_type": "code",
   "execution_count": 11,
   "metadata": {},
   "outputs": [
    {
     "name": "stdout",
     "output_type": "stream",
     "text": [
      "{'facing': 'l', 'pos': (-2, 1), 'infected': {(2, 0), (-1, 1)}, 'flagged': set(), 'weakened': {(-1, 0), (0, 0), (1, 1)}} True\n"
     ]
    }
   ],
   "source": [
    "(state_dict, infected_bool)=burst2(state_dict)\n",
    "print(state_dict, infected_bool)"
   ]
  },
  {
   "cell_type": "code",
   "execution_count": 12,
   "metadata": {},
   "outputs": [
    {
     "name": "stdout",
     "output_type": "stream",
     "text": [
      "{'facing': 'd', 'pos': (-2, 2), 'infected': {(2, 0), (-1, 1)}, 'flagged': set(), 'weakened': {(-2, 1), (0, 0), (-1, 0), (1, 1)}} False\n"
     ]
    }
   ],
   "source": [
    "(state_dict, infected_bool)=burst2(state_dict)\n",
    "print(state_dict, infected_bool)"
   ]
  },
  {
   "cell_type": "code",
   "execution_count": 13,
   "metadata": {},
   "outputs": [
    {
     "name": "stdout",
     "output_type": "stream",
     "text": [
      "{'facing': 'r', 'pos': (-1, 2), 'infected': {(2, 0), (-1, 1)}, 'flagged': set(), 'weakened': {(-2, 1), (0, 0), (-1, 0), (-2, 2), (1, 1)}} False\n"
     ]
    }
   ],
   "source": [
    "(state_dict, infected_bool)=burst2(state_dict)\n",
    "print(state_dict, infected_bool)"
   ]
  },
  {
   "cell_type": "code",
   "execution_count": 14,
   "metadata": {},
   "outputs": [
    {
     "name": "stdout",
     "output_type": "stream",
     "text": [
      "{'facing': 'u', 'pos': (-1, 1), 'infected': {(2, 0), (-1, 1)}, 'flagged': set(), 'weakened': {(-2, 1), (0, 0), (-1, 0), (-2, 2), (-1, 2), (1, 1)}} False\n"
     ]
    }
   ],
   "source": [
    "(state_dict, infected_bool)=burst2(state_dict)\n",
    "print(state_dict, infected_bool)"
   ]
  },
  {
   "cell_type": "code",
   "execution_count": 15,
   "metadata": {},
   "outputs": [
    {
     "name": "stdout",
     "output_type": "stream",
     "text": [
      "{'facing': 'r', 'pos': (0, 1), 'infected': {(2, 0)}, 'flagged': {(-1, 1)}, 'weakened': {(-2, 1), (0, 0), (-1, 0), (-2, 2), (-1, 2), (1, 1)}} False\n"
     ]
    }
   ],
   "source": [
    "(state_dict, infected_bool)=burst2(state_dict)\n",
    "print(state_dict, infected_bool)"
   ]
  },
  {
   "cell_type": "code",
   "execution_count": 16,
   "metadata": {},
   "outputs": [
    {
     "name": "stdout",
     "output_type": "stream",
     "text": [
      "{'facing': 'u', 'pos': (0, 0), 'infected': {(2, 0)}, 'flagged': {(-1, 1)}, 'weakened': {(0, 1), (-2, 1), (0, 0), (-1, 0), (-2, 2), (-1, 2), (1, 1)}} False\n"
     ]
    }
   ],
   "source": [
    "(state_dict, infected_bool)=burst2(state_dict)\n",
    "print(state_dict, infected_bool)"
   ]
  },
  {
   "cell_type": "code",
   "execution_count": 17,
   "metadata": {},
   "outputs": [
    {
     "name": "stdout",
     "output_type": "stream",
     "text": [
      "{'facing': 'u', 'pos': (0, -1), 'infected': {(2, 0), (0, 0)}, 'flagged': {(-1, 1)}, 'weakened': {(0, 1), (-2, 1), (-1, 0), (-2, 2), (-1, 2), (1, 1)}} True\n"
     ]
    }
   ],
   "source": [
    "(state_dict, infected_bool)=burst2(state_dict)\n",
    "print(state_dict, infected_bool)"
   ]
  },
  {
   "cell_type": "code",
   "execution_count": 18,
   "metadata": {},
   "outputs": [
    {
     "name": "stdout",
     "output_type": "stream",
     "text": [
      "{'facing': 'l', 'pos': (-1, -1), 'infected': {(2, 0), (0, 0)}, 'flagged': {(-1, 1)}, 'weakened': {(0, 1), (-2, 1), (-1, 0), (-2, 2), (-1, 2), (0, -1), (1, 1)}} False\n"
     ]
    }
   ],
   "source": [
    "(state_dict, infected_bool)=burst2(state_dict)\n",
    "print(state_dict, infected_bool)"
   ]
  },
  {
   "cell_type": "code",
   "execution_count": 19,
   "metadata": {},
   "outputs": [
    {
     "name": "stdout",
     "output_type": "stream",
     "text": [
      "{'facing': 'd', 'pos': (-1, 0), 'infected': {(2, 0), (0, 0)}, 'flagged': {(-1, 1)}, 'weakened': {(0, 1), (-2, 1), (-1, 0), (-2, 2), (-1, 2), (-1, -1), (0, -1), (1, 1)}} False\n"
     ]
    }
   ],
   "source": [
    "(state_dict, infected_bool)=burst2(state_dict)\n",
    "print(state_dict, infected_bool)"
   ]
  },
  {
   "cell_type": "code",
   "execution_count": 20,
   "metadata": {},
   "outputs": [
    {
     "name": "stdout",
     "output_type": "stream",
     "text": [
      "{'facing': 'd', 'pos': (-1, 1), 'infected': {(2, 0), (0, 0), (-1, 0)}, 'flagged': {(-1, 1)}, 'weakened': {(-2, 2), (-1, 2), (0, 1), (-2, 1), (-1, -1), (0, -1), (1, 1)}} True\n"
     ]
    }
   ],
   "source": [
    "(state_dict, infected_bool)=burst2(state_dict)\n",
    "print(state_dict, infected_bool)"
   ]
  },
  {
   "cell_type": "code",
   "execution_count": 21,
   "metadata": {},
   "outputs": [
    {
     "name": "stdout",
     "output_type": "stream",
     "text": [
      "{'facing': 'u', 'pos': (-1, 0), 'infected': {(2, 0), (0, 0), (-1, 0)}, 'flagged': set(), 'weakened': {(0, 1), (-2, 1), (-2, 2), (-1, 2), (-1, -1), (0, -1), (1, 1)}} False\n"
     ]
    }
   ],
   "source": [
    "(state_dict, infected_bool)=burst2(state_dict)\n",
    "print(state_dict, infected_bool)"
   ]
  },
  {
   "cell_type": "code",
   "execution_count": 22,
   "metadata": {},
   "outputs": [
    {
     "name": "stdout",
     "output_type": "stream",
     "text": [
      "{'facing': 'r', 'pos': (0, 0), 'infected': {(2, 0), (0, 0)}, 'flagged': {(-1, 0)}, 'weakened': {(0, 1), (-2, 1), (-2, 2), (-1, 2), (-1, -1), (0, -1), (1, 1)}} False\n"
     ]
    }
   ],
   "source": [
    "(state_dict, infected_bool)=burst2(state_dict)\n",
    "print(state_dict, infected_bool)"
   ]
  },
  {
   "cell_type": "markdown",
   "metadata": {},
   "source": [
    "etc. Seems to be working OK. "
   ]
  },
  {
   "cell_type": "markdown",
   "metadata": {},
   "source": [
    "Well... I can either work out how to optimise this, or leave it running while I catch up on The Blue Planet. Fishes, here I come..."
   ]
  },
  {
   "cell_type": "code",
   "execution_count": 23,
   "metadata": {},
   "outputs": [],
   "source": [
    "infected_set=set()\n",
    "input_ls=testInput_str.strip().split('\\n')\n",
    "\n",
    "for (j, row) in enumerate(input_ls):\n",
    "    for (i, ch) in enumerate(row):\n",
    "        if ch=='#':\n",
    "            infected_set.add((i, j))\n",
    "\n",
    "state_dict={'facing':'u', 'pos':(len(input_ls[0])//2, len(input_ls)//2),\n",
    "            'infected':infected_set, 'weakened':set(), 'flagged':set()}\n",
    "\n",
    "infectingBursts_i=0\n",
    "for i in range(100):\n",
    "    (state_dict, infected_bool)=burst2(state_dict)\n",
    "    if infected_bool:\n",
    "        infectingBursts_i+=1\n",
    "\n",
    "assert infectingBursts_i==26\n"
   ]
  },
  {
   "cell_type": "code",
   "execution_count": 24,
   "metadata": {},
   "outputs": [
    {
     "name": "stdout",
     "output_type": "stream",
     "text": [
      "0 100000 200000 300000 400000 500000 600000 700000 800000 900000 1000000 1100000 1200000 1300000 1400000 1500000 1600000 1700000 1800000 1900000 2000000 2100000 2200000 2300000 2400000 2500000 2600000 2700000 2800000 2900000 3000000 3100000 3200000 3300000 3400000 3500000 3600000 3700000 3800000 3900000 4000000 4100000 4200000 4300000 4400000 4500000 4600000 4700000 4800000 4900000 5000000 5100000 5200000 5300000 5400000 5500000 5600000 5700000 5800000 5900000 6000000 6100000 6200000 6300000 6400000 6500000 6600000 6700000 6800000 6900000 7000000 7100000 7200000 7300000 7400000 7500000 7600000 7700000 7800000 7900000 8000000 8100000 8200000 8300000 8400000 8500000 8600000 8700000 8800000 8900000 9000000 9100000 9200000 9300000 9400000 9500000 9600000 9700000 9800000 9900000 2511944\n"
     ]
    }
   ],
   "source": [
    "infected_set=set()\n",
    "input_ls=testInput_str.strip().split('\\n')\n",
    "\n",
    "for (j, row) in enumerate(input_ls):\n",
    "    for (i, ch) in enumerate(row):\n",
    "        if ch=='#':\n",
    "            infected_set.add((i, j))\n",
    "\n",
    "state_dict={'facing':'u', 'pos':(len(input_ls[0])//2, len(input_ls)//2),\n",
    "            'infected':infected_set, 'weakened':set(), 'flagged':set()}\n",
    "\n",
    "infectingBursts_i=0\n",
    "for i in range(10000000):\n",
    "    if not i%100000:\n",
    "        print(i, end=' ')\n",
    "    (state_dict, infected_bool)=burst2(state_dict)\n",
    "    if infected_bool:\n",
    "        infectingBursts_i+=1\n",
    "\n",
    "print(infectingBursts_i)        \n",
    "\n",
    "assert infectingBursts_i==2511944\n"
   ]
  },
  {
   "cell_type": "markdown",
   "metadata": {},
   "source": [
    "Good. Very slow but I'm not in a rush. So do the puzzle input:"
   ]
  },
  {
   "cell_type": "code",
   "execution_count": 26,
   "metadata": {},
   "outputs": [
    {
     "name": "stdout",
     "output_type": "stream",
     "text": [
      "0 100000 200000 300000 400000 500000 600000 700000 800000 900000 1000000 1100000 1200000 1300000 1400000 1500000 1600000 1700000 1800000 1900000 2000000 2100000 2200000 2300000 2400000 2500000 2600000 2700000 2800000 2900000 3000000 3100000 3200000 3300000 3400000 3500000 3600000 3700000 3800000 3900000 4000000 4100000 4200000 4300000 4400000 4500000 4600000 4700000 4800000 4900000 5000000 5100000 5200000 5300000 5400000 5500000 5600000 5700000 5800000 5900000 6000000 6100000 6200000 6300000 6400000 6500000 6600000 6700000 6800000 6900000 7000000 7100000 7200000 7300000 7400000 7500000 7600000 7700000 7800000 7900000 8000000 8100000 8200000 8300000 8400000 8500000 8600000 8700000 8800000 8900000 9000000 9100000 9200000 9300000 9400000 9500000 9600000 9700000 9800000 9900000 2511895\n"
     ]
    }
   ],
   "source": [
    "with open('data/day22.txt') as fIn:\n",
    "    puzzleInput_str=fIn.read()\n",
    "\n",
    "infected_set=set()\n",
    "input_ls=puzzleInput_str.strip().split('\\n')\n",
    "\n",
    "for (j, row) in enumerate(input_ls):\n",
    "    for (i, ch) in enumerate(row):\n",
    "        if ch=='#':\n",
    "            infected_set.add((i, j))\n",
    "\n",
    "state_dict={'facing':'u', 'pos':(len(input_ls[0])//2, len(input_ls)//2),\n",
    "            'infected':infected_set, 'weakened':set(), 'flagged':set()}\n",
    "\n",
    "infectingBursts_i=0\n",
    "for i in range(10000000):\n",
    "    if not i%100000:\n",
    "        print(i, end=' ')\n",
    "    (state_dict, infected_bool)=burst2(state_dict)\n",
    "    if infected_bool:\n",
    "        infectingBursts_i+=1\n",
    "\n",
    "\n",
    "print(infectingBursts_i)        \n"
   ]
  }
 ],
 "metadata": {
  "kernelspec": {
   "display_name": "Python 3",
   "language": "python",
   "name": "python3"
  },
  "language_info": {
   "codemirror_mode": {
    "name": "ipython",
    "version": 3
   },
   "file_extension": ".py",
   "mimetype": "text/x-python",
   "name": "python",
   "nbconvert_exporter": "python",
   "pygments_lexer": "ipython3",
   "version": "3.6.1"
  }
 },
 "nbformat": 4,
 "nbformat_minor": 2
}
