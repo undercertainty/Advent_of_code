{
 "cells": [
  {
   "cell_type": "markdown",
   "metadata": {},
   "source": [
    "This one doesn't look too bad... If we simply represent the grid as the set of infected nodes:"
   ]
  },
  {
   "cell_type": "code",
   "execution_count": 1,
   "metadata": {
    "collapsed": true
   },
   "outputs": [],
   "source": [
    "testInput_str='''\n",
    "..#\n",
    "#..\n",
    "...\n",
    "'''"
   ]
  },
  {
   "cell_type": "markdown",
   "metadata": {},
   "source": [
    "Should do this as an enumeration, but in the interests of readability:"
   ]
  },
  {
   "cell_type": "code",
   "execution_count": 2,
   "metadata": {},
   "outputs": [
    {
     "data": {
      "text/plain": [
       "{'facing': 'u', 'infected': {(0, 1), (2, 0)}, 'pos': (1, 1)}"
      ]
     },
     "execution_count": 2,
     "metadata": {},
     "output_type": "execute_result"
    }
   ],
   "source": [
    "infected_set=set()\n",
    "input_ls=testInput_str.strip().split('\\n')\n",
    "\n",
    "for (j, row) in enumerate(input_ls):\n",
    "    for (i, ch) in enumerate(row):\n",
    "        if ch=='#':\n",
    "            infected_set.add((i, j))\n",
    "\n",
    "state_dict={'facing':'u', 'pos':(len(input_ls[0])//2, len(input_ls)//2),\n",
    "            'infected':infected_set}\n",
    "\n",
    "state_dict"
   ]
  },
  {
   "cell_type": "markdown",
   "metadata": {},
   "source": [
    "OK, now define a function to do a burst:"
   ]
  },
  {
   "cell_type": "code",
   "execution_count": 3,
   "metadata": {},
   "outputs": [],
   "source": [
    "def burst(stateIn_dict):\n",
    "    '''\n",
    "    Carry out a single burst for the virus carrier.\n",
    "    Returns a pair of the next state, and a bool \n",
    "    stating whether the current node was infected.\n",
    "    '''\n",
    "    infectOut_bool=False\n",
    "    \n",
    "    if stateIn_dict['pos'] in stateIn_dict['infected']:\n",
    "        # If on an infected node, turn right\n",
    "        facingOut_chr={'u':'r', 'r':'d', 'd':'l', 'l':'u'}[stateIn_dict['facing']]\n",
    "    else:\n",
    "        # Otherwise turn left:\n",
    "        facingOut_chr={'u':'l', 'l':'d', 'd':'r', 'r':'u'}[stateIn_dict['facing']]\n",
    "    \n",
    "    # Either clean or infect the node\n",
    "    infectedOut_set=stateIn_dict['infected'].copy() # Shallow copy. Never mind...\n",
    "    if stateIn_dict['pos'] in stateIn_dict['infected']:\n",
    "        infectedOut_set.remove(stateIn_dict['pos'])\n",
    "    else:\n",
    "        infectedOut_set.add(stateIn_dict['pos'])\n",
    "        infectOut_bool=True\n",
    "    \n",
    "    # And finally move:\n",
    "    (rowOut_i, colOut_i)=stateIn_dict['pos']\n",
    "    if facingOut_chr=='u':\n",
    "        colOut_i -= 1\n",
    "    elif facingOut_chr=='d':\n",
    "        colOut_i += 1\n",
    "    elif facingOut_chr=='l':\n",
    "        rowOut_i -= 1\n",
    "    elif facingOut_chr=='r':\n",
    "        rowOut_i += 1\n",
    "        \n",
    "    return ({'facing':facingOut_chr, \n",
    "             'pos':(rowOut_i, colOut_i),\n",
    "             'infected':infectedOut_set},\n",
    "            infectOut_bool)\n",
    "\n",
    "    "
   ]
  },
  {
   "cell_type": "code",
   "execution_count": 4,
   "metadata": {},
   "outputs": [
    {
     "data": {
      "text/plain": [
       "{'facing': 'u', 'infected': {(0, 1), (2, 0)}, 'pos': (1, 1)}"
      ]
     },
     "execution_count": 4,
     "metadata": {},
     "output_type": "execute_result"
    }
   ],
   "source": [
    "infected_set=set()\n",
    "input_ls=testInput_str.strip().split('\\n')\n",
    "\n",
    "for (j, row) in enumerate(input_ls):\n",
    "    for (i, ch) in enumerate(row):\n",
    "        if ch=='#':\n",
    "            infected_set.add((i, j))\n",
    "\n",
    "state_dict={'facing':'u', 'pos':(len(input_ls[0])//2, len(input_ls)//2),\n",
    "            'infected':infected_set}\n",
    "\n",
    "state_dict"
   ]
  },
  {
   "cell_type": "code",
   "execution_count": 5,
   "metadata": {},
   "outputs": [
    {
     "name": "stdout",
     "output_type": "stream",
     "text": [
      "{'facing': 'l', 'pos': (0, 1), 'infected': {(0, 1), (2, 0), (1, 1)}} True\n"
     ]
    }
   ],
   "source": [
    "(state_dict, infected_bool)=burst(state_dict)\n",
    "print(state_dict, infected_bool)"
   ]
  },
  {
   "cell_type": "code",
   "execution_count": 6,
   "metadata": {},
   "outputs": [
    {
     "name": "stdout",
     "output_type": "stream",
     "text": [
      "{'facing': 'u', 'pos': (0, 0), 'infected': {(2, 0), (1, 1)}} False\n"
     ]
    }
   ],
   "source": [
    "(state_dict, infected_bool)=burst(state_dict)\n",
    "print(state_dict, infected_bool)"
   ]
  },
  {
   "cell_type": "markdown",
   "metadata": {},
   "source": [
    "etc. Seems to be working OK. "
   ]
  },
  {
   "cell_type": "code",
   "execution_count": 7,
   "metadata": {},
   "outputs": [],
   "source": [
    "infected_set=set()\n",
    "input_ls=testInput_str.strip().split('\\n')\n",
    "\n",
    "for (j, row) in enumerate(input_ls):\n",
    "    for (i, ch) in enumerate(row):\n",
    "        if ch=='#':\n",
    "            infected_set.add((i, j))\n",
    "\n",
    "state_dict={'facing':'u', 'pos':(len(input_ls[0])//2, len(input_ls)//2),\n",
    "            'infected':infected_set}\n",
    "\n",
    "infectingBursts_i=0\n",
    "for i in range(70):\n",
    "    (state_dict, infected_bool)=burst(state_dict)\n",
    "    if infected_bool:\n",
    "        infectingBursts_i+=1\n",
    "    \n",
    "assert infectingBursts_i==41\n"
   ]
  },
  {
   "cell_type": "code",
   "execution_count": 8,
   "metadata": {
    "collapsed": true
   },
   "outputs": [],
   "source": [
    "infected_set=set()\n",
    "input_ls=testInput_str.strip().split('\\n')\n",
    "\n",
    "for (j, row) in enumerate(input_ls):\n",
    "    for (i, ch) in enumerate(row):\n",
    "        if ch=='#':\n",
    "            infected_set.add((i, j))\n",
    "\n",
    "state_dict={'facing':'u', 'pos':(len(input_ls[0])//2, len(input_ls)//2),\n",
    "            'infected':infected_set}\n",
    "\n",
    "infectingBursts_i=0\n",
    "for i in range(10000):\n",
    "    (state_dict, infected_bool)=burst(state_dict)\n",
    "    if infected_bool:\n",
    "        infectingBursts_i+=1\n",
    "    \n",
    "assert infectingBursts_i==5587\n"
   ]
  },
  {
   "cell_type": "markdown",
   "metadata": {},
   "source": [
    "Good. Now do the puzzle input:"
   ]
  },
  {
   "cell_type": "code",
   "execution_count": 9,
   "metadata": {},
   "outputs": [
    {
     "data": {
      "text/plain": [
       "5266"
      ]
     },
     "execution_count": 9,
     "metadata": {},
     "output_type": "execute_result"
    }
   ],
   "source": [
    "with open('data/day22.txt') as fIn:\n",
    "    puzzleInput_str=fIn.read()\n",
    "\n",
    "input_ls=puzzleInput_str.strip().split('\\n')\n",
    "\n",
    "infected_set=set()\n",
    "\n",
    "for (j, row) in enumerate(input_ls):\n",
    "    for (i, ch) in enumerate(row):\n",
    "        if ch=='#':\n",
    "            infected_set.add((i, j))\n",
    "\n",
    "state_dict={'facing':'u', 'pos':(len(input_ls[0])//2, len(input_ls)//2),\n",
    "            'infected':infected_set}\n",
    "\n",
    "infectingBursts_i=0\n",
    "for i in range(10000):\n",
    "    (state_dict, infected_bool)=burst(state_dict)\n",
    "    if infected_bool:\n",
    "        infectingBursts_i+=1\n",
    "    \n",
    "infectingBursts_i"
   ]
  }
 ],
 "metadata": {
  "kernelspec": {
   "display_name": "Python 3",
   "language": "python",
   "name": "python3"
  },
  "language_info": {
   "codemirror_mode": {
    "name": "ipython",
    "version": 3
   },
   "file_extension": ".py",
   "mimetype": "text/x-python",
   "name": "python",
   "nbconvert_exporter": "python",
   "pygments_lexer": "ipython3",
   "version": "3.6.1"
  }
 },
 "nbformat": 4,
 "nbformat_minor": 2
}
