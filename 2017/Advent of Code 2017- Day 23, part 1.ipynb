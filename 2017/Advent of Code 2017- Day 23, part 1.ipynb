{
 "cells": [
  {
   "cell_type": "markdown",
   "metadata": {},
   "source": [
    "First part of this looks pretty straightforward, so I'm a bit concerned about part 2."
   ]
  },
  {
   "cell_type": "markdown",
   "metadata": {},
   "source": [
    "Don't like OO programming, but this seems to lend itself to objects (python not being as amenable to closures as a proper functional language)"
   ]
  },
  {
   "cell_type": "code",
   "execution_count": 1,
   "metadata": {
    "collapsed": true
   },
   "outputs": [],
   "source": [
    "class State:\n",
    "    '''\n",
    "    a class containing the program itself, current command\n",
    "    being executed, and the registers\n",
    "    '''\n",
    "    def __init__(self, programIn_str):\n",
    "        \"programIn_str is the program as a string\"\n",
    "        \n",
    "        self.pos=0\n",
    "        self.registers_dict={r:0 for r in 'abcdefgh'}\n",
    "        \n",
    "        # parse the input string into a list of triples\n",
    "        self.program_ls=[tuple(a.split()) for a in \n",
    "                         [nl for nl in programIn_str.strip().split('\\n')]]\n",
    "        \n",
    "    # Now the methods. The program is halted if the\n",
    "    # current position is outside the list of commands:\n",
    "    def halted(self):\n",
    "        \"True if halted, False otherwise\"\n",
    "        return (self.pos<0) or (self.pos>=len(self.program_ls))\n",
    "    \n",
    "    # and execute the next command\n",
    "    def execute_next_command(self):\n",
    "        '''\n",
    "        Execute command and move to the next state. Returns the\n",
    "        command that was executed.\n",
    "        '''\n",
    "        (command, arg1, arg2)=self.program_ls[self.pos]\n",
    "        if command=='set':\n",
    "            if arg2 in self.registers_dict:\n",
    "                self.registers_dict[arg1]=self.registers_dict[arg2]\n",
    "            else:\n",
    "                self.registers_dict[arg1]=int(arg2)\n",
    "            self.pos+=1\n",
    "            \n",
    "        elif command=='sub':\n",
    "            if arg2 in self.registers_dict:\n",
    "                self.registers_dict[arg1] -= self.registers_dict[arg2]\n",
    "            else:\n",
    "                self.registers_dict[arg1] -= int(arg2)\n",
    "            self.pos+=1\n",
    "        \n",
    "        elif command=='mul':\n",
    "            if arg2 in self.registers_dict:\n",
    "                self.registers_dict[arg1] *= self.registers_dict[arg2]\n",
    "            else:\n",
    "                self.registers_dict[arg1] *= int(arg2)\n",
    "            self.pos+=1\n",
    "        \n",
    "        elif command=='jnz':\n",
    "            if arg1 in self.registers_dict:\n",
    "                x=self.registers_dict[arg1]\n",
    "            else:\n",
    "                x=int(arg1)\n",
    "            if x==0:\n",
    "                self.pos += 1\n",
    "            else:\n",
    "                if arg2 in self.registers_dict:\n",
    "                    self.pos += self.registers_dict[arg2]\n",
    "                else:\n",
    "                    self.pos += int(arg2)\n",
    "                    \n",
    "        return ((command, arg1, arg2))\n",
    "\n"
   ]
  },
  {
   "cell_type": "markdown",
   "metadata": {},
   "source": [
    "Now create a state with the puzzle input:"
   ]
  },
  {
   "cell_type": "code",
   "execution_count": 2,
   "metadata": {
    "collapsed": true
   },
   "outputs": [],
   "source": [
    "with open('data/day23.txt') as fIn:\n",
    "    puzzleState=State(fIn.read())"
   ]
  },
  {
   "cell_type": "markdown",
   "metadata": {},
   "source": [
    "and execute until the program halts:"
   ]
  },
  {
   "cell_type": "code",
   "execution_count": 3,
   "metadata": {},
   "outputs": [
    {
     "data": {
      "text/plain": [
       "5929"
      ]
     },
     "execution_count": 3,
     "metadata": {},
     "output_type": "execute_result"
    }
   ],
   "source": [
    "mulCounts_i=0\n",
    "\n",
    "while not puzzleState.halted():\n",
    "    com_tuple=puzzleState.execute_next_command()\n",
    "    if com_tuple[0]=='mul':\n",
    "        mulCounts_i += 1\n",
    "\n",
    "mulCounts_i"
   ]
  }
 ],
 "metadata": {
  "kernelspec": {
   "display_name": "Python 3",
   "language": "python",
   "name": "python3"
  },
  "language_info": {
   "codemirror_mode": {
    "name": "ipython",
    "version": 3
   },
   "file_extension": ".py",
   "mimetype": "text/x-python",
   "name": "python",
   "nbconvert_exporter": "python",
   "pygments_lexer": "ipython3",
   "version": "3.6.1"
  }
 },
 "nbformat": 4,
 "nbformat_minor": 2
}
