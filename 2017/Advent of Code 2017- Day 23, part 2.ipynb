{
 "cells": [
  {
   "cell_type": "markdown",
   "metadata": {},
   "source": [
    "# <font color=\"red\">Warning: I don't have time over Christmas to comment this properly, or describe what I'm doing, so the following notebook shouldn't be taken as a good way of doing things!</font>"
   ]
  },
  {
   "cell_type": "markdown",
   "metadata": {},
   "source": [
    "<font color=\"red\">\"First part of this looks pretty straightforward, so I'm a bit concerned about part 2.\"</font>"
   ]
  },
  {
   "cell_type": "markdown",
   "metadata": {},
   "source": [
    "Looks like I was right to be concerned. Well I've got much better things to do with my Christmas than to debug an artificially bug-ridden piece of code, so I'm going to leave this until Boxing Day at the earliest."
   ]
  },
  {
   "cell_type": "markdown",
   "metadata": {},
   "source": [
    "Don't like OO programming, but this seems to lend itself to objects (python not being as amenable to closures as a proper functional language)"
   ]
  },
  {
   "cell_type": "markdown",
   "metadata": {},
   "source": [
    "I'll tweak the definition of `State` so that the initial value of `a` is 1, and the remaining registers are 0. I also want method `registers`, `current_line` and `current_command` which return the current registers, the current line of the program, and the current command respectively."
   ]
  },
  {
   "cell_type": "code",
   "execution_count": 1,
   "metadata": {
    "code_folding": [],
    "collapsed": true
   },
   "outputs": [],
   "source": [
    "class State:\n",
    "    '''\n",
    "    a class containing the program itself, current command\n",
    "    being executed, and the registers\n",
    "    '''\n",
    "    def __init__(self, programIn_str, registersIn_dict={}):\n",
    "        \"programIn_str is the program as a string\"\n",
    "        \n",
    "        self.pos=0\n",
    "        self.registers_dict={r:0 for r in 'abcdefgh'}\n",
    "        self.registers_dict.update(registersIn_dict)\n",
    "\n",
    "        # parse the input string into a list of triples\n",
    "        self.program_ls=[tuple(a.split()) for a in \n",
    "                         [nl for nl in programIn_str.strip().split('\\n')]]\n",
    "        \n",
    "    # Now the methods. The program is halted if the\n",
    "    # current position is outside the list of commands:\n",
    "    def halted(self):\n",
    "        \"True if halted, False otherwise\"\n",
    "        return (self.pos<0) or (self.pos>=len(self.program_ls))\n",
    "    \n",
    "    # and execute the next command\n",
    "    def execute_next_command(self):\n",
    "        '''\n",
    "        Execute command and move to the next state. Returns the\n",
    "        command that was executed.\n",
    "        '''\n",
    "        (command, arg1, arg2)=self.program_ls[self.pos]\n",
    "        if command=='set':\n",
    "            if arg2 in self.registers_dict:\n",
    "                self.registers_dict[arg1]=self.registers_dict[arg2]\n",
    "            else:\n",
    "                self.registers_dict[arg1]=int(arg2)\n",
    "            self.pos+=1\n",
    "            \n",
    "        elif command=='sub':\n",
    "            if arg2 in self.registers_dict:\n",
    "                self.registers_dict[arg1] -= self.registers_dict[arg2]\n",
    "            else:\n",
    "                self.registers_dict[arg1] -= int(arg2)\n",
    "            self.pos+=1\n",
    "        \n",
    "        elif command=='mul':\n",
    "            if arg2 in self.registers_dict:\n",
    "                self.registers_dict[arg1] *= self.registers_dict[arg2]\n",
    "            else:\n",
    "                self.registers_dict[arg1] *= int(arg2)\n",
    "            self.pos+=1\n",
    "        \n",
    "        elif command=='jnz':\n",
    "            if arg1 in self.registers_dict:\n",
    "                x=self.registers_dict[arg1]\n",
    "            else:\n",
    "                x=int(arg1)\n",
    "            if x==0:\n",
    "                self.pos += 1\n",
    "            else:\n",
    "                if arg2 in self.registers_dict:\n",
    "                    self.pos += self.registers_dict[arg2]\n",
    "                else:\n",
    "                    self.pos += int(arg2)\n",
    "        \n",
    "\n",
    "        return ((command, arg1, arg2))\n",
    "\n",
    "    def registers(self, format=\"string\"):\n",
    "        '''\n",
    "        Returns the current registers. If format=\"string\", return\n",
    "        as a string, if format=\"dict\", return as a dict\n",
    "        '''\n",
    "        if format==\"dict\":\n",
    "            return self.registers_dict\n",
    "        elif format==\"string\":\n",
    "            return ' '.join(['{}:{}'.format(r, v) for (r, v) in self.registers_dict.items()])\n",
    "        else:\n",
    "            raise ValueError('format not valid')\n",
    "\n",
    "    def current_line(self):\n",
    "        '''\n",
    "        Returns the line of the program to be executed\n",
    "        '''\n",
    "        return self.pos\n",
    "\n",
    "    def current_command(self):\n",
    "        '''\n",
    "        Returns the command of the program to be executed\n",
    "        '''\n",
    "        return self.program_ls[self.pos]\n"
   ]
  },
  {
   "cell_type": "markdown",
   "metadata": {},
   "source": [
    "Now create a state with the puzzle input:"
   ]
  },
  {
   "cell_type": "code",
   "execution_count": 2,
   "metadata": {
    "collapsed": true
   },
   "outputs": [],
   "source": [
    "with open('data/day23.txt') as fIn:\n",
    "    puzzleState=State(fIn.read(), {'a':1})"
   ]
  },
  {
   "cell_type": "markdown",
   "metadata": {},
   "source": [
    "For this part of the task, want to cap the number of steps:"
   ]
  },
  {
   "cell_type": "raw",
   "metadata": {},
   "source": [
    "maxSteps_i=1000\n",
    "\n",
    "for i in range(maxSteps_i):\n",
    "    print(puzzleState.registers())\n",
    "    print()\n",
    "    print(puzzleState.current_command())\n",
    "    com_tuple=puzzleState.execute_next_command()\n"
   ]
  },
  {
   "cell_type": "code",
   "execution_count": 3,
   "metadata": {
    "collapsed": true
   },
   "outputs": [],
   "source": [
    "maxSteps_i=1000\n",
    "\n",
    "\n",
    "with open('out.txt', 'w') as fOut:\n",
    "    while puzzleState.registers_dict['d']<7:\n",
    "        fOut.write(str(puzzleState.registers()))\n",
    "        fOut.write('\\n\\n')\n",
    "        fOut.write(str(puzzleState.current_command()))\n",
    "        fOut.write('\\n')\n",
    "        com_tuple=puzzleState.execute_next_command()\n"
   ]
  },
  {
   "cell_type": "code",
   "execution_count": 4,
   "metadata": {},
   "outputs": [
    {
     "data": {
      "text/plain": [
       "'set b 19\\nset c 104\\nset f 1\\nset d 2\\nset e 2\\nset g d\\nmul g e\\nsub g b\\njnz g 2\\nset f 0\\nsub e -1\\nset g e\\nsub g b\\njnz g -8\\nsub d -1\\nset g d\\nsub g b\\njnz g -13\\njnz f 2\\nsub h -1\\nset g b\\nsub g c\\njnz g 2\\njnz 1 3\\nsub b -17\\njnz 1 -23'"
      ]
     },
     "execution_count": 4,
     "metadata": {},
     "output_type": "execute_result"
    }
   ],
   "source": [
    "progTest_str='''set b 19\n",
    "set c 104\n",
    "set f 1\n",
    "set d 2\n",
    "set e 2\n",
    "set g d\n",
    "mul g e\n",
    "sub g b\n",
    "jnz g 2\n",
    "set f 0\n",
    "sub e -1\n",
    "set g e\n",
    "sub g b\n",
    "jnz g -8\n",
    "sub d -1\n",
    "set g d\n",
    "sub g b\n",
    "jnz g -13\n",
    "jnz f 2\n",
    "sub h -1\n",
    "set g b\n",
    "sub g c\n",
    "jnz g 2\n",
    "jnz 1 3\n",
    "sub b -17\n",
    "jnz 1 -23'''\n",
    "\n",
    "progTest_str"
   ]
  },
  {
   "cell_type": "code",
   "execution_count": 5,
   "metadata": {
    "collapsed": true
   },
   "outputs": [],
   "source": [
    "testState=State(progTest_str, {'a':1})"
   ]
  },
  {
   "cell_type": "code",
   "execution_count": null,
   "metadata": {
    "collapsed": true
   },
   "outputs": [],
   "source": [
    "maxLines_i=100000000\n",
    "\n",
    "with open('out.txt', 'w') as fOut:\n",
    "    while maxLines_i:\n",
    "        fOut.write(str(testState.registers()))\n",
    "        fOut.write('\\n\\n')\n",
    "        fOut.write(str(testState.current_command()))\n",
    "        fOut.write('\\n')\n",
    "        com_tuple=testState.execute_next_command()\n",
    "        maxLines_i-=1\n"
   ]
  },
  {
   "cell_type": "markdown",
   "metadata": {
    "collapsed": true
   },
   "source": [
    "OK, a combination of examining the code and the output shows that what the program does is:\n",
    "\n",
    "* From the starting values (b=79*100+100000=107900, c=b+17000=124900):\n",
    "    * set d=e=2\n",
    "    * set f=0\n",
    "    * loop e from 2 to b, and then d from 2 to b\n",
    "    * if b-(d*e) ever equals zero, then set f to 1, so that f=1 if b is non-prime\n",
    "    * when d=e=b, if f==1, then increase h by 1\n",
    "    * set f=0\n",
    "    * increase b by 17\n",
    "* When b==c, halt\n",
    "\n",
    "The challenge is to find the value of h at the end of the run. So that will actually be the number of primes in the range (b, b+17, b+2*17, b+3*17, ..., c) inclusive.    "
   ]
  },
  {
   "cell_type": "code",
   "execution_count": 7,
   "metadata": {
    "collapsed": true
   },
   "outputs": [],
   "source": [
    "from math import sqrt"
   ]
  },
  {
   "cell_type": "code",
   "execution_count": 8,
   "metadata": {},
   "outputs": [],
   "source": [
    "# Completely hacky way of doing primes.\n",
    "# Yes, I do know how to do a Sieve of Eratosthenes, but it's\n",
    "# not really necessary in this case...\n",
    "\n",
    "def prime(num_i):\n",
    "    \"Return True if num_i is prime, False otherwise\"\n",
    "    return not any([(not num_i%i) for i in range(2, 1+int(sqrt(num_i)))])    "
   ]
  },
  {
   "cell_type": "code",
   "execution_count": 10,
   "metadata": {},
   "outputs": [
    {
     "data": {
      "text/plain": [
       "907"
      ]
     },
     "execution_count": 10,
     "metadata": {},
     "output_type": "execute_result"
    }
   ],
   "source": [
    "b=79\n",
    "c=b\n",
    "b*=100\n",
    "b-= -100000\n",
    "c=b\n",
    "c-= -17000\n",
    "\n",
    "# Use c+1 so that we include c\n",
    "\n",
    "len([i for i in range(b, c+1, 17) if not prime(i)])"
   ]
  },
  {
   "cell_type": "markdown",
   "metadata": {},
   "source": [
    "Is the right answer!"
   ]
  }
 ],
 "metadata": {
  "kernelspec": {
   "display_name": "Python 3",
   "language": "python",
   "name": "python3"
  },
  "language_info": {
   "codemirror_mode": {
    "name": "ipython",
    "version": 3
   },
   "file_extension": ".py",
   "mimetype": "text/x-python",
   "name": "python",
   "nbconvert_exporter": "python",
   "pygments_lexer": "ipython3",
   "version": "3.6.1"
  }
 },
 "nbformat": 4,
 "nbformat_minor": 2
}
