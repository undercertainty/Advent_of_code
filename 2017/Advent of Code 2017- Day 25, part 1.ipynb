{
 "cells": [
  {
   "cell_type": "markdown",
   "metadata": {},
   "source": [
    "# <font color=\"red\">Warning: I don't have time over Christmas to comment this properly, or describe what I'm doing, so the following notebook shouldn't be taken as a good way of doing things!</font>"
   ]
  },
  {
   "cell_type": "code",
   "execution_count": 1,
   "metadata": {
    "collapsed": true
   },
   "outputs": [],
   "source": [
    "import re\n",
    "\n",
    "import collections as coll\n",
    "\n",
    "import pyrsistent as pyr"
   ]
  },
  {
   "cell_type": "code",
   "execution_count": 2,
   "metadata": {
    "collapsed": true
   },
   "outputs": [],
   "source": [
    "testInput_str='''\n",
    "Begin in state A.\n",
    "Perform a diagnostic checksum after 6 steps.\n",
    "\n",
    "In state A:\n",
    "  If the current value is 0:\n",
    "    - Write the value 1.\n",
    "    - Move one slot to the right.\n",
    "    - Continue with state B.\n",
    "  If the current value is 1:\n",
    "    - Write the value 0.\n",
    "    - Move one slot to the left.\n",
    "    - Continue with state B.\n",
    "\n",
    "In state B:\n",
    "  If the current value is 0:\n",
    "    - Write the value 1.\n",
    "    - Move one slot to the left.\n",
    "    - Continue with state A.\n",
    "  If the current value is 1:\n",
    "    - Write the value 1.\n",
    "    - Move one slot to the right.\n",
    "    - Continue with state A.\n",
    "'''\n"
   ]
  },
  {
   "cell_type": "code",
   "execution_count": 3,
   "metadata": {
    "collapsed": true
   },
   "outputs": [],
   "source": [
    "with open('data/day25.txt') as fIn:\n",
    "    puzzleInput_str=fIn.read()"
   ]
  },
  {
   "cell_type": "code",
   "execution_count": 4,
   "metadata": {
    "collapsed": true
   },
   "outputs": [],
   "source": [
    "input_str=puzzleInput_str"
   ]
  },
  {
   "cell_type": "code",
   "execution_count": 5,
   "metadata": {},
   "outputs": [
    {
     "data": {
      "text/plain": [
       "{'iterations': 12656374,\n",
       " 'program': [('A', '1', 'right', 'B', '0', 'left', 'C'),\n",
       "  ('B', '1', 'left', 'A', '1', 'left', 'D'),\n",
       "  ('C', '1', 'right', 'D', '0', 'right', 'C'),\n",
       "  ('D', '0', 'left', 'B', '0', 'right', 'E'),\n",
       "  ('E', '1', 'right', 'C', '1', 'left', 'F'),\n",
       "  ('F', '1', 'left', 'E', '1', 'right', 'A')],\n",
       " 'start_state': 'A'}"
      ]
     },
     "execution_count": 5,
     "metadata": {},
     "output_type": "execute_result"
    }
   ],
   "source": [
    "# First parse the program:\n",
    "\n",
    "parsedInput_dict={'program':re.findall('''In state ([A-Z]):\n",
    "  If the current value is 0:\n",
    "    - Write the value (0|1).\n",
    "    - Move one slot to the (left|right).\n",
    "    - Continue with state ([A-Z]).\n",
    "  If the current value is 1:\n",
    "    - Write the value (0|1).\n",
    "    - Move one slot to the (left|right).\n",
    "    - Continue with state ([A-Z]).''', input_str)}\n",
    "\n",
    "# Next find the start state:\n",
    "\n",
    "parsedInput_dict['start_state']=re.search('Begin in state ([A-Z])\\.',\n",
    "                                          input_str).group(1)\n",
    "\n",
    "parsedInput_dict['iterations']=int(re.search('checksum after (\\d+) steps',\n",
    "                                             \n",
    "                                             input_str).group(1))\n",
    "\n",
    "\n",
    "parsedInput_dict\n",
    "\n",
    "\n",
    "\n"
   ]
  },
  {
   "cell_type": "code",
   "execution_count": 6,
   "metadata": {},
   "outputs": [
    {
     "data": {
      "text/plain": [
       "{('A', 0): {'move': 'right', 'next_state': 'B', 'write': 1},\n",
       " ('A', 1): {'move': 'left', 'next_state': 'C', 'write': 0},\n",
       " ('B', 0): {'move': 'left', 'next_state': 'A', 'write': 1},\n",
       " ('B', 1): {'move': 'left', 'next_state': 'D', 'write': 1},\n",
       " ('C', 0): {'move': 'right', 'next_state': 'D', 'write': 1},\n",
       " ('C', 1): {'move': 'right', 'next_state': 'C', 'write': 0},\n",
       " ('D', 0): {'move': 'left', 'next_state': 'B', 'write': 0},\n",
       " ('D', 1): {'move': 'right', 'next_state': 'E', 'write': 0},\n",
       " ('E', 0): {'move': 'right', 'next_state': 'C', 'write': 1},\n",
       " ('E', 1): {'move': 'left', 'next_state': 'F', 'write': 1},\n",
       " ('F', 0): {'move': 'left', 'next_state': 'E', 'write': 1},\n",
       " ('F', 1): {'move': 'right', 'next_state': 'A', 'write': 1}}"
      ]
     },
     "execution_count": 6,
     "metadata": {},
     "output_type": "execute_result"
    }
   ],
   "source": [
    "program_dict={(stateIn_chr, 0):{'write':int(w0),\n",
    "                                'move':m0,\n",
    "                                'next_state':s0}\n",
    "               for (stateIn_chr, w0, m0, s0, w1, m1, s1) in parsedInput_dict['program']}\n",
    "\n",
    "program_dict.update({(stateIn_chr, 1):{'write':int(w1),\n",
    "                                       'move':m1,\n",
    "                                       'next_state':s1}\n",
    "                     for (stateIn_chr, w0, m0, s0, w1, m1, s1) in parsedInput_dict['program']})\n",
    "\n",
    "program_dict"
   ]
  },
  {
   "cell_type": "code",
   "execution_count": 7,
   "metadata": {
    "collapsed": true
   },
   "outputs": [],
   "source": [
    "def move(programIn_dict, stateIn_chr, posIn_i, tapeIn_pv):\n",
    "    '''\n",
    "    Return the state, position and tape, following the application\n",
    "    of program_dict to stateIn_chr, posIn_i and tapeIn_pv.\n",
    "    '''\n",
    "\n",
    "    # Let command_dict be the commands to move into the next state\n",
    "    command_dict=programIn_dict[(stateIn_chr,\n",
    "                                 tapeIn_pv[posIn_i])]\n",
    "    \n",
    "    tapeOut_pv=tapeIn_pv.set(posIn_i, command_dict['write'])\n",
    "    if command_dict['move']=='left':\n",
    "        posOut_i=posIn_i-1    \n",
    "    elif command_dict['move']=='right':\n",
    "        posOut_i=posIn_i+1\n",
    "    \n",
    "    # If we've gone off the end of the tape, extend it\n",
    "    if posOut_i<0:\n",
    "        posOut_i=0\n",
    "        tapeOut_pv=pyr.pvector([0]).extend(tapeOut_pv)\n",
    "\n",
    "    if posOut_i >= len(tapeOut_pv):\n",
    "        tapeOut_pv=tapeOut_pv.append(0)\n",
    "\n",
    "                \n",
    "    return (command_dict['next_state'], posOut_i, tapeOut_pv)\n",
    "            "
   ]
  },
  {
   "cell_type": "code",
   "execution_count": 8,
   "metadata": {},
   "outputs": [
    {
     "data": {
      "text/plain": [
       "2526"
      ]
     },
     "execution_count": 8,
     "metadata": {},
     "output_type": "execute_result"
    }
   ],
   "source": [
    "o=(parsedInput_dict['start_state'], 0, pyr.pvector([0]))\n",
    "\n",
    "for i in range(parsedInput_dict['iterations']):\n",
    "    o=move(program_dict, *o)\n",
    "    \n",
    "o[2].count(1)"
   ]
  },
  {
   "cell_type": "markdown",
   "metadata": {},
   "source": [
    "And that seems to be it. Happy Christmas!"
   ]
  }
 ],
 "metadata": {
  "kernelspec": {
   "display_name": "Python 3",
   "language": "python",
   "name": "python3"
  },
  "language_info": {
   "codemirror_mode": {
    "name": "ipython",
    "version": 3
   },
   "file_extension": ".py",
   "mimetype": "text/x-python",
   "name": "python",
   "nbconvert_exporter": "python",
   "pygments_lexer": "ipython3",
   "version": "3.6.1"
  }
 },
 "nbformat": 4,
 "nbformat_minor": 2
}
