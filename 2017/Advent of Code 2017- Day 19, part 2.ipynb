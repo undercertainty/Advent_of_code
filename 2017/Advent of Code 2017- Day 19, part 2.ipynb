{
 "cells": [
  {
   "cell_type": "markdown",
   "metadata": {},
   "source": [
    "Errr... what's the catch here?"
   ]
  },
  {
   "cell_type": "markdown",
   "metadata": {},
   "source": [
    "Let's set up the various functions from part 1:"
   ]
  },
  {
   "cell_type": "code",
   "execution_count": 1,
   "metadata": {},
   "outputs": [],
   "source": [
    "def find_start_point(gridIn_ls):\n",
    "    '''\n",
    "    Return the starting coordinates of the entry point.\n",
    "    '''\n",
    "    assert gridIn_ls[0].count('|')==1\n",
    "    return (0, gridIn_ls[0].index('|'))\n"
   ]
  },
  {
   "cell_type": "code",
   "execution_count": 2,
   "metadata": {
    "collapsed": true
   },
   "outputs": [],
   "source": [
    "def single_step(gridIn_ls, locIn_coords, facing_chr, moving_bool):\n",
    "    '''\n",
    "    Takes a grid, current coordinates, direction facing, and\n",
    "    a bool which is True if need to move, or False if need to turn.\n",
    "    Returns the new coordinates, new direction facing, a bool\n",
    "    to say what to do next, and a letter (if passed).\n",
    "    Return None if at the end of the path\n",
    "    '''\n",
    "    # First, consider what to do if we're moving:\n",
    "    if moving_bool:\n",
    "        # Move in the facing direction\n",
    "        if facing_chr=='u':\n",
    "            locOut_coords=(locIn_coords[0]-1, locIn_coords[1])\n",
    "        elif facing_chr=='d':\n",
    "            locOut_coords=(locIn_coords[0]+1, locIn_coords[1])\n",
    "        elif facing_chr=='l':\n",
    "            locOut_coords=(locIn_coords[0], locIn_coords[1]-1)\n",
    "        elif facing_chr=='r':\n",
    "            locOut_coords=(locIn_coords[0], locIn_coords[1]+1)\n",
    "        else:\n",
    "            raise ValueError(\"Direction not recognised: {}\".format(facing_chr))\n",
    "            \n",
    "        # Take appropriate further action:\n",
    "        if gridIn_ls[locOut_coords[0]][locOut_coords[1]] in ['|', '-']:\n",
    "            return (locOut_coords, facing_chr, True, None)\n",
    "        elif gridIn_ls[locOut_coords[0]][locOut_coords[1]] in 'ABCDEFGHIJKLMNOPQRSTUVWXYZ':\n",
    "            return (locOut_coords, facing_chr, True, gridIn_ls[locOut_coords[0]][locOut_coords[1]])\n",
    "        elif gridIn_ls[locOut_coords[0]][locOut_coords[1]]=='+':\n",
    "            return (locOut_coords, facing_chr, False, None)\n",
    "        else:\n",
    "            return None\n",
    "    # Otherwise, need to turn:\n",
    "    else:\n",
    "        # if facing up, need to find a direction which we can move. For\n",
    "        # the moment, I'll assume that the direction out of the '+' is\n",
    "        # unique. (I'll get a wrong answer from the puzzle case if it isn't.)\n",
    "        if facing_chr=='u':\n",
    "            if gridIn_ls[locIn_coords[0]][locIn_coords[1]-1] in '-ABCDEFGHIJKLMNOPQRSTUVWXYZ':\n",
    "                return (locIn_coords, 'l', True, None)\n",
    "            elif gridIn_ls[locIn_coords[0]][locIn_coords[1]+1] in '-ABCDEFGHIJKLMNOPQRSTUVWXYZ':\n",
    "                return (locIn_coords, 'r', True, None)\n",
    "        elif facing_chr=='d':\n",
    "            if gridIn_ls[locIn_coords[0]][locIn_coords[1]-1] in '-ABCDEFGHIJKLMNOPQRSTUVWXYZ':\n",
    "                return (locIn_coords, 'l', True, None)\n",
    "            elif gridIn_ls[locIn_coords[0]][locIn_coords[1]+1] in '-ABCDEFGHIJKLMNOPQRSTUVWXYZ':\n",
    "                return (locIn_coords, 'r', True, None)\n",
    "        elif facing_chr=='l':\n",
    "            if gridIn_ls[locIn_coords[0]-1][locIn_coords[1]] in '|ABCDEFGHIJKLMNOPQRSTUVWXYZ':\n",
    "                return (locIn_coords, 'u', True, None)\n",
    "            elif gridIn_ls[locIn_coords[0]+1][locIn_coords[1]] in '|ABCDEFGHIJKLMNOPQRSTUVWXYZ':\n",
    "                return (locIn_coords, 'd', True, None)\n",
    "        elif facing_chr=='r':\n",
    "            if gridIn_ls[locIn_coords[0]-1][locIn_coords[1]] in '|ABCDEFGHIJKLMNOPQRSTUVWXYZ':\n",
    "                return (locIn_coords, 'u', True, None)\n",
    "            elif gridIn_ls[locIn_coords[0]+1][locIn_coords[1]] in '|ABCDEFGHIJKLMNOPQRSTUVWXYZ':\n",
    "                return (locIn_coords, 'd', True, None)\n",
    "\n",
    "    # If we get here, something's gone wrong\n",
    "    raise ValueError(\"Something's wrong with the input\")\n"
   ]
  },
  {
   "cell_type": "markdown",
   "metadata": {},
   "source": [
    "Now we should be able to calculate the total number of moves by counting the number of times `single_step` is called with the third argument as `True`:"
   ]
  },
  {
   "cell_type": "code",
   "execution_count": 3,
   "metadata": {
    "collapsed": true
   },
   "outputs": [],
   "source": [
    "testInput_str='''\n",
    "     |          \n",
    "     |  +--+    \n",
    "     A  |  C    \n",
    " F---|----E|--+ \n",
    "     |  |  |  D \n",
    "     +B-+  +--+ \n",
    "'''"
   ]
  },
  {
   "cell_type": "code",
   "execution_count": 4,
   "metadata": {},
   "outputs": [
    {
     "name": "stdout",
     "output_type": "stream",
     "text": [
      "((1, 5), 'd', True, None)\n",
      "((2, 5), 'd', True, 'A')\n",
      "((3, 5), 'd', True, None)\n",
      "((4, 5), 'd', True, None)\n",
      "((5, 5), 'd', False, None)\n",
      "((5, 5), 'r', True, None)\n",
      "((5, 6), 'r', True, 'B')\n",
      "((5, 7), 'r', True, None)\n",
      "((5, 8), 'r', False, None)\n",
      "((5, 8), 'u', True, None)\n",
      "((4, 8), 'u', True, None)\n",
      "((3, 8), 'u', True, None)\n",
      "((2, 8), 'u', True, None)\n",
      "((1, 8), 'u', False, None)\n",
      "((1, 8), 'r', True, None)\n",
      "((1, 9), 'r', True, None)\n",
      "((1, 10), 'r', True, None)\n",
      "((1, 11), 'r', False, None)\n",
      "((1, 11), 'd', True, None)\n",
      "((2, 11), 'd', True, 'C')\n",
      "((3, 11), 'd', True, None)\n",
      "((4, 11), 'd', True, None)\n",
      "((5, 11), 'd', False, None)\n",
      "((5, 11), 'r', True, None)\n",
      "((5, 12), 'r', True, None)\n",
      "((5, 13), 'r', True, None)\n",
      "((5, 14), 'r', False, None)\n",
      "((5, 14), 'u', True, None)\n",
      "((4, 14), 'u', True, 'D')\n",
      "((3, 14), 'u', False, None)\n",
      "((3, 14), 'l', True, None)\n",
      "((3, 13), 'l', True, None)\n",
      "((3, 12), 'l', True, None)\n",
      "((3, 11), 'l', True, None)\n",
      "((3, 10), 'l', True, 'E')\n",
      "((3, 9), 'l', True, None)\n",
      "((3, 8), 'l', True, None)\n",
      "((3, 7), 'l', True, None)\n",
      "((3, 6), 'l', True, None)\n",
      "((3, 5), 'l', True, None)\n",
      "((3, 4), 'l', True, None)\n",
      "((3, 3), 'l', True, None)\n",
      "((3, 2), 'l', True, None)\n",
      "((3, 1), 'l', True, 'F')\n"
     ]
    }
   ],
   "source": [
    "inputGrid_ls=[nl for nl in testInput_str.split('\\n') if nl]\n",
    "loc_coords=find_start_point(inputGrid_ls)\n",
    "facing_chr='d'\n",
    "moving_bool=True\n",
    "\n",
    "totalSteps_i=0\n",
    "\n",
    "while True:\n",
    "    nextStep=single_step(inputGrid_ls, loc_coords, facing_chr, moving_bool)\n",
    "    if moving_bool:\n",
    "        totalSteps_i+=1\n",
    "    if not nextStep:\n",
    "        break\n",
    "    else:\n",
    "        print(nextStep)\n",
    "        (loc_coords, facing_chr, moving_bool, letterFound_chr)=nextStep\n",
    "        \n",
    "assert totalSteps_i==38"
   ]
  },
  {
   "cell_type": "markdown",
   "metadata": {},
   "source": [
    "That seems to work OK. Let's apply to the puzzle input:"
   ]
  },
  {
   "cell_type": "code",
   "execution_count": 5,
   "metadata": {},
   "outputs": [
    {
     "data": {
      "text/plain": [
       "16328"
      ]
     },
     "execution_count": 5,
     "metadata": {},
     "output_type": "execute_result"
    }
   ],
   "source": [
    "with open('data/day19.txt') as fIn:\n",
    "    inputGrid_ls=[nl for nl in fIn.read().split('\\n') if nl]\n",
    "\n",
    "loc_coords=find_start_point(inputGrid_ls)\n",
    "facing_chr='d'\n",
    "moving_bool=True\n",
    "\n",
    "totalSteps_i=0\n",
    "\n",
    "while True:\n",
    "    nextStep=single_step(inputGrid_ls, loc_coords, facing_chr, moving_bool)\n",
    "    if moving_bool:\n",
    "        totalSteps_i+=1\n",
    "    if not nextStep:\n",
    "        break\n",
    "    else:\n",
    "        (loc_coords, facing_chr, moving_bool, letterFound_chr)=nextStep\n",
    "        \n",
    "totalSteps_i"
   ]
  },
  {
   "cell_type": "markdown",
   "metadata": {},
   "source": [
    "OK, fine. So part 1 was the hard part this time. I thought they were going to ask how many times the path crossed above rather than below, or something like that."
   ]
  }
 ],
 "metadata": {
  "kernelspec": {
   "display_name": "Python 3",
   "language": "python",
   "name": "python3"
  },
  "language_info": {
   "codemirror_mode": {
    "name": "ipython",
    "version": 3
   },
   "file_extension": ".py",
   "mimetype": "text/x-python",
   "name": "python",
   "nbconvert_exporter": "python",
   "pygments_lexer": "ipython3",
   "version": "3.6.1"
  }
 },
 "nbformat": 4,
 "nbformat_minor": 2
}
