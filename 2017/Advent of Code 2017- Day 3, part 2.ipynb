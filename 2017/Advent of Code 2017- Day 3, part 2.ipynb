{
 "cells": [
  {
   "cell_type": "markdown",
   "metadata": {},
   "source": [
    "Blast, I was hoping not to have to generate the whole grid, but I think I'm going to have to. Having said that, I don't think it'll be too big, they haven't asked for a target value of a gazillion or whatever."
   ]
  },
  {
   "cell_type": "markdown",
   "metadata": {},
   "source": [
    "So I'm going to represent the grid as a dictionary mapping tuples to values. That's really inefficient, but I don't think that the grid's going to be big enough to cause a problem. So that'll look like:\n",
    "\n",
    "`{(0,0):1, (1,0):1, (1,1):2, ... }`"
   ]
  },
  {
   "cell_type": "markdown",
   "metadata": {},
   "source": [
    "Start with a function that will sum the adjacent squares:"
   ]
  },
  {
   "cell_type": "code",
   "execution_count": 1,
   "metadata": {},
   "outputs": [
    {
     "data": {
      "text/plain": [
       "4"
      ]
     },
     "execution_count": 1,
     "metadata": {},
     "output_type": "execute_result"
    }
   ],
   "source": [
    "def sum_adjacent_squares(coordsIn, gridIn):\n",
    "    '''Return the sum of all adjacent squares to coordsIn from gridIn'''\n",
    "    x=coordsIn[0]\n",
    "    y=coordsIn[1]\n",
    "    \n",
    "    return sum([gridIn.get((x-1, y-1), 0),\n",
    "                gridIn.get((x-1, y), 0),\n",
    "                gridIn.get((x-1, y+1), 0),\n",
    "                gridIn.get((x, y-1), 0),\n",
    "                gridIn.get((x, y+1), 0),\n",
    "                gridIn.get((x+1, y-1), 0),\n",
    "                gridIn.get((x+1, y), 0),\n",
    "                gridIn.get((x+1, y+1), 0)])\n",
    "\n",
    "# Note that coordinates will usually be sent as a list\n",
    "sum_adjacent_squares([1, 0], {(0,0):1, (0,1):1, (1,1):2})"
   ]
  },
  {
   "cell_type": "markdown",
   "metadata": {},
   "source": [
    "OK, so now follow the path, using the code from the previous notebook"
   ]
  },
  {
   "cell_type": "code",
   "execution_count": 2,
   "metadata": {},
   "outputs": [
    {
     "data": {
      "text/plain": [
       "'down'"
      ]
     },
     "execution_count": 2,
     "metadata": {},
     "output_type": "execute_result"
    }
   ],
   "source": [
    "def turn(dirIn_str):\n",
    "    '''Returns the direction you're facing after changing direction'''\n",
    "    assert dirIn_str in ['left', 'right', 'up', 'down'], \"Incorrect value: {}\".format(dirIn_str)\n",
    "    if dirIn_str=='left':\n",
    "        return 'down'\n",
    "    if dirIn_str=='down':\n",
    "        return 'right'\n",
    "    if dirIn_str=='right':\n",
    "        return 'up'\n",
    "    if dirIn_str=='up':\n",
    "        return 'left'\n",
    "    \n",
    "turn('left')"
   ]
  },
  {
   "cell_type": "markdown",
   "metadata": {},
   "source": [
    "Now let's alter the code so that it returns the grid after n steps:"
   ]
  },
  {
   "cell_type": "code",
   "execution_count": 3,
   "metadata": {},
   "outputs": [
    {
     "data": {
      "text/plain": [
       "{(-1, -1): 11,\n",
       " (-1, 0): 10,\n",
       " (-1, 1): 5,\n",
       " (0, -1): 23,\n",
       " (0, 0): 1,\n",
       " (0, 1): 4,\n",
       " (1, -1): 25,\n",
       " (1, 0): 1,\n",
       " (1, 1): 2,\n",
       " (2, -1): 26,\n",
       " (2, 0): 54,\n",
       " (2, 1): 57}"
      ]
     },
     "execution_count": 3,
     "metadata": {},
     "output_type": "execute_result"
    }
   ],
   "source": [
    "\n",
    "def take_n_steps(target_i):\n",
    "    '''Return the coordinates after taking target_i steps, starting at 1'''\n",
    "\n",
    "    coords=[0,0]\n",
    "    facing_str='right'\n",
    "    currentPathLength_i=1\n",
    "    increasePathLength_bool=False\n",
    "    square_i=1\n",
    "    gridOut_dict={(0,0):1}\n",
    "\n",
    "    # Follow the path until we've done n steps:\n",
    "\n",
    "    distAlongCurrentPath_i=0\n",
    "    while target_i > 1:  # This computing; who the hell starts at 1??\n",
    "        \n",
    "        # Move 1 step in the direction facing:\n",
    "        if facing_str=='right':\n",
    "            coords[0]+=1\n",
    "        elif facing_str=='up':\n",
    "            coords[1]+=1\n",
    "        elif facing_str=='left':\n",
    "            coords[0]-=1\n",
    "        elif facing_str=='down':\n",
    "            coords[1]-=1\n",
    "        distAlongCurrentPath_i+=1\n",
    "        \n",
    "        # If we're at the end of the current path,\n",
    "        if distAlongCurrentPath_i==currentPathLength_i:\n",
    "            # Turn\n",
    "            facing_str=turn(facing_str)\n",
    "            # Start a new path\n",
    "            distAlongCurrentPath_i=0\n",
    "            # And increase the path length\n",
    "            if increasePathLength_bool:\n",
    "                currentPathLength_i+=1\n",
    "            # on alternate paths.\n",
    "            increasePathLength_bool=not increasePathLength_bool\n",
    "            \n",
    "        # Now update the output grid with its current values:\n",
    "        gridOut_dict[(coords[0], coords[1])]=sum_adjacent_squares(coords,\n",
    "                                                                  gridOut_dict)\n",
    "        \n",
    "        \n",
    "        target_i-=1\n",
    "        \n",
    "    return gridOut_dict\n",
    "                \n",
    "take_n_steps(12)\n",
    "    "
   ]
  },
  {
   "cell_type": "markdown",
   "metadata": {},
   "source": [
    "Good, that seems to match the test case. Now let's do a quick hack to stop when we hit a bigger value than the target:"
   ]
  },
  {
   "cell_type": "code",
   "execution_count": 4,
   "metadata": {},
   "outputs": [
    {
     "data": {
      "text/plain": [
       "147"
      ]
     },
     "execution_count": 4,
     "metadata": {},
     "output_type": "execute_result"
    }
   ],
   "source": [
    "\n",
    "def step_until_target(target_i):\n",
    "    '''Return the coordinates after taking target_i steps, starting at 1'''\n",
    "\n",
    "    coords=[0,0]\n",
    "    facing_str='right'\n",
    "    currentPathLength_i=1\n",
    "    increasePathLength_bool=False\n",
    "    square_i=1\n",
    "    gridOut_dict={(0,0):1}\n",
    "\n",
    "    # Follow the path until we've done n steps:\n",
    "\n",
    "    distAlongCurrentPath_i=0\n",
    "    while True:  # We'll break at the right moment. Not \n",
    "                 # the best practice, but never mind.\n",
    "        \n",
    "        # Move 1 step in the direction facing:\n",
    "        if facing_str=='right':\n",
    "            coords[0]+=1\n",
    "        elif facing_str=='up':\n",
    "            coords[1]+=1\n",
    "        elif facing_str=='left':\n",
    "            coords[0]-=1\n",
    "        elif facing_str=='down':\n",
    "            coords[1]-=1\n",
    "        distAlongCurrentPath_i+=1\n",
    "        \n",
    "        # If we're at the end of the current path,\n",
    "        if distAlongCurrentPath_i==currentPathLength_i:\n",
    "            # Turn\n",
    "            facing_str=turn(facing_str)\n",
    "            # Start a new path\n",
    "            distAlongCurrentPath_i=0\n",
    "            # And increase the path length\n",
    "            if increasePathLength_bool:\n",
    "                currentPathLength_i+=1\n",
    "            # on alternate paths.\n",
    "            increasePathLength_bool=not increasePathLength_bool\n",
    "            \n",
    "        # Now update the output grid with its current values:\n",
    "        currentValue_i=sum_adjacent_squares(coords, gridOut_dict)\n",
    "        if currentValue_i > target_i:\n",
    "            break\n",
    "        gridOut_dict[(coords[0], coords[1])]=sum_adjacent_squares(coords,\n",
    "                                                                  gridOut_dict)\n",
    "\n",
    "    return currentValue_i\n",
    "                \n",
    "step_until_target(145)\n",
    "    "
   ]
  },
  {
   "cell_type": "markdown",
   "metadata": {},
   "source": [
    "Seems OK... Now for the test case:"
   ]
  },
  {
   "cell_type": "code",
   "execution_count": 5,
   "metadata": {},
   "outputs": [
    {
     "data": {
      "text/plain": [
       "295229"
      ]
     },
     "execution_count": 5,
     "metadata": {},
     "output_type": "execute_result"
    }
   ],
   "source": [
    "step_until_target(289326)"
   ]
  },
  {
   "cell_type": "markdown",
   "metadata": {},
   "source": [
    "Hoorah!"
   ]
  }
 ],
 "metadata": {
  "kernelspec": {
   "display_name": "Python [conda root]",
   "language": "python",
   "name": "conda-root-py"
  },
  "language_info": {
   "codemirror_mode": {
    "name": "ipython",
    "version": 3
   },
   "file_extension": ".py",
   "mimetype": "text/x-python",
   "name": "python",
   "nbconvert_exporter": "python",
   "pygments_lexer": "ipython3",
   "version": "3.5.4"
  }
 },
 "nbformat": 4,
 "nbformat_minor": 2
}
