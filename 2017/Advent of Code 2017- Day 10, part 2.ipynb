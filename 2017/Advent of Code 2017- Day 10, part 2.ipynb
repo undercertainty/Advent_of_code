{
 "cells": [
  {
   "cell_type": "markdown",
   "metadata": {},
   "source": [
    "Like part 1, I think that the description of the task is rather more fiddly than the task itself."
   ]
  },
  {
   "cell_type": "markdown",
   "metadata": {},
   "source": [
    "We'll want the `knot_hash` function again:"
   ]
  },
  {
   "cell_type": "code",
   "execution_count": 1,
   "metadata": {
    "collapsed": true
   },
   "outputs": [],
   "source": [
    "from itertools import cycle, islice\n",
    "from functools import reduce"
   ]
  },
  {
   "cell_type": "code",
   "execution_count": 2,
   "metadata": {
    "collapsed": true
   },
   "outputs": [],
   "source": [
    "def hash_once(listIn_ls, pos_i, length_i, skipSize_i=0):\n",
    "    '''\n",
    "    Apply the hash function once to an input list.\n",
    "    \n",
    "    Return a triple of the new list, new position, and new skip size.\n",
    "    '''\n",
    "    # Start by taking a cycle of the input list, and another\n",
    "    # of indices we can use to update the list later\n",
    "    listCycle_cc=cycle(listIn_ls)\n",
    "    indexCycle_cc=cycle(range(len(listIn_ls)))\n",
    "    \n",
    "    # It'll also be useful to return a copy of the input list:\n",
    "    listOut_ls=listIn_ls.copy()\n",
    "    \n",
    "    # Next, take a slice of the circular input list\n",
    "    revSublist_ls=list(islice(listCycle_cc, pos_i, pos_i+length_i))\n",
    "    # And reverse it:\n",
    "    revSublist_ls.reverse()\n",
    "    \n",
    "    # And now replace the elements in listOut_ls with the\n",
    "    # members of revSublist_ls. Use indexCycle_cc to get\n",
    "    # them in the right place:\n",
    "    \n",
    "    for (i, j) in enumerate(islice(indexCycle_cc, pos_i, pos_i+length_i)):\n",
    "        listOut_ls[j]=revSublist_ls[i]\n",
    "        \n",
    "    # The list has been updated; now need to return the appropriate\n",
    "    # values, of the new list, the new position, and the new skip size\n",
    "    \n",
    "    newPos_i=(pos_i+length_i+skipSize_i)%len(listIn_ls)\n",
    "    return (listOut_ls, newPos_i, skipSize_i+1)"
   ]
  },
  {
   "cell_type": "code",
   "execution_count": 3,
   "metadata": {
    "collapsed": true
   },
   "outputs": [],
   "source": [
    "def knot_hash(inputList_ls, lengths_ls):\n",
    "    listOut_ls=inputList_ls.copy()\n",
    "    pos_i=0\n",
    "    skip_i=0\n",
    "    \n",
    "    for length_i in lengths_ls:\n",
    "        (listOut_ls, pos_i, skip_i)=hash_once(listOut_ls, pos_i, length_i, skip_i)\n",
    "    return listOut_ls"
   ]
  },
  {
   "cell_type": "markdown",
   "metadata": {},
   "source": [
    "This time, the input list is the ascii values of the input string, plus the additional numbers 17, 31, 73, 47, 23. For the sparse hash, we want to run this 64 times. That's OK; python lets us multiply lists, so for a given input, we get:"
   ]
  },
  {
   "cell_type": "code",
   "execution_count": 4,
   "metadata": {},
   "outputs": [
    {
     "data": {
      "text/plain": [
       "[5, 11, 95, 62, 101, 8, 254, 63, 51, 197]"
      ]
     },
     "execution_count": 4,
     "metadata": {},
     "output_type": "execute_result"
    }
   ],
   "source": [
    "# Start with one of the examples:\n",
    "\n",
    "input_str='1,2,3'\n",
    "\n",
    "sparseHash_ls=knot_hash(list(range(256)), 64*([ord(c) for c in input_str]+[17, 31, 73, 47, 23]))\n",
    "sparseHash_ls[:10]"
   ]
  },
  {
   "cell_type": "markdown",
   "metadata": {},
   "source": [
    "Convert the sparse hash into blocks of 16:"
   ]
  },
  {
   "cell_type": "code",
   "execution_count": 5,
   "metadata": {},
   "outputs": [
    {
     "data": {
      "text/plain": [
       "[[5, 11, 95, 62, 101, 8, 254, 63, 51, 197, 155, 31, 164, 190, 147, 6],\n",
       " [171, 98, 19, 20, 75, 159, 194, 207, 249, 91, 225, 78, 145, 230, 118, 224],\n",
       " [83, 87, 58, 244, 124, 241, 131, 201, 7, 114, 240, 204, 66, 47, 50, 252],\n",
       " [203, 213, 137, 127, 44, 165, 104, 234, 18, 25, 116, 173, 121, 209, 153, 138],\n",
       " [239, 13, 55, 157, 70, 189, 89, 196, 136, 243, 237, 210, 250, 246, 208, 59],\n",
       " [211, 215, 80, 40, 72, 135, 32, 54, 61, 21, 16, 238, 38, 77, 34, 184],\n",
       " [28, 160, 15, 181, 228, 103, 81, 229, 96, 37, 12, 217, 221, 36, 65, 235],\n",
       " [123, 109, 175, 187, 199, 198, 57, 113, 64, 0, 185, 1, 166, 152, 233, 253],\n",
       " [119, 67, 43, 143, 86, 191, 227, 149, 126, 105, 76, 146, 242, 120, 169, 156],\n",
       " [216, 162, 24, 219, 193, 129, 94, 48, 49, 10, 35, 82, 79, 174, 41, 22],\n",
       " [202, 108, 30, 115, 150, 154, 17, 88, 60, 26, 205, 148, 179, 128, 245, 45],\n",
       " [251, 142, 74, 102, 206, 182, 100, 3, 106, 56, 23, 99, 90, 222, 2, 172],\n",
       " [73, 158, 92, 161, 42, 93, 178, 141, 226, 200, 9, 33, 183, 180, 71, 132],\n",
       " [220,\n",
       "  236,\n",
       "  188,\n",
       "  14,\n",
       "  195,\n",
       "  134,\n",
       "  192,\n",
       "  111,\n",
       "  168,\n",
       "  186,\n",
       "  122,\n",
       "  110,\n",
       "  69,\n",
       "  177,\n",
       "  212,\n",
       "  255],\n",
       " [112, 27, 163, 218, 125, 130, 133, 248, 139, 4, 167, 84, 117, 68, 144, 39],\n",
       " [214, 151, 170, 140, 85, 231, 29, 97, 46, 247, 52, 176, 53, 107, 232, 223]]"
      ]
     },
     "execution_count": 5,
     "metadata": {},
     "output_type": "execute_result"
    }
   ],
   "source": [
    "[sparseHash_ls[16*x:16*(x+1)] for x in range(16)]"
   ]
  },
  {
   "cell_type": "code",
   "execution_count": 6,
   "metadata": {},
   "outputs": [
    {
     "data": {
      "text/plain": [
       "[62, 251, 231, 138, 141, 130, 242, 153, 121, 3, 26, 74, 160, 177, 106, 157]"
      ]
     },
     "execution_count": 6,
     "metadata": {},
     "output_type": "execute_result"
    }
   ],
   "source": [
    "# For the dense hash, split the sparse hash into blocks of 16,\n",
    "# and call XOR on the sets. Useful to use functools.reduce here\n",
    "\n",
    "denseHash_ls=[reduce(lambda x, y:x^y, charList_ls)\n",
    "              for charList_ls in [sparseHash_ls[16*x:16*(x+1)] for x in range(16)]]\n",
    "denseHash_ls\n"
   ]
  },
  {
   "cell_type": "code",
   "execution_count": 7,
   "metadata": {},
   "outputs": [
    {
     "data": {
      "text/plain": [
       "['3e',\n",
       " 'fb',\n",
       " 'e7',\n",
       " '8a',\n",
       " '8d',\n",
       " '82',\n",
       " 'f2',\n",
       " '99',\n",
       " '79',\n",
       " '03',\n",
       " '1a',\n",
       " '4a',\n",
       " 'a0',\n",
       " 'b1',\n",
       " '6a',\n",
       " '9d']"
      ]
     },
     "execution_count": 7,
     "metadata": {},
     "output_type": "execute_result"
    }
   ],
   "source": [
    "# Now convert to hex. Do a hacky conversion of 'x' to '0' to\n",
    "# cover those cases where the hex form is only one character\n",
    "\n",
    "hex_ls=[hex(x)[-2:].replace('x', '0') for x in denseHash_ls]\n",
    "hex_ls"
   ]
  },
  {
   "cell_type": "markdown",
   "metadata": {},
   "source": [
    "and then concatenate them:"
   ]
  },
  {
   "cell_type": "code",
   "execution_count": 8,
   "metadata": {},
   "outputs": [
    {
     "data": {
      "text/plain": [
       "'3efbe78a8d82f29979031a4aa0b16a9d'"
      ]
     },
     "execution_count": 8,
     "metadata": {},
     "output_type": "execute_result"
    }
   ],
   "source": [
    "''.join(hex_ls)"
   ]
  },
  {
   "cell_type": "markdown",
   "metadata": {},
   "source": [
    "That seems to accord with the example in the description. So let's create a single function to do the complete conversion:"
   ]
  },
  {
   "cell_type": "code",
   "execution_count": 9,
   "metadata": {
    "collapsed": true
   },
   "outputs": [],
   "source": [
    "def full_knot_hash(input_str):\n",
    "    '''\n",
    "    Do a full knot hash of the input string. Return the hashed version.\n",
    "    '''\n",
    "    \n",
    "    sparseHash_ls=knot_hash(list(range(256)), 64*([ord(c) for c in input_str] + [17, 31, 73, 47, 23]))\n",
    "    \n",
    "    # For the dense hash, split the sparse hash into blocks of 16,\n",
    "    # and call XOR on the sets. Useful to use functools.reduce here\n",
    "    denseHash_ls=[reduce(lambda x, y:x^y, charList_ls)\n",
    "              for charList_ls in [sparseHash_ls[16*x:16*(x+1)] for x in range(16)]]\n",
    "    return ''.join([hex(x)[-2:].replace('x', '0') for x in denseHash_ls])\n",
    "    "
   ]
  },
  {
   "cell_type": "code",
   "execution_count": 10,
   "metadata": {},
   "outputs": [],
   "source": [
    "assert full_knot_hash('')=='a2582a3a0e66e6e86e3812dcb672a272'\n",
    "assert full_knot_hash('AoC 2017')=='33efeb34ea91902bb2f59c9920caa6cd'\n",
    "assert full_knot_hash('1,2,3')=='3efbe78a8d82f29979031a4aa0b16a9d'\n",
    "assert full_knot_hash('1,2,4')=='63960835bcdc130f0b66d7ff4f6a5a8e'"
   ]
  },
  {
   "cell_type": "markdown",
   "metadata": {},
   "source": [
    "Good! Now try with our input:"
   ]
  },
  {
   "cell_type": "code",
   "execution_count": 11,
   "metadata": {},
   "outputs": [
    {
     "data": {
      "text/plain": [
       "'aff593797989d665349efe11bb4fd99b'"
      ]
     },
     "execution_count": 11,
     "metadata": {},
     "output_type": "execute_result"
    }
   ],
   "source": [
    "with open('data/day10.txt') as fIn:\n",
    "    input_str=fIn.read().strip()\n",
    "\n",
    "full_knot_hash(input_str)"
   ]
  }
 ],
 "metadata": {
  "kernelspec": {
   "display_name": "Python 3",
   "language": "python",
   "name": "python3"
  },
  "language_info": {
   "codemirror_mode": {
    "name": "ipython",
    "version": 3
   },
   "file_extension": ".py",
   "mimetype": "text/x-python",
   "name": "python",
   "nbconvert_exporter": "python",
   "pygments_lexer": "ipython3",
   "version": "3.6.1"
  }
 },
 "nbformat": 4,
 "nbformat_minor": 2
}
