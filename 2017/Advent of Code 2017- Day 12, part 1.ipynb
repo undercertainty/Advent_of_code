{
 "cells": [
  {
   "cell_type": "markdown",
   "metadata": {},
   "source": [
    "Looks like a fairly straightforward depth first search to begin with. I can feel Dijkstra coming on... Let's represent the graph as a `dict`."
   ]
  },
  {
   "cell_type": "markdown",
   "metadata": {},
   "source": [
    "Build the dictionary of the test data:"
   ]
  },
  {
   "cell_type": "code",
   "execution_count": 1,
   "metadata": {
    "collapsed": true
   },
   "outputs": [],
   "source": [
    "testInput_str='''\n",
    "0 <-> 2\n",
    "1 <-> 1\n",
    "2 <-> 0, 3, 4\n",
    "3 <-> 2, 4\n",
    "4 <-> 2, 3, 6\n",
    "5 <-> 6\n",
    "6 <-> 4, 5\n",
    "'''"
   ]
  },
  {
   "cell_type": "markdown",
   "metadata": {},
   "source": [
    "To do the initial split into node and connections, we can do:"
   ]
  },
  {
   "cell_type": "code",
   "execution_count": 2,
   "metadata": {},
   "outputs": [
    {
     "data": {
      "text/plain": [
       "[['0', '2'],\n",
       " ['1', '1'],\n",
       " ['2', '0, 3, 4'],\n",
       " ['3', '2, 4'],\n",
       " ['4', '2, 3, 6'],\n",
       " ['5', '6'],\n",
       " ['6', '4, 5']]"
      ]
     },
     "execution_count": 2,
     "metadata": {},
     "output_type": "execute_result"
    }
   ],
   "source": [
    "[nl.split(' <-> ') for nl in testInput_str.strip().split('\\n')]"
   ]
  },
  {
   "cell_type": "markdown",
   "metadata": {},
   "source": [
    "So to build the actual graph, use the node as a key, and a set of the nodes it's connected to as the value:"
   ]
  },
  {
   "cell_type": "code",
   "execution_count": 3,
   "metadata": {},
   "outputs": [
    {
     "data": {
      "text/plain": [
       "{'0': {'2'},\n",
       " '1': {'1'},\n",
       " '2': {'0', '3', '4'},\n",
       " '3': {'2', '4'},\n",
       " '4': {'2', '3', '6'},\n",
       " '5': {'6'},\n",
       " '6': {'4', '5'}}"
      ]
     },
     "execution_count": 3,
     "metadata": {},
     "output_type": "execute_result"
    }
   ],
   "source": [
    "graph_dict={}\n",
    "\n",
    "for node, value in [nl.split(' <-> ') for nl in testInput_str.strip().split('\\n')]:\n",
    "    graph_dict[node]=set(v.strip() for v in value.split(','))\n",
    "\n",
    "graph_dict"
   ]
  },
  {
   "cell_type": "markdown",
   "metadata": {},
   "source": [
    "And to find all the nodes connected to node '0', do a DFS:"
   ]
  },
  {
   "cell_type": "code",
   "execution_count": 4,
   "metadata": {},
   "outputs": [
    {
     "data": {
      "text/plain": [
       "{'0', '2', '3', '4', '5', '6'}"
      ]
     },
     "execution_count": 4,
     "metadata": {},
     "output_type": "execute_result"
    }
   ],
   "source": [
    "connected_set=set()\n",
    "agenda_ls=['0']\n",
    "\n",
    "while agenda_ls:\n",
    "    nextNode=agenda_ls.pop()\n",
    "    if nextNode not in connected_set:\n",
    "        connected_set.add(nextNode)\n",
    "        agenda_ls[0:0]=list(graph_dict[nextNode])\n",
    "connected_set"
   ]
  },
  {
   "cell_type": "code",
   "execution_count": 5,
   "metadata": {
    "collapsed": true
   },
   "outputs": [],
   "source": [
    "assert len(connected_set)==6"
   ]
  },
  {
   "cell_type": "markdown",
   "metadata": {},
   "source": [
    "Now let's do the same with our puzzle input:"
   ]
  },
  {
   "cell_type": "code",
   "execution_count": 7,
   "metadata": {},
   "outputs": [
    {
     "data": {
      "text/plain": [
       "306"
      ]
     },
     "execution_count": 7,
     "metadata": {},
     "output_type": "execute_result"
    }
   ],
   "source": [
    "with open('data/day12.txt') as fIn:\n",
    "    puzzleInput_str=fIn.read()\n",
    "\n",
    "graph_dict={}\n",
    "\n",
    "for node, value in [nl.split(' <-> ') for nl in puzzleInput_str.strip().split('\\n')]:\n",
    "    graph_dict[node]=set(v.strip() for v in value.split(','))\n",
    "\n",
    "connected_set=set()\n",
    "agenda_ls=['0']\n",
    "\n",
    "while agenda_ls:\n",
    "    nextNode=agenda_ls.pop()\n",
    "    if nextNode not in connected_set:\n",
    "        connected_set.add(nextNode)\n",
    "        agenda_ls[0:0]=list(graph_dict[nextNode])\n",
    "len(connected_set)"
   ]
  }
 ],
 "metadata": {
  "kernelspec": {
   "display_name": "Python 3",
   "language": "python",
   "name": "python3"
  },
  "language_info": {
   "codemirror_mode": {
    "name": "ipython",
    "version": 3
   },
   "file_extension": ".py",
   "mimetype": "text/x-python",
   "name": "python",
   "nbconvert_exporter": "python",
   "pygments_lexer": "ipython3",
   "version": "3.6.1"
  }
 },
 "nbformat": 4,
 "nbformat_minor": 2
}
