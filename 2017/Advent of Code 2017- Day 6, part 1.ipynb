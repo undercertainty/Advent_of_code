{
 "cells": [
  {
   "cell_type": "markdown",
   "metadata": {},
   "source": [
    "So I've not made the best use of the `itertools` library in the last few challenges, but this looks like a good opportunity to use `cycle`."
   ]
  },
  {
   "cell_type": "markdown",
   "metadata": {},
   "source": [
    "I'm also going to use a pandas `Series` to give me the `argmax` method."
   ]
  },
  {
   "cell_type": "code",
   "execution_count": 1,
   "metadata": {
    "collapsed": true
   },
   "outputs": [],
   "source": [
    "import pandas as pd\n",
    "\n",
    "import itertools as it"
   ]
  },
  {
   "cell_type": "markdown",
   "metadata": {},
   "source": [
    "Represent the input as a list of integers:"
   ]
  },
  {
   "cell_type": "code",
   "execution_count": 2,
   "metadata": {},
   "outputs": [
    {
     "data": {
      "text/plain": [
       "0    0\n",
       "1    2\n",
       "2    7\n",
       "3    0\n",
       "dtype: int64"
      ]
     },
     "execution_count": 2,
     "metadata": {},
     "output_type": "execute_result"
    }
   ],
   "source": [
    "testCase_sr=pd.Series([0, 2, 7, 0])\n",
    "testCase_sr"
   ]
  },
  {
   "cell_type": "markdown",
   "metadata": {},
   "source": [
    "Much as I hate OO programming, I hate writing things which look like functions that alter lists even more, so I'll subclass `pd.Series` to make a `Debugger` class:"
   ]
  },
  {
   "cell_type": "code",
   "execution_count": 3,
   "metadata": {},
   "outputs": [
    {
     "name": "stdout",
     "output_type": "stream",
     "text": [
      "(2, 7)\n"
     ]
    },
    {
     "data": {
      "text/plain": [
       "0    2\n",
       "1    4\n",
       "2    1\n",
       "3    2\n",
       "dtype: int64"
      ]
     },
     "execution_count": 3,
     "metadata": {},
     "output_type": "execute_result"
    }
   ],
   "source": [
    "class Debugger(pd.Series):\n",
    "    def __init__(self, listIn):\n",
    "        super().__init__(listIn)\n",
    "        \n",
    "    def reallocate(self):\n",
    "        '''Reallocate values from the block with the largest value'''\n",
    "        # Find the index of the largest value:\n",
    "        maxVal_ix=self.argmax()\n",
    "        \n",
    "        # and the value itself\n",
    "        maxVal_i=self.max()\n",
    "        \n",
    "        # Set up an iterator on the index of the Series, \n",
    "        # starting at the item after maxVal_ix\n",
    "        idxCycler=it.dropwhile(lambda x: x!=maxVal_ix,\n",
    "                               it.cycle(self.index))\n",
    "        # Also, remove the value that's actually equal \n",
    "        next(idxCycler)\n",
    "\n",
    "        # Now set the maximum value to zero:\n",
    "        self[maxVal_ix]=0\n",
    "        \n",
    "        # And redistribute the value to the next maxVal_i blocks:\n",
    "        for i in range(maxVal_i):\n",
    "            self[next(idxCycler)]+=1\n",
    "        \n",
    "        return True\n",
    "        \n",
    "        \n",
    "\n",
    "u=Debugger([0,2,7,0])\n",
    "print((u.argmax(), u.max()))\n",
    "u.reallocate()\n",
    "u"
   ]
  },
  {
   "cell_type": "code",
   "execution_count": 4,
   "metadata": {},
   "outputs": [
    {
     "data": {
      "text/plain": [
       "0    3\n",
       "1    1\n",
       "2    2\n",
       "3    3\n",
       "dtype: int64"
      ]
     },
     "execution_count": 4,
     "metadata": {},
     "output_type": "execute_result"
    }
   ],
   "source": [
    "u.reallocate()\n",
    "u"
   ]
  },
  {
   "cell_type": "code",
   "execution_count": 5,
   "metadata": {},
   "outputs": [
    {
     "data": {
      "text/plain": [
       "0    0\n",
       "1    2\n",
       "2    3\n",
       "3    4\n",
       "dtype: int64"
      ]
     },
     "execution_count": 5,
     "metadata": {},
     "output_type": "execute_result"
    }
   ],
   "source": [
    "u.reallocate()\n",
    "u"
   ]
  },
  {
   "cell_type": "markdown",
   "metadata": {},
   "source": [
    "Seems to be working OK. So let's define a function to find the number of cycles before a repetition. For each visited state, I'll store it in a set as a tuple, `Debugger` instances being unhashable."
   ]
  },
  {
   "cell_type": "code",
   "execution_count": 6,
   "metadata": {
    "collapsed": true
   },
   "outputs": [],
   "source": [
    "def steps_until_repetition(listIn_ls):\n",
    "    '''Return the number of iterations before we see a repeated state'''\n",
    "    myCase_debug=Debugger(listIn_ls)\n",
    "    visitedStates_set=set()\n",
    "    \n",
    "    iterations_i=0\n",
    "    while tuple(myCase_debug) not in visitedStates_set:\n",
    "        visitedStates_set.add(tuple(myCase_debug))\n",
    "        myCase_debug.reallocate()\n",
    "        iterations_i += 1\n",
    "        \n",
    "    return iterations_i\n",
    "        "
   ]
  },
  {
   "cell_type": "code",
   "execution_count": 7,
   "metadata": {},
   "outputs": [],
   "source": [
    "assert steps_until_repetition([0, 2, 7, 0])==5"
   ]
  },
  {
   "cell_type": "markdown",
   "metadata": {},
   "source": [
    "Now try with the test case:"
   ]
  },
  {
   "cell_type": "code",
   "execution_count": 8,
   "metadata": {},
   "outputs": [
    {
     "data": {
      "text/plain": [
       "[0, 5, 10, 0, 11, 14, 13, 4, 11, 8, 8, 7, 1, 4, 12, 11]"
      ]
     },
     "execution_count": 8,
     "metadata": {},
     "output_type": "execute_result"
    }
   ],
   "source": [
    "with open('data/day6.txt') as fIn:\n",
    "    test_ls=[int(x) for x in fIn.read().split()]\n",
    "test_ls"
   ]
  },
  {
   "cell_type": "code",
   "execution_count": 9,
   "metadata": {},
   "outputs": [
    {
     "data": {
      "text/plain": [
       "7864"
      ]
     },
     "execution_count": 9,
     "metadata": {},
     "output_type": "execute_result"
    }
   ],
   "source": [
    "steps_until_repetition(test_ls)"
   ]
  }
 ],
 "metadata": {
  "kernelspec": {
   "display_name": "Python [conda root]",
   "language": "python",
   "name": "conda-root-py"
  },
  "language_info": {
   "codemirror_mode": {
    "name": "ipython",
    "version": 3
   },
   "file_extension": ".py",
   "mimetype": "text/x-python",
   "name": "python",
   "nbconvert_exporter": "python",
   "pygments_lexer": "ipython3",
   "version": "3.5.4"
  }
 },
 "nbformat": 4,
 "nbformat_minor": 2
}
