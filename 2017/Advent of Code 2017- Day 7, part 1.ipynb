{
 "cells": [
  {
   "cell_type": "markdown",
   "metadata": {},
   "source": [
    "Obviously I'll need to do rather more work in the next part, but there's an obvious (I think) hack here... just get the list of all disks, and see which one doesn't appear in a tower. Main problem is probably going to be parsing the input. Obviously, I'll want `re`:"
   ]
  },
  {
   "cell_type": "code",
   "execution_count": 1,
   "metadata": {
    "collapsed": true
   },
   "outputs": [],
   "source": [
    "import re"
   ]
  },
  {
   "cell_type": "markdown",
   "metadata": {},
   "source": [
    "So start with the example input:"
   ]
  },
  {
   "cell_type": "code",
   "execution_count": 2,
   "metadata": {
    "collapsed": true
   },
   "outputs": [],
   "source": [
    "input_str='''pbga (66)\n",
    "xhth (57)\n",
    "ebii (61)\n",
    "havc (66)\n",
    "ktlj (57)\n",
    "fwft (72) -> ktlj, cntj, xhth\n",
    "qoyq (66)\n",
    "padx (45) -> pbga, havc, qoyq\n",
    "tknk (41) -> ugml, padx, fwft\n",
    "jptl (61)\n",
    "ugml (68) -> gyxo, ebii, jptl\n",
    "gyxo (61)\n",
    "cntj (57)'''"
   ]
  },
  {
   "cell_type": "markdown",
   "metadata": {},
   "source": [
    "Let's go through each line: if it contains balancing information, add that to a set `supported_set`, and add any other cases to a set `disks_set`."
   ]
  },
  {
   "cell_type": "code",
   "execution_count": 3,
   "metadata": {},
   "outputs": [
    {
     "name": "stdout",
     "output_type": "stream",
     "text": [
      "{('ktlj', '57'), ('fwft', '72'), ('tknk', '41'), ('cntj', '57'), ('ugml', '68'), ('jptl', '61'), ('gyxo', '61'), ('ebii', '61'), ('pbga', '66'), ('padx', '45'), ('havc', '66'), ('xhth', '57'), ('qoyq', '66')}\n",
      "{'ugml', 'ktlj', 'gyxo', 'fwft', 'cntj', 'pbga', 'havc', 'qoyq', 'jptl', 'ebii', 'padx', 'xhth'}\n"
     ]
    }
   ],
   "source": [
    "disks_set=set()\n",
    "supported_set=set()\n",
    "\n",
    "for nextLine_str in input_str.split('\\n'):\n",
    "    if '->' in nextLine_str:\n",
    "        m_re=re.match('\\s*(?P<name>\\w+) \\((?P<weight>\\d+)\\) ->(?P<rest>.*)', nextLine_str)\n",
    "        \n",
    "        disks_set.add((m_re.group('name'), m_re.group('weight')))\n",
    "        supported_set=supported_set.union(set([disk.strip() for disk in m_re.group('rest').split(',')]))\n",
    "    else:\n",
    "        m_re=re.match('\\s*(?P<name>\\w+) \\((?P<weight>\\d+)\\)', nextLine_str)\n",
    "        \n",
    "        disks_set.add((m_re.group('name'), m_re.group('weight')))\n",
    "        \n",
    "print(disks_set)\n",
    "print(supported_set)"
   ]
  },
  {
   "cell_type": "markdown",
   "metadata": {},
   "source": [
    "And now find the disk which isn't in `supported_set`:"
   ]
  },
  {
   "cell_type": "code",
   "execution_count": 4,
   "metadata": {
    "collapsed": true
   },
   "outputs": [],
   "source": [
    "baseDisk_str=({s[0] for s in disks_set}-supported_set).pop()\n",
    "assert baseDisk_str=='tknk'"
   ]
  },
  {
   "cell_type": "markdown",
   "metadata": {},
   "source": [
    "OK, now try with the test case:"
   ]
  },
  {
   "cell_type": "code",
   "execution_count": 5,
   "metadata": {
    "collapsed": true
   },
   "outputs": [],
   "source": [
    "with open('data/day7.txt') as fIn:\n",
    "    input_str=fIn.read()"
   ]
  },
  {
   "cell_type": "code",
   "execution_count": 6,
   "metadata": {},
   "outputs": [
    {
     "data": {
      "text/plain": [
       "'hlhomy'"
      ]
     },
     "execution_count": 6,
     "metadata": {},
     "output_type": "execute_result"
    }
   ],
   "source": [
    "disks_set=set()\n",
    "supported_set=set()\n",
    "\n",
    "for nextLine_str in input_str.split('\\n'):\n",
    "    if '->' in nextLine_str:\n",
    "        m_re=re.match('\\s*(?P<name>\\w+) \\((?P<weight>\\d+)\\) ->(?P<rest>.*)', nextLine_str)\n",
    "        \n",
    "        disks_set.add((m_re.group('name'), m_re.group('weight')))\n",
    "        supported_set=supported_set.union(set([disk.strip() for disk in m_re.group('rest').split(',')]))\n",
    "    else:\n",
    "        m_re=re.match('\\s*(?P<name>\\w+) \\((?P<weight>\\d+)\\)', nextLine_str)\n",
    "        if m_re:\n",
    "            disks_set.add((m_re.group('name'), m_re.group('weight')))\n",
    "        \n",
    "baseDisk_str=({s[0] for s in disks_set}-supported_set).pop()\n",
    "baseDisk_str"
   ]
  }
 ],
 "metadata": {
  "kernelspec": {
   "display_name": "Python [conda root]",
   "language": "python",
   "name": "conda-root-py"
  },
  "language_info": {
   "codemirror_mode": {
    "name": "ipython",
    "version": 3
   },
   "file_extension": ".py",
   "mimetype": "text/x-python",
   "name": "python",
   "nbconvert_exporter": "python",
   "pygments_lexer": "ipython3",
   "version": "3.5.4"
  }
 },
 "nbformat": 4,
 "nbformat_minor": 2
}
