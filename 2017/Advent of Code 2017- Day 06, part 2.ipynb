{
 "cells": [
  {
   "cell_type": "markdown",
   "metadata": {},
   "source": [
    "This task should be fairly straightforward, but makes a mockery of my decision to use a set rather than a list to store the visited states."
   ]
  },
  {
   "cell_type": "markdown",
   "metadata": {},
   "source": [
    "Get the various definitions from the previous notebook:"
   ]
  },
  {
   "cell_type": "code",
   "execution_count": 1,
   "metadata": {
    "collapsed": true
   },
   "outputs": [],
   "source": [
    "import pandas as pd\n",
    "\n",
    "import itertools as it"
   ]
  },
  {
   "cell_type": "code",
   "execution_count": 2,
   "metadata": {},
   "outputs": [
    {
     "name": "stdout",
     "output_type": "stream",
     "text": [
      "(2, 7)\n"
     ]
    },
    {
     "data": {
      "text/plain": [
       "0    2\n",
       "1    4\n",
       "2    1\n",
       "3    2\n",
       "dtype: int64"
      ]
     },
     "execution_count": 2,
     "metadata": {},
     "output_type": "execute_result"
    }
   ],
   "source": [
    "class Debugger(pd.Series):\n",
    "    def __init__(self, listIn):\n",
    "        super().__init__(listIn)\n",
    "        \n",
    "    def reallocate(self):\n",
    "        '''Reallocate values from the block with the largest value'''\n",
    "        # Find the index of the largest value:\n",
    "        maxVal_ix=self.argmax()\n",
    "        \n",
    "        # and the value itself\n",
    "        maxVal_i=self.max()\n",
    "        \n",
    "        # Set up an iterator on the index of the Series, \n",
    "        # starting at the item after maxVal_ix\n",
    "        idxCycler=it.dropwhile(lambda x: x!=maxVal_ix,\n",
    "                               it.cycle(self.index))\n",
    "        # Also, remove the value that's actually equal \n",
    "        next(idxCycler)\n",
    "\n",
    "        # Now set the maximum value to zero:\n",
    "        self[maxVal_ix]=0\n",
    "        \n",
    "        # And redistribute the value to the next maxVal_i blocks:\n",
    "        for i in range(maxVal_i):\n",
    "            self[next(idxCycler)]+=1\n",
    "        \n",
    "        return True\n",
    "        \n",
    "        \n",
    "\n",
    "u=Debugger([0,2,7,0])\n",
    "print((u.argmax(), u.max()))\n",
    "u.reallocate()\n",
    "u"
   ]
  },
  {
   "cell_type": "markdown",
   "metadata": {},
   "source": [
    "Now, rather than store the visited states in a set, we can store them in a list. When we hit the repetition point, then return the difference between the current state's index and the previously visited state's index."
   ]
  },
  {
   "cell_type": "code",
   "execution_count": 3,
   "metadata": {
    "collapsed": true
   },
   "outputs": [],
   "source": [
    "def size_of_loop(listIn_ls):\n",
    "    '''Return the number of iterations between repeated states'''\n",
    "    myCase_debug=Debugger(listIn_ls)\n",
    "    visitedStates_ls=[]\n",
    "    \n",
    "    iterations_i=0\n",
    "    while tuple(myCase_debug) not in visitedStates_ls:\n",
    "        visitedStates_ls.append(tuple(myCase_debug))\n",
    "        myCase_debug.reallocate()\n",
    "        iterations_i += 1\n",
    "        \n",
    "    return iterations_i-visitedStates_ls.index(tuple(myCase_debug))\n",
    "        "
   ]
  },
  {
   "cell_type": "code",
   "execution_count": 4,
   "metadata": {},
   "outputs": [],
   "source": [
    "assert size_of_loop([0, 2, 7, 0])==4"
   ]
  },
  {
   "cell_type": "markdown",
   "metadata": {},
   "source": [
    "Now try with the test case:"
   ]
  },
  {
   "cell_type": "code",
   "execution_count": 5,
   "metadata": {},
   "outputs": [
    {
     "data": {
      "text/plain": [
       "[0, 5, 10, 0, 11, 14, 13, 4, 11, 8, 8, 7, 1, 4, 12, 11]"
      ]
     },
     "execution_count": 5,
     "metadata": {},
     "output_type": "execute_result"
    }
   ],
   "source": [
    "with open('data/day6.txt') as fIn:\n",
    "    test_ls=[int(x) for x in fIn.read().split()]\n",
    "test_ls"
   ]
  },
  {
   "cell_type": "code",
   "execution_count": 6,
   "metadata": {},
   "outputs": [
    {
     "data": {
      "text/plain": [
       "1695"
      ]
     },
     "execution_count": 6,
     "metadata": {},
     "output_type": "execute_result"
    }
   ],
   "source": [
    "size_of_loop(test_ls)"
   ]
  }
 ],
 "metadata": {
  "kernelspec": {
   "display_name": "Python [conda root]",
   "language": "python",
   "name": "conda-root-py"
  },
  "language_info": {
   "codemirror_mode": {
    "name": "ipython",
    "version": 3
   },
   "file_extension": ".py",
   "mimetype": "text/x-python",
   "name": "python",
   "nbconvert_exporter": "python",
   "pygments_lexer": "ipython3",
   "version": "3.5.4"
  }
 },
 "nbformat": 4,
 "nbformat_minor": 2
}
