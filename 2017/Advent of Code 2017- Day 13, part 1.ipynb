{
 "cells": [
  {
   "cell_type": "markdown",
   "metadata": {},
   "source": [
    "Let's represent the firewall as a list of cycles. For empty spaces, we can have a cycle of -1."
   ]
  },
  {
   "cell_type": "code",
   "execution_count": 1,
   "metadata": {
    "collapsed": true
   },
   "outputs": [],
   "source": [
    "import itertools as it\n",
    "import re\n"
   ]
  },
  {
   "cell_type": "markdown",
   "metadata": {},
   "source": [
    "First parse the input:"
   ]
  },
  {
   "cell_type": "code",
   "execution_count": 2,
   "metadata": {
    "collapsed": true
   },
   "outputs": [],
   "source": [
    "testInput_str='''\n",
    "0: 3\n",
    "1: 2\n",
    "4: 4\n",
    "6: 4\n",
    "'''"
   ]
  },
  {
   "cell_type": "code",
   "execution_count": 3,
   "metadata": {},
   "outputs": [
    {
     "data": {
      "text/plain": [
       "{0: 3, 1: 2, 4: 4, 6: 4}"
      ]
     },
     "execution_count": 3,
     "metadata": {},
     "output_type": "execute_result"
    }
   ],
   "source": [
    "testInput_dict={int(nl.split(':')[0].strip()): int(nl.split(':')[1].strip())\n",
    "                for nl in testInput_str.split('\\n') if len(nl.split(':'))==2}\n",
    "testInput_dict"
   ]
  },
  {
   "cell_type": "markdown",
   "metadata": {},
   "source": [
    "Now, for each scanner, want a cycle that goes forward and backward over the length of the range:"
   ]
  },
  {
   "cell_type": "code",
   "execution_count": 4,
   "metadata": {},
   "outputs": [
    {
     "data": {
      "text/plain": [
       "[0, 1, 2, 3, 2, 1, 0, 1, 2, 3, 2, 1, 0, 1, 2, 3, 2, 1, 0, 1]"
      ]
     },
     "execution_count": 4,
     "metadata": {},
     "output_type": "execute_result"
    }
   ],
   "source": [
    "def make_scanner(range_i):\n",
    "    '''Returns a cycling iterator over the range\n",
    "       of the scanner.\n",
    "    '''\n",
    "    # Don't know if this can take a value of 1\n",
    "    assert range_i != 1\n",
    "    # And it can't take a negative value:\n",
    "    assert range_i>=0\n",
    "    \n",
    "    # If range_i is zero, return a cycle of -1\n",
    "    if range_i==0:\n",
    "        return it.cycle([-1])\n",
    "    \n",
    "    else:\n",
    "        scannerPathBackward_ls=list(range(range_i))[1:-1]\n",
    "        scannerPathBackward_ls.reverse()\n",
    "        return it.cycle(list(range(range_i))+scannerPathBackward_ls)\n",
    "\n",
    "list(it.islice(make_scanner(4), 20))"
   ]
  },
  {
   "cell_type": "markdown",
   "metadata": {},
   "source": [
    "and now we can represent the firewall as a list of the scanners:"
   ]
  },
  {
   "cell_type": "code",
   "execution_count": 5,
   "metadata": {},
   "outputs": [
    {
     "data": {
      "text/plain": [
       "[<itertools.cycle at 0x106459870>,\n",
       " <itertools.cycle at 0x1064633f0>,\n",
       " <itertools.cycle at 0x106463438>,\n",
       " <itertools.cycle at 0x106463480>,\n",
       " <itertools.cycle at 0x1064634c8>,\n",
       " <itertools.cycle at 0x106463510>,\n",
       " <itertools.cycle at 0x106463558>]"
      ]
     },
     "execution_count": 5,
     "metadata": {},
     "output_type": "execute_result"
    }
   ],
   "source": [
    "scanners_ls=[make_scanner(testInput_dict.get(i, 0)) for i in range(max(testInput_dict)+1)]\n",
    "\n",
    "scanners_ls\n",
    "                          "
   ]
  },
  {
   "cell_type": "markdown",
   "metadata": {},
   "source": [
    "Now, to construct the whole firewall, we can construct a zip of all the scanners. So for the test case, we'll have:"
   ]
  },
  {
   "cell_type": "code",
   "execution_count": 6,
   "metadata": {
    "collapsed": true
   },
   "outputs": [],
   "source": [
    "firewall_zip=zip(*scanners_ls)"
   ]
  },
  {
   "cell_type": "markdown",
   "metadata": {},
   "source": [
    "and we can represent the state by a pair of the current location of the packet and the scanners. We can use the first argument to limit the states counted:"
   ]
  },
  {
   "cell_type": "code",
   "execution_count": 7,
   "metadata": {
    "collapsed": true
   },
   "outputs": [],
   "source": [
    "state_zip=zip(range(max(testInput_dict)+1), firewall_zip)"
   ]
  },
  {
   "cell_type": "markdown",
   "metadata": {},
   "source": [
    "Now we can calculate the severity of each stage. We'll need to pass the input information, to get the range. "
   ]
  },
  {
   "cell_type": "code",
   "execution_count": 8,
   "metadata": {
    "collapsed": true
   },
   "outputs": [],
   "source": [
    "def severity(stateIn, input_dict):\n",
    "    '''\n",
    "    Return the severity of the current position, given an\n",
    "    input state and the input list\n",
    "    '''\n",
    "    packetPos_i=stateIn[0]\n",
    "    firewallState_ls=stateIn[1]\n",
    "    if firewallState_ls[packetPos_i]==0:\n",
    "        return packetPos_i*input_dict[packetPos_i]\n",
    "    else:\n",
    "        return 0"
   ]
  },
  {
   "cell_type": "code",
   "execution_count": 9,
   "metadata": {},
   "outputs": [
    {
     "data": {
      "text/plain": [
       "[0, 0, 0, 0, 0, 0, 24]"
      ]
     },
     "execution_count": 9,
     "metadata": {},
     "output_type": "execute_result"
    }
   ],
   "source": [
    "[severity(s, testInput_dict) for s in state_zip]"
   ]
  },
  {
   "cell_type": "markdown",
   "metadata": {},
   "source": [
    "Good. So the final output is the sum of the severities:"
   ]
  },
  {
   "cell_type": "code",
   "execution_count": 10,
   "metadata": {},
   "outputs": [
    {
     "data": {
      "text/plain": [
       "24"
      ]
     },
     "execution_count": 10,
     "metadata": {},
     "output_type": "execute_result"
    }
   ],
   "source": [
    "sum(_)"
   ]
  },
  {
   "cell_type": "markdown",
   "metadata": {},
   "source": [
    "Now do it with the puzzle input:"
   ]
  },
  {
   "cell_type": "code",
   "execution_count": 11,
   "metadata": {
    "collapsed": true
   },
   "outputs": [],
   "source": [
    "with open('data/day13.txt') as fIn:\n",
    "    puzzleInput_str=fIn.read()"
   ]
  },
  {
   "cell_type": "code",
   "execution_count": 12,
   "metadata": {},
   "outputs": [
    {
     "data": {
      "text/plain": [
       "{0: 5,\n",
       " 1: 2,\n",
       " 2: 3,\n",
       " 4: 4,\n",
       " 6: 6,\n",
       " 8: 4,\n",
       " 10: 8,\n",
       " 12: 6,\n",
       " 14: 6,\n",
       " 16: 14,\n",
       " 18: 6,\n",
       " 20: 8,\n",
       " 22: 8,\n",
       " 24: 10,\n",
       " 26: 8,\n",
       " 28: 8,\n",
       " 30: 10,\n",
       " 32: 8,\n",
       " 34: 12,\n",
       " 36: 9,\n",
       " 38: 20,\n",
       " 40: 12,\n",
       " 42: 12,\n",
       " 44: 12,\n",
       " 46: 12,\n",
       " 48: 12,\n",
       " 50: 12,\n",
       " 52: 12,\n",
       " 54: 12,\n",
       " 56: 14,\n",
       " 58: 14,\n",
       " 60: 14,\n",
       " 62: 20,\n",
       " 64: 14,\n",
       " 66: 14,\n",
       " 70: 14,\n",
       " 72: 14,\n",
       " 74: 14,\n",
       " 76: 14,\n",
       " 78: 14,\n",
       " 80: 12,\n",
       " 90: 30,\n",
       " 92: 17,\n",
       " 94: 18}"
      ]
     },
     "execution_count": 12,
     "metadata": {},
     "output_type": "execute_result"
    }
   ],
   "source": [
    "puzzleInput_dict={int(nl.split(':')[0].strip()): int(nl.split(':')[1].strip())\n",
    "                  for nl in puzzleInput_str.split('\\n') if len(nl.split(':'))==2}\n",
    "puzzleInput_dict"
   ]
  },
  {
   "cell_type": "code",
   "execution_count": null,
   "metadata": {
    "collapsed": true
   },
   "outputs": [],
   "source": []
  },
  {
   "cell_type": "code",
   "execution_count": 13,
   "metadata": {},
   "outputs": [
    {
     "data": {
      "text/plain": [
       "<zip at 0x10646eb88>"
      ]
     },
     "execution_count": 13,
     "metadata": {},
     "output_type": "execute_result"
    }
   ],
   "source": [
    "scanners_ls=[make_scanner(puzzleInput_dict.get(i, 0)) for i in range(max(puzzleInput_dict)+1)]\n",
    "\n",
    "state_zip=zip(range(max(puzzleInput_dict)+1), zip(*scanners_ls))\n",
    "\n",
    "state_zip"
   ]
  },
  {
   "cell_type": "code",
   "execution_count": 14,
   "metadata": {},
   "outputs": [
    {
     "data": {
      "text/plain": [
       "[0,\n",
       " 0,\n",
       " 0,\n",
       " 0,\n",
       " 0,\n",
       " 0,\n",
       " 0,\n",
       " 0,\n",
       " 0,\n",
       " 0,\n",
       " 0,\n",
       " 0,\n",
       " 0,\n",
       " 0,\n",
       " 0,\n",
       " 0,\n",
       " 0,\n",
       " 0,\n",
       " 0,\n",
       " 0,\n",
       " 0,\n",
       " 0,\n",
       " 0,\n",
       " 0,\n",
       " 0,\n",
       " 0,\n",
       " 0,\n",
       " 0,\n",
       " 224,\n",
       " 0,\n",
       " 0,\n",
       " 0,\n",
       " 0,\n",
       " 0,\n",
       " 0,\n",
       " 0,\n",
       " 0,\n",
       " 0,\n",
       " 760,\n",
       " 0,\n",
       " 0,\n",
       " 0,\n",
       " 0,\n",
       " 0,\n",
       " 528,\n",
       " 0,\n",
       " 0,\n",
       " 0,\n",
       " 0,\n",
       " 0,\n",
       " 0,\n",
       " 0,\n",
       " 0,\n",
       " 0,\n",
       " 0,\n",
       " 0,\n",
       " 0,\n",
       " 0,\n",
       " 0,\n",
       " 0,\n",
       " 0,\n",
       " 0,\n",
       " 0,\n",
       " 0,\n",
       " 0,\n",
       " 0,\n",
       " 0,\n",
       " 0,\n",
       " 0,\n",
       " 0,\n",
       " 0,\n",
       " 0,\n",
       " 0,\n",
       " 0,\n",
       " 0,\n",
       " 0,\n",
       " 0,\n",
       " 0,\n",
       " 1092,\n",
       " 0,\n",
       " 0,\n",
       " 0,\n",
       " 0,\n",
       " 0,\n",
       " 0,\n",
       " 0,\n",
       " 0,\n",
       " 0,\n",
       " 0,\n",
       " 0,\n",
       " 0,\n",
       " 0,\n",
       " 0,\n",
       " 0,\n",
       " 0]"
      ]
     },
     "execution_count": 14,
     "metadata": {},
     "output_type": "execute_result"
    }
   ],
   "source": [
    "severity_ls=[severity(s, puzzleInput_dict) for s in state_zip]\n",
    "severity_ls"
   ]
  },
  {
   "cell_type": "code",
   "execution_count": 15,
   "metadata": {},
   "outputs": [
    {
     "data": {
      "text/plain": [
       "2604"
      ]
     },
     "execution_count": 15,
     "metadata": {},
     "output_type": "execute_result"
    }
   ],
   "source": [
    "sum(severity_ls)"
   ]
  },
  {
   "cell_type": "code",
   "execution_count": null,
   "metadata": {
    "collapsed": true
   },
   "outputs": [],
   "source": []
  }
 ],
 "metadata": {
  "kernelspec": {
   "display_name": "Python 3",
   "language": "python",
   "name": "python3"
  },
  "language_info": {
   "codemirror_mode": {
    "name": "ipython",
    "version": 3
   },
   "file_extension": ".py",
   "mimetype": "text/x-python",
   "name": "python",
   "nbconvert_exporter": "python",
   "pygments_lexer": "ipython3",
   "version": "3.6.1"
  }
 },
 "nbformat": 4,
 "nbformat_minor": 2
}
