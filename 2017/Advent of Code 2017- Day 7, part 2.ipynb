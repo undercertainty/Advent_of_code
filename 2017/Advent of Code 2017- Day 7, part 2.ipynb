{
 "cells": [
  {
   "cell_type": "markdown",
   "metadata": {},
   "source": [
    "So for part 2, we should also find the weight that each disk supports. So we'll want some new structures, let's use `dict`s, which implement the tree structures, and the weight distributions.\n",
    "\n",
    "Let's start off by creating a tree that represents just the structure of the tower; we can worry about the weights after:"
   ]
  },
  {
   "cell_type": "code",
   "execution_count": 1,
   "metadata": {
    "collapsed": true
   },
   "outputs": [],
   "source": [
    "import re"
   ]
  },
  {
   "cell_type": "markdown",
   "metadata": {},
   "source": [
    "Start with the example input again:"
   ]
  },
  {
   "cell_type": "code",
   "execution_count": 2,
   "metadata": {
    "collapsed": true
   },
   "outputs": [],
   "source": [
    "input_str='''pbga (66)\n",
    "xhth (57)\n",
    "ebii (61)\n",
    "havc (66)\n",
    "ktlj (57)\n",
    "fwft (72) -> ktlj, cntj, xhth\n",
    "qoyq (66)\n",
    "padx (45) -> pbga, havc, qoyq\n",
    "tknk (41) -> ugml, padx, fwft\n",
    "jptl (61)\n",
    "ugml (68) -> gyxo, ebii, jptl\n",
    "gyxo (61)\n",
    "cntj (57)'''"
   ]
  },
  {
   "cell_type": "markdown",
   "metadata": {},
   "source": [
    "Let's go through each line: if it contains balancing information, add that to a set `supported_set`, and add any other cases to a set `disks_set`."
   ]
  },
  {
   "cell_type": "markdown",
   "metadata": {},
   "source": [
    "This time, rather than simply adding to a set `supported_set`, let's use a dict which implements the tree structure of the tower. I'm also changing the disks representation, so that we store the weight, and eventually, the total supported weight:"
   ]
  },
  {
   "cell_type": "code",
   "execution_count": 3,
   "metadata": {},
   "outputs": [
    {
     "name": "stdout",
     "output_type": "stream",
     "text": [
      "{'pbga': {'weight': 66}, 'havc': {'weight': 66}, 'cntj': {'weight': 57}, 'xhth': {'weight': 57}, 'padx': {'weight': 45, 'supporting': {'pbga', 'qoyq', 'havc'}}, 'fwft': {'weight': 72, 'supporting': {'cntj', 'ktlj', 'xhth'}}, 'ugml': {'weight': 68, 'supporting': {'gyxo', 'jptl', 'ebii'}}, 'qoyq': {'weight': 66}, 'ktlj': {'weight': 57}, 'tknk': {'weight': 41, 'supporting': {'ugml', 'fwft', 'padx'}}, 'gyxo': {'weight': 61}, 'jptl': {'weight': 61}, 'ebii': {'weight': 61}}\n"
     ]
    }
   ],
   "source": [
    "disks_dict={}\n",
    "\n",
    "for nextLine_str in input_str.split('\\n'):\n",
    "    if '->' in nextLine_str:\n",
    "        m_re=re.match('\\s*(?P<name>\\w+) \\((?P<weight>\\d+)\\) ->(?P<rest>.*)', nextLine_str)\n",
    "        \n",
    "        disks_dict[m_re.group('name')]={'weight':int(m_re.group('weight')),\n",
    "                                        'supporting':{disk.strip() for disk in m_re.group('rest').split(',')}}\n",
    "    else:\n",
    "        m_re=re.match('\\s*(?P<name>\\w+) \\((?P<weight>\\d+)\\)', nextLine_str)\n",
    "        \n",
    "        disks_dict[m_re.group('name')]={'weight':int(m_re.group('weight'))}\n",
    "print(disks_dict)\n"
   ]
  },
  {
   "cell_type": "markdown",
   "metadata": {},
   "source": [
    "And now find the disk which isn't in one of the `supporting` sets:"
   ]
  },
  {
   "cell_type": "code",
   "execution_count": 4,
   "metadata": {},
   "outputs": [
    {
     "data": {
      "text/plain": [
       "'tknk'"
      ]
     },
     "execution_count": 4,
     "metadata": {},
     "output_type": "execute_result"
    }
   ],
   "source": [
    "nonRoot_set=set()\n",
    "for vals in disks_dict.values():\n",
    "    nonRoot_set=nonRoot_set.union(vals.get('supporting', {}))\n",
    "nonRoot_set\n",
    "\n",
    "rootDisk_str=(set(disk for disk in disks_dict)-nonRoot_set).pop()\n",
    "rootDisk_str"
   ]
  },
  {
   "cell_type": "markdown",
   "metadata": {},
   "source": [
    "Now build the total weight (own weight + supported weights) recursively:"
   ]
  },
  {
   "cell_type": "code",
   "execution_count": 5,
   "metadata": {},
   "outputs": [
    {
     "name": "stdout",
     "output_type": "stream",
     "text": [
      "778\n",
      "\n"
     ]
    },
    {
     "data": {
      "text/plain": [
       "{'cntj': {'totalWeight': 57, 'weight': 57},\n",
       " 'ebii': {'totalWeight': 61, 'weight': 61},\n",
       " 'fwft': {'supporting': {'cntj', 'ktlj', 'xhth'},\n",
       "  'totalWeight': 243,\n",
       "  'weight': 72},\n",
       " 'gyxo': {'totalWeight': 61, 'weight': 61},\n",
       " 'havc': {'totalWeight': 66, 'weight': 66},\n",
       " 'jptl': {'totalWeight': 61, 'weight': 61},\n",
       " 'ktlj': {'totalWeight': 57, 'weight': 57},\n",
       " 'padx': {'supporting': {'havc', 'pbga', 'qoyq'},\n",
       "  'totalWeight': 243,\n",
       "  'weight': 45},\n",
       " 'pbga': {'totalWeight': 66, 'weight': 66},\n",
       " 'qoyq': {'totalWeight': 66, 'weight': 66},\n",
       " 'tknk': {'supporting': {'fwft', 'padx', 'ugml'},\n",
       "  'totalWeight': 778,\n",
       "  'weight': 41},\n",
       " 'ugml': {'supporting': {'ebii', 'gyxo', 'jptl'},\n",
       "  'totalWeight': 251,\n",
       "  'weight': 68},\n",
       " 'xhth': {'totalWeight': 57, 'weight': 57}}"
      ]
     },
     "execution_count": 5,
     "metadata": {},
     "output_type": "execute_result"
    }
   ],
   "source": [
    "def set_total_weights(startDisk_str, disksIn_dict):\n",
    "    '''\n",
    "    Find the total weight supported (including itself) by each\n",
    "    disk in the tower. Update disksIn_ls with those weights.\n",
    "    \n",
    "    Returns the total weight on startDisk_str\n",
    "    '''\n",
    "    \n",
    "    # If the disk is not supporting any other disks:\n",
    "    if 'supporting' not in disksIn_dict[startDisk_str]:\n",
    "        # Set the totalWeight to the disk's own weight, and\n",
    "        # return that value\n",
    "        disksIn_dict[startDisk_str]['totalWeight']=disksIn_dict[startDisk_str]['weight']\n",
    "        return disksIn_dict[startDisk_str]['totalWeight']\n",
    "    \n",
    "    # Otherwise, build the total weights from the start\n",
    "    # disk recursively:\n",
    "    else:\n",
    "        disksIn_dict[startDisk_str]['totalWeight'] = \\\n",
    "            sum([set_total_weights(d, disksIn_dict) \n",
    "                 for d in disksIn_dict[startDisk_str]['supporting']]) + \\\n",
    "            disksIn_dict[startDisk_str]['weight']\n",
    "        return disksIn_dict[startDisk_str]['totalWeight']\n",
    "        \n",
    "\n",
    "print(set_total_weights('tknk', disks_dict))\n",
    "print()\n",
    "disks_dict\n"
   ]
  },
  {
   "cell_type": "markdown",
   "metadata": {
    "collapsed": true
   },
   "source": [
    "So we seem to be building the tower correctly. Now we need to owrk out which is the incorrect weight."
   ]
  },
  {
   "cell_type": "code",
   "execution_count": null,
   "metadata": {
    "collapsed": true
   },
   "outputs": [],
   "source": []
  },
  {
   "cell_type": "code",
   "execution_count": 7,
   "metadata": {},
   "outputs": [
    {
     "data": {
      "text/plain": [
       "[57, 57, 57]"
      ]
     },
     "execution_count": 7,
     "metadata": {},
     "output_type": "execute_result"
    }
   ],
   "source": [
    "disksIn_dict=disks_dict\n",
    "startDisk_str='fwft'\n",
    "\n",
    "[set_total_weights(d, disksIn_dict) for d in disksIn_dict[startDisk_str]['supporting']]"
   ]
  },
  {
   "cell_type": "code",
   "execution_count": null,
   "metadata": {
    "collapsed": true
   },
   "outputs": [],
   "source": []
  },
  {
   "cell_type": "code",
   "execution_count": null,
   "metadata": {
    "collapsed": true
   },
   "outputs": [],
   "source": []
  },
  {
   "cell_type": "markdown",
   "metadata": {},
   "source": [
    "OK, now try with the test case:"
   ]
  },
  {
   "cell_type": "code",
   "execution_count": 8,
   "metadata": {
    "collapsed": true
   },
   "outputs": [],
   "source": [
    "with open('data/day7.txt') as fIn:\n",
    "    input_str=fIn.read()"
   ]
  },
  {
   "cell_type": "code",
   "execution_count": 9,
   "metadata": {},
   "outputs": [
    {
     "data": {
      "text/plain": [
       "'hlhomy'"
      ]
     },
     "execution_count": 9,
     "metadata": {},
     "output_type": "execute_result"
    }
   ],
   "source": [
    "disks_set=set()\n",
    "supported_set=set()\n",
    "\n",
    "for nextLine_str in input_str.split('\\n'):\n",
    "    if '->' in nextLine_str:\n",
    "        m_re=re.match('\\s*(?P<name>\\w+) \\((?P<weight>\\d+)\\) ->(?P<rest>.*)', nextLine_str)\n",
    "        \n",
    "        disks_set.add((m_re.group('name'), m_re.group('weight')))\n",
    "        supported_set=supported_set.union(set([disk.strip() for disk in m_re.group('rest').split(',')]))\n",
    "    else:\n",
    "        m_re=re.match('\\s*(?P<name>\\w+) \\((?P<weight>\\d+)\\)', nextLine_str)\n",
    "        if m_re:\n",
    "            disks_set.add((m_re.group('name'), m_re.group('weight')))\n",
    "        \n",
    "baseDisk_str=({s[0] for s in disks_set}-supported_set).pop()\n",
    "baseDisk_str"
   ]
  }
 ],
 "metadata": {
  "kernelspec": {
   "display_name": "Python [conda root]",
   "language": "python",
   "name": "conda-root-py"
  },
  "language_info": {
   "codemirror_mode": {
    "name": "ipython",
    "version": 3
   },
   "file_extension": ".py",
   "mimetype": "text/x-python",
   "name": "python",
   "nbconvert_exporter": "python",
   "pygments_lexer": "ipython3",
   "version": "3.5.4"
  }
 },
 "nbformat": 4,
 "nbformat_minor": 2
}
