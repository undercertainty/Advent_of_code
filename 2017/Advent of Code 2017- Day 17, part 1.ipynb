{
 "cells": [
  {
   "cell_type": "markdown",
   "metadata": {},
   "source": [
    "Looks like another job for `itertools.cycle`..."
   ]
  },
  {
   "cell_type": "code",
   "execution_count": 1,
   "metadata": {
    "collapsed": true
   },
   "outputs": [],
   "source": [
    "import itertools as it"
   ]
  },
  {
   "cell_type": "markdown",
   "metadata": {},
   "source": [
    "I think the way to approach this is to take a slice of the cycle of length $n$, where we are on the $nth$ step, and create a new cycle, starting with $n$. That is:"
   ]
  },
  {
   "cell_type": "code",
   "execution_count": 2,
   "metadata": {
    "collapsed": true
   },
   "outputs": [],
   "source": [
    "testStepSize_i=3"
   ]
  },
  {
   "cell_type": "code",
   "execution_count": 3,
   "metadata": {},
   "outputs": [
    {
     "name": "stdout",
     "output_type": "stream",
     "text": [
      "[1, 0]\n"
     ]
    }
   ],
   "source": [
    "# Initial cycle\n",
    "spinlock_cyc=it.cycle([0])\n",
    "n=0\n",
    "\n",
    "# Step forward the given number of steps:\n",
    "# (actually needs to be testStepSize_i+1, \n",
    "# because we need to consume the first element\n",
    "# before moving on)\n",
    "for i in range(testStepSize_i+1):\n",
    "    next(spinlock_cyc)\n",
    "\n",
    "# Increase n, take an n-sized slice, and create\n",
    "# a new cycle with n as the first element\n",
    "n+=1\n",
    "\n",
    "# I'm getting some weird behaviour, so let's do this\n",
    "# step-by-step\n",
    "newCycle_ls=[n]+list(it.islice(spinlock_cyc, 0, n))\n",
    "print(newCycle_ls)\n",
    "\n",
    "spinlock_cyc=it.cycle(newCycle_ls)"
   ]
  },
  {
   "cell_type": "markdown",
   "metadata": {},
   "source": [
    "Now, if everything's gone according to plan, the first four elements of the cycle should be [1,0,1,0]"
   ]
  },
  {
   "cell_type": "code",
   "execution_count": 4,
   "metadata": {},
   "outputs": [],
   "source": [
    "assert list(it.islice(spinlock_cyc, 0, 4))==[1,0,1,0]"
   ]
  },
  {
   "cell_type": "markdown",
   "metadata": {},
   "source": [
    "OK, that's working now."
   ]
  },
  {
   "cell_type": "markdown",
   "metadata": {},
   "source": [
    "So for the second cycle, we want the same:"
   ]
  },
  {
   "cell_type": "code",
   "execution_count": 5,
   "metadata": {},
   "outputs": [
    {
     "name": "stdout",
     "output_type": "stream",
     "text": [
      "[2, 1, 0]\n"
     ]
    }
   ],
   "source": [
    "# Step forward the given number of steps:\n",
    "for i in range(testStepSize_i+1):\n",
    "    next(spinlock_cyc)\n",
    "\n",
    "# Increase n, take an n-sized slice, and create\n",
    "# a new cycle with n as the first element\n",
    "n+=1\n",
    "\n",
    "newCycle_ls=[n]+list(it.islice(spinlock_cyc, 0, n))\n",
    "print(newCycle_ls)\n",
    "\n",
    "spinlock_cyc=it.cycle(newCycle_ls)"
   ]
  },
  {
   "cell_type": "markdown",
   "metadata": {},
   "source": [
    "[2,1,0] is right. A third time should print [3,1,0,2]:"
   ]
  },
  {
   "cell_type": "code",
   "execution_count": 6,
   "metadata": {},
   "outputs": [
    {
     "name": "stdout",
     "output_type": "stream",
     "text": [
      "[3, 1, 0, 2]\n"
     ]
    }
   ],
   "source": [
    "# Step forward the given number of steps:\n",
    "for i in range(testStepSize_i+1):\n",
    "    next(spinlock_cyc)\n",
    "\n",
    "# Increase n, take an n-sized slice, and create\n",
    "# a new cycle with n as the first element\n",
    "n+=1\n",
    "\n",
    "newCycle_ls=[n]+list(it.islice(spinlock_cyc, 0, n))\n",
    "print(newCycle_ls)\n",
    "\n",
    "spinlock_cyc=it.cycle(newCycle_ls)"
   ]
  },
  {
   "cell_type": "markdown",
   "metadata": {},
   "source": [
    "Good. Let's define a function to return the spinlock after a given number of iterations:"
   ]
  },
  {
   "cell_type": "code",
   "execution_count": 7,
   "metadata": {
    "collapsed": true
   },
   "outputs": [],
   "source": [
    "def spinlock_generator(stepSizeIn_i, iterations_i):\n",
    "    '''\n",
    "    Return a generator with step size stepSizeIn_i, that\n",
    "    has run for iterations_i cycles.\n",
    "    '''\n",
    "\n",
    "    spinlock_cyc=it.cycle([0])\n",
    "    for n in range(iterations_i):\n",
    "        \n",
    "        # Step forward the given number of steps:\n",
    "        for i in range(stepSizeIn_i+1):\n",
    "            next(spinlock_cyc)\n",
    "\n",
    "        newCycle_ls=[n+1]+list(it.islice(spinlock_cyc, 0, n+1))\n",
    "\n",
    "        spinlock_cyc=it.cycle(newCycle_ls)\n",
    "        \n",
    "    return spinlock_cyc\n",
    "        "
   ]
  },
  {
   "cell_type": "code",
   "execution_count": 8,
   "metadata": {},
   "outputs": [],
   "source": [
    "assert it.islice(spinlock_generator(3, 1), 1)"
   ]
  },
  {
   "cell_type": "code",
   "execution_count": 9,
   "metadata": {},
   "outputs": [
    {
     "data": {
      "text/plain": [
       "[3, 1, 0, 2]"
      ]
     },
     "execution_count": 9,
     "metadata": {},
     "output_type": "execute_result"
    }
   ],
   "source": [
    "list(it.islice(spinlock_generator(3, 3), 4))"
   ]
  },
  {
   "cell_type": "code",
   "execution_count": 10,
   "metadata": {},
   "outputs": [],
   "source": [
    "assert list(it.islice(spinlock_generator(3, 4), 5))==[4,3,1,0,2]\n",
    "assert list(it.islice(spinlock_generator(3, 5), 6))==[5,2,4,3,1,0]\n",
    "assert list(it.islice(spinlock_generator(3, 6), 7))==[6,1,0,5,2,4,3]\n",
    "assert list(it.islice(spinlock_generator(3, 7), 8))==[7,2,4,3,6,1,0,5]"
   ]
  },
  {
   "cell_type": "markdown",
   "metadata": {},
   "source": [
    "Seems to be working. Now, the task asks for the first element after the inserted element after the 2017th run. Which for the test case will be:"
   ]
  },
  {
   "cell_type": "code",
   "execution_count": 11,
   "metadata": {},
   "outputs": [],
   "source": [
    "u=spinlock_generator(3, 2017)\n",
    "next(u)\n",
    "assert next(u)==638"
   ]
  },
  {
   "cell_type": "markdown",
   "metadata": {},
   "source": [
    "Good. Now apply to the puzzle input (363):"
   ]
  },
  {
   "cell_type": "code",
   "execution_count": 12,
   "metadata": {},
   "outputs": [
    {
     "data": {
      "text/plain": [
       "136"
      ]
     },
     "execution_count": 12,
     "metadata": {},
     "output_type": "execute_result"
    }
   ],
   "source": [
    "u=spinlock_generator(363, 2017)\n",
    "next(u)\n",
    "next(u)"
   ]
  }
 ],
 "metadata": {
  "kernelspec": {
   "display_name": "Python 3",
   "language": "python",
   "name": "python3"
  },
  "language_info": {
   "codemirror_mode": {
    "name": "ipython",
    "version": 3
   },
   "file_extension": ".py",
   "mimetype": "text/x-python",
   "name": "python",
   "nbconvert_exporter": "python",
   "pygments_lexer": "ipython3",
   "version": "3.6.1"
  }
 },
 "nbformat": 4,
 "nbformat_minor": 2
}
