{
 "cells": [
  {
   "cell_type": "markdown",
   "metadata": {},
   "source": [
    "Another interpreter. Part 1 seems rather straightforward for a weekend challenge."
   ]
  },
  {
   "cell_type": "markdown",
   "metadata": {},
   "source": [
    "Checking the puzzle input, it's given as a list of commands separated by commas. So the test input would be:"
   ]
  },
  {
   "cell_type": "code",
   "execution_count": 1,
   "metadata": {
    "collapsed": true
   },
   "outputs": [],
   "source": [
    "testInput_str='s1,x3/4,pe/b'"
   ]
  },
  {
   "cell_type": "markdown",
   "metadata": {},
   "source": [
    "Let's represent the programs as a string:"
   ]
  },
  {
   "cell_type": "code",
   "execution_count": 2,
   "metadata": {
    "collapsed": true
   },
   "outputs": [],
   "source": [
    "programs_str='abcde'"
   ]
  },
  {
   "cell_type": "markdown",
   "metadata": {},
   "source": [
    "and define a function `dance_step` which takes a string representing the programs, and returns a string representing the programs after the step:"
   ]
  },
  {
   "cell_type": "code",
   "execution_count": 3,
   "metadata": {},
   "outputs": [],
   "source": [
    "def dance_step(stepIn_str, stateIn_str):\n",
    "    '''\n",
    "    Takes a string representation of the current state, \n",
    "    stateIn_str, and a string representation of a daance\n",
    "    step, stepIn_str, and returns a string of the \n",
    "    resulting state\n",
    "    '''\n",
    "    # If it's a loop, advance the end characters:\n",
    "    if stepIn_str[0]=='s':\n",
    "        stepSize_i=int(stepIn_str[1:])\n",
    "        return stateIn_str[-stepSize_i:] + stateIn_str[:-stepSize_i]\n",
    "\n",
    "    # If it's Exchange, swap the referenced programs\n",
    "    elif stepIn_str[0]=='x':\n",
    "        (x, y)=(int(i) for i in stepIn_str[1:].split('/'))\n",
    "        stateIn_ls=list(stateIn_str)\n",
    "        tmp_chr=stateIn_ls[x]\n",
    "        stateIn_ls[x]=stateIn_ls[y]\n",
    "        stateIn_ls[y]=tmp_chr\n",
    "        return ''.join(stateIn_ls)\n",
    "    \n",
    "    # If it's Partner, swap the named programs\n",
    "    elif stepIn_str[0]=='p':\n",
    "        (x, y)=stepIn_str[1:].split('/')\n",
    "        # Let's use '!' as the tmp character. A better program\n",
    "        # would find a string that's not in stateIn_str.\n",
    "        return stateIn_str.replace(x, '!').replace(y, x).replace('!', y)\n",
    "    \n",
    "    else:\n",
    "        raise ValueError('Command not recognised')\n",
    "\n",
    "assert dance_step('s4', 'abcdefghijklmnop')=='mnopabcdefghijkl'\n",
    "assert dance_step('x3/5', 'abcdefghijklmnop')=='abcfedghijklmnop'\n",
    "assert dance_step('pc/g', 'abcdefghijklmnop')=='abgdefchijklmnop'\n",
    "\n"
   ]
  },
  {
   "cell_type": "markdown",
   "metadata": {},
   "source": [
    "Do the test case:"
   ]
  },
  {
   "cell_type": "code",
   "execution_count": 4,
   "metadata": {},
   "outputs": [],
   "source": [
    "state_str=programs_str\n",
    "\n",
    "for step_str in testInput_str.split(','):\n",
    "    state_str=dance_step(step_str, state_str)\n",
    "\n",
    "assert state_str=='baedc'"
   ]
  },
  {
   "cell_type": "markdown",
   "metadata": {},
   "source": [
    "So now do it with our puzzle input:"
   ]
  },
  {
   "cell_type": "code",
   "execution_count": 5,
   "metadata": {},
   "outputs": [
    {
     "data": {
      "text/plain": [
       "'lbdiomkhgcjanefp'"
      ]
     },
     "execution_count": 5,
     "metadata": {},
     "output_type": "execute_result"
    }
   ],
   "source": [
    "state_str='abcdefghijklmnop'\n",
    "\n",
    "with open('data/day16.txt') as fIn:\n",
    "    puzzleInput_str=fIn.read().strip()\n",
    "\n",
    "for step_str in puzzleInput_str.split(','):\n",
    "    state_str=dance_step(step_str, state_str)\n",
    "\n",
    "state_str"
   ]
  },
  {
   "cell_type": "code",
   "execution_count": null,
   "metadata": {
    "collapsed": true
   },
   "outputs": [],
   "source": []
  }
 ],
 "metadata": {
  "kernelspec": {
   "display_name": "Python 3",
   "language": "python",
   "name": "python3"
  },
  "language_info": {
   "codemirror_mode": {
    "name": "ipython",
    "version": 3
   },
   "file_extension": ".py",
   "mimetype": "text/x-python",
   "name": "python",
   "nbconvert_exporter": "python",
   "pygments_lexer": "ipython3",
   "version": "3.6.1"
  }
 },
 "nbformat": 4,
 "nbformat_minor": 2
}
