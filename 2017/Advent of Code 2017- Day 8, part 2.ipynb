{
 "cells": [
  {
   "cell_type": "markdown",
   "metadata": {},
   "source": [
    "For part 2, just need to put a running total in the main loop:"
   ]
  },
  {
   "cell_type": "code",
   "execution_count": 1,
   "metadata": {
    "collapsed": true
   },
   "outputs": [],
   "source": [
    "comp_dict={'<': lambda x, y:x < y,\n",
    "           '>': lambda x, y:x > y,\n",
    "           '<=': lambda x, y:x <= y,\n",
    "           '>=': lambda x, y:x >= y,\n",
    "           '==': lambda x, y:x == y,\n",
    "           '!=': lambda x, y:x != y}"
   ]
  },
  {
   "cell_type": "markdown",
   "metadata": {},
   "source": [
    "We'll want `re` to parse the input, and `collections.defaultdict` for the registers:"
   ]
  },
  {
   "cell_type": "code",
   "execution_count": 2,
   "metadata": {
    "collapsed": true
   },
   "outputs": [],
   "source": [
    "import re\n",
    "from collections import defaultdict"
   ]
  },
  {
   "cell_type": "markdown",
   "metadata": {},
   "source": [
    "Now create an ugly regexp:"
   ]
  },
  {
   "cell_type": "code",
   "execution_count": 3,
   "metadata": {},
   "outputs": [
    {
     "data": {
      "text/plain": [
       "re.compile(r'\\s*(?P<reg1>\\w+)\\s+(?P<change>inc|dec)\\s+(?P<changeval>-?\\d+)\\s+if\\s+(?P<reg2>\\w+)\\s+(?P<cmp><|<=|>|>=|==|!=)\\s+(?P<cmpval>-?\\d+)',\n",
       "re.UNICODE)"
      ]
     },
     "execution_count": 3,
     "metadata": {},
     "output_type": "execute_result"
    }
   ],
   "source": [
    "parser_re=re.compile(\"\\s*(?P<reg1>\\w+)\\s+(?P<change>inc|dec)\\s+(?P<changeval>-?\\d+)\" + \\\n",
    "                     \"\\s+if\\s+(?P<reg2>\\w+)\\s+(?P<cmp><|<=|>|>=|==|!=)\\s+(?P<cmpval>-?\\d+)\")\n",
    "parser_re"
   ]
  },
  {
   "cell_type": "code",
   "execution_count": 4,
   "metadata": {},
   "outputs": [
    {
     "data": {
      "text/plain": [
       "('b', 'inc', '-5', 'a', '>', '10')"
      ]
     },
     "execution_count": 4,
     "metadata": {},
     "output_type": "execute_result"
    }
   ],
   "source": [
    "m_match=parser_re.match(\"b inc -5 if a > 10\")\n",
    "m_match.groups()"
   ]
  },
  {
   "cell_type": "markdown",
   "metadata": {},
   "source": [
    "Unbelievably, that horrific expression actually seems to work. So, let's apply to the test data:"
   ]
  },
  {
   "cell_type": "code",
   "execution_count": 5,
   "metadata": {
    "collapsed": true
   },
   "outputs": [],
   "source": [
    "testData_str='''\n",
    "b inc 5 if a > 1\n",
    "a inc 1 if b < 5\n",
    "c dec -10 if a >= 1\n",
    "c inc -20 if c == 10\n",
    "'''"
   ]
  },
  {
   "cell_type": "code",
   "execution_count": 6,
   "metadata": {},
   "outputs": [
    {
     "data": {
      "text/plain": [
       "10"
      ]
     },
     "execution_count": 6,
     "metadata": {},
     "output_type": "execute_result"
    }
   ],
   "source": [
    "# We need a (default) dict of registers:\n",
    "registers_ddict=defaultdict(int)\n",
    "\n",
    "# And a variable containing the max so far:\n",
    "maxSoFar_i=0\n",
    "\n",
    "for instr in [nl.strip() for nl in testData_str.split('\\n') if nl.strip() != '']:\n",
    "    m_match=parser_re.match(instr)\n",
    "    assert m_match, \"Line not parseable: {}\".format(instr)\n",
    "    \n",
    "    # Slightly easier to read:\n",
    "    m_dict=m_match.groupdict()\n",
    "    \n",
    "    # Evaluate the condition:\n",
    "    if comp_dict[m_dict['cmp']](registers_ddict[m_dict['reg2']], \n",
    "                                int(m_dict['cmpval'])):\n",
    "        # If True, update the register accordingly:\n",
    "        if m_dict['change']=='inc':\n",
    "            registers_ddict[m_dict['reg1']] += int(m_dict['changeval'])\n",
    "        else:\n",
    "            registers_ddict[m_dict['reg1']] -= int(m_dict['changeval'])\n",
    "        \n",
    "        # And update maxSoFar if necessary:\n",
    "        if registers_ddict[m_dict['reg1']] > maxSoFar_i:\n",
    "            maxSoFar_i=registers_ddict[m_dict['reg1']]\n",
    "        \n",
    "maxSoFar_i"
   ]
  },
  {
   "cell_type": "markdown",
   "metadata": {},
   "source": [
    "That gives the right output for the example data. Now try on the test case."
   ]
  },
  {
   "cell_type": "code",
   "execution_count": 7,
   "metadata": {
    "collapsed": true
   },
   "outputs": [],
   "source": [
    "# Read the file (why doesn't python have slurp?)\n",
    "with open('data/day8.txt') as fIn:\n",
    "    testData_str=fIn.read()    "
   ]
  },
  {
   "cell_type": "code",
   "execution_count": 8,
   "metadata": {},
   "outputs": [
    {
     "data": {
      "text/plain": [
       "4644"
      ]
     },
     "execution_count": 8,
     "metadata": {},
     "output_type": "execute_result"
    }
   ],
   "source": [
    "# We need a (default) dict of registers:\n",
    "registers_ddict=defaultdict(int)\n",
    "\n",
    "# And a variable containing the max so far:\n",
    "maxSoFar_i=0\n",
    "\n",
    "for instr in [nl.strip() for nl in testData_str.split('\\n') if nl.strip() != '']:\n",
    "    m_match=parser_re.match(instr)\n",
    "    assert m_match, \"Line not parseable: {}\".format(instr)\n",
    "    \n",
    "    # Slightly easier to read:\n",
    "    m_dict=m_match.groupdict()\n",
    "    \n",
    "    # Evaluate the condition:\n",
    "    if comp_dict[m_dict['cmp']](registers_ddict[m_dict['reg2']], \n",
    "                                int(m_dict['cmpval'])):\n",
    "        # If True, update the register accordingly:\n",
    "        if m_dict['change']=='inc':\n",
    "            registers_ddict[m_dict['reg1']] += int(m_dict['changeval'])\n",
    "        else:\n",
    "            registers_ddict[m_dict['reg1']] -= int(m_dict['changeval'])\n",
    "        \n",
    "        # And update maxSoFar if necessary:\n",
    "        if registers_ddict[m_dict['reg1']] > maxSoFar_i:\n",
    "            maxSoFar_i=registers_ddict[m_dict['reg1']]\n",
    "        \n",
    "maxSoFar_i"
   ]
  }
 ],
 "metadata": {
  "kernelspec": {
   "display_name": "Python 3",
   "language": "python",
   "name": "python3"
  },
  "language_info": {
   "codemirror_mode": {
    "name": "ipython",
    "version": 3
   },
   "file_extension": ".py",
   "mimetype": "text/x-python",
   "name": "python",
   "nbconvert_exporter": "python",
   "pygments_lexer": "ipython3",
   "version": "3.6.1"
  }
 },
 "nbformat": 4,
 "nbformat_minor": 2
}
