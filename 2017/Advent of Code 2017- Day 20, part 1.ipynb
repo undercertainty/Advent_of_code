{
 "cells": [
  {
   "cell_type": "markdown",
   "metadata": {},
   "source": [
    "I suppose the easiest way of approaching this is just to see which is closest after a gazillion or so ticks. I kind of like the idea of storing the input as a `pd.DataFrame` in the first instance:"
   ]
  },
  {
   "cell_type": "code",
   "execution_count": 1,
   "metadata": {
    "collapsed": true
   },
   "outputs": [],
   "source": [
    "import pandas as pd\n",
    "import re\n",
    "\n",
    "import itertools as it"
   ]
  },
  {
   "cell_type": "code",
   "execution_count": 2,
   "metadata": {
    "collapsed": true
   },
   "outputs": [],
   "source": [
    "testInput_str='''\n",
    "p=< 3,0,0>, v=< 2,0,0>, a=<-1,0,0>\n",
    "p=< 4,0,0>, v=< 0,0,0>, a=<-2,0,0>\n",
    "'''"
   ]
  },
  {
   "cell_type": "markdown",
   "metadata": {},
   "source": [
    "To parse the input, let's assume that each line of the input contains exactly 9 distinct integers, and put those integers into columns:"
   ]
  },
  {
   "cell_type": "code",
   "execution_count": 3,
   "metadata": {},
   "outputs": [
    {
     "data": {
      "text/html": [
       "<div>\n",
       "<style scoped>\n",
       "    .dataframe tbody tr th:only-of-type {\n",
       "        vertical-align: middle;\n",
       "    }\n",
       "\n",
       "    .dataframe tbody tr th {\n",
       "        vertical-align: top;\n",
       "    }\n",
       "\n",
       "    .dataframe thead th {\n",
       "        text-align: right;\n",
       "    }\n",
       "</style>\n",
       "<table border=\"1\" class=\"dataframe\">\n",
       "  <thead>\n",
       "    <tr style=\"text-align: right;\">\n",
       "      <th></th>\n",
       "      <th>px</th>\n",
       "      <th>py</th>\n",
       "      <th>pz</th>\n",
       "      <th>vx</th>\n",
       "      <th>vy</th>\n",
       "      <th>vz</th>\n",
       "      <th>ax</th>\n",
       "      <th>ay</th>\n",
       "      <th>az</th>\n",
       "    </tr>\n",
       "  </thead>\n",
       "  <tbody>\n",
       "    <tr>\n",
       "      <th>0</th>\n",
       "      <td>3</td>\n",
       "      <td>0</td>\n",
       "      <td>0</td>\n",
       "      <td>2</td>\n",
       "      <td>0</td>\n",
       "      <td>0</td>\n",
       "      <td>-1</td>\n",
       "      <td>0</td>\n",
       "      <td>0</td>\n",
       "    </tr>\n",
       "    <tr>\n",
       "      <th>1</th>\n",
       "      <td>4</td>\n",
       "      <td>0</td>\n",
       "      <td>0</td>\n",
       "      <td>0</td>\n",
       "      <td>0</td>\n",
       "      <td>0</td>\n",
       "      <td>-2</td>\n",
       "      <td>0</td>\n",
       "      <td>0</td>\n",
       "    </tr>\n",
       "  </tbody>\n",
       "</table>\n",
       "</div>"
      ],
      "text/plain": [
       "   px  py  pz  vx  vy  vz  ax  ay  az\n",
       "0   3   0   0   2   0   0  -1   0   0\n",
       "1   4   0   0   0   0   0  -2   0   0"
      ]
     },
     "execution_count": 3,
     "metadata": {},
     "output_type": "execute_result"
    }
   ],
   "source": [
    "\n",
    "state_ls=[[] for i in range(9)]\n",
    "\n",
    "for nl in testInput_str.strip().split('\\n'):\n",
    "    values_ls=re.findall('\\-?\\d+', nl)\n",
    "    assert len(values_ls)==9\n",
    "    for (i,v) in enumerate(values_ls):\n",
    "        state_ls[i].append(int(v))\n",
    "\n",
    "state_df=pd.DataFrame(state_ls)\n",
    "state_df=state_df.T\n",
    "state_df.columns=['px', 'py', 'pz', 'vx', 'vy', 'vz', 'ax', 'ay', 'az']\n",
    "\n",
    "# make a copy for future reference:\n",
    "testState_df=state_df.copy()\n",
    "\n",
    "state_df"
   ]
  },
  {
   "cell_type": "markdown",
   "metadata": {},
   "source": [
    "Now that we're in a dataframe, everything's vectorised. So for a single step, we just need to do:"
   ]
  },
  {
   "cell_type": "code",
   "execution_count": 4,
   "metadata": {
    "collapsed": true
   },
   "outputs": [],
   "source": [
    "def tick(state_df):\n",
    "    '''\n",
    "    Horribly use the mutability of a dataframe in a function\n",
    "    to update state_df to the state after one tick.\n",
    "    '''\n",
    "    # First update the velocities:\n",
    "    state_df['vx']=state_df['vx']+state_df['ax']\n",
    "    state_df['vy']=state_df['vy']+state_df['ay']\n",
    "    state_df['vz']=state_df['vz']+state_df['az']\n",
    "    \n",
    "    # And then update the positions:\n",
    "    state_df['px']=state_df['px']+state_df['vx']\n",
    "    state_df['py']=state_df['py']+state_df['vy']\n",
    "    state_df['pz']=state_df['pz']+state_df['vz']\n",
    "    "
   ]
  },
  {
   "cell_type": "markdown",
   "metadata": {},
   "source": [
    "Check that that's behaving itself:"
   ]
  },
  {
   "cell_type": "code",
   "execution_count": 5,
   "metadata": {
    "collapsed": true
   },
   "outputs": [],
   "source": [
    "\n",
    "state_df=testState_df.copy()\n",
    "\n",
    "assert list(state_df.loc[0][['px', 'py', 'pz']])==[3,0,0]\n",
    "assert list(state_df.loc[1][['px', 'py', 'pz']])==[4,0,0]\n",
    "\n",
    "tick(state_df)\n",
    "\n",
    "assert list(state_df.loc[0][['px', 'py', 'pz']])==[4,0,0]\n",
    "assert list(state_df.loc[1][['px', 'py', 'pz']])==[2,0,0]\n",
    "\n",
    "tick(state_df)\n",
    "\n",
    "assert list(state_df.loc[0][['px', 'py', 'pz']])==[4,0,0]\n",
    "assert list(state_df.loc[1][['px', 'py', 'pz']])==[-2,0,0]\n",
    "\n",
    "tick(state_df)\n",
    "\n",
    "assert list(state_df.loc[0][['px', 'py', 'pz']])==[3,0,0]\n",
    "assert list(state_df.loc[1][['px', 'py', 'pz']])==[-8,0,0]\n",
    "\n"
   ]
  },
  {
   "cell_type": "markdown",
   "metadata": {},
   "source": [
    "Good. Now \"just\" need to work out which particle stays closest in the long term."
   ]
  },
  {
   "cell_type": "markdown",
   "metadata": {},
   "source": [
    "For a given `state_df`, we can add the position columns for the manhattan distance, and then use the `.idxmin()` method to find which is the current closest state:"
   ]
  },
  {
   "cell_type": "code",
   "execution_count": 6,
   "metadata": {},
   "outputs": [
    {
     "data": {
      "text/plain": [
       "0"
      ]
     },
     "execution_count": 6,
     "metadata": {},
     "output_type": "execute_result"
    }
   ],
   "source": [
    "(abs(state_df['px'])+abs(state_df['py'])+abs(state_df['pz'])).idxmin()"
   ]
  },
  {
   "cell_type": "markdown",
   "metadata": {},
   "source": [
    "So let's be hacky, and just run the puzzle input until it settles down."
   ]
  },
  {
   "cell_type": "markdown",
   "metadata": {},
   "source": [
    "First build the state using the puzzle input:"
   ]
  },
  {
   "cell_type": "code",
   "execution_count": 7,
   "metadata": {},
   "outputs": [
    {
     "data": {
      "text/html": [
       "<div>\n",
       "<style scoped>\n",
       "    .dataframe tbody tr th:only-of-type {\n",
       "        vertical-align: middle;\n",
       "    }\n",
       "\n",
       "    .dataframe tbody tr th {\n",
       "        vertical-align: top;\n",
       "    }\n",
       "\n",
       "    .dataframe thead th {\n",
       "        text-align: right;\n",
       "    }\n",
       "</style>\n",
       "<table border=\"1\" class=\"dataframe\">\n",
       "  <thead>\n",
       "    <tr style=\"text-align: right;\">\n",
       "      <th></th>\n",
       "      <th>px</th>\n",
       "      <th>py</th>\n",
       "      <th>pz</th>\n",
       "      <th>vx</th>\n",
       "      <th>vy</th>\n",
       "      <th>vz</th>\n",
       "      <th>ax</th>\n",
       "      <th>ay</th>\n",
       "      <th>az</th>\n",
       "    </tr>\n",
       "  </thead>\n",
       "  <tbody>\n",
       "    <tr>\n",
       "      <th>0</th>\n",
       "      <td>-717</td>\n",
       "      <td>-4557</td>\n",
       "      <td>2578</td>\n",
       "      <td>153</td>\n",
       "      <td>21</td>\n",
       "      <td>30</td>\n",
       "      <td>-8</td>\n",
       "      <td>8</td>\n",
       "      <td>-7</td>\n",
       "    </tr>\n",
       "    <tr>\n",
       "      <th>1</th>\n",
       "      <td>1639</td>\n",
       "      <td>651</td>\n",
       "      <td>-987</td>\n",
       "      <td>29</td>\n",
       "      <td>-19</td>\n",
       "      <td>129</td>\n",
       "      <td>-5</td>\n",
       "      <td>0</td>\n",
       "      <td>-6</td>\n",
       "    </tr>\n",
       "    <tr>\n",
       "      <th>2</th>\n",
       "      <td>-10482</td>\n",
       "      <td>-248</td>\n",
       "      <td>-491</td>\n",
       "      <td>4</td>\n",
       "      <td>10</td>\n",
       "      <td>81</td>\n",
       "      <td>21</td>\n",
       "      <td>0</td>\n",
       "      <td>-4</td>\n",
       "    </tr>\n",
       "    <tr>\n",
       "      <th>3</th>\n",
       "      <td>-6607</td>\n",
       "      <td>-2542</td>\n",
       "      <td>1338</td>\n",
       "      <td>-9</td>\n",
       "      <td>52</td>\n",
       "      <td>-106</td>\n",
       "      <td>14</td>\n",
       "      <td>2</td>\n",
       "      <td>4</td>\n",
       "    </tr>\n",
       "    <tr>\n",
       "      <th>4</th>\n",
       "      <td>-4468</td>\n",
       "      <td>1178</td>\n",
       "      <td>-6474</td>\n",
       "      <td>146</td>\n",
       "      <td>44</td>\n",
       "      <td>66</td>\n",
       "      <td>0</td>\n",
       "      <td>-5</td>\n",
       "      <td>9</td>\n",
       "    </tr>\n",
       "  </tbody>\n",
       "</table>\n",
       "</div>"
      ],
      "text/plain": [
       "      px    py    pz   vx  vy   vz  ax  ay  az\n",
       "0   -717 -4557  2578  153  21   30  -8   8  -7\n",
       "1   1639   651  -987   29 -19  129  -5   0  -6\n",
       "2 -10482  -248  -491    4  10   81  21   0  -4\n",
       "3  -6607 -2542  1338   -9  52 -106  14   2   4\n",
       "4  -4468  1178 -6474  146  44   66   0  -5   9"
      ]
     },
     "execution_count": 7,
     "metadata": {},
     "output_type": "execute_result"
    }
   ],
   "source": [
    "with open('data/day20.txt') as fIn:\n",
    "    puzzleInput_str=fIn.read()\n",
    "\n",
    "state_ls=[[] for i in range(9)]\n",
    "\n",
    "for nl in puzzleInput_str.strip().split('\\n'):\n",
    "    values_ls=re.findall('\\-?\\d+', nl)\n",
    "    assert len(values_ls)==9\n",
    "    for (i,v) in enumerate(values_ls):\n",
    "        state_ls[i].append(int(v))\n",
    "\n",
    "puzzleState_df=pd.DataFrame(state_ls)\n",
    "puzzleState_df=puzzleState_df.T\n",
    "puzzleState_df.columns=['px', 'py', 'pz', 'vx', 'vy', 'vz', 'ax', 'ay', 'az']\n",
    "puzzleState_df.head()"
   ]
  },
  {
   "cell_type": "markdown",
   "metadata": {},
   "source": [
    "And now let's hackily go through the ticks until it all seems to have settled down. I'll print the closest particle every time it changes:"
   ]
  },
  {
   "cell_type": "code",
   "execution_count": 8,
   "metadata": {},
   "outputs": [
    {
     "name": "stdout",
     "output_type": "stream",
     "text": [
      "0\t55\n",
      "1\t218\n",
      "3\t255\n",
      "8\t129\n",
      "10\t467\n",
      "11\t89\n",
      "12\t51\n",
      "13\t55\n",
      "14\t56\n",
      "15\t211\n",
      "16\t135\n",
      "17\t371\n",
      "18\t7\n",
      "19\t107\n",
      "20\t175\n",
      "21\t301\n",
      "22\t310\n",
      "23\t215\n",
      "24\t159\n",
      "25\t237\n",
      "26\t557\n",
      "27\t540\n",
      "28\t390\n",
      "29\t117\n",
      "30\t530\n",
      "31\t74\n",
      "32\t229\n",
      "33\t92\n",
      "34\t264\n",
      "35\t524\n",
      "36\t82\n",
      "37\t199\n",
      "38\t407\n",
      "39\t144\n",
      "40\t370\n",
      "41\t550\n",
      "49\t14\n",
      "309\t344\n"
     ]
    }
   ],
   "source": [
    "state_df=puzzleState_df.copy()\n",
    "\n",
    "totalIterations_i=10000\n",
    "closestTally_idx=-1\n",
    "\n",
    "for i in range(totalIterations_i):\n",
    "    closest_idx=(abs(state_df['px'])+abs(state_df['py'])+abs(state_df['pz'])).idxmin()\n",
    "    if not closest_idx==closestTally_idx:\n",
    "        closestTally_idx=closest_idx\n",
    "        print('{}\\t{}'.format(i, closestTally_idx))\n",
    "    tick(state_df)\n"
   ]
  },
  {
   "cell_type": "markdown",
   "metadata": {},
   "source": [
    "I'm happy to go with that 344."
   ]
  }
 ],
 "metadata": {
  "kernelspec": {
   "display_name": "Python 3",
   "language": "python",
   "name": "python3"
  },
  "language_info": {
   "codemirror_mode": {
    "name": "ipython",
    "version": 3
   },
   "file_extension": ".py",
   "mimetype": "text/x-python",
   "name": "python",
   "nbconvert_exporter": "python",
   "pygments_lexer": "ipython3",
   "version": "3.6.1"
  }
 },
 "nbformat": 4,
 "nbformat_minor": 2
}
