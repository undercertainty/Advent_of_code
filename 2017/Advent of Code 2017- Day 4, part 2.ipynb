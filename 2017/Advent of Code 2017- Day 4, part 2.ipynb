{
 "cells": [
  {
   "cell_type": "markdown",
   "metadata": {},
   "source": [
    "For part 2, let's write a quick function `normalise`, which orders the characters in a string. Then any 2 words which are anagrams of each other will both have the same normal form:"
   ]
  },
  {
   "cell_type": "code",
   "execution_count": 1,
   "metadata": {},
   "outputs": [
    {
     "data": {
      "text/plain": [
       "'ffjkkllss'"
      ]
     },
     "execution_count": 1,
     "metadata": {},
     "output_type": "execute_result"
    }
   ],
   "source": [
    "def normalise(in_str):\n",
    "    return ''.join(sorted(in_str))\n",
    "\n",
    "normalise('sklflskjf')"
   ]
  },
  {
   "cell_type": "markdown",
   "metadata": {},
   "source": [
    "(Note that I've re`join`ed the characters into a single string. `list`s aren't hashable, so the `set` conversion that I'm using won't work.)"
   ]
  },
  {
   "cell_type": "code",
   "execution_count": 2,
   "metadata": {
    "collapsed": true
   },
   "outputs": [],
   "source": [
    "# True case\n",
    "test_str='abcde fghij'\n",
    "\n",
    "assert len(set([normalise(word) for word in test_str.split()])) ==     \\\n",
    "       len([normalise(word) for word in test_str.split()]), test_str"
   ]
  },
  {
   "cell_type": "code",
   "execution_count": 3,
   "metadata": {
    "collapsed": true
   },
   "outputs": [],
   "source": [
    "# False case\n",
    "test_str='abcde xyz ecdab'\n",
    "\n",
    "assert not len(set([normalise(word) for word in test_str.split()])) ==     \\\n",
    "           len([normalise(word) for word in test_str.split()]), test_str"
   ]
  },
  {
   "cell_type": "code",
   "execution_count": 4,
   "metadata": {
    "collapsed": true
   },
   "outputs": [],
   "source": [
    "# True case\n",
    "test_str='a ab abc abd abf abj'\n",
    "\n",
    "assert len(set([normalise(word) for word in test_str.split()])) ==     \\\n",
    "       len([normalise(word) for word in test_str.split()]), test_str"
   ]
  },
  {
   "cell_type": "code",
   "execution_count": 5,
   "metadata": {
    "collapsed": true
   },
   "outputs": [],
   "source": [
    "# True case\n",
    "test_str='iiii oiii ooii oooi oooo'\n",
    "\n",
    "assert len(set([normalise(word) for word in test_str.split()])) ==     \\\n",
    "       len([normalise(word) for word in test_str.split()]), test_str"
   ]
  },
  {
   "cell_type": "code",
   "execution_count": 6,
   "metadata": {
    "collapsed": true
   },
   "outputs": [],
   "source": [
    "# False case\n",
    "test_str='oiii ioii iioi iiio'\n",
    "\n",
    "assert not len(set([normalise(word) for word in test_str.split()])) ==     \\\n",
    "           len([normalise(word) for word in test_str.split()]), test_str"
   ]
  },
  {
   "cell_type": "markdown",
   "metadata": {},
   "source": [
    "Test cases work, so try on the input data:"
   ]
  },
  {
   "cell_type": "code",
   "execution_count": 7,
   "metadata": {},
   "outputs": [
    {
     "data": {
      "text/plain": [
       "231"
      ]
     },
     "execution_count": 7,
     "metadata": {},
     "output_type": "execute_result"
    }
   ],
   "source": [
    "with open('data/day4.txt') as fIn:\n",
    "    out=[nl for nl in fIn.readlines()\n",
    "         if len(set([normalise(word) for word in nl.split()])) ==     \\\n",
    "            len([normalise(word) for word in nl.split()])]\n",
    "\n",
    "len(out)"
   ]
  }
 ],
 "metadata": {
  "kernelspec": {
   "display_name": "Python [conda root]",
   "language": "python",
   "name": "conda-root-py"
  },
  "language_info": {
   "codemirror_mode": {
    "name": "ipython",
    "version": 3
   },
   "file_extension": ".py",
   "mimetype": "text/x-python",
   "name": "python",
   "nbconvert_exporter": "python",
   "pygments_lexer": "ipython3",
   "version": "3.5.4"
  }
 },
 "nbformat": 4,
 "nbformat_minor": 2
}
