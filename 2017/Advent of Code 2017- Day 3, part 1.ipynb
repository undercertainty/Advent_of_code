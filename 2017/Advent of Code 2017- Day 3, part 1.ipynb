{
 "cells": [
  {
   "cell_type": "markdown",
   "metadata": {},
   "source": [
    "OK... this spiralling business seems straightforward enough, but it might need a little subtlety to implement."
   ]
  },
  {
   "cell_type": "markdown",
   "metadata": {},
   "source": [
    "So the key thing is that the amount you go in a particular direction increases every other direction change. So we go:\n",
    "\n",
    "- from 1, face right, and move forward once\n",
    "- from 2, face up, and move forward once to 3\n",
    "- from 3, face left and move forward twice to 5\n",
    "- from 5, face down and move forward twice to 7\n",
    "- from 7, face right and move forward three times to 10\n",
    "- from 10, face up and move forward three times to 13\n",
    "- and so on"
   ]
  },
  {
   "cell_type": "code",
   "execution_count": 1,
   "metadata": {},
   "outputs": [
    {
     "data": {
      "text/plain": [
       "'down'"
      ]
     },
     "execution_count": 1,
     "metadata": {},
     "output_type": "execute_result"
    }
   ],
   "source": [
    "def turn(dirIn_str):\n",
    "    '''Returns the direction you're facing after changing direction'''\n",
    "    assert dirIn_str in ['left', 'right', 'up', 'down'], \"Incorrect value: {}\".format(dirIn_str)\n",
    "    if dirIn_str=='left':\n",
    "        return 'down'\n",
    "    if dirIn_str=='down':\n",
    "        return 'right'\n",
    "    if dirIn_str=='right':\n",
    "        return 'up'\n",
    "    if dirIn_str=='up':\n",
    "        return 'left'\n",
    "    \n",
    "turn('left')"
   ]
  },
  {
   "cell_type": "markdown",
   "metadata": {},
   "source": [
    "I'll do this naively in the first instance, but I might want to implement as a generator at some point. "
   ]
  },
  {
   "cell_type": "code",
   "execution_count": 2,
   "metadata": {},
   "outputs": [
    {
     "data": {
      "text/plain": [
       "[2, 1]"
      ]
     },
     "execution_count": 2,
     "metadata": {},
     "output_type": "execute_result"
    }
   ],
   "source": [
    "\n",
    "def takeNSteps(target_i):\n",
    "    '''Return the coordinates after taking target_i steps, starting at 1'''\n",
    "\n",
    "    coords=[0,0]\n",
    "    facing_str='right'\n",
    "    currentPathLength_i=1\n",
    "    increasePathLength_bool=False\n",
    "    square_i=1\n",
    "\n",
    "    # Follow the path until we get to the target:\n",
    "\n",
    "    distAlongCurrentPath_i=0\n",
    "    while target_i > 1:  # This computing; who the hell starts at 1??\n",
    "        \n",
    "        # Move 1 step in the direction facing:\n",
    "        if facing_str=='right':\n",
    "            coords[0]+=1\n",
    "        elif facing_str=='up':\n",
    "            coords[1]+=1\n",
    "        elif facing_str=='left':\n",
    "            coords[0]-=1\n",
    "        elif facing_str=='down':\n",
    "            coords[1]-=1\n",
    "        distAlongCurrentPath_i+=1\n",
    "        \n",
    "        # If we're at the end of the current path,\n",
    "        if distAlongCurrentPath_i==currentPathLength_i:\n",
    "            # Turn\n",
    "            facing_str=turn(facing_str)\n",
    "            # Start a new path\n",
    "            distAlongCurrentPath_i=0\n",
    "            # And increase the path length\n",
    "            if increasePathLength_bool:\n",
    "                currentPathLength_i+=1\n",
    "            # on alternate paths.\n",
    "            increasePathLength_bool=not increasePathLength_bool\n",
    "            \n",
    "        target_i-=1\n",
    "        \n",
    "    return coords\n",
    "                \n",
    "takeNSteps(12)\n",
    "    "
   ]
  },
  {
   "cell_type": "markdown",
   "metadata": {},
   "source": [
    "And to work out the manhattan distance, we just add the absolute values of the coordinates:"
   ]
  },
  {
   "cell_type": "code",
   "execution_count": 3,
   "metadata": {
    "collapsed": true
   },
   "outputs": [],
   "source": [
    "def manhattan_distance(coords_in):\n",
    "    '''Calculate the manhattan distance from (0, 0) for a pair of coordinates.'''\n",
    "    return abs(coords_in[0]) + abs(coords_in[1])"
   ]
  },
  {
   "cell_type": "markdown",
   "metadata": {},
   "source": [
    "Do the test cases:"
   ]
  },
  {
   "cell_type": "code",
   "execution_count": 4,
   "metadata": {},
   "outputs": [
    {
     "name": "stdout",
     "output_type": "stream",
     "text": [
      "(1, 0)\t0\tTrue\n",
      "(12, 3)\t3\tTrue\n",
      "(23, 2)\t2\tTrue\n",
      "(1024, 31)\t31\tTrue\n"
     ]
    }
   ],
   "source": [
    "for (t, v) in zip([1, 12, 23, 1024],\n",
    "                  [0, 3, 2, 31]):\n",
    "    print('({}, {})\\t{}\\t{}'.format(t, v, manhattan_distance(takeNSteps(t)), manhattan_distance(takeNSteps(t))==v))"
   ]
  },
  {
   "cell_type": "markdown",
   "metadata": {},
   "source": [
    "Good. My test case is then:"
   ]
  },
  {
   "cell_type": "code",
   "execution_count": 5,
   "metadata": {},
   "outputs": [
    {
     "data": {
      "text/plain": [
       "419"
      ]
     },
     "execution_count": 5,
     "metadata": {},
     "output_type": "execute_result"
    }
   ],
   "source": [
    "manhattan_distance(takeNSteps(289326))"
   ]
  }
 ],
 "metadata": {
  "kernelspec": {
   "display_name": "Python [conda root]",
   "language": "python",
   "name": "conda-root-py"
  },
  "language_info": {
   "codemirror_mode": {
    "name": "ipython",
    "version": 3
   },
   "file_extension": ".py",
   "mimetype": "text/x-python",
   "name": "python",
   "nbconvert_exporter": "python",
   "pygments_lexer": "ipython3",
   "version": "3.5.4"
  }
 },
 "nbformat": 4,
 "nbformat_minor": 2
}
