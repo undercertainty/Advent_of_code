{
 "cells": [
  {
   "cell_type": "markdown",
   "metadata": {},
   "source": [
    "Great. I was thinking just this morning how much I feel like implementing a concurrency system. Doesn't look too bad, but it'll be a bit fiddly, I expect."
   ]
  },
  {
   "cell_type": "code",
   "execution_count": 1,
   "metadata": {
    "collapsed": true
   },
   "outputs": [],
   "source": [
    "from collections import defaultdict\n",
    "import re"
   ]
  },
  {
   "cell_type": "markdown",
   "metadata": {},
   "source": [
    "So the state of the whole system requires:\n",
    "\n",
    "* a location for each of the two programs\n",
    "* a queue for each program\n",
    "* a set of registers for each program (a ddict with initial values for p)\n",
    "\n",
    "Let's try:"
   ]
  },
  {
   "cell_type": "code",
   "execution_count": 2,
   "metadata": {},
   "outputs": [
    {
     "data": {
      "text/plain": [
       "[{'loc': 0, 'queue': [], 'registers': defaultdict(int, {'p': 0})},\n",
       " {'loc': 0, 'queue': [], 'registers': defaultdict(int, {'p': 1})}]"
      ]
     },
     "execution_count": 2,
     "metadata": {},
     "output_type": "execute_result"
    }
   ],
   "source": [
    "state=[{'loc':0, 'queue':[], 'registers':defaultdict(int)},\n",
    "       {'loc':0, 'queue':[], 'registers':defaultdict(int)}]\n",
    "\n",
    "state[0]['registers']['p']=0\n",
    "state[1]['registers']['p']=1\n",
    "\n",
    "state"
   ]
  },
  {
   "cell_type": "markdown",
   "metadata": {},
   "source": [
    "Now, redefine the function `apply_command` so that it takes 3 parameters: the command, the program which called the command (0 or 1), and the state:"
   ]
  },
  {
   "cell_type": "code",
   "execution_count": 3,
   "metadata": {
    "collapsed": true
   },
   "outputs": [],
   "source": [
    "def apply_command(command_str, program_i, stateIn):\n",
    "    '''\n",
    "    Updates stateIn with the command command_str called by program_i.\n",
    "    Returns True if the program has resulted in a changed state,\n",
    "    False otherwise.\n",
    "    '''\n",
    "    #if program_i:\n",
    "    #    print('\\t'+command_str)\n",
    "    #else:\n",
    "    #    print(command_str)\n",
    "    \n",
    "    # Useful to have a local function to check for ints:\n",
    "    # (Could use exceptions, but I prefer not to if possible)\n",
    "    def is_int(stringIn_str):\n",
    "        '''\n",
    "        True if stringIn_str can be converted to int\n",
    "        '''\n",
    "        if re.match('^\\-?\\d+$', stringIn_str):\n",
    "            return True\n",
    "        else:\n",
    "            return False\n",
    "    \n",
    "    command_ls=command_str.strip().split()\n",
    "    if command_ls[0]=='set':\n",
    "        # If second argument is non-integral, treat it\n",
    "        # as a ddict index\n",
    "        if is_int(command_ls[2]):\n",
    "            stateIn[program_i]['registers'][command_ls[1]]=int(command_ls[2])\n",
    "        else:\n",
    "            stateIn[program_i]['registers'][command_ls[1]]=stateIn[program_i]['registers'][command_ls[2]]\n",
    "        # Advance the command line\n",
    "        stateIn[program_i]['loc']+=1\n",
    "            \n",
    "    elif command_ls[0]=='snd':\n",
    "        # Add value to the end of the other program's queue\n",
    "        if program_i==0:\n",
    "            me_prog=0\n",
    "            them_prog=1\n",
    "        else:\n",
    "            me_prog=1\n",
    "            them_prog=0\n",
    "        \n",
    "        if is_int(command_ls[1]):\n",
    "            stateIn[them_prog]['queue'].append(int(command_ls[1]))\n",
    "        else:\n",
    "            stateIn[them_prog]['queue'].append(stateIn[me_prog]['registers'][command_ls[1]])\n",
    "        # Advance the command line\n",
    "        stateIn[me_prog]['loc']+=1\n",
    "            \n",
    "    elif command_ls[0]=='add':\n",
    "        v=stateIn[program_i]['registers'][command_ls[1]]\n",
    "        if is_int(command_ls[2]):\n",
    "            stateIn[program_i]['registers'][command_ls[1]]=v+int(command_ls[2])\n",
    "        else:\n",
    "            stateIn[program_i]['registers'][command_ls[1]]=v+stateIn[program_i]['registers'][command_ls[2]]\n",
    "        # Advance the command line\n",
    "        stateIn[program_i]['loc']+=1\n",
    "\n",
    "    elif command_ls[0]=='mul':\n",
    "        v=stateIn[program_i]['registers'][command_ls[1]]\n",
    "        if is_int(command_ls[2]):\n",
    "            stateIn[program_i]['registers'][command_ls[1]]=v*int(command_ls[2])\n",
    "        else:\n",
    "            stateIn[program_i]['registers'][command_ls[1]]=v*stateIn[program_i]['registers'][command_ls[2]]\n",
    "        # Advance the command line\n",
    "        stateIn[program_i]['loc']+=1\n",
    "\n",
    "    elif command_ls[0]=='mod':\n",
    "        v=stateIn[program_i]['registers'][command_ls[1]]\n",
    "        if is_int(command_ls[2]):\n",
    "            stateIn[program_i]['registers'][command_ls[1]]=v%int(command_ls[2])\n",
    "        else:\n",
    "            stateIn[program_i]['registers'][command_ls[1]]=v%stateIn[program_i]['registers'][command_ls[2]]\n",
    "        # Advance the command line\n",
    "        stateIn[program_i]['loc']+=1\n",
    "\n",
    "\n",
    "    elif command_ls[0]=='jgz':\n",
    "        if is_int(command_ls[1]):\n",
    "            v=int(command_ls[1])\n",
    "        else:\n",
    "            v=stateIn[program_i]['registers'][command_ls[1]]\n",
    "        # Jump if v>0\n",
    "        if v>0:\n",
    "            if is_int(command_ls[2]):\n",
    "                stateIn[program_i]['loc']+=int(command_ls[2])\n",
    "            else:\n",
    "                stateIn[program_i]['loc']+=stateIn[program_i]['registers'][command_ls[2]]\n",
    "        # else just go forward 1:\n",
    "        else:\n",
    "            stateIn[program_i]['loc']+=1\n",
    "    \n",
    "    # So for recovery, obtain the next value from the\n",
    "    # queue if it exists. If not, the process is\n",
    "    # locked, and return True\n",
    "    elif command_ls[0]=='rcv':\n",
    "        \n",
    "        if len(stateIn[program_i]['queue'])==0:\n",
    "            return False\n",
    "            \n",
    "        else:\n",
    "            stateIn[program_i]['registers'][command_ls[1]]=stateIn[program_i]['queue'].pop(0)\n",
    "            stateIn[program_i]['loc']+=1\n",
    "\n",
    "    else:\n",
    "        raise ValueError(\"Command not recognised\")\n",
    "            \n",
    "    return True"
   ]
  },
  {
   "cell_type": "markdown",
   "metadata": {},
   "source": [
    "Set the test input:"
   ]
  },
  {
   "cell_type": "markdown",
   "metadata": {},
   "source": [
    "So... a little test"
   ]
  },
  {
   "cell_type": "code",
   "execution_count": 4,
   "metadata": {},
   "outputs": [
    {
     "data": {
      "text/plain": [
       "[{'loc': 0, 'queue': [], 'registers': defaultdict(int, {'p': 0})},\n",
       " {'loc': 0, 'queue': [], 'registers': defaultdict(int, {'p': 1})}]"
      ]
     },
     "execution_count": 4,
     "metadata": {},
     "output_type": "execute_result"
    }
   ],
   "source": [
    "state=[{'loc':0, 'queue':[], 'registers':defaultdict(int)},\n",
    "       {'loc':0, 'queue':[], 'registers':defaultdict(int)}]\n",
    "\n",
    "state[0]['registers']['p']=0\n",
    "state[1]['registers']['p']=1\n",
    "\n",
    "state"
   ]
  },
  {
   "cell_type": "code",
   "execution_count": 5,
   "metadata": {},
   "outputs": [
    {
     "name": "stdout",
     "output_type": "stream",
     "text": [
      "True\n"
     ]
    },
    {
     "data": {
      "text/plain": [
       "[{'loc': 1, 'queue': [], 'registers': defaultdict(int, {'p': 0})},\n",
       " {'loc': 0, 'queue': [1], 'registers': defaultdict(int, {'p': 1})}]"
      ]
     },
     "execution_count": 5,
     "metadata": {},
     "output_type": "execute_result"
    }
   ],
   "source": [
    "print(apply_command('snd 1', 0, state))\n",
    "state"
   ]
  },
  {
   "cell_type": "code",
   "execution_count": 6,
   "metadata": {},
   "outputs": [
    {
     "name": "stdout",
     "output_type": "stream",
     "text": [
      "True\n"
     ]
    },
    {
     "data": {
      "text/plain": [
       "[{'loc': 2, 'queue': [], 'registers': defaultdict(int, {'p': 0})},\n",
       " {'loc': 0, 'queue': [1, 2], 'registers': defaultdict(int, {'p': 1})}]"
      ]
     },
     "execution_count": 6,
     "metadata": {},
     "output_type": "execute_result"
    }
   ],
   "source": [
    "print(apply_command('snd 2', 0, state))\n",
    "state"
   ]
  },
  {
   "cell_type": "code",
   "execution_count": 7,
   "metadata": {},
   "outputs": [
    {
     "name": "stdout",
     "output_type": "stream",
     "text": [
      "True\n"
     ]
    },
    {
     "data": {
      "text/plain": [
       "[{'loc': 3, 'queue': [], 'registers': defaultdict(int, {'p': 0})},\n",
       " {'loc': 0, 'queue': [1, 2, 0], 'registers': defaultdict(int, {'p': 1})}]"
      ]
     },
     "execution_count": 7,
     "metadata": {},
     "output_type": "execute_result"
    }
   ],
   "source": [
    "print(apply_command('snd p', 0, state))\n",
    "state"
   ]
  },
  {
   "cell_type": "code",
   "execution_count": 8,
   "metadata": {},
   "outputs": [
    {
     "name": "stdout",
     "output_type": "stream",
     "text": [
      "False\n"
     ]
    },
    {
     "data": {
      "text/plain": [
       "[{'loc': 3, 'queue': [], 'registers': defaultdict(int, {'p': 0})},\n",
       " {'loc': 0, 'queue': [1, 2, 0], 'registers': defaultdict(int, {'p': 1})}]"
      ]
     },
     "execution_count": 8,
     "metadata": {},
     "output_type": "execute_result"
    }
   ],
   "source": [
    "print(apply_command('rcv a', 0, state))\n",
    "state"
   ]
  },
  {
   "cell_type": "code",
   "execution_count": 9,
   "metadata": {},
   "outputs": [
    {
     "name": "stdout",
     "output_type": "stream",
     "text": [
      "True\n"
     ]
    },
    {
     "data": {
      "text/plain": [
       "[{'loc': 3, 'queue': [1], 'registers': defaultdict(int, {'p': 0})},\n",
       " {'loc': 1, 'queue': [1, 2, 0], 'registers': defaultdict(int, {'p': 1})}]"
      ]
     },
     "execution_count": 9,
     "metadata": {},
     "output_type": "execute_result"
    }
   ],
   "source": [
    "print(apply_command('snd 1', 1, state))\n",
    "state"
   ]
  },
  {
   "cell_type": "code",
   "execution_count": 10,
   "metadata": {},
   "outputs": [
    {
     "name": "stdout",
     "output_type": "stream",
     "text": [
      "True\n"
     ]
    },
    {
     "data": {
      "text/plain": [
       "[{'loc': 3, 'queue': [1, 2], 'registers': defaultdict(int, {'p': 0})},\n",
       " {'loc': 2, 'queue': [1, 2, 0], 'registers': defaultdict(int, {'p': 1})}]"
      ]
     },
     "execution_count": 10,
     "metadata": {},
     "output_type": "execute_result"
    }
   ],
   "source": [
    "print(apply_command('snd 2', 1, state))\n",
    "state"
   ]
  },
  {
   "cell_type": "code",
   "execution_count": 11,
   "metadata": {},
   "outputs": [
    {
     "name": "stdout",
     "output_type": "stream",
     "text": [
      "True\n"
     ]
    },
    {
     "data": {
      "text/plain": [
       "[{'loc': 3, 'queue': [1, 2, 1], 'registers': defaultdict(int, {'p': 0})},\n",
       " {'loc': 3, 'queue': [1, 2, 0], 'registers': defaultdict(int, {'p': 1})}]"
      ]
     },
     "execution_count": 11,
     "metadata": {},
     "output_type": "execute_result"
    }
   ],
   "source": [
    "print(apply_command('snd p', 1, state))\n",
    "state"
   ]
  },
  {
   "cell_type": "code",
   "execution_count": 12,
   "metadata": {},
   "outputs": [
    {
     "name": "stdout",
     "output_type": "stream",
     "text": [
      "True\n"
     ]
    },
    {
     "data": {
      "text/plain": [
       "[{'loc': 3, 'queue': [1, 2, 1], 'registers': defaultdict(int, {'p': 0})},\n",
       " {'loc': 4, 'queue': [2, 0], 'registers': defaultdict(int, {'a': 1, 'p': 1})}]"
      ]
     },
     "execution_count": 12,
     "metadata": {},
     "output_type": "execute_result"
    }
   ],
   "source": [
    "print(apply_command('rcv a', 1, state))\n",
    "state"
   ]
  },
  {
   "cell_type": "code",
   "execution_count": 13,
   "metadata": {},
   "outputs": [
    {
     "name": "stdout",
     "output_type": "stream",
     "text": [
      "True\n"
     ]
    },
    {
     "data": {
      "text/plain": [
       "[{'loc': 4, 'queue': [2, 1], 'registers': defaultdict(int, {'a': 1, 'p': 0})},\n",
       " {'loc': 4, 'queue': [2, 0], 'registers': defaultdict(int, {'a': 1, 'p': 1})}]"
      ]
     },
     "execution_count": 13,
     "metadata": {},
     "output_type": "execute_result"
    }
   ],
   "source": [
    "print(apply_command('rcv a', 0, state))\n",
    "state"
   ]
  },
  {
   "cell_type": "markdown",
   "metadata": {},
   "source": [
    "Those seem to be working OK on the face of it. Let's try with the test input:"
   ]
  },
  {
   "cell_type": "code",
   "execution_count": 14,
   "metadata": {
    "collapsed": true
   },
   "outputs": [],
   "source": [
    "testInput_str='''\n",
    "snd 1\n",
    "snd 2\n",
    "snd p\n",
    "rcv a\n",
    "rcv b\n",
    "rcv c\n",
    "rcv d\n",
    "'''"
   ]
  },
  {
   "cell_type": "markdown",
   "metadata": {},
   "source": [
    "Now we need to write a cell that will keep calling each of the programs until both are locked. I'm going to define a function `run_to_lock` which will keep calling `apply_command` until the program is locked."
   ]
  },
  {
   "cell_type": "code",
   "execution_count": 15,
   "metadata": {
    "collapsed": true
   },
   "outputs": [],
   "source": [
    "def run_to_lock(code_ls, stateIn, program_i):\n",
    "    '''\n",
    "    Calls apply_command on program_i in state stateIn on the \n",
    "    code code_ls until the program hits a deadlock, or\n",
    "    leaves the code. Returns the number of steps until\n",
    "    termination.\n",
    "    '''\n",
    "\n",
    "    \n",
    "    # Otherwise, run until get False\n",
    "    i=0\n",
    "    while True:\n",
    "        tv=apply_command(code_ls[stateIn[program_i]['loc']], program_i, stateIn)\n",
    "        \n",
    "        if not tv:\n",
    "            return i\n",
    "        else:\n",
    "            i+=1\n",
    "            # Can finish if the program has \n",
    "            # exited the code\n",
    "            if stateIn[program_i]['loc']<0 or stateIn[program_i]['loc']>=len(code_ls):\n",
    "                return i\n"
   ]
  },
  {
   "cell_type": "code",
   "execution_count": 16,
   "metadata": {},
   "outputs": [
    {
     "data": {
      "text/plain": [
       "3"
      ]
     },
     "execution_count": 16,
     "metadata": {},
     "output_type": "execute_result"
    }
   ],
   "source": [
    "# Initial setup.\n",
    "\n",
    "state=[{'loc':0, 'queue':[], 'registers':defaultdict(int)},\n",
    "       {'loc':0, 'queue':[], 'registers':defaultdict(int)}]\n",
    "\n",
    "state[0]['registers']['p']=0\n",
    "state[1]['registers']['p']=1\n",
    "\n",
    "# Parse the code\n",
    "\n",
    "code_ls=testInput_str.strip().split('\\n')\n",
    "\n",
    "# Now run program 0 until it loks\n",
    "\n",
    "run_to_lock(code_ls, state, 0)\n"
   ]
  },
  {
   "cell_type": "code",
   "execution_count": 17,
   "metadata": {},
   "outputs": [
    {
     "data": {
      "text/plain": [
       "6"
      ]
     },
     "execution_count": 17,
     "metadata": {},
     "output_type": "execute_result"
    }
   ],
   "source": [
    "run_to_lock(code_ls, state, 1)\n"
   ]
  },
  {
   "cell_type": "code",
   "execution_count": 18,
   "metadata": {},
   "outputs": [
    {
     "data": {
      "text/plain": [
       "3"
      ]
     },
     "execution_count": 18,
     "metadata": {},
     "output_type": "execute_result"
    }
   ],
   "source": [
    "run_to_lock(code_ls, state, 0)\n"
   ]
  },
  {
   "cell_type": "markdown",
   "metadata": {},
   "source": [
    "Hmmm... that might actually be working. So let's see if we can alternate the programs until they're both locked:"
   ]
  },
  {
   "cell_type": "code",
   "execution_count": 19,
   "metadata": {},
   "outputs": [],
   "source": [
    "# Initial setup.\n",
    "\n",
    "state=[{'loc':0, 'queue':[], 'registers':defaultdict(int)},\n",
    "       {'loc':0, 'queue':[], 'registers':defaultdict(int)}]\n",
    "\n",
    "state[0]['registers']['p']=0\n",
    "state[1]['registers']['p']=1\n",
    "\n",
    "# Parse the code\n",
    "\n",
    "code_ls=testInput_str.strip().split('\\n')\n",
    "\n",
    "s=[True, True]\n",
    "prog_i=0\n",
    "\n",
    "while not s==[False, False]:\n",
    "    c=run_to_lock(code_ls, state, prog_i)\n",
    "    if c>0:\n",
    "        s[prog_i]=True\n",
    "    else:\n",
    "        s[prog_i]=False\n",
    "    if prog_i==0:\n",
    "        prog_i=1\n",
    "    else:\n",
    "        prog_i=0\n"
   ]
  },
  {
   "cell_type": "markdown",
   "metadata": {},
   "source": [
    "Finally, we'll need a quick redefinition to count the `snd` commands. Easiest to put that in `run_to_lock`:"
   ]
  },
  {
   "cell_type": "code",
   "execution_count": 20,
   "metadata": {
    "collapsed": true
   },
   "outputs": [],
   "source": [
    "def run_to_lock_snd(code_ls, stateIn, program_i):\n",
    "    '''\n",
    "    Calls apply_command on program_i in state stateIn on the \n",
    "    code code_ls until the program hits a deadlock, or\n",
    "    leaves the code. Returns the pair of the number of steps\n",
    "    until termination plus the number of calls to snd.\n",
    "    '''\n",
    "    \n",
    "    # Run until get False\n",
    "    i=0\n",
    "    callsToSnd_i=0\n",
    "    while True:\n",
    "        command_str=code_ls[stateIn[program_i]['loc']]\n",
    "        tv=apply_command(command_str, program_i, stateIn)\n",
    "        \n",
    "        if not tv:\n",
    "            return (i, callsToSnd_i)\n",
    "        else:\n",
    "            i+=1\n",
    "            if command_str[0:3]=='snd':\n",
    "                callsToSnd_i+=1\n",
    "                \n",
    "            # Can finish if the program has \n",
    "            # exited the code\n",
    "            if stateIn[program_i]['loc']<0 or stateIn[program_i]['loc']>=len(code_ls):\n",
    "                return (i, callsToSnd_i)\n"
   ]
  },
  {
   "cell_type": "code",
   "execution_count": 21,
   "metadata": {},
   "outputs": [
    {
     "data": {
      "text/plain": [
       "8001"
      ]
     },
     "execution_count": 21,
     "metadata": {},
     "output_type": "execute_result"
    }
   ],
   "source": [
    "# Initial setup.\n",
    "\n",
    "state=[{'loc':0, 'queue':[], 'registers':defaultdict(int)},\n",
    "       {'loc':0, 'queue':[], 'registers':defaultdict(int)}]\n",
    "\n",
    "state[0]['registers']['p']=0\n",
    "state[1]['registers']['p']=1\n",
    "\n",
    "# Parse the code\n",
    "with open('data/day18.txt') as fIn:\n",
    "    code_ls=fIn.read().strip().split('\\n')\n",
    "\n",
    "s=[True, True]\n",
    "prog_i=0\n",
    "\n",
    "callsToSnd_ls=[0, 0]\n",
    "\n",
    "while not s==[False, False]:\n",
    "    (totalCalls_i, callsToSnd_i)=run_to_lock_snd(code_ls, state, prog_i)\n",
    "    if totalCalls_i>0:\n",
    "        s[prog_i]=True\n",
    "    else:\n",
    "        s[prog_i]=False\n",
    "    callsToSnd_ls[prog_i]+=callsToSnd_i\n",
    "    if prog_i==0:\n",
    "        prog_i=1\n",
    "    else:\n",
    "        prog_i=0\n",
    "\n",
    "callsToSnd_ls[1]\n"
   ]
  },
  {
   "cell_type": "markdown",
   "metadata": {},
   "source": [
    "That was a bit of a slog. Wonder how quickly others got it?"
   ]
  }
 ],
 "metadata": {
  "kernelspec": {
   "display_name": "Python 3",
   "language": "python",
   "name": "python3"
  },
  "language_info": {
   "codemirror_mode": {
    "name": "ipython",
    "version": 3
   },
   "file_extension": ".py",
   "mimetype": "text/x-python",
   "name": "python",
   "nbconvert_exporter": "python",
   "pygments_lexer": "ipython3",
   "version": "3.6.1"
  }
 },
 "nbformat": 4,
 "nbformat_minor": 2
}
