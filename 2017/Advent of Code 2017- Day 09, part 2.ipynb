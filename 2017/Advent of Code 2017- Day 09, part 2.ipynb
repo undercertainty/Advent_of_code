{
 "cells": [
  {
   "cell_type": "markdown",
   "metadata": {},
   "source": [
    "This shouldn't be too difficult to extend... let's define a `count_garbage` function to replace `remove_garbage`"
   ]
  },
  {
   "cell_type": "markdown",
   "metadata": {},
   "source": [
    "Define `parse_group` as before, but change `remove_garbage` to `count_garbage`, returning a pair of the new input string and the number of contained characters:"
   ]
  },
  {
   "cell_type": "code",
   "execution_count": 4,
   "metadata": {
    "collapsed": true
   },
   "outputs": [],
   "source": [
    "def parse_group(input_str, currentDepth_i=1, garbageCount_i=0):\n",
    "    '''\n",
    "    Build the parse tree from the start of the next group. Check\n",
    "    that the first character of input_str is a '{'.\n",
    "    Return a list of the depths of the contained groups.\n",
    "    '''\n",
    "    assert input_str[0]=='{'\n",
    "    out_ls=[]\n",
    "    \n",
    "    while input_str[0] != '}':\n",
    "        # Remove the first character of the string:\n",
    "        input_str=input_str[1:]\n",
    "        \n",
    "        # if it's a '{', then parse the next group:\n",
    "        if input_str[0]=='{':\n",
    "            (parse_ls, input_str, garbageCount_i)=parse_group(input_str, currentDepth_i+1, garbageCount_i)\n",
    "            out_ls.append(parse_ls)\n",
    "        \n",
    "        # if it's a '<', parse as garbage:\n",
    "        if input_str[0]=='<':\n",
    "            (gc_i, input_str)=count_garbage(input_str)\n",
    "            garbageCount_i += gc_i\n",
    "        \n",
    "    # Finally, add the current depth to the beginning \n",
    "    # of the output list, and return it, the current\n",
    "    # (shortened) input string, and the number of garbage\n",
    "    # characters.\n",
    "    out_ls[0:0]=[currentDepth_i]\n",
    "    return (out_ls, input_str[1:], garbageCount_i)"
   ]
  },
  {
   "cell_type": "markdown",
   "metadata": {},
   "source": [
    "So just for the `parse_group` function (that is, without the garbage recogniser), the following test cases should give the correct answers:"
   ]
  },
  {
   "cell_type": "code",
   "execution_count": 5,
   "metadata": {},
   "outputs": [
    {
     "data": {
      "text/plain": [
       "([1], '', 0)"
      ]
     },
     "execution_count": 5,
     "metadata": {},
     "output_type": "execute_result"
    }
   ],
   "source": [
    "# Should have 1 group\n",
    "parse_group('{}')"
   ]
  },
  {
   "cell_type": "code",
   "execution_count": 6,
   "metadata": {},
   "outputs": [
    {
     "data": {
      "text/plain": [
       "([1, [2, [3]]], '', 0)"
      ]
     },
     "execution_count": 6,
     "metadata": {},
     "output_type": "execute_result"
    }
   ],
   "source": [
    "# Should have 3 groups\n",
    "parse_group('{{{}}}')"
   ]
  },
  {
   "cell_type": "code",
   "execution_count": 7,
   "metadata": {},
   "outputs": [
    {
     "data": {
      "text/plain": [
       "([1, [2, [3], [3], [3, [4]]]], '', 0)"
      ]
     },
     "execution_count": 7,
     "metadata": {},
     "output_type": "execute_result"
    }
   ],
   "source": [
    "# Should have 6 groups\n",
    "parse_group('{{{},{},{{}}}}')"
   ]
  },
  {
   "cell_type": "markdown",
   "metadata": {},
   "source": [
    "OK, seems OK so far. Let's try adding the garbage counter now:"
   ]
  },
  {
   "cell_type": "code",
   "execution_count": 16,
   "metadata": {
    "collapsed": true
   },
   "outputs": [],
   "source": [
    "def count_garbage(input_str):\n",
    "    '''\n",
    "    Remove garbage from the front of input_str, and return a\n",
    "    pair of the string with the garbage removed and the number\n",
    "     of garbage characters.\n",
    "    '''\n",
    "    # Check that we have the garbage opening character:\n",
    "    assert input_str[0]=='<'\n",
    "    \n",
    "    garbageCount_i=0\n",
    "    \n",
    "    # Remove initial '<', 'cos we're not including\n",
    "    # it in the garbage count\n",
    "    input_str=input_str[1:]\n",
    "    \n",
    "    # Now pass over anything until the closing character:\n",
    "    while input_str[0] != '>':\n",
    "        # unless it's a '!', in which case ignore the following character\n",
    "        if input_str[0]=='!':\n",
    "            input_str=input_str[2:]\n",
    "        # otherwise, remove the next character and increment the count:\n",
    "        else:\n",
    "            input_str=input_str[1:]\n",
    "            garbageCount_i+=1\n",
    "    \n",
    "    # Finally, return the pair of the remaining input string\n",
    "    # (without the closing bracket) and the garbage count\n",
    "    return (garbageCount_i, input_str[1:])"
   ]
  },
  {
   "cell_type": "code",
   "execution_count": 18,
   "metadata": {},
   "outputs": [],
   "source": [
    "# Run the test cases:\n",
    "\n",
    "assert count_garbage('<>End of garbage')==(0, 'End of garbage')\n",
    "assert count_garbage('<random characters>End of garbage')==(17, 'End of garbage')\n",
    "assert count_garbage('<<<<>End of garbage')==(3, 'End of garbage')\n",
    "assert count_garbage('<{!>}>End of garbage')==(2, 'End of garbage')\n",
    "assert count_garbage('<!!>End of garbage')==(0, 'End of garbage')\n",
    "assert count_garbage('<!!!>>End of garbage')==(0, 'End of garbage')\n",
    "assert count_garbage('<{o\"i!a,<{i<a>End of garbage')==(10, 'End of garbage')"
   ]
  },
  {
   "cell_type": "markdown",
   "metadata": {},
   "source": [
    "Good. Now check the remaining test cases."
   ]
  },
  {
   "cell_type": "code",
   "execution_count": 19,
   "metadata": {},
   "outputs": [
    {
     "data": {
      "text/plain": [
       "([1], '', 4)"
      ]
     },
     "execution_count": 19,
     "metadata": {},
     "output_type": "execute_result"
    }
   ],
   "source": [
    "# Should have 4 garbage characters\n",
    "parse_group('{<a>,<a>,<a>,<a>}')"
   ]
  },
  {
   "cell_type": "code",
   "execution_count": 20,
   "metadata": {},
   "outputs": [
    {
     "data": {
      "text/plain": [
       "([1, [2], [2], [2], [2]], '', 4)"
      ]
     },
     "execution_count": 20,
     "metadata": {},
     "output_type": "execute_result"
    }
   ],
   "source": [
    "# Should have 4 garbage characters\n",
    "parse_group('{{<a>},{<a>},{<a>},{<a>}}')"
   ]
  },
  {
   "cell_type": "code",
   "execution_count": 21,
   "metadata": {},
   "outputs": [
    {
     "data": {
      "text/plain": [
       "([1, [2]], '', 13)"
      ]
     },
     "execution_count": 21,
     "metadata": {},
     "output_type": "execute_result"
    }
   ],
   "source": [
    "# Should have 13 garbage characters\n",
    "parse_group('{{<!>},{<!>},{<!>},{<a>}}')"
   ]
  },
  {
   "cell_type": "markdown",
   "metadata": {},
   "source": [
    "That all seems to be behaving properly. So let's do my input:"
   ]
  },
  {
   "cell_type": "code",
   "execution_count": 22,
   "metadata": {},
   "outputs": [
    {
     "data": {
      "text/plain": [
       "7298"
      ]
     },
     "execution_count": 22,
     "metadata": {},
     "output_type": "execute_result"
    }
   ],
   "source": [
    "with open('data/day9.txt') as fIn:\n",
    "    myInput_str=fIn.read().strip()\n",
    "\n",
    "parse_group(myInput_str)[2]"
   ]
  }
 ],
 "metadata": {
  "kernelspec": {
   "display_name": "Python 3",
   "language": "python",
   "name": "python3"
  },
  "language_info": {
   "codemirror_mode": {
    "name": "ipython",
    "version": 3
   },
   "file_extension": ".py",
   "mimetype": "text/x-python",
   "name": "python",
   "nbconvert_exporter": "python",
   "pygments_lexer": "ipython3",
   "version": "3.6.1"
  }
 },
 "nbformat": 4,
 "nbformat_minor": 2
}
