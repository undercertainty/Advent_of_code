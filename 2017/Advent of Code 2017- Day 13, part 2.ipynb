{
 "cells": [
  {
   "cell_type": "markdown",
   "metadata": {},
   "source": [
    "First, refactor the previous notebook into a single function. We can add a delay parameter for the length of time to wait before going through."
   ]
  },
  {
   "cell_type": "markdown",
   "metadata": {},
   "source": [
    "OK, a naive run took forever, so need to be a bit cleverer..."
   ]
  },
  {
   "cell_type": "markdown",
   "metadata": {},
   "source": [
    "Consider when each scanner is at 0. If it has range n, then it will be at zero every n+(n-2) steps. So if n=2, then it's there every other step, if n=3, every 4 steps etc."
   ]
  },
  {
   "cell_type": "markdown",
   "metadata": {},
   "source": [
    "So a scanner with range n will be in position 0 after k steps (k is an int), if k%n==0."
   ]
  },
  {
   "cell_type": "markdown",
   "metadata": {},
   "source": [
    "Now, we want to know when a scanner is at position 0 at the same time as the packet. The packet is at position i after i steps, and after i steps, the scanner is at position i%n."
   ]
  },
  {
   "cell_type": "code",
   "execution_count": 1,
   "metadata": {
    "collapsed": true
   },
   "outputs": [],
   "source": [
    "input_str='''\n",
    "0: 3\n",
    "1: 2\n",
    "4: 4\n",
    "6: 4\n",
    "'''"
   ]
  },
  {
   "cell_type": "code",
   "execution_count": 2,
   "metadata": {
    "collapsed": true
   },
   "outputs": [],
   "source": [
    "# Parse the input\n",
    "input_dict={int(nl.split(':')[0].strip()): int(nl.split(':')[1].strip())\n",
    "            for nl in input_str.split('\\n') if len(nl.split(':'))==2}"
   ]
  },
  {
   "cell_type": "code",
   "execution_count": 3,
   "metadata": {},
   "outputs": [
    {
     "data": {
      "text/plain": [
       "{0: 3, 1: 2, 4: 4, 6: 4}"
      ]
     },
     "execution_count": 3,
     "metadata": {},
     "output_type": "execute_result"
    }
   ],
   "source": [
    "input_dict"
   ]
  },
  {
   "cell_type": "markdown",
   "metadata": {},
   "source": [
    "Create a list of 1s (1 is safe), the length of the input:"
   ]
  },
  {
   "cell_type": "code",
   "execution_count": 4,
   "metadata": {},
   "outputs": [
    {
     "data": {
      "text/plain": [
       "[1, 1, 1, 1, 1, 1, 1]"
      ]
     },
     "execution_count": 4,
     "metadata": {},
     "output_type": "execute_result"
    }
   ],
   "source": [
    "l=[1]*(max(input_dict)+1)\n",
    "l"
   ]
  },
  {
   "cell_type": "markdown",
   "metadata": {},
   "source": [
    "Then for some offset, find the position of each scanner *at the time the packet meets it*: "
   ]
  },
  {
   "cell_type": "code",
   "execution_count": 5,
   "metadata": {},
   "outputs": [
    {
     "data": {
      "text/plain": [
       "[0, 1, 1, 1, 4, 1, 0]"
      ]
     },
     "execution_count": 5,
     "metadata": {},
     "output_type": "execute_result"
    }
   ],
   "source": [
    "offset=0\n",
    "\n",
    "for k in input_dict:\n",
    "    l[k]=(k+offset)%(2*(input_dict[k]-1))\n",
    "l"
   ]
  },
  {
   "cell_type": "markdown",
   "metadata": {},
   "source": [
    "So in this case, the packet is detected by the scanner at steps 0 and 6 (which is what we want)."
   ]
  },
  {
   "cell_type": "markdown",
   "metadata": {},
   "source": [
    "With luck, if the offset is 10, we should get a list with no zeros in it:"
   ]
  },
  {
   "cell_type": "code",
   "execution_count": 6,
   "metadata": {},
   "outputs": [
    {
     "data": {
      "text/plain": [
       "[2, 1, 1, 1, 2, 1, 4]"
      ]
     },
     "execution_count": 6,
     "metadata": {},
     "output_type": "execute_result"
    }
   ],
   "source": [
    "offset=10\n",
    "\n",
    "for k in input_dict:\n",
    "    l[k]=(k+offset)%(2*(input_dict[k]-1))\n",
    "l"
   ]
  },
  {
   "cell_type": "markdown",
   "metadata": {
    "collapsed": true
   },
   "source": [
    "OK, that seems to work. Now, let's try applying it to our puzzle input:"
   ]
  },
  {
   "cell_type": "code",
   "execution_count": 7,
   "metadata": {
    "collapsed": true
   },
   "outputs": [],
   "source": [
    "with open('data/day13.txt') as fIn:\n",
    "    puzzleInput_str=fIn.read()"
   ]
  },
  {
   "cell_type": "code",
   "execution_count": 8,
   "metadata": {
    "collapsed": true
   },
   "outputs": [],
   "source": [
    "# Parse the input\n",
    "input_dict={int(nl.split(':')[0].strip()): int(nl.split(':')[1].strip())\n",
    "            for nl in puzzleInput_str.split('\\n') if len(nl.split(':'))==2}\n"
   ]
  },
  {
   "cell_type": "markdown",
   "metadata": {},
   "source": [
    "Then cycle through until we find a working offset:"
   ]
  },
  {
   "cell_type": "code",
   "execution_count": 9,
   "metadata": {},
   "outputs": [
    {
     "data": {
      "text/plain": [
       "3941460"
      ]
     },
     "execution_count": 9,
     "metadata": {},
     "output_type": "execute_result"
    }
   ],
   "source": [
    "offset=0\n",
    "\n",
    "while True:\n",
    "    offset+=1\n",
    "    l=[1]*(max(input_dict)+1)\n",
    "\n",
    "    for k in input_dict:\n",
    "        l[k]=(k+offset)%(2*(input_dict[k]-1))\n",
    "    if all(l):\n",
    "        break\n",
    "\n",
    "\n",
    "offset\n"
   ]
  }
 ],
 "metadata": {
  "kernelspec": {
   "display_name": "Python 3",
   "language": "python",
   "name": "python3"
  },
  "language_info": {
   "codemirror_mode": {
    "name": "ipython",
    "version": 3
   },
   "file_extension": ".py",
   "mimetype": "text/x-python",
   "name": "python",
   "nbconvert_exporter": "python",
   "pygments_lexer": "ipython3",
   "version": "3.6.1"
  }
 },
 "nbformat": 4,
 "nbformat_minor": 2
}
