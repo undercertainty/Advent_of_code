{
 "cells": [
  {
   "cell_type": "markdown",
   "metadata": {},
   "source": [
    "I'll do this naively in the first instance, but I suspect that something's going to come to bite..."
   ]
  },
  {
   "cell_type": "markdown",
   "metadata": {},
   "source": [
    "Redefine the two functions, `generateA` and `generateB` so that they meet the changed criteria. That will give us:"
   ]
  },
  {
   "cell_type": "code",
   "execution_count": 1,
   "metadata": {
    "collapsed": true
   },
   "outputs": [],
   "source": [
    "def generateA(input_i):\n",
    "    '''\n",
    "    Return the output of generator A given input_i.\n",
    "    '''\n",
    "    while True:\n",
    "        input_i=(input_i*16807) % 2147483647\n",
    "        if not input_i%4:\n",
    "            return input_i\n",
    "\n",
    "def generateB(input_i):\n",
    "    '''\n",
    "    Return the output of generator B given input_i.\n",
    "    '''\n",
    "    while True:\n",
    "        input_i=(input_i*48271) % 2147483647\n",
    "        if not input_i%8:\n",
    "            return input_i\n",
    "\n",
    "assert generateA(65)==1352636452\n",
    "assert generateA(generateA(65))==1992081072\n",
    "assert generateA(generateA(generateA(65)))==530830436\n",
    "\n",
    "assert generateB(8921)==1233683848\n",
    "assert generateB(generateB(8921))==862516352\n",
    "assert generateB(generateB(generateB(8921)))==1159784568\n",
    "\n"
   ]
  },
  {
   "cell_type": "markdown",
   "metadata": {},
   "source": [
    "Good, now for each pair, need to compare the binaries. "
   ]
  },
  {
   "cell_type": "code",
   "execution_count": 2,
   "metadata": {
    "collapsed": true
   },
   "outputs": [],
   "source": [
    "numberOfIterations_i=1060\n",
    "\n",
    "A_i=65\n",
    "B_i=8921\n",
    "\n",
    "judgeCount_i=0\n",
    "\n",
    "for i in range(numberOfIterations_i):\n",
    "    A_i=generateA(A_i)\n",
    "    B_i=generateB(B_i)\n",
    "    \n",
    "    # Chop off the 0b at the beginning, and pad to 16 \n",
    "    # characters if necessary\n",
    "    \n",
    "    A_bin=bin(A_i)[2:].zfill(16)\n",
    "    B_bin=bin(B_i)[2:].zfill(16)\n",
    "    \n",
    "    # Then compare the final 16 characters\n",
    "    if A_bin[-16:]==B_bin[-16:]:\n",
    "        judgeCount_i += 1\n",
    "        \n",
    "assert judgeCount_i==1"
   ]
  },
  {
   "cell_type": "markdown",
   "metadata": {},
   "source": [
    "Now check for 5,000,000 pairs"
   ]
  },
  {
   "cell_type": "code",
   "execution_count": 3,
   "metadata": {},
   "outputs": [
    {
     "name": "stdout",
     "output_type": "stream",
     "text": [
      "0 1 2 3 4 5 6 7 8 9 10 11 12 13 14 15 16 17 18 19 20 21 22 23 24 25 26 27 28 29 30 31 32 33 34 35 36 37 38 39 40 41 42 43 44 45 46 47 48 49 "
     ]
    }
   ],
   "source": [
    "numberOfIterations_i=5000000\n",
    "\n",
    "A_i=65\n",
    "B_i=8921\n",
    "\n",
    "judgeCount_i=0\n",
    "\n",
    "for i in range(numberOfIterations_i):\n",
    "    \n",
    "    if not i%100000:\n",
    "        print(int(i/100000), end=' ')\n",
    "    \n",
    "    A_i=generateA(A_i)\n",
    "    B_i=generateB(B_i)\n",
    "    \n",
    "    # Chop off the 0b at the beginning, and pad to 16 \n",
    "    # characters if necessary\n",
    "    \n",
    "    A_bin=bin(A_i)[2:].zfill(16)\n",
    "    B_bin=bin(B_i)[2:].zfill(16)\n",
    "    \n",
    "    # Then compare the final 16 characters\n",
    "    if A_bin[-16:]==B_bin[-16:]:\n",
    "        judgeCount_i += 1\n",
    "        \n",
    "assert judgeCount_i==309"
   ]
  },
  {
   "cell_type": "markdown",
   "metadata": {},
   "source": [
    "Now do it with my puzzle input:"
   ]
  },
  {
   "cell_type": "code",
   "execution_count": 4,
   "metadata": {},
   "outputs": [
    {
     "name": "stdout",
     "output_type": "stream",
     "text": [
      "0 1 2 3 4 5 6 7 8 9 10 11 12 13 14 15 16 17 18 19 20 21 22 23 24 25 26 27 28 29 30 31 32 33 34 35 36 37 38 39 40 41 42 43 44 45 46 47 48 49 "
     ]
    },
    {
     "data": {
      "text/plain": [
       "343"
      ]
     },
     "execution_count": 4,
     "metadata": {},
     "output_type": "execute_result"
    }
   ],
   "source": [
    "numberOfIterations_i=5000000\n",
    "\n",
    "A_i=289\n",
    "B_i=629\n",
    "\n",
    "judgeCount_i=0\n",
    "\n",
    "for i in range(numberOfIterations_i):\n",
    "    \n",
    "    if not i%100000:\n",
    "        print(int(i/100000), end=' ')\n",
    "    \n",
    "    A_i=generateA(A_i)\n",
    "    B_i=generateB(B_i)\n",
    "    \n",
    "    # Chop off the 0b at the beginning, and pad to 16 \n",
    "    # characters if necessary\n",
    "    \n",
    "    A_bin=bin(A_i)[2:].zfill(16)\n",
    "    B_bin=bin(B_i)[2:].zfill(16)\n",
    "    \n",
    "    # Then compare the final 16 characters\n",
    "    if A_bin[-16:]==B_bin[-16:]:\n",
    "        judgeCount_i += 1\n",
    "        \n",
    "judgeCount_i"
   ]
  },
  {
   "cell_type": "markdown",
   "metadata": {
    "collapsed": true
   },
   "source": [
    "That was all suspiciously straightforward..."
   ]
  }
 ],
 "metadata": {
  "kernelspec": {
   "display_name": "Python 3",
   "language": "python",
   "name": "python3"
  },
  "language_info": {
   "codemirror_mode": {
    "name": "ipython",
    "version": 3
   },
   "file_extension": ".py",
   "mimetype": "text/x-python",
   "name": "python",
   "nbconvert_exporter": "python",
   "pygments_lexer": "ipython3",
   "version": "3.6.1"
  }
 },
 "nbformat": 4,
 "nbformat_minor": 2
}
