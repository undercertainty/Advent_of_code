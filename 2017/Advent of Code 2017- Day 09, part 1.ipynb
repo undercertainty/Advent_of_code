{
 "cells": [
  {
   "cell_type": "markdown",
   "metadata": {},
   "source": [
    "Oh damn it, I haven't had to write a parser for years. I thought all these things were done with deep learning now?"
   ]
  },
  {
   "cell_type": "markdown",
   "metadata": {},
   "source": [
    "Anyhow, let's define a function `parse_group` which will build a parse tree starting at a group opener (`{`). Some observations for the moment:\n",
    "* I'll also need a `parse_garbage` function.\n",
    "* It's not clear what the commas are for, whether they're needed at all, or whether they could be arbitrary (non-special) characters"
   ]
  },
  {
   "cell_type": "code",
   "execution_count": 1,
   "metadata": {
    "collapsed": true
   },
   "outputs": [],
   "source": [
    "def parse_group(input_str, currentDepth_i=1):\n",
    "    '''\n",
    "    Build the parse tree from the start of the next group. Check\n",
    "    that the first character of input_str is a '{'.\n",
    "    Return a list of the depths of the contained groups.\n",
    "    '''\n",
    "    assert input_str[0]=='{'\n",
    "    out_ls=[]\n",
    "    \n",
    "    while input_str[0] != '}':\n",
    "        # Remove the first character of the string:\n",
    "        input_str=input_str[1:]\n",
    "        \n",
    "        # if it's a '{', then parse the next group:\n",
    "        if input_str[0]=='{':\n",
    "            (parse_ls, input_str)=parse_group(input_str, currentDepth_i+1)\n",
    "            out_ls.append(parse_ls)\n",
    "        \n",
    "        # if it's a '<', parse as garbage:\n",
    "        if input_str[0]=='<':\n",
    "            input_str=remove_garbage(input_str)\n",
    "        \n",
    "    # Finally, add the current depth to the beginning \n",
    "    # of the output list, and return it, and the current\n",
    "    # (shortened) input string.\n",
    "    out_ls[0:0]=[currentDepth_i]\n",
    "    return (out_ls, input_str[1:])"
   ]
  },
  {
   "cell_type": "markdown",
   "metadata": {},
   "source": [
    "So just for the `parse_group` function (that is, without the garbage recogniser), the following test cases should give the correct answers:"
   ]
  },
  {
   "cell_type": "code",
   "execution_count": 2,
   "metadata": {},
   "outputs": [
    {
     "data": {
      "text/plain": [
       "([1], '')"
      ]
     },
     "execution_count": 2,
     "metadata": {},
     "output_type": "execute_result"
    }
   ],
   "source": [
    "# Should have 1 group\n",
    "parse_group('{}')"
   ]
  },
  {
   "cell_type": "code",
   "execution_count": 3,
   "metadata": {},
   "outputs": [
    {
     "data": {
      "text/plain": [
       "([1, [2, [3]]], '')"
      ]
     },
     "execution_count": 3,
     "metadata": {},
     "output_type": "execute_result"
    }
   ],
   "source": [
    "# Should have 3 groups\n",
    "parse_group('{{{}}}')"
   ]
  },
  {
   "cell_type": "code",
   "execution_count": 4,
   "metadata": {},
   "outputs": [
    {
     "data": {
      "text/plain": [
       "([1, [2, [3], [3], [3, [4]]]], '')"
      ]
     },
     "execution_count": 4,
     "metadata": {},
     "output_type": "execute_result"
    }
   ],
   "source": [
    "# Should have 6 groups\n",
    "parse_group('{{{},{},{{}}}}')"
   ]
  },
  {
   "cell_type": "markdown",
   "metadata": {},
   "source": [
    "OK, seems OK so far. Let's try adding the garbage recogniser now:"
   ]
  },
  {
   "cell_type": "code",
   "execution_count": 5,
   "metadata": {
    "collapsed": true
   },
   "outputs": [],
   "source": [
    "def remove_garbage(input_str):\n",
    "    '''\n",
    "    Remove garbage from the front of input_str, and return a string\n",
    "    with the garbage removed.\n",
    "    '''\n",
    "    # Check that we have the garbage opening character:\n",
    "    assert input_str[0]=='<'\n",
    "    \n",
    "    # Now ignore anything until the closing character:\n",
    "    while input_str[0] != '>':\n",
    "        # unless it's a '!', in which case ignore the following character\n",
    "        if input_str[0]=='!':\n",
    "            input_str=input_str[2:]\n",
    "        # otherwise, just remove the next character:\n",
    "        else:\n",
    "            input_str=input_str[1:]\n",
    "    \n",
    "    # Finally, return the remaining input string (without the\n",
    "    # closing bracket):\n",
    "    return input_str[1:]"
   ]
  },
  {
   "cell_type": "code",
   "execution_count": 6,
   "metadata": {},
   "outputs": [],
   "source": [
    "# Run the test cases:\n",
    "\n",
    "assert remove_garbage('<>End of garbage')=='End of garbage'\n",
    "assert remove_garbage('<sjafhkasjhfkdjksj982487qwl{@#$>End of garbage')=='End of garbage'\n",
    "assert remove_garbage('<{!>}>End of garbage')=='End of garbage'\n",
    "assert remove_garbage('<!!>End of garbage')=='End of garbage'\n",
    "assert remove_garbage('<!!!>>End of garbage')=='End of garbage'\n",
    "assert remove_garbage('<{o\"i!a,<{i<a>End of garbage')=='End of garbage'"
   ]
  },
  {
   "cell_type": "markdown",
   "metadata": {},
   "source": [
    "Good. Now check the remaining test cases."
   ]
  },
  {
   "cell_type": "code",
   "execution_count": 7,
   "metadata": {},
   "outputs": [
    {
     "data": {
      "text/plain": [
       "([1], '')"
      ]
     },
     "execution_count": 7,
     "metadata": {},
     "output_type": "execute_result"
    }
   ],
   "source": [
    "# Should have 1 group\n",
    "parse_group('{<a>,<a>,<a>,<a>}')"
   ]
  },
  {
   "cell_type": "code",
   "execution_count": 8,
   "metadata": {},
   "outputs": [
    {
     "data": {
      "text/plain": [
       "([1, [2], [2], [2], [2]], '')"
      ]
     },
     "execution_count": 8,
     "metadata": {},
     "output_type": "execute_result"
    }
   ],
   "source": [
    "# Should have 5 groups\n",
    "parse_group('{{<a>},{<a>},{<a>},{<a>}}')"
   ]
  },
  {
   "cell_type": "code",
   "execution_count": 9,
   "metadata": {},
   "outputs": [
    {
     "data": {
      "text/plain": [
       "([1, [2]], '')"
      ]
     },
     "execution_count": 9,
     "metadata": {},
     "output_type": "execute_result"
    }
   ],
   "source": [
    "# Should have 2 groups\n",
    "parse_group('{{<!>},{<!>},{<!>},{<a>}}')"
   ]
  },
  {
   "cell_type": "markdown",
   "metadata": {},
   "source": [
    "That all seems to be behaving properly. So let's do a small function to extract all the counts in the parse tree. Each node in the tree has either 1 numerical member, or 1 member and a subtree:"
   ]
  },
  {
   "cell_type": "code",
   "execution_count": 10,
   "metadata": {
    "collapsed": true
   },
   "outputs": [],
   "source": [
    "def extract_groups(parseTree_ls):\n",
    "    '''\n",
    "    Extract the group values from the provided tree. Return as a list \n",
    "    ('cos it's easy to just sum after)\n",
    "    '''\n",
    "    # Use a local flatten function:\n",
    "    flatten_list = lambda lists:[item for sublist in lists for item in sublist]\n",
    "    \n",
    "    if len(parseTree_ls)==1:\n",
    "        return parseTree_ls\n",
    "    else:\n",
    "        return parseTree_ls[0:1]+flatten_list([extract_groups(pt) for pt in parseTree_ls[1:]])"
   ]
  },
  {
   "cell_type": "markdown",
   "metadata": {},
   "source": [
    "Do the test cases:"
   ]
  },
  {
   "cell_type": "code",
   "execution_count": 11,
   "metadata": {},
   "outputs": [],
   "source": [
    "def test(input_str):\n",
    "    return sum(extract_groups(parse_group(input_str)[0]))\n",
    "\n",
    "assert test('{}')==1\n",
    "assert test('{{{}}}')==6\n",
    "assert test('{{},{}}')==5\n",
    "assert test('{{{},{},{{}}}}')==16\n",
    "assert test('{<a>,<a>,<a>,<a>}')==1\n",
    "assert test('{{<ab>},{<ab>},{<ab>},{<ab>}}')==9\n",
    "assert test('{{<!!>},{<!!>},{<!!>},{<!!>}}')==9\n",
    "assert test('{{<a!>},{<a!>},{<a!>},{<ab>}}')==3"
   ]
  },
  {
   "cell_type": "markdown",
   "metadata": {},
   "source": [
    "Finally, do my input:"
   ]
  },
  {
   "cell_type": "code",
   "execution_count": 12,
   "metadata": {},
   "outputs": [
    {
     "data": {
      "text/plain": [
       "16827"
      ]
     },
     "execution_count": 12,
     "metadata": {},
     "output_type": "execute_result"
    }
   ],
   "source": [
    "with open('data/day9.txt') as fIn:\n",
    "    myInput_str=fIn.read().strip()\n",
    "\n",
    "test(myInput_str)"
   ]
  }
 ],
 "metadata": {
  "kernelspec": {
   "display_name": "Python 3",
   "language": "python",
   "name": "python3"
  },
  "language_info": {
   "codemirror_mode": {
    "name": "ipython",
    "version": 3
   },
   "file_extension": ".py",
   "mimetype": "text/x-python",
   "name": "python",
   "nbconvert_exporter": "python",
   "pygments_lexer": "ipython3",
   "version": "3.6.1"
  }
 },
 "nbformat": 4,
 "nbformat_minor": 2
}
