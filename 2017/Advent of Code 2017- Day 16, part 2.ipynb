{
 "cells": [
  {
   "cell_type": "markdown",
   "metadata": {},
   "source": [
    "A billion, eh? Part 2 seems more in keeping with the \"harder at weekends\" model. So this will probably need some actual thought about the nature of the task."
   ]
  },
  {
   "cell_type": "markdown",
   "metadata": {},
   "source": [
    "How long will it actually take to run it naively?"
   ]
  },
  {
   "cell_type": "code",
   "execution_count": 1,
   "metadata": {
    "collapsed": true
   },
   "outputs": [],
   "source": [
    "import time\n",
    "import itertools as it"
   ]
  },
  {
   "cell_type": "code",
   "execution_count": 2,
   "metadata": {
    "collapsed": true
   },
   "outputs": [],
   "source": [
    "def dance_step(stepIn_str, stateIn_str):\n",
    "    '''\n",
    "    Takes a string representation of the current state, \n",
    "    stateIn_str, and a string representation of a daance\n",
    "    step, stepIn_str, and returns a string of the \n",
    "    resulting state\n",
    "    '''\n",
    "    # If it's a loop, advance the end characters:\n",
    "    if stepIn_str[0]=='s':\n",
    "        stepSize_i=int(stepIn_str[1:])\n",
    "        return stateIn_str[-stepSize_i:] + stateIn_str[:-stepSize_i]\n",
    "\n",
    "    # If it's Exchange, swap the referenced programs\n",
    "    elif stepIn_str[0]=='x':\n",
    "        (x, y)=(int(i) for i in stepIn_str[1:].split('/'))\n",
    "        stateIn_ls=list(stateIn_str)\n",
    "        tmp_chr=stateIn_ls[x]\n",
    "        stateIn_ls[x]=stateIn_ls[y]\n",
    "        stateIn_ls[y]=tmp_chr\n",
    "        return ''.join(stateIn_ls)\n",
    "    \n",
    "    # If it's Partner, swap the named programs\n",
    "    elif stepIn_str[0]=='p':\n",
    "        (x, y)=stepIn_str[1:].split('/')\n",
    "        # Let's use '!' as the tmp character. A better program\n",
    "        # would find a string that's not in stateIn_str.\n",
    "        return stateIn_str.replace(x, '!').replace(y, x).replace('!', y)\n",
    "    \n",
    "    else:\n",
    "        raise ValueError('Command not recognised')\n",
    "\n",
    "assert dance_step('s4', 'abcdefghijklmnop')=='mnopabcdefghijkl'\n",
    "assert dance_step('x3/5', 'abcdefghijklmnop')=='abcfedghijklmnop'\n",
    "assert dance_step('pc/g', 'abcdefghijklmnop')=='abgdefchijklmnop'\n",
    "\n"
   ]
  },
  {
   "cell_type": "markdown",
   "metadata": {},
   "source": [
    "So now do it with our puzzle input:"
   ]
  },
  {
   "cell_type": "raw",
   "metadata": {},
   "source": [
    "state_str='abcdefghijklmnop'\n",
    "\n",
    "with open('data/day16.txt') as fIn:\n",
    "    puzzleInput_str=fIn.read().strip()\n",
    "\n",
    "start = time.time()\n",
    "for i in range(1000):\n",
    "    for step_str in puzzleInput_str.split(','):\n",
    "        state_str=dance_step(step_str, state_str)\n",
    "\n",
    "print(time.time() - start)\n",
    "state_str"
   ]
  },
  {
   "cell_type": "markdown",
   "metadata": {},
   "source": [
    "Answer: bloody ages."
   ]
  },
  {
   "cell_type": "markdown",
   "metadata": {},
   "source": [
    "OK, let's try a different tack: There's obviously quite a lot of combinations here (16!), but it's possible that we end up back in the original state after a bit. Let's see if we get back to the original state after a bit:"
   ]
  },
  {
   "cell_type": "code",
   "execution_count": 3,
   "metadata": {},
   "outputs": [],
   "source": [
    "with open('data/day16.txt') as fIn:\n",
    "    puzzleInput_str=fIn.read().strip()"
   ]
  },
  {
   "cell_type": "code",
   "execution_count": 4,
   "metadata": {},
   "outputs": [
    {
     "data": {
      "text/plain": [
       "560000"
      ]
     },
     "execution_count": 4,
     "metadata": {},
     "output_type": "execute_result"
    }
   ],
   "source": [
    "startState_str='abcdefghijklmnop'\n",
    "\n",
    "allDanceSteps_cyc=it.cycle([step_str for step_str in puzzleInput_str.split(',')])\n",
    "\n",
    "step_i=1\n",
    "state_str=dance_step(next(allDanceSteps_cyc), startState_str)\n",
    "\n",
    "while not state_str==startState_str:\n",
    "    step_i+=1\n",
    "    state_str=dance_step(next(allDanceSteps_cyc), state_str)\n",
    "\n",
    "step_i\n"
   ]
  },
  {
   "cell_type": "markdown",
   "metadata": {},
   "source": [
    "That's a very round number... does it repeat?"
   ]
  },
  {
   "cell_type": "markdown",
   "metadata": {},
   "source": [
    "Hang on... how many steps are there in the input?"
   ]
  },
  {
   "cell_type": "code",
   "execution_count": 5,
   "metadata": {},
   "outputs": [
    {
     "data": {
      "text/plain": [
       "10000"
      ]
     },
     "execution_count": 5,
     "metadata": {},
     "output_type": "execute_result"
    }
   ],
   "source": [
    "len(puzzleInput_str.split(','))"
   ]
  },
  {
   "cell_type": "markdown",
   "metadata": {},
   "source": [
    "OK, so the state reenters its original state after 56 runs of the whole dance:"
   ]
  },
  {
   "cell_type": "code",
   "execution_count": 6,
   "metadata": {},
   "outputs": [
    {
     "data": {
      "text/plain": [
       "'abcdefghijklmnop'"
      ]
     },
     "execution_count": 6,
     "metadata": {},
     "output_type": "execute_result"
    }
   ],
   "source": [
    "startState_str='abcdefghijklmnop'\n",
    "\n",
    "for i in range(56):\n",
    "    for step_str in puzzleInput_str.split(','):\n",
    "        state_str=dance_step(step_str, state_str)\n",
    "state_str\n",
    "    "
   ]
  },
  {
   "cell_type": "code",
   "execution_count": 7,
   "metadata": {},
   "outputs": [
    {
     "data": {
      "text/plain": [
       "'abcdefghijklmnop'"
      ]
     },
     "execution_count": 7,
     "metadata": {},
     "output_type": "execute_result"
    }
   ],
   "source": [
    "startState_str='abcdefghijklmnop'\n",
    "\n",
    "for i in range(112):\n",
    "    for step_str in puzzleInput_str.split(','):\n",
    "        state_str=dance_step(step_str, state_str)\n",
    "state_str\n",
    "    "
   ]
  },
  {
   "cell_type": "markdown",
   "metadata": {},
   "source": [
    "Good. All we need to do now is calculate the position after 1000000000%56 steps, rather than the full billion:"
   ]
  },
  {
   "cell_type": "code",
   "execution_count": 8,
   "metadata": {},
   "outputs": [
    {
     "data": {
      "text/plain": [
       "'ejkflpgnamhdcboi'"
      ]
     },
     "execution_count": 8,
     "metadata": {},
     "output_type": "execute_result"
    }
   ],
   "source": [
    "startState_str='abcdefghijklmnop'\n",
    "\n",
    "for i in range(1000000000%56):\n",
    "    for step_str in puzzleInput_str.split(','):\n",
    "        state_str=dance_step(step_str, state_str)\n",
    "state_str\n",
    "    "
   ]
  }
 ],
 "metadata": {
  "kernelspec": {
   "display_name": "Python 3",
   "language": "python",
   "name": "python3"
  },
  "language_info": {
   "codemirror_mode": {
    "name": "ipython",
    "version": 3
   },
   "file_extension": ".py",
   "mimetype": "text/x-python",
   "name": "python",
   "nbconvert_exporter": "python",
   "pygments_lexer": "ipython3",
   "version": "3.6.1"
  }
 },
 "nbformat": 4,
 "nbformat_minor": 2
}
