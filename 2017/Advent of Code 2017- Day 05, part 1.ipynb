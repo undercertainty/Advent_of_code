{
 "cells": [
  {
   "cell_type": "markdown",
   "metadata": {},
   "source": [
    "For this challenge, I'll represent a state as a pair of the index of the current position in the list, and the list itself. Actually, let's make it a list, 'cos then we can take advantage of its horrible mutability"
   ]
  },
  {
   "cell_type": "code",
   "execution_count": 1,
   "metadata": {
    "collapsed": true
   },
   "outputs": [],
   "source": [
    "testState_ls=[0, [0, 3, 0, 1, -3]]"
   ]
  },
  {
   "cell_type": "markdown",
   "metadata": {},
   "source": [
    "Next, let's define a function `escaped`, which is `True` if the index is outside the list, and `False` otherwise:"
   ]
  },
  {
   "cell_type": "code",
   "execution_count": 2,
   "metadata": {},
   "outputs": [
    {
     "data": {
      "text/plain": [
       "False"
      ]
     },
     "execution_count": 2,
     "metadata": {},
     "output_type": "execute_result"
    }
   ],
   "source": [
    "def escaped(stateIn_ls):\n",
    "    '''False if the index falls outside the maze'''\n",
    "    return stateIn_ls[0]<0 or stateIn_ls[0]>=len(stateIn_ls[1])\n",
    "\n",
    "position_i=0\n",
    "testState_ls=[0, 3, 0, 1, -3]\n",
    "escaped([position_i, testState_ls])"
   ]
  },
  {
   "cell_type": "markdown",
   "metadata": {},
   "source": [
    "Next, define a \"function\" `advance` which updates the input state to be the state after the next move (hate mutable structures, but let's pretend it's an object method...):"
   ]
  },
  {
   "cell_type": "code",
   "execution_count": 3,
   "metadata": {},
   "outputs": [
    {
     "data": {
      "text/plain": [
       "[0, [1, 3, 0, 1, -3]]"
      ]
     },
     "execution_count": 3,
     "metadata": {},
     "output_type": "execute_result"
    }
   ],
   "source": [
    "def advance(state_s):\n",
    "    '''Return the state after the current state moves forward one stage'''\n",
    "\n",
    "    advance_i=state_s[1][state_s[0]]\n",
    "    # Set the output list's position to be increased by 1\n",
    "    state_s[1][state_s[0]] +=1\n",
    "    \n",
    "    # Update the position\n",
    "    state_s[0]+=advance_i\n",
    "\n",
    "\n",
    "testState_s=[0, [0, 3, 0, 1, -3]]\n",
    "advance(testState_s)\n",
    "testState_s"
   ]
  },
  {
   "cell_type": "code",
   "execution_count": 4,
   "metadata": {},
   "outputs": [
    {
     "data": {
      "text/plain": [
       "[1, [2, 3, 0, 1, -3]]"
      ]
     },
     "execution_count": 4,
     "metadata": {},
     "output_type": "execute_result"
    }
   ],
   "source": [
    "advance(testState_s)\n",
    "testState_s"
   ]
  },
  {
   "cell_type": "markdown",
   "metadata": {},
   "source": [
    "OK, now see how many steps it takes to escape:"
   ]
  },
  {
   "cell_type": "code",
   "execution_count": 5,
   "metadata": {},
   "outputs": [
    {
     "name": "stdout",
     "output_type": "stream",
     "text": [
      "[0, [1, 3, 0, 1, -3]]\n",
      "[1, [2, 3, 0, 1, -3]]\n",
      "[4, [2, 4, 0, 1, -3]]\n",
      "[1, [2, 4, 0, 1, -2]]\n",
      "[5, [2, 5, 0, 1, -2]]\n"
     ]
    },
    {
     "data": {
      "text/plain": [
       "5"
      ]
     },
     "execution_count": 5,
     "metadata": {},
     "output_type": "execute_result"
    }
   ],
   "source": [
    "stepsTaken_i=0\n",
    "testState_s=[0, [0, 3, 0, 1, -3]]\n",
    "\n",
    "while not escaped(testState_s):\n",
    "    stepsTaken_i+=1\n",
    "    advance(testState_s)\n",
    "    print(testState_s)\n",
    "stepsTaken_i"
   ]
  },
  {
   "cell_type": "markdown",
   "metadata": {},
   "source": [
    "That's the right answer. So now try with our puzzle input:"
   ]
  },
  {
   "cell_type": "code",
   "execution_count": 6,
   "metadata": {},
   "outputs": [
    {
     "data": {
      "text/plain": [
       "[0, 0, 0, 1, 2]"
      ]
     },
     "execution_count": 6,
     "metadata": {},
     "output_type": "execute_result"
    }
   ],
   "source": [
    "with open('data/day5.txt') as fIn:\n",
    "    inputList_ls=[int(nl) for nl in fIn.readlines()]\n",
    "inputList_ls[:5]"
   ]
  },
  {
   "cell_type": "code",
   "execution_count": 7,
   "metadata": {},
   "outputs": [
    {
     "data": {
      "text/plain": [
       "381680"
      ]
     },
     "execution_count": 7,
     "metadata": {},
     "output_type": "execute_result"
    }
   ],
   "source": [
    "stepsTaken_i=0\n",
    "testState_s=[0, inputList_ls]\n",
    "\n",
    "while not escaped(testState_s):\n",
    "    stepsTaken_i+=1\n",
    "    advance(testState_s)\n",
    "\n",
    "stepsTaken_i"
   ]
  },
  {
   "cell_type": "markdown",
   "metadata": {},
   "source": [
    "The right answer!"
   ]
  }
 ],
 "metadata": {
  "kernelspec": {
   "display_name": "Python [conda root]",
   "language": "python",
   "name": "conda-root-py"
  },
  "language_info": {
   "codemirror_mode": {
    "name": "ipython",
    "version": 3
   },
   "file_extension": ".py",
   "mimetype": "text/x-python",
   "name": "python",
   "nbconvert_exporter": "python",
   "pygments_lexer": "ipython3",
   "version": "3.5.4"
  }
 },
 "nbformat": 4,
 "nbformat_minor": 2
}
