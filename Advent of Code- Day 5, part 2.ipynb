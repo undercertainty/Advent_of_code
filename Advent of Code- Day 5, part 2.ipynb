{
 "cells": [
  {
   "cell_type": "markdown",
   "metadata": {},
   "source": [
    "OK, this shouldn't be too hard either, but the encodings might be a bit fiddly. There seems to be an md5 library in hashlib"
   ]
  },
  {
   "cell_type": "code",
   "execution_count": 1,
   "metadata": {
    "collapsed": true
   },
   "outputs": [],
   "source": [
    "import hashlib"
   ]
  },
  {
   "cell_type": "markdown",
   "metadata": {},
   "source": [
    " To solve this task, need to start at 0 then increase until the hex encoding starts with '00000'"
   ]
  },
  {
   "cell_type": "code",
   "execution_count": 2,
   "metadata": {
    "collapsed": true
   },
   "outputs": [],
   "source": [
    "myCode_str='abbhdwsy'\n"
   ]
  },
  {
   "cell_type": "markdown",
   "metadata": {},
   "source": [
    "This time, start with a list of '<code>*</code>', and replace them as the hashes are found."
   ]
  },
  {
   "cell_type": "code",
   "execution_count": 3,
   "metadata": {
    "collapsed": false
   },
   "outputs": [
    {
     "name": "stdout",
     "output_type": "stream",
     "text": [
      "['*', '*', '*', '*', '*', '*', '*', '*']\n",
      "['4', '*', '*', '*', '*', '*', '*', '*']\n",
      "['4', '2', '*', '*', '*', '*', '*', '*']\n",
      "['4', '2', '*', '*', '*', '*', '*', '*']\n",
      "['4', '2', '*', '*', '*', '1', '*', '*']\n",
      "['4', '2', '*', '*', '*', '1', '9', '*']\n",
      "['4', '2', '*', '*', '*', '1', '9', '*']\n",
      "['4', '2', '*', '*', '*', '1', '9', '7']\n",
      "['4', '2', '*', '*', '*', '1', '9', '7']\n",
      "['4', '2', '*', '*', '*', '1', '9', '7']\n",
      "['4', '2', '*', '*', '*', '1', '9', '7']\n",
      "['4', '2', '*', '*', '*', '1', '9', '7']\n",
      "['4', '2', '4', '*', '*', '1', '9', '7']\n",
      "['4', '2', '4', '*', '0', '1', '9', '7']\n",
      "['4', '2', '4', '*', '0', '1', '9', '7']\n",
      "['4', '2', '4', '*', '0', '1', '9', '7']\n",
      "['4', '2', '4', '*', '0', '1', '9', '7']\n",
      "['4', '2', '4', '*', '0', '1', '9', '7']\n",
      "['4', '2', '4', '*', '0', '1', '9', '7']\n",
      "['4', '2', '4', '*', '0', '1', '9', '7']\n",
      "['4', '2', '4', '*', '0', '1', '9', '7']\n",
      "['4', '2', '4', '*', '0', '1', '9', '7']\n",
      "['4', '2', '4', '*', '0', '1', '9', '7']\n",
      "['4', '2', '4', '*', '0', '1', '9', '7']\n",
      "['4', '2', '4', '*', '0', '1', '9', '7']\n",
      "['4', '2', '4', '*', '0', '1', '9', '7']\n",
      "['4', '2', '4', '*', '0', '1', '9', '7']\n",
      "['4', '2', '4', '*', '0', '1', '9', '7']\n",
      "['4', '2', '4', '*', '0', '1', '9', '7']\n",
      "['4', '2', '4', 'a', '0', '1', '9', '7']\n"
     ]
    },
    {
     "data": {
      "text/plain": [
       "'424a0197'"
      ]
     },
     "execution_count": 3,
     "metadata": {},
     "output_type": "execute_result"
    }
   ],
   "source": [
    "# cs is the list of characters found so far in the code\n",
    "\n",
    "cs=['*']*8\n",
    "i=0\n",
    "\n",
    "while '*' in cs:\n",
    "    h=hashlib.md5()\n",
    "    u=myCode_str+str(i)\n",
    "    h.update(u.encode())\n",
    "    hx=h.hexdigest()         # hx is the hex form of the hash\n",
    "    \n",
    "    if hx[:5]=='00000':\n",
    "        if hx[5] in ['0', '1', '2', '3', '4', '5', '6', '7']:\n",
    "            if cs[int(hx[5])]=='*':\n",
    "                cs[int(hx[5])]=hx[6]\n",
    "                \n",
    "        print(cs)\n",
    "\n",
    "    i+=1\n",
    "\n",
    "''.join(cs)    \n"
   ]
  },
  {
   "cell_type": "code",
   "execution_count": null,
   "metadata": {
    "collapsed": true
   },
   "outputs": [],
   "source": []
  }
 ],
 "metadata": {
  "anaconda-cloud": {},
  "kernelspec": {
   "display_name": "Python [conda root]",
   "language": "python",
   "name": "conda-root-py"
  },
  "language_info": {
   "codemirror_mode": {
    "name": "ipython",
    "version": 3
   },
   "file_extension": ".py",
   "mimetype": "text/x-python",
   "name": "python",
   "nbconvert_exporter": "python",
   "pygments_lexer": "ipython3",
   "version": "3.5.2"
  }
 },
 "nbformat": 4,
 "nbformat_minor": 1
}
