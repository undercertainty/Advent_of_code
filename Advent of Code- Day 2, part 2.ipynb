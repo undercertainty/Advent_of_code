{
 "cells": [
  {
   "cell_type": "markdown",
   "metadata": {},
   "source": [
    "Just as well I didn't try to do anything clever last time, 'cos this should be fairly easy to update:"
   ]
  },
  {
   "cell_type": "code",
   "execution_count": 1,
   "metadata": {
    "collapsed": false
   },
   "outputs": [],
   "source": [
    "aoc_dict={('1', 'U'):'1',\n",
    "          ('1', 'D'):'3',\n",
    "          ('1', 'L'):'1',\n",
    "          ('1', 'R'):'1',\n",
    "          \n",
    "          ('2', 'U'):'2',\n",
    "          ('2', 'D'):'6',\n",
    "          ('2', 'L'):'2',\n",
    "          ('2', 'R'):'3',\n",
    "          \n",
    "          ('3', 'U'):'1',\n",
    "          ('3', 'D'):'7',\n",
    "          ('3', 'L'):'2',\n",
    "          ('3', 'R'):'4',\n",
    "          \n",
    "          ('4', 'U'):'4',\n",
    "          ('4', 'D'):'8',\n",
    "          ('4', 'L'):'3',\n",
    "          ('4', 'R'):'4',\n",
    "          \n",
    "          ('5', 'U'):'5',\n",
    "          ('5', 'D'):'5',\n",
    "          ('5', 'L'):'5',\n",
    "          ('5', 'R'):'6',\n",
    "          \n",
    "          ('6', 'U'):'2',\n",
    "          ('6', 'D'):'A',\n",
    "          ('6', 'L'):'5',\n",
    "          ('6', 'R'):'7',\n",
    "          \n",
    "          ('7', 'U'):'3',\n",
    "          ('7', 'D'):'B',\n",
    "          ('7', 'L'):'6',\n",
    "          ('7', 'R'):'8',\n",
    "          \n",
    "          ('8', 'U'):'4',\n",
    "          ('8', 'D'):'C',\n",
    "          ('8', 'L'):'7',\n",
    "          ('8', 'R'):'9',\n",
    "          \n",
    "          ('9', 'U'):'9',\n",
    "          ('9', 'D'):'9',\n",
    "          ('9', 'L'):'8',\n",
    "          ('9', 'R'):'9',\n",
    "         \n",
    "          ('A', 'U'):'6',\n",
    "          ('A', 'D'):'A',\n",
    "          ('A', 'L'):'A',\n",
    "          ('A', 'R'):'B',\n",
    "         \n",
    "          ('B', 'U'):'7',\n",
    "          ('B', 'D'):'D',\n",
    "          ('B', 'L'):'A',\n",
    "          ('B', 'R'):'C',\n",
    "         \n",
    "          ('C', 'U'):'8',\n",
    "          ('C', 'D'):'C',\n",
    "          ('C', 'L'):'B',\n",
    "          ('C', 'R'):'C',\n",
    "         \n",
    "          ('D', 'U'):'B',\n",
    "          ('D', 'D'):'D',\n",
    "          ('D', 'L'):'D',\n",
    "          ('D', 'R'):'D'}"
   ]
  },
  {
   "cell_type": "markdown",
   "metadata": {},
   "source": [
    "Now, let's define a function that takes an initial state and a set of instructions, and returns the state you end up in. I'll send the above dict as an argument too, 'cos it'll make the function more readable."
   ]
  },
  {
   "cell_type": "code",
   "execution_count": 2,
   "metadata": {
    "collapsed": true
   },
   "outputs": [],
   "source": [
    "def move(state, instrs, moves_dict):\n",
    "    \"\"\"\n",
    "    Return the state found by applying the\n",
    "    list of instructions in instrs to state.\n",
    "    \"\"\"\n",
    "    for instr in instrs:\n",
    "        state=moves_dict[(state, instr)]\n",
    "    return state\n",
    "        "
   ]
  },
  {
   "cell_type": "code",
   "execution_count": 3,
   "metadata": {
    "collapsed": false
   },
   "outputs": [
    {
     "data": {
      "text/plain": [
       "'5DB3'"
      ]
     },
     "execution_count": 3,
     "metadata": {},
     "output_type": "execute_result"
    }
   ],
   "source": [
    "s1=move('5', 'ULL', aoc_dict)\n",
    "s2=move(s1, 'RRDDD', aoc_dict)\n",
    "s3=move(s2, 'LURDL', aoc_dict)\n",
    "s4=move(s3, 'UUUUD', aoc_dict)\n",
    "\n",
    "''.join([str(s) for s in [s1, s2, s3, s4]])"
   ]
  },
  {
   "cell_type": "markdown",
   "metadata": {},
   "source": [
    "And now do the same with the data for the challenge:"
   ]
  },
  {
   "cell_type": "code",
   "execution_count": 4,
   "metadata": {
    "collapsed": true
   },
   "outputs": [],
   "source": [
    "myInput_str=\"\"\"LRRLLLRDRURUDLRDDURULRULLDLRRLRLDULUDDDDLLRRLDUUDULDRURRLDULRRULDLRDUDLRLLLULDUURRRRURURULURRULRURDLULURDRDURDRLRRUUDRULLLLLDRULDDLLRDLURRLDUURDLRLUDLDUDLURLRLDRLUDUULRRRUUULLRDURUDRUDRDRLLDLDDDLDLRRULDUUDULRUDDRLLURDDRLDDUDLLLLULRDDUDDUUULRULUULRLLDULUDLLLLURRLDLUDLDDLDRLRRDRDUDDDLLLLLRRLLRLUDLULLDLDDRRUDDRLRDDURRDULLLURLRDLRRLRDLDURLDDULLLDRRURDULUDUDLLLDDDLLRLDDDLLRRLLURUULULDDDUDULUUURRUUDLDULULDRDDLURURDLDLULDUDUDDDDD\n",
    "RUURUDRDUULRDDLRLLLULLDDUDRDURDLRUULLLLUDUDRRUDUULRRUUDDURDDDLLLLRRUURULULLUDDLRDUDULRURRDRDLDLDUULUULUDDLUDRLULRUDRDDDLRRUUDRRLULUULDULDDLRLURDRLURRRRULDDRLDLLLRULLDURRLUDULDRDUDRLRLULRURDDRLUDLRURDDRDULUDLDLLLDRLRUDLLLLLDUDRDUURUDDUDLDLDUDLLDLRRDLULLURLDDUDDRDUDLDDUULDRLURRDLDLLUUDLDLURRLDRDDLLDLRLULUDRDLLLDRLRLLLDRUULUDLLURDLLUURUDURDDRDRDDUDDRRLLUULRRDRULRURRULLDDDUDULDDRULRLDURLUDULDLDDDLRULLULULUDLDDRDLRDRDLDULRRLRLRLLLLLDDDRDDULRDULRRLDLUDDDDLUDRLLDLURDLRDLDRDRDURRDUDULLLDLUDLDRLRRDDDRRLRLLULDRLRLLLLDUUURDLLULLUDDRLULRDLDLDURRRUURDUDRDLLLLLLDDDURLDULDRLLDUDRULRRDLDUDRLLUUUDULURRUR\n",
    "URRRLRLLDDDRRLDLDLUDRDRDLDUDDDLDRRDRLDULRRDRRDUDRRUUDUUUDLLUURLRDRRURRRRUDRLLLLRRDULRDDRUDLRLUDURRLRLDDRRLUULURLURURUDRULDUUDLULUURRRDDLRDLUDRDLDDDLRUDURRLLRDDRDRLRLLRLRUUDRRLDLUDRURUULDUURDRUULDLLDRDLRDUUDLRLRRLUDRRUULRDDRDLDDULRRRURLRDDRLLLRDRLURDLDRUULDRRRLURURUUUULULRURULRLDDDDLULRLRULDUDDULRUULRRRRRLRLRUDDURLDRRDDULLUULLDLUDDDUURLRRLDULUUDDULDDUULLLRUDLLLRDDDLUUURLDUDRLLLDRRLDDLUDLLDLRRRLDDRUULULUURDDLUR\n",
    "UULDRLUULURDRLDULURLUDULDRRDULULUDLLDURRRURDRLRLLRLDDLURRDLUUDLULRDULDRDLULULULDDLURULLULUDDRRULULULRDULRUURRRUDLRLURDRURDRRUDLDDUURDUUDLULDUDDLUUURURLRRDLULURDURRRURURDUURDRRURRDDULRULRRDRRDRUUUUULRLUUUDUUULLRRDRDULRDDULDRRULRLDLLULUUULUUDRDUUUDLLULDDRRDULUURRDUULLUUDRLLDUDLLLURURLUDDLRURRDRLDDURLDLLUURLDUURULLLRURURLULLLUURUUULLDLRDLUDDRRDDUUDLRURDDDRURUURURRRDLUDRLUULDUDLRUUDRLDRRDLDLDLRUDDDDRRDLDDDLLDLULLRUDDUDDDLDDUURLDUDLRDRURULDULULUDRRDLLRURDULDDRRDLUURUUULULRURDUUDLULLURUDDRLDDUDURRDURRUURLDLLDDUUDLLUURDRULLRRUUURRLLDRRDLURRURDULDDDDRDD\n",
    "LLRUDRUUDUDLRDRDRRLRDRRUDRDURURRLDDDDLRDURDLRRUDRLLRDDUULRULURRRLRULDUURLRURLRLDUDLLDULULDUUURLRURUDDDDRDDLLURDLDRRUDRLDULLRULULLRURRLLURDLLLRRRRDRULRUDUDUDULUURUUURDDLDRDRUUURLDRULDUDULRLRLULLDURRRRURRRDRULULUDLULDDRLRRULLDURUDDUULRUUURDRRLULRRDLDUDURUUUUUURRUUULURDUUDLLUURDLULUDDLUUULLDURLDRRDDLRRRDRLLDRRLUDRLLLDRUULDUDRDDRDRRRLUDUDRRRLDRLRURDLRULRDUUDRRLLRLUUUUURRURLURDRRUURDRRLULUDULRLLURDLLULDDDLRDULLLUDRLURDDLRURLLRDRDULULDDRDDLDDRUUURDUUUDURRLRDUDLRRLRRRDUULDRDUDRLDLRULDL\"\"\""
   ]
  },
  {
   "cell_type": "code",
   "execution_count": 5,
   "metadata": {
    "collapsed": false
   },
   "outputs": [
    {
     "data": {
      "text/plain": [
       "'A47DA'"
      ]
     },
     "execution_count": 5,
     "metadata": {},
     "output_type": "execute_result"
    }
   ],
   "source": [
    "out=''\n",
    "\n",
    "s='5'\n",
    "\n",
    "for instr in myInput_str.splitlines():\n",
    "    s=move(s, instr, aoc_dict)\n",
    "    out=out+str(s)\n",
    "    \n",
    "out"
   ]
  },
  {
   "cell_type": "code",
   "execution_count": null,
   "metadata": {
    "collapsed": true
   },
   "outputs": [],
   "source": []
  }
 ],
 "metadata": {
  "anaconda-cloud": {},
  "kernelspec": {
   "display_name": "Python [conda root]",
   "language": "python",
   "name": "conda-root-py"
  },
  "language_info": {
   "codemirror_mode": {
    "name": "ipython",
    "version": 3
   },
   "file_extension": ".py",
   "mimetype": "text/x-python",
   "name": "python",
   "nbconvert_exporter": "python",
   "pygments_lexer": "ipython3",
   "version": "3.5.2"
  }
 },
 "nbformat": 4,
 "nbformat_minor": 1
}
