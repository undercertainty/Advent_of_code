{
 "cells": [
  {
   "cell_type": "markdown",
   "metadata": {},
   "source": [
    "OK, I'm busy at the moment, so I'll do this as quickly as possible."
   ]
  },
  {
   "cell_type": "markdown",
   "metadata": {},
   "source": [
    "# Part 1"
   ]
  },
  {
   "cell_type": "markdown",
   "metadata": {},
   "source": [
    "Super hacky solution to this will just be to convert the input into a set of moves, and then sum them to get the set of coordinates that the system moves through."
   ]
  },
  {
   "cell_type": "code",
   "execution_count": 1,
   "metadata": {
    "collapsed": true
   },
   "outputs": [],
   "source": [
    "import re"
   ]
  },
  {
   "cell_type": "code",
   "execution_count": 2,
   "metadata": {},
   "outputs": [
    {
     "data": {
      "text/plain": [
       "[0j,\n",
       " (1+0j),\n",
       " (2+0j),\n",
       " (3+0j),\n",
       " (4+0j),\n",
       " (5+0j),\n",
       " (6+0j),\n",
       " (7+0j),\n",
       " (8+0j),\n",
       " (8+1j),\n",
       " (8+2j),\n",
       " (8+3j),\n",
       " (8+4j),\n",
       " (8+5j),\n",
       " (7+5j),\n",
       " (6+5j),\n",
       " (5+5j),\n",
       " (4+5j),\n",
       " (3+5j),\n",
       " (3+4j),\n",
       " (3+3j),\n",
       " (3+2j)]"
      ]
     },
     "execution_count": 2,
     "metadata": {},
     "output_type": "execute_result"
    }
   ],
   "source": [
    "def parse_input(input_str):\n",
    "    \n",
    "    # Convert the input into a list of directions and steps\n",
    "    i=re.findall('[UDLR]\\d+', input_str)\n",
    "\n",
    "    # convert to a set of transformations\n",
    "    def convert_step(step_in):\n",
    "        if step_in[0]=='R':\n",
    "            return [complex(1, 0)]*int(step_in[1:])\n",
    "        elif step_in[0]=='L':\n",
    "            return [complex(-1, 0)]*int(step_in[1:])\n",
    "        elif step_in[0]=='U':\n",
    "            return [complex(0, 1)]*int(step_in[1:])\n",
    "        elif step_in[0]=='D':\n",
    "            return [complex(0, -1)]*int(step_in[1:])\n",
    "    \n",
    "    # Map the input into a series of steps\n",
    "    steps=[convert_step(s) for s in i]\n",
    "\n",
    "    # Flatten the list\n",
    "    steps=[step for s in steps\n",
    "                for step in s]\n",
    "\n",
    "    # And finally, convert to a list of coordinates\n",
    "    out_ls=[complex(0,0)]\n",
    "\n",
    "    for step in steps:\n",
    "        out_ls.append(out_ls[-1]+step)\n",
    "\n",
    "    return(out_ls)\n",
    "\n",
    "parse_input('R8,U5,L5,D3')"
   ]
  },
  {
   "cell_type": "markdown",
   "metadata": {},
   "source": [
    "Good, now to find the crossover points, we just need to apply to two lists:"
   ]
  },
  {
   "cell_type": "code",
   "execution_count": 3,
   "metadata": {
    "collapsed": true
   },
   "outputs": [],
   "source": [
    "def find_nearest_crossover(path1_str, path2_str):\n",
    "    \n",
    "    # Find the paths (with a quick hack to remove the initial 0)\n",
    "    coords1_ls=parse_input(path1_str)[1:]\n",
    "    coords2_ls=parse_input(path2_str)[1:]\n",
    "    \n",
    "    # Find the points where the two wires cross:\n",
    "    crossovers_set=set(coords1_ls).intersection(set(coords2_ls))\n",
    "    \n",
    "    # Return the maximum manhattan distance:\n",
    "    return int(min([abs(c.real)+abs(c.imag) for c in crossovers_set]))\n",
    "    "
   ]
  },
  {
   "cell_type": "code",
   "execution_count": 4,
   "metadata": {
    "collapsed": true
   },
   "outputs": [],
   "source": [
    "# Checks\n",
    "\n",
    "assert find_nearest_crossover('R75,D30,R83,U83,L12,D49,R71,U7,L72',\n",
    "                              'U62,R66,U55,R34,D71,R55,D58,R83') == 159\n",
    "assert find_nearest_crossover('R98,U47,R26,D63,R33,U87,L62,D20,R33,U53,R51',\n",
    "                              'U98,R91,D20,R16,D67,R40,U7,R15,U6,R7')==135"
   ]
  },
  {
   "cell_type": "markdown",
   "metadata": {},
   "source": [
    "And do it with my input:"
   ]
  },
  {
   "cell_type": "code",
   "execution_count": 5,
   "metadata": {},
   "outputs": [
    {
     "data": {
      "text/plain": [
       "258"
      ]
     },
     "execution_count": 5,
     "metadata": {},
     "output_type": "execute_result"
    }
   ],
   "source": [
    "with open('inputs/day_03.txt') as fIn:\n",
    "    [l1, l2]=fIn.readlines()\n",
    "    \n",
    "find_nearest_crossover(l1, l2)"
   ]
  },
  {
   "cell_type": "markdown",
   "metadata": {},
   "source": [
    "Correct!"
   ]
  },
  {
   "cell_type": "markdown",
   "metadata": {},
   "source": [
    "# Part 2"
   ]
  },
  {
   "cell_type": "markdown",
   "metadata": {},
   "source": [
    "First need to find all the crossover points:"
   ]
  },
  {
   "cell_type": "code",
   "execution_count": 15,
   "metadata": {
    "collapsed": true
   },
   "outputs": [],
   "source": [
    "path1_ls=parse_input('R8,U5,L5,D3')\n",
    "path2_ls=parse_input('U7,R6,D4,L4')"
   ]
  },
  {
   "cell_type": "code",
   "execution_count": 16,
   "metadata": {},
   "outputs": [
    {
     "data": {
      "text/plain": [
       "{(3+3j), (6+5j)}"
      ]
     },
     "execution_count": 16,
     "metadata": {},
     "output_type": "execute_result"
    }
   ],
   "source": [
    "crossovers_set=set(path1_ls[1:]).intersection(set(path2_ls[1:]))\n",
    "crossovers_set"
   ]
  },
  {
   "cell_type": "markdown",
   "metadata": {},
   "source": [
    "Then need to find the indexes of the crossover point to tell us how many steps are needed in each case:"
   ]
  },
  {
   "cell_type": "code",
   "execution_count": 17,
   "metadata": {},
   "outputs": [
    {
     "data": {
      "text/plain": [
       "15"
      ]
     },
     "execution_count": 17,
     "metadata": {},
     "output_type": "execute_result"
    }
   ],
   "source": [
    "path1_ls.index(complex(6,5))"
   ]
  },
  {
   "cell_type": "code",
   "execution_count": 17,
   "metadata": {},
   "outputs": [
    {
     "data": {
      "text/plain": [
       "15"
      ]
     },
     "execution_count": 17,
     "metadata": {},
     "output_type": "execute_result"
    }
   ],
   "source": [
    "path2_ls.index(complex(6,5))"
   ]
  },
  {
   "cell_type": "markdown",
   "metadata": {},
   "source": [
    "OK, put it into a function:"
   ]
  },
  {
   "cell_type": "code",
   "execution_count": 18,
   "metadata": {
    "collapsed": true
   },
   "outputs": [],
   "source": [
    "def f(input1_str, input2_str):\n",
    "    path1_ls=parse_input(input1_str)\n",
    "    path2_ls=parse_input(input2_str)\n",
    "    \n",
    "    crossovers_set=set(path1_ls[1:]).intersection(set(path2_ls[1:]))\n",
    "    \n",
    "    return min([path1_ls.index(c)+path2_ls.index(c) for c in crossovers_set])\n",
    "    "
   ]
  },
  {
   "cell_type": "code",
   "execution_count": 20,
   "metadata": {},
   "outputs": [],
   "source": [
    "\n",
    "assert f('R8,U5,L5,D3', 'U7,R6,D4,L4')==30\n",
    "\n",
    "assert f('R75,D30,R83,U83,L12,D49,R71,U7,L72', \n",
    "         'U62,R66,U55,R34,D71,R55,D58,R83')==610\n",
    "\n",
    "assert f('R98,U47,R26,D63,R33,U87,L62,D20,R33,U53,R51', \n",
    "         'U98,R91,D20,R16,D67,R40,U7,R15,U6,R7')==410\n"
   ]
  },
  {
   "cell_type": "markdown",
   "metadata": {},
   "source": [
    "Good. Now apply it to my input:"
   ]
  },
  {
   "cell_type": "code",
   "execution_count": 21,
   "metadata": {},
   "outputs": [
    {
     "data": {
      "text/plain": [
       "12304"
      ]
     },
     "execution_count": 21,
     "metadata": {},
     "output_type": "execute_result"
    }
   ],
   "source": [
    "with open('inputs/day_03.txt') as fIn:\n",
    "    [l1, l2]=fIn.readlines()\n",
    "    \n",
    "f(l1, l2)"
   ]
  },
  {
   "cell_type": "code",
   "execution_count": null,
   "metadata": {
    "collapsed": true
   },
   "outputs": [],
   "source": []
  }
 ],
 "metadata": {
  "kernelspec": {
   "display_name": "Python 3",
   "language": "python",
   "name": "python3"
  },
  "language_info": {
   "codemirror_mode": {
    "name": "ipython",
    "version": 3
   },
   "file_extension": ".py",
   "mimetype": "text/x-python",
   "name": "python",
   "nbconvert_exporter": "python",
   "pygments_lexer": "ipython3",
   "version": "3.6.1"
  }
 },
 "nbformat": 4,
 "nbformat_minor": 2
}
