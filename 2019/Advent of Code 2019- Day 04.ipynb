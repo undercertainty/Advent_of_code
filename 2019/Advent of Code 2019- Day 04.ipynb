{
 "cells": [
  {
   "cell_type": "markdown",
   "metadata": {},
   "source": [
    "# Part 1"
   ]
  },
  {
   "cell_type": "markdown",
   "metadata": {},
   "source": [
    "Easiest to just identify excluded/necessary pairs?"
   ]
  },
  {
   "cell_type": "code",
   "execution_count": 1,
   "metadata": {
    "collapsed": true
   },
   "outputs": [],
   "source": [
    "excluded_pairs_ls=[str(i)+str(j) for i in range(10) for j in range(i)]\n",
    "pairs_ls=[2*str(i) for i in range(10)]"
   ]
  },
  {
   "cell_type": "markdown",
   "metadata": {},
   "source": [
    "A valid password must have none of `excluded_pairs_ls`, but must have one of `pairs_ls`"
   ]
  },
  {
   "cell_type": "code",
   "execution_count": 2,
   "metadata": {
    "collapsed": true
   },
   "outputs": [],
   "source": [
    "def valid_password(pwd_in):\n",
    "    \n",
    "    excluded_pairs_ls=[str(i)+str(j) for i in range(10) for j in range(i)]\n",
    "    pairs_ls=[2*str(i) for i in range(10)]\n",
    "\n",
    "    pwd=str(pwd_in)\n",
    "    if any([x in pwd for x in excluded_pairs_ls]):\n",
    "        return False\n",
    "    else:\n",
    "        return any([x in pwd for x in pairs_ls])"
   ]
  },
  {
   "cell_type": "code",
   "execution_count": 3,
   "metadata": {
    "collapsed": true
   },
   "outputs": [],
   "source": [
    "assert valid_password(111111)\n",
    "assert not valid_password(223450)\n",
    "assert not valid_password(123789 )"
   ]
  },
  {
   "cell_type": "code",
   "execution_count": 4,
   "metadata": {},
   "outputs": [
    {
     "data": {
      "text/plain": [
       "1653"
      ]
     },
     "execution_count": 4,
     "metadata": {},
     "output_type": "execute_result"
    }
   ],
   "source": [
    "len([p for p in range(206938, 679128) if valid_password(p)])"
   ]
  },
  {
   "cell_type": "markdown",
   "metadata": {},
   "source": [
    "Correct!"
   ]
  },
  {
   "cell_type": "markdown",
   "metadata": {},
   "source": [
    "# Part 2"
   ]
  },
  {
   "cell_type": "markdown",
   "metadata": {},
   "source": [
    "Possibly simplistic approach: want pairs but not threes?"
   ]
  },
  {
   "cell_type": "code",
   "execution_count": 5,
   "metadata": {
    "collapsed": true
   },
   "outputs": [],
   "source": [
    "def valid_password_2(pwd_in):\n",
    "    \n",
    "    excluded_pairs_ls=[str(i)+str(j) for i in range(10) for j in range(i)]\n",
    "    \n",
    "    def valid_pair(str_in):\n",
    "        return any([(2*str(i) in str_in) and not (3*str(i) in str_in)\n",
    "                   for i in range(10)])\n",
    "\n",
    "    pairs_ls=[2*str(i) for i in range(10)]\n",
    "\n",
    "    pwd=str(pwd_in)\n",
    "    if any([x in pwd for x in excluded_pairs_ls]):\n",
    "        return False\n",
    "    else:\n",
    "        return valid_pair(pwd)"
   ]
  },
  {
   "cell_type": "code",
   "execution_count": 6,
   "metadata": {
    "collapsed": true
   },
   "outputs": [],
   "source": [
    "assert valid_password_2(112233)\n",
    "assert not valid_password_2(123444)\n",
    "assert valid_password_2(111122)\n"
   ]
  },
  {
   "cell_type": "code",
   "execution_count": 7,
   "metadata": {},
   "outputs": [
    {
     "data": {
      "text/plain": [
       "1133"
      ]
     },
     "execution_count": 7,
     "metadata": {},
     "output_type": "execute_result"
    }
   ],
   "source": [
    "len([p for p in range(206938, 679128) if valid_password_2(p)])"
   ]
  },
  {
   "cell_type": "markdown",
   "metadata": {},
   "source": [
    "Correct. OK, that was nice and quick."
   ]
  }
 ],
 "metadata": {
  "kernelspec": {
   "display_name": "Python 3",
   "language": "python",
   "name": "python3"
  },
  "language_info": {
   "codemirror_mode": {
    "name": "ipython",
    "version": 3
   },
   "file_extension": ".py",
   "mimetype": "text/x-python",
   "name": "python",
   "nbconvert_exporter": "python",
   "pygments_lexer": "ipython3",
   "version": "3.6.1"
  }
 },
 "nbformat": 4,
 "nbformat_minor": 2
}
